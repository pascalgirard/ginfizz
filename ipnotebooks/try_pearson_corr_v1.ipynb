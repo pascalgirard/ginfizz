{
 "cells": [
  {
   "cell_type": "code",
   "execution_count": 1,
   "metadata": {
    "collapsed": true
   },
   "outputs": [],
   "source": [
    "import os\n",
    "\n",
    "import numpy as np\n",
    "import matplotlib.pyplot as plt\n",
    "import nibabel as nib"
   ]
  },
  {
   "cell_type": "code",
   "execution_count": 2,
   "metadata": {
    "collapsed": false,
    "scrolled": true
   },
   "outputs": [
    {
     "name": "stdout",
     "output_type": "stream",
     "text": [
      "Help on function pearsonr in module scipy.stats.stats:\n",
      "\n",
      "pearsonr(x, y)\n",
      "    Calculates a Pearson correlation coefficient and the p-value for testing\n",
      "    non-correlation.\n",
      "    \n",
      "    The Pearson correlation coefficient measures the linear relationship\n",
      "    between two datasets. Strictly speaking, Pearson's correlation requires\n",
      "    that each dataset be normally distributed, and not necessarily zero-mean.\n",
      "    Like other correlation coefficients, this one varies between -1 and +1\n",
      "    with 0 implying no correlation. Correlations of -1 or +1 imply an exact\n",
      "    linear relationship. Positive correlations imply that as x increases, so\n",
      "    does y. Negative correlations imply that as x increases, y decreases.\n",
      "    \n",
      "    The p-value roughly indicates the probability of an uncorrelated system\n",
      "    producing datasets that have a Pearson correlation at least as extreme\n",
      "    as the one computed from these datasets. The p-values are not entirely\n",
      "    reliable but are probably reasonable for datasets larger than 500 or so.\n",
      "    \n",
      "    Parameters\n",
      "    ----------\n",
      "    x : (N,) array_like\n",
      "        Input\n",
      "    y : (N,) array_like\n",
      "        Input\n",
      "    \n",
      "    Returns\n",
      "    -------\n",
      "    r : float\n",
      "        Pearson's correlation coefficient\n",
      "    p-value : float\n",
      "        2-tailed p-value\n",
      "    \n",
      "    References\n",
      "    ----------\n",
      "    http://www.statsoft.com/textbook/glosp.html#Pearson%20Correlation\n",
      "\n"
     ]
    }
   ],
   "source": [
    "from pydoc import help\n",
    "from scipy.stats.stats import pearsonr\n",
    "help(pearsonr)"
   ]
  },
  {
   "cell_type": "code",
   "execution_count": 3,
   "metadata": {
    "collapsed": false
   },
   "outputs": [],
   "source": [
    "seedFile = '/scratch/user/hirsch/datadir4/data_results_py/functionnal/regMeants/arima_residu_ts.txt'\n",
    "seed_ts_array = np.loadtxt(seedFile)"
   ]
  },
  {
   "cell_type": "code",
   "execution_count": 4,
   "metadata": {
    "collapsed": true
   },
   "outputs": [],
   "source": [
    "fmri_file = '/scratch/user/hirsch/datadir4/data_results_py/functionnal/arima/arimaResidus/_report/arima_residu.nii.gz'\n",
    "fmri_data=nib.load(fmri_file) \n",
    "iarray=np.asarray(fmri_data.dataobj)"
   ]
  },
  {
   "cell_type": "code",
   "execution_count": 5,
   "metadata": {
    "collapsed": false
   },
   "outputs": [
    {
     "name": "stdout",
     "output_type": "stream",
     "text": [
      "(91, 109, 91)\n"
     ]
    }
   ],
   "source": [
    "volume_shape = fmri_data.shape[:-1]\n",
    "print volume_shape\n",
    "coords = list(np.ndindex(volume_shape))"
   ]
  },
  {
   "cell_type": "code",
   "execution_count": 33,
   "metadata": {
    "collapsed": false
   },
   "outputs": [
    {
     "name": "stdout",
     "output_type": "stream",
     "text": [
      "2707887\n",
      "(3, 902629)\n"
     ]
    }
   ],
   "source": [
    "coords_targets = np.array(coords).T\n",
    "print coords_targets.size\n",
    "print coords_targets.shape"
   ]
  },
  {
   "cell_type": "code",
   "execution_count": 52,
   "metadata": {
    "collapsed": false
   },
   "outputs": [],
   "source": [
    "# np.full(shape, fill_value, dtype=None, order='C')\n",
    "\n",
    "corr_matrix = np.full(volume_shape, 0, dtype=float)"
   ]
  },
  {
   "cell_type": "code",
   "execution_count": 53,
   "metadata": {
    "collapsed": false
   },
   "outputs": [],
   "source": [
    "for i in range(coords_targets.shape[1]):\n",
    "    target_array = iarray[coords_targets[0,i], coords_targets[1,i],coords_targets[2,i], :]\n",
    "    #print target_array\n",
    "    non_zero_nb = np.count_nonzero(target_array)\n",
    "    if non_zero_nb:\n",
    "        try:\n",
    "            p = pearsonr(seed_ts_array,target_array) \n",
    "            if p[0] > 0.5:\n",
    "                print p[0]\n",
    "            corr_matrix[coords_targets[0,i], coords_targets[1,i],coords_targets[2,i]] = p[0] \n",
    "        except:\n",
    "            print \"exception\"\n",
    "    \n",
    "# save matrix in a file\n",
    "# create the resulting image\n",
    "corr_image = nib.Nifti1Image(corr_matrix,affine=np.eye(4))\n",
    "# save the correlation array\n",
    "out_file = os.getcwd() + '/' + 'corr_reg1.nii'\n",
    "nib.save(corr_image, out_file)\n",
    "    "
   ]
  },
  {
   "cell_type": "code",
   "execution_count": null,
   "metadata": {
    "collapsed": true
   },
   "outputs": [],
   "source": [
    "thresh = 0.2\n"
   ]
  },
  {
   "cell_type": "code",
   "execution_count": 40,
   "metadata": {
    "collapsed": false
   },
   "outputs": [
    {
     "data": {
      "text/plain": [
       "902629"
      ]
     },
     "execution_count": 40,
     "metadata": {},
     "output_type": "execute_result"
    }
   ],
   "source": [
    "coords_targets.shape[1]\n"
   ]
  },
  {
   "cell_type": "code",
   "execution_count": 6,
   "metadata": {
    "collapsed": false
   },
   "outputs": [
    {
     "name": "stdout",
     "output_type": "stream",
     "text": [
      "[[ 28  55  53   8  32  16  47  23  82  61  53   3   9  56  64  29  33  83\n",
      "   56  72  67  42  83  90  11  24  69  81  50  25  79  83  23  18  84  23\n",
      "   75  14  14  78  29  11  42  16  46  61  23  58  71  46  20  15  86  35\n",
      "   73   1  74  68  82  72   9   0  38  53  89   7  35  80  61  23  70  27\n",
      "   40  52  40  83   8  58  26  89  23  27  79  10  54  48  49  85  90  23\n",
      "   13  41  87  58  34  81  83   1   7  11]\n",
      " [ 23  42  53  56   2  95  22   5  95  95  33  87  22  75  91  77  90  20\n",
      "    7  14   2  79  21  93  52  90  95  23  48  44  50  39  80  22  48  81\n",
      "   31 105  33  69 102  47   1  30  23  21  39  20  61  76  15  73  71 108\n",
      "   92  74 105  64   5  85  46  71  14   0  24  45   8  27  85  99  23  64\n",
      "   21  89  33 104  72  29  79  17  34  23 101  57 103  46  10  20  63  65\n",
      "   81  31  98  20   1 106  84 102  87  39]\n",
      " [ 75  19  82  36  90   6   8  85  33  36  67  59  32  75   9  38  33  38\n",
      "   12  68  55  77  21  70  71  19  88  62  10  26  46  38   9  80  32   7\n",
      "   42  12  72  75  17  28  30  23  21   0  86  50  75  65   8  22   3  88\n",
      "   73  60  51  23  25  30  32  52  80  83   8  32  37   2  42  64  14  29\n",
      "   73  32  65  82  22   7  41  15  40  89  82  32  67  10   3  77  28  22\n",
      "    1  10  13  16   1  74   7  23  15  40]]\n",
      "(3, 100)\n"
     ]
    }
   ],
   "source": [
    "n_targets = 100\n",
    "\n",
    "# Choose n_targets random voxels to be the target voxels\n",
    "targets = np.random.randint(0, len(coords), n_targets)\n",
    "coords_targets = np.array(coords)[targets].T\n",
    "print coords_targets\n",
    "print coords_targets.shape"
   ]
  },
  {
   "cell_type": "code",
   "execution_count": 7,
   "metadata": {
    "collapsed": false
   },
   "outputs": [
    {
     "data": {
      "text/plain": [
       "(240,)"
      ]
     },
     "execution_count": 7,
     "metadata": {},
     "output_type": "execute_result"
    }
   ],
   "source": [
    "iarray[71,63, 22, :].shape"
   ]
  },
  {
   "cell_type": "code",
   "execution_count": 24,
   "metadata": {
    "collapsed": false
   },
   "outputs": [
    {
     "data": {
      "text/plain": [
       "(28, 23, 75)"
      ]
     },
     "execution_count": 24,
     "metadata": {},
     "output_type": "execute_result"
    }
   ],
   "source": [
    "coords_targets[0,0], coords_targets[1,0],coords_targets[2,0]"
   ]
  },
  {
   "cell_type": "code",
   "execution_count": 26,
   "metadata": {
    "collapsed": false
   },
   "outputs": [
    {
     "data": {
      "text/plain": [
       "[28, 23, 75]"
      ]
     },
     "execution_count": 26,
     "metadata": {},
     "output_type": "execute_result"
    }
   ],
   "source": [
    "[coords_targets[0,i], coords_targets[1,i],coords_targets[2,i]]"
   ]
  },
  {
   "cell_type": "code",
   "execution_count": 32,
   "metadata": {
    "collapsed": false
   },
   "outputs": [
    {
     "name": "stdout",
     "output_type": "stream",
     "text": [
      "nbs\n",
      "240\n",
      "(-0.11923287797469129, 0.065170331756781372)\n",
      "nbs\n",
      "240\n",
      "(-0.01638987798209306, 0.80057560311593146)\n",
      "nbs\n",
      "0\n",
      "(nan, 1.0)\n",
      "nbs\n",
      "240\n",
      "(-0.12442892628184005, 0.054220793637188375)\n",
      "nbs\n",
      "0\n",
      "(nan, 1.0)\n",
      "nbs\n",
      "240\n",
      "(-0.10016389394071558, 0.12173663425107303)\n",
      "nbs\n",
      "0\n",
      "(nan, 1.0)\n",
      "nbs\n",
      "0\n",
      "(nan, 1.0)\n",
      "nbs\n",
      "240\n",
      "(0.070351774515882204, 0.27768235254205575)\n",
      "nbs\n",
      "240\n",
      "(-0.12689917946812218, 0.04957704955192678)\n",
      "nbs\n",
      "240\n",
      "(0.066222559552678514, 0.30693177820036521)\n",
      "nbs\n",
      "0\n",
      "(nan, 1.0)\n",
      "nbs\n",
      "240\n",
      "(-0.020797893473920918, 0.74854984205292019)\n",
      "nbs\n",
      "0\n",
      "(nan, 1.0)\n",
      "nbs\n",
      "240\n",
      "(0.020346612246624624, 0.75382852669663369)\n",
      "nbs\n",
      "240\n",
      "(-0.060617647805090477, 0.34976670440160296)\n",
      "nbs\n",
      "240\n",
      "(0.0064053475046997599, 0.92136522819075595)\n",
      "nbs\n",
      "240\n",
      "(0.065754656801500375, 0.31036962809426694)\n",
      "nbs\n",
      "0\n",
      "(nan, 1.0)\n",
      "nbs\n",
      "240\n",
      "(-0.022941298998277109, 0.72364159612099543)\n",
      "nbs\n",
      "0\n",
      "(nan, 1.0)\n",
      "nbs\n",
      "0\n",
      "(nan, 1.0)\n",
      "nbs\n",
      "240\n",
      "(-0.14300334388668132, 0.026744308265329857)\n",
      "nbs\n",
      "0\n",
      "(nan, 1.0)\n",
      "nbs\n",
      "240\n",
      "(-0.11667309261652846, 0.071196532394161433)\n",
      "nbs\n",
      "240\n",
      "(-0.071724491826785503, 0.26839081036703133)\n",
      "nbs\n",
      "0\n",
      "(nan, 1.0)\n",
      "nbs\n",
      "240\n",
      "(0.098271284107425111, 0.12897890534530132)\n",
      "nbs\n",
      "240\n",
      "(-0.10522418650270395, 0.10392140494597066)\n",
      "nbs\n",
      "240\n",
      "(0.015907141069833767, 0.80633154423052322)\n",
      "nbs\n",
      "240\n",
      "(-0.014903445517518391, 0.81833225051122116)\n",
      "nbs\n",
      "240\n",
      "(-0.1873446748086533, 0.003579579221761504)\n",
      "nbs\n",
      "240\n",
      "(-0.070122571330052064, 0.27925471917685846)\n",
      "nbs\n",
      "240\n",
      "(0.030826994579853141, 0.63465199346348844)\n",
      "nbs\n",
      "240\n",
      "(0.16306479175052327, 0.011407675818247342)\n",
      "nbs\n",
      "240\n",
      "(-0.16434865976964561, 0.010767667498872079)\n",
      "nbs\n",
      "240\n",
      "(-0.18289026059707164, 0.0044754791821370191)\n",
      "nbs\n",
      "240\n",
      "(0.076420178675186828, 0.23822265787402158)\n",
      "nbs\n",
      "240\n",
      "(0.010029786925826912, 0.8771575962564494)\n",
      "nbs\n",
      "0\n",
      "(nan, 1.0)\n",
      "nbs\n",
      "240\n",
      "(0.014325255088802596, 0.82526483994374944)\n",
      "nbs\n",
      "240\n",
      "(-0.039051969339586837, 0.54713309380763808)\n",
      "nbs\n",
      "0\n",
      "(nan, 1.0)\n",
      "nbs\n",
      "240\n",
      "(0.038666046566004267, 0.55110345591340859)\n",
      "nbs\n",
      "240\n",
      "(0.14482801779431126, 0.024845590131028626)\n",
      "nbs\n",
      "0\n",
      "(nan, 1.0)\n",
      "nbs\n",
      "0\n",
      "(nan, 1.0)\n",
      "nbs\n",
      "240\n",
      "(-0.0032899773381570643, 0.9595628639134407)\n",
      "nbs\n",
      "240\n",
      "(0.069277766422271042, 0.28510208115305347)\n",
      "nbs\n",
      "240\n",
      "(-0.028002814316346766, 0.66600490118629407)\n",
      "nbs\n",
      "0\n",
      "(nan, 1.0)\n",
      "nbs\n",
      "240\n",
      "(-0.08327033602191089, 0.19861160322064692)\n",
      "nbs\n",
      "0\n",
      "(nan, 1.0)\n",
      "nbs\n",
      "0\n",
      "(nan, 1.0)\n",
      "nbs\n",
      "0\n",
      "(nan, 1.0)\n",
      "nbs\n",
      "240\n",
      "(0.0086860522284134233, 0.89351033202966035)\n",
      "nbs\n",
      "240\n",
      "(-0.048049945367137102, 0.45873690774246956)\n",
      "nbs\n",
      "240\n",
      "(-0.033999936618878526, 0.6001906482958268)\n",
      "nbs\n",
      "240\n",
      "(-0.047659536235156126, 0.46239958345400989)\n",
      "nbs\n",
      "240\n",
      "(-0.061425625490086996, 0.34336949231853564)\n",
      "nbs\n",
      "240\n",
      "(0.062237684374055302, 0.33701530648489519)\n",
      "nbs\n",
      "240\n",
      "(-0.082493399495223108, 0.20284715673375014)\n",
      "nbs\n",
      "240\n",
      "(-0.067203498349434773, 0.29980611710407501)\n",
      "nbs\n",
      "0\n",
      "(nan, 1.0)\n",
      "nbs\n",
      "0\n",
      "(nan, 1.0)\n",
      "nbs\n",
      "240\n",
      "(-0.042780468444253615, 0.50951435006106238)\n",
      "nbs\n",
      "240\n",
      "(0.14694241381861453, 0.022791562041237178)\n",
      "nbs\n",
      "0\n",
      "(nan, 1.0)\n",
      "nbs\n",
      "240\n",
      "(-0.1045884158090566, 0.1060395796329012)\n",
      "nbs\n",
      "240\n",
      "(-0.024176091197633313, 0.70942125232581721)\n",
      "nbs\n",
      "240\n",
      "(0.10476525735732795, 0.10544701611320828)\n",
      "nbs\n",
      "240\n",
      "(0.046715743259723642, 0.47132051624529581)\n",
      "nbs\n",
      "240\n",
      "(0.099515883882226777, 0.1241798722392838)\n",
      "nbs\n",
      "240\n",
      "(-0.060813550282606266, 0.348208774196336)\n",
      "nbs\n",
      "240\n",
      "(-0.015833004754201942, 0.80721644533062942)\n",
      "nbs\n",
      "0\n",
      "(nan, 1.0)\n",
      "nbs\n",
      "240\n",
      "(-0.011378751266822772, 0.8607934634242993)\n",
      "nbs\n",
      "0\n",
      "(nan, 1.0)\n",
      "nbs\n",
      "240\n",
      "(-0.1363273312278471, 0.034788457633603796)\n",
      "nbs\n",
      "240\n",
      "(-0.14063755656045843, 0.029390408164170545)\n",
      "nbs\n",
      "240\n",
      "(-0.0058849573602966533, 0.92773560327289217)\n",
      "nbs\n",
      "0\n",
      "(nan, 1.0)\n",
      "nbs\n",
      "0\n",
      "(nan, 1.0)\n",
      "nbs\n",
      "240\n",
      "(0.013368296384155556, 0.83676847685588429)\n",
      "nbs\n",
      "240\n",
      "(0.042468765776753084, 0.5126069224954023)\n",
      "nbs\n",
      "240\n",
      "(0.065175140704172366, 0.31466242273987666)\n",
      "nbs\n",
      "0\n",
      "(nan, 1.0)\n",
      "nbs\n",
      "240\n",
      "(-0.0010736679434262834, 0.986798519310501)\n",
      "nbs\n",
      "240\n",
      "(-0.0012903229152543038, 0.98413491805121345)\n",
      "nbs\n",
      "240\n",
      "(0.13071548615181661, 0.043057494860238341)\n",
      "nbs\n",
      "0\n",
      "(nan, 1.0)\n",
      "nbs\n",
      "0\n",
      "(nan, 1.0)\n",
      "nbs\n",
      "240\n",
      "(0.012124924605729422, 0.85176670501348462)\n",
      "nbs\n",
      "240\n",
      "(0.05355947690449863, 0.40880354568806665)\n",
      "nbs\n",
      "0\n",
      "(nan, 1.0)\n",
      "nbs\n",
      "0\n",
      "(nan, 1.0)\n",
      "nbs\n",
      "240\n",
      "(0.016411908855912583, 0.80031317075401398)\n",
      "nbs\n",
      "240\n",
      "(0.0046267366717645652, 0.94315639949586361)\n",
      "nbs\n",
      "240\n",
      "(-0.046318111947263915, 0.47510706431100924)\n",
      "nbs\n",
      "240\n",
      "(0.06280575216185498, 0.33261525163285677)\n"
     ]
    },
    {
     "name": "stderr",
     "output_type": "stream",
     "text": [
      "/srv/shares/softs/anaconda2/lib/python2.7/site-packages/scipy/stats/stats.py:3029: RuntimeWarning: invalid value encountered in double_scalars\n",
      "  r = r_num / r_den\n"
     ]
    }
   ],
   "source": [
    "for i in range(n_targets):\n",
    "    target_array = iarray[coords_targets[0,i], coords_targets[1,i],coords_targets[2,i], :]\n",
    "    #print target_array\n",
    "    non_zero_nb = np.count_nonzero(target_array)\n",
    "    print \"nbs\"\n",
    "    print non_zero_nb\n",
    "    #print target_array.shape\n",
    "    p = pearsonr(seed_ts_array,target_array) \n",
    "    print p"
   ]
  },
  {
   "cell_type": "code",
   "execution_count": 31,
   "metadata": {
    "collapsed": false
   },
   "outputs": [
    {
     "name": "stdout",
     "output_type": "stream",
     "text": [
      "nbs\n",
      "240\n",
      "(240,)\n",
      "(-0.11923287797469129, 0.065170331756781372)\n"
     ]
    }
   ],
   "source": [
    "# on va calculer la correlation de peason pour ces 100 targets\n",
    "\n",
    "i = 0\n",
    "target_array = iarray[coords_targets[0,i], coords_targets[1,i],coords_targets[2,i], :]\n",
    "#print target_array\n",
    "non_zero_nb = np.count_nonzero(target_array)\n",
    "print \"nbs\"\n",
    "print non_zero_nb\n",
    "print target_array.shape\n",
    "p = pearsonr(seed_ts_array,target_array) \n",
    "print p"
   ]
  },
  {
   "cell_type": "code",
   "execution_count": null,
   "metadata": {
    "collapsed": true
   },
   "outputs": [],
   "source": []
  },
  {
   "cell_type": "code",
   "execution_count": 29,
   "metadata": {
    "collapsed": false
   },
   "outputs": [
    {
     "data": {
      "text/plain": [
       "array([ -3.51177616e-04,   5.92735177e-03,   7.31012642e-01,\n",
       "        -9.03560594e-02,  -6.97501779e-01,  -9.32111382e-01,\n",
       "        -1.12923741e-01,   6.94958031e-01,   1.00040734e+00,\n",
       "         3.95284891e-01,  -2.71708697e-01,  -5.99101663e-01,\n",
       "        -3.34903419e-01,  -4.21404801e-02,   1.59518436e-01,\n",
       "         1.46127149e-01,   1.66765615e-01,   5.20908646e-02,\n",
       "        -1.18419960e-01,  -2.97553003e-01,  -1.42066851e-01,\n",
       "         1.82997063e-01,   3.87505621e-01,   1.26297534e-01,\n",
       "        -2.42527336e-01,  -2.98778564e-01,   1.14326447e-01,\n",
       "         3.88079107e-01,   1.13171242e-01,  -5.29444873e-01,\n",
       "        -6.87010229e-01,  -7.99005032e-02,   7.46949077e-01,\n",
       "         8.11032295e-01,   5.30736186e-02,  -7.31441915e-01,\n",
       "        -6.53947651e-01,   4.72004674e-02,   5.19089341e-01,\n",
       "         2.32916355e-01,  -2.18885437e-01,  -1.13664880e-01,\n",
       "         5.15372455e-01,   7.14757144e-01,   2.71263765e-03,\n",
       "        -1.00385928e+00,  -1.09446394e+00,  -6.74747154e-02,\n",
       "         1.05696177e+00,   1.05727088e+00,   3.61784734e-02,\n",
       "        -8.61204088e-01,  -7.07471251e-01,   7.17256963e-02,\n",
       "         4.65240180e-01,   6.86972365e-02,  -3.92780721e-01,\n",
       "        -2.13399172e-01,   4.36400294e-01,   6.51843011e-01,\n",
       "         1.08727649e-01,  -5.89671433e-01,  -5.93100727e-01,\n",
       "         6.73157210e-03,   4.15799916e-01,   1.13230065e-01,\n",
       "        -3.72519553e-01,  -2.70249277e-01,   4.43840086e-01,\n",
       "         8.53404939e-01,   3.46300155e-01,  -6.22579873e-01,\n",
       "        -9.33881462e-01,  -2.43318021e-01,   6.58382297e-01,\n",
       "         7.11005926e-01,  -6.26335666e-02,  -6.95897043e-01,\n",
       "        -3.99441957e-01,   4.18356329e-01,   7.65588045e-01,\n",
       "         2.08339274e-01,  -5.63415885e-01,  -6.95727885e-01,\n",
       "        -1.10148646e-01,   4.05882329e-01,   2.90843040e-01,\n",
       "        -2.13594556e-01,  -3.77566248e-01,   1.08003116e-03,\n",
       "         4.41664636e-01,   3.73199910e-01,  -8.72744918e-02,\n",
       "        -3.55425090e-01,  -8.08958113e-02,   3.74156147e-01,\n",
       "         4.34691310e-01,  -3.68842110e-02,  -5.40636778e-01,\n",
       "        -5.66758454e-01,  -1.02517486e-01,   3.60972673e-01,\n",
       "         4.29120600e-01,   1.20228298e-01,  -2.07011968e-01,\n",
       "        -3.10031682e-01,  -1.86747268e-01,  -1.60156339e-02,\n",
       "         1.11992806e-01,   1.68140203e-01,   1.74312323e-01,\n",
       "         1.00101873e-01,  -2.25133076e-02,  -1.33971334e-01,\n",
       "        -1.34418339e-01,  -2.70312391e-02,   1.30578205e-01,\n",
       "         2.15568796e-01,   1.71972573e-01,   1.91983927e-04,\n",
       "        -1.80298358e-01,  -2.38440797e-01,  -9.60268378e-02,\n",
       "         1.35622814e-01,   2.61100352e-01,   1.43810973e-01,\n",
       "        -1.05440073e-01,  -2.66110539e-01,  -2.03899860e-01,\n",
       "        -4.84381914e-02,   9.20238812e-03,  -7.76398703e-02,\n",
       "        -1.13795921e-01,   4.67175171e-02,   3.18317264e-01,\n",
       "         4.05890971e-01,   1.68657526e-01,  -2.33348504e-01,\n",
       "        -4.57706690e-01,  -3.47606927e-01,  -2.65681129e-02,\n",
       "         2.47937918e-01,   3.62749547e-01,   3.41284037e-01,\n",
       "         2.40796819e-01,   3.58007587e-02,  -2.39311621e-01,\n",
       "        -4.41854060e-01,  -3.77627164e-01,  -6.38076887e-02,\n",
       "         2.62782872e-01,   3.16495240e-01,   7.81383067e-02,\n",
       "        -2.22089916e-01,  -3.03852797e-01,  -1.20434955e-01,\n",
       "         1.61457419e-01,   3.12049240e-01,   2.48041779e-01,\n",
       "         2.46051271e-02,  -1.97511226e-01,  -2.80521363e-01,\n",
       "        -1.49378195e-01,   1.05345339e-01,   2.97144741e-01,\n",
       "         2.47916624e-01,   4.03869338e-03,  -2.29653761e-01,\n",
       "        -2.49729246e-01,  -1.00933805e-01,   4.15973775e-02,\n",
       "         6.07841238e-02,   6.76104575e-02,   1.66363716e-01,\n",
       "         2.79729635e-01,   1.64255753e-01,  -2.08837986e-01,\n",
       "        -5.33356965e-01,  -4.13679719e-01,   1.17731020e-01,\n",
       "         5.75136423e-01,   4.75671053e-01,  -8.43140185e-02,\n",
       "        -5.36589086e-01,  -4.30365056e-01,   5.14132716e-02,\n",
       "         3.61134052e-01,   2.00610399e-01,  -1.37643352e-01,\n",
       "        -2.04586580e-01,   6.62800744e-02,   2.74952233e-01,\n",
       "         1.15547322e-01,  -2.41495565e-01,  -3.27723384e-01,\n",
       "         1.36833657e-02,   4.35685009e-01,   4.68980551e-01,\n",
       "         7.62794614e-02,  -3.44878107e-01,  -4.15766895e-01,\n",
       "        -1.76956579e-01,   6.93418905e-02,   1.28844291e-01,\n",
       "         9.59304422e-02,   9.56403017e-02,   1.01131722e-01,\n",
       "        -2.99306656e-03,  -1.57824770e-01,  -1.79673493e-01,\n",
       "        -3.84536246e-03,   1.45770997e-01,   3.97896245e-02,\n",
       "        -2.42604062e-01,  -3.24797630e-01,  -6.90312218e-03,\n",
       "         4.54257101e-01,   5.58409572e-01,   1.49330169e-01,\n",
       "        -4.07648325e-01,  -5.78338981e-01,  -2.43418694e-01,\n",
       "         2.48781756e-01,   4.59046632e-01,   3.02690238e-01,\n",
       "        -1.54976558e-03,  -2.08794445e-01,  -2.65220433e-01,\n",
       "        -2.03053951e-01,  -5.63303120e-02,   1.29533097e-01,\n",
       "         2.14138985e-01,   1.05917588e-01,  -9.50374976e-02,\n",
       "        -1.32001474e-01,   6.69884086e-02,   2.59764105e-01,\n",
       "         1.36104912e-01,  -2.25681961e-01,  -3.89241308e-01], dtype=float32)"
      ]
     },
     "execution_count": 29,
     "metadata": {},
     "output_type": "execute_result"
    }
   ],
   "source": [
    "target_array"
   ]
  },
  {
   "cell_type": "markdown",
   "metadata": {},
   "source": [
    "# fin code nouveau "
   ]
  },
  {
   "cell_type": "code",
   "execution_count": null,
   "metadata": {
    "collapsed": false
   },
   "outputs": [],
   "source": [
    "# Make the seed time series:\n",
    "time_series_seed = io.time_series_from_file(fmri_file,\n",
    "                                coords_seeds,\n",
    "                                TR=TR,\n",
    "                                normalize='percent',\n",
    "                                filter=dict(lb=f_lb,\n",
    "                                            ub=f_ub,\n",
    "                                            method='boxcar'))\n",
    "\n",
    "# Make the target time series:\n",
    "time_series_target = io.time_series_from_file(fmri_file,\n",
    "                                          coords_target,\n",
    "                                          TR=TR,\n",
    "                                          normalize='percent',\n",
    "                                          filter=dict(lb=f_lb,\n",
    "                                                      ub=f_ub,\n",
    "                                                    method='boxcar'))"
   ]
  },
  {
   "cell_type": "code",
   "execution_count": null,
   "metadata": {
    "collapsed": true
   },
   "outputs": [],
   "source": [
    "A = nta.SeedCoherenceAnalyzer(time_series_seed, time_series_target,\n",
    "                            method=dict(NFFT=20))\n",
    "B = nta.SeedCorrelationAnalyzer(time_series_seed, time_series_target)"
   ]
  },
  {
   "cell_type": "code",
   "execution_count": null,
   "metadata": {
    "collapsed": true
   },
   "outputs": [],
   "source": [
    "freq_idx = np.where((A.frequencies > f_lb) * (A.frequencies < f_ub))[0]"
   ]
  },
  {
   "cell_type": "code",
   "execution_count": null,
   "metadata": {
    "collapsed": true
   },
   "outputs": [],
   "source": [
    "cor = []\n",
    "coh = []\n",
    "\n",
    "for this_seed in range(n_seeds):\n",
    "    # Extract the coherence and average across these frequency bands:\n",
    "    coh.append(np.mean(A.coherence[this_seed][:, freq_idx], -1))  # Averaging on the\n",
    "                                                                 # last dimension\n",
    "\n",
    "    cor.append(B.corrcoef[this_seed])  # No need to do any additional\n",
    "                                       # computation"
   ]
  },
  {
   "cell_type": "code",
   "execution_count": null,
   "metadata": {
    "collapsed": false
   },
   "outputs": [],
   "source": [
    "coh"
   ]
  },
  {
   "cell_type": "code",
   "execution_count": null,
   "metadata": {
    "collapsed": true
   },
   "outputs": [],
   "source": []
  }
 ],
 "metadata": {
  "kernelspec": {
   "display_name": "Python 2",
   "language": "python",
   "name": "python2"
  },
  "language_info": {
   "codemirror_mode": {
    "name": "ipython",
    "version": 2
   },
   "file_extension": ".py",
   "mimetype": "text/x-python",
   "name": "python",
   "nbconvert_exporter": "python",
   "pygments_lexer": "ipython2",
   "version": "2.7.12"
  }
 },
 "nbformat": 4,
 "nbformat_minor": 0
}
