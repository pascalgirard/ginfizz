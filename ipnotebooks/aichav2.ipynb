{
 "cells": [
  {
   "cell_type": "markdown",
   "metadata": {},
   "source": [
    "nouvelles specs on part d'un nouvel atlas de 10 régions et on voit quels sont les voxels qui sont en correlations avec ces régions  "
   ]
  },
  {
   "cell_type": "code",
   "execution_count": 1,
   "metadata": {
    "collapsed": true
   },
   "outputs": [],
   "source": [
    "import nipype.interfaces.io as nio           # Data i/o\n",
    "import nipype.interfaces.spm as spm          # spm\n",
    "import nipype.interfaces.matlab as mlab      # how to run matlab\n",
    "import nipype.interfaces.utility as util     # utility\n",
    "import nipype.pipeline.engine as pe          # pypeline engine\n",
    "\n",
    "from nipype.interfaces.utility import Function, IdentityInterface\n",
    "\n",
    "from nipype.interfaces.fsl.maths import MathsCommand\n",
    "from nipype.interfaces.fsl.utils import PlotMotionParams   # to plot moco variabl\n",
    "from nipype import SelectFiles, Node"
   ]
  },
  {
   "cell_type": "code",
   "execution_count": 29,
   "metadata": {
    "collapsed": true
   },
   "outputs": [],
   "source": [
    "# creation of a subworflow to process ROI Correlations\n",
    "connectivity = pe.Workflow(name='connectivity')"
   ]
  },
  {
   "cell_type": "code",
   "execution_count": 30,
   "metadata": {
    "collapsed": false
   },
   "outputs": [
    {
     "data": {
      "text/plain": [
       "{'arimaFile': <undefined>, 'atlasFile': <undefined>}"
      ]
     },
     "execution_count": 30,
     "metadata": {},
     "output_type": "execute_result"
    }
   ],
   "source": [
    "arimadir = '/scratch/user/hirsch/datadir4/data_results_py/functionnal/arima/arimaResidus'\n",
    "atlasdir = '/scratch/user/hirsch/datadir/data_set/t0009/repos01/Atlases'\n",
    "\n",
    "\n",
    "from nipype import SelectFiles, Node\n",
    "templates = dict(arimaFile=arimadir+ \"/\" + \"*.nii.gz\",\n",
    "                 atlasFile=atlasdir + \"/\" + \"atlas*.nii\")\n",
    "\n",
    "filesource = Node(SelectFiles(templates), \"filesource\")\n",
    "filesource.inputs.subject_id = \"subj1\"\n",
    "filesource.outputs.get()"
   ]
  },
  {
   "cell_type": "code",
   "execution_count": 31,
   "metadata": {
    "collapsed": false
   },
   "outputs": [],
   "source": [
    "# lets select region 1\n",
    "# input is atlasFile, output is maskFile with region 1\n",
    "\n",
    "def selectRegion(atlas_file):\n",
    "    \n",
    "    import numpy as np     \n",
    "    import nibabel as nib     \n",
    "    import os \n",
    "    \n",
    "    atlas_img=nib.load(atlas_file)         \n",
    "    atlas_array=np.asarray(atlas_img.dataobj).copy() # Avoid caching the proxy image\n",
    "    \n",
    "    n = 1\n",
    "    region_array = atlas_array\n",
    "    # binary mask the resulting image\n",
    "    region_array[atlas_array <> n] = 0\n",
    "    region_array[atlas_array == n] = 1\n",
    "    \n",
    "    region_image = nib.Nifti1Image(region_array, atlas_img.affine, atlas_img.header)\n",
    "    \n",
    "    result = os.getcwd() + '/' + 'region_image' + str(n) + '.nii'\n",
    "    nib.save(region_image, result)\n",
    "    return result\n",
    "    \n",
    "\n"
   ]
  },
  {
   "cell_type": "code",
   "execution_count": 32,
   "metadata": {
    "collapsed": true
   },
   "outputs": [],
   "source": [
    "# node to compute a mask of region 1 of user atlas\n",
    "computeRegion = Node(Function(input_names=['atlas_file', 'n_string'],\n",
    "                                output_names=['out_file'],\n",
    "                                function=selectRegion),\n",
    "                                name='computeRegion')\n",
    "\n",
    "\n",
    "\n",
    "connectivity.connect(filesource, \"atlasFile\", computeRegion, \"atlas_file\")\n"
   ]
  },
  {
   "cell_type": "markdown",
   "metadata": {},
   "source": [
    "reg1 = selectRegion('/scratch/user/hirsch/datadir/data_set/t0009/repos01/Atlases/atlas_2reg.nii', 2)\n",
    "print reg1"
   ]
  },
  {
   "cell_type": "code",
   "execution_count": 33,
   "metadata": {
    "collapsed": false
   },
   "outputs": [],
   "source": [
    "# lets calculate the mean residu signal eg. time courses in region 1\n",
    "\n",
    "\n",
    "from nipype.interfaces.fsl.utils import ImageMeants\n",
    "\n",
    "regMeants = Node(ImageMeants(), name=\"regMeants\")     \n",
    "regMeants.inputs.ignore_exception = False     \n",
    "regMeants.inputs.order = 1     \n",
    "regMeants.inputs.output_type = 'NIFTI_GZ'     \n",
    "regMeants.inputs.terminal_output = 'stream'     \n",
    "connectivity.connect(filesource, \"arimaFile\" , regMeants, \"in_file\")   \n",
    "connectivity.connect(computeRegion, \"out_file\", regMeants, \"mask\")"
   ]
  },
  {
   "cell_type": "code",
   "execution_count": 34,
   "metadata": {
    "collapsed": false
   },
   "outputs": [],
   "source": [
    "# data sink\n",
    "datasink = pe.Node(nio.DataSink(), name='datasink')\n",
    "datasink.inputs.base_directory = '/scratch/user/hirsch/datadir4/data_results_py'\n",
    "connectivity.connect(regMeants,  'out_file', datasink, 'functionnal.regMeants')"
   ]
  },
  {
   "cell_type": "code",
   "execution_count": 35,
   "metadata": {
    "collapsed": false
   },
   "outputs": [
    {
     "name": "stderr",
     "output_type": "stream",
     "text": [
      "INFO:workflow:['check', 'execution', 'logging']\n",
      "INFO:workflow:Running serially.\n",
      "INFO:workflow:Executing node filesource in dir: /tmp/tmpUFNrNT/connectivity/filesource\n",
      "INFO:workflow:Runtime memory and threads stats unavailable\n",
      "INFO:workflow:Executing node computeRegion in dir: /tmp/tmp2aO_v4/connectivity/computeRegion\n",
      "INFO:workflow:Executing node regMeants in dir: /tmp/tmpnuh3SU/connectivity/regMeants\n",
      "INFO:workflow:Running: fslmeants -i /scratch/user/hirsch/datadir4/data_results_py/functionnal/arima/arimaResidus/arima_residu.nii.gz -m /tmp/tmp2aO_v4/connectivity/computeRegion/region_image1.nii --order=1 -o /tmp/tmpnuh3SU/connectivity/regMeants/arima_residu_ts.txt\n",
      "INFO:workflow:Executing node datasink in dir: /tmp/tmp1J1Mlj/connectivity/datasink\n",
      "INFO:workflow:Runtime memory and threads stats unavailable\n"
     ]
    },
    {
     "data": {
      "text/plain": [
       "<networkx.classes.digraph.DiGraph at 0x7f6d494f4c10>"
      ]
     },
     "execution_count": 35,
     "metadata": {},
     "output_type": "execute_result"
    }
   ],
   "source": [
    "connectivity.run()"
   ]
  },
  {
   "cell_type": "markdown",
   "metadata": {},
   "source": [
    "# fin du pipe"
   ]
  },
  {
   "cell_type": "code",
   "execution_count": null,
   "metadata": {
    "collapsed": true
   },
   "outputs": [],
   "source": []
  }
 ],
 "metadata": {
  "kernelspec": {
   "display_name": "Python 2",
   "language": "python",
   "name": "python2"
  },
  "language_info": {
   "codemirror_mode": {
    "name": "ipython",
    "version": 2
   },
   "file_extension": ".py",
   "mimetype": "text/x-python",
   "name": "python",
   "nbconvert_exporter": "python",
   "pygments_lexer": "ipython2",
   "version": "2.7.12"
  }
 },
 "nbformat": 4,
 "nbformat_minor": 0
}
