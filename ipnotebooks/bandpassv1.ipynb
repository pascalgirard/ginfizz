{
 "cells": [
  {
   "cell_type": "markdown",
   "metadata": {},
   "source": [
    "# To calculate parameters for afni bandpass function\n"
   ]
  },
  {
   "cell_type": "code",
   "execution_count": 1,
   "metadata": {
    "collapsed": true
   },
   "outputs": [],
   "source": [
    "# rp_at0009_epi_s04_d0001.txt\n",
    "# todo recuperer le seul fichier texte de results functionnal\n",
    "# rp_at0009_epi_s+04_d0001.txt\n",
    "\n",
    "mocoFile = '/homes_unix/hirsch/_pypipe/datadir/data_results/functionnal/rp_at0009_epi_s04_d0001.txt'"
   ]
  },
  {
   "cell_type": "code",
   "execution_count": 2,
   "metadata": {
    "collapsed": false,
    "scrolled": true
   },
   "outputs": [
    {
     "name": "stdout",
     "output_type": "stream",
     "text": [
      "              0             1             2         3             4  \\\n",
      "0  1.332086e-14 -1.111059e-14  7.105427e-15  0.000000  2.848359e-35   \n",
      "1  1.394313e-03  3.979120e-02 -6.179350e-04 -0.000305 -5.038878e-05   \n",
      "2  4.798411e-03  3.080263e-02 -9.149480e-04 -0.000359 -5.419149e-05   \n",
      "3  3.124971e-03  5.745299e-02  2.872896e-03 -0.000042  1.485895e-05   \n",
      "4  5.558033e-04  5.724530e-02 -1.848545e-02  0.000036  8.939434e-05   \n",
      "\n",
      "              5  \n",
      "0  2.768145e-18  \n",
      "1  3.284350e-05  \n",
      "2  1.160633e-04  \n",
      "3 -5.470219e-06  \n",
      "4 -1.247659e-04  \n"
     ]
    }
   ],
   "source": [
    "import pandas as pd\n",
    "import numpy as np\n",
    "\n",
    "mocodf = pd.read_csv(mocoFile, header=None, sep='  ',engine='python')\n",
    "print(mocodf.head())"
   ]
  },
  {
   "cell_type": "code",
   "execution_count": null,
   "metadata": {
    "collapsed": false
   },
   "outputs": [],
   "source": [
    "import matplotlib.pyplot as plt\n",
    "plt.plot([mocodf[0]])\n",
    "plt.ylabel('x deviation')\n",
    "plt.show()"
   ]
  },
  {
   "cell_type": "code",
   "execution_count": null,
   "metadata": {
    "collapsed": true
   },
   "outputs": [],
   "source": [
    "mocodf[1]"
   ]
  },
  {
   "cell_type": "markdown",
   "metadata": {},
   "source": [
    "## derivative computation"
   ]
  },
  {
   "cell_type": "raw",
   "metadata": {},
   "source": [
    "derivatives\n",
    "lets assume that the time of acquisition between 2 mesures is TR = 2 000 ms\n",
    "dx(t)= x(t+1) - x(t-1) / 2 * TR\n",
    "x(t0) = x(t1)\n",
    "acqNb = 240\n",
    "\n"
   ]
  },
  {
   "cell_type": "code",
   "execution_count": 3,
   "metadata": {
    "collapsed": true
   },
   "outputs": [],
   "source": [
    "TR = 2000 \n",
    "acqNb = 240\n",
    "\n",
    "def vectorDerivative(v):\n",
    "    dv = {}\n",
    "    for i in range(acqNb):\n",
    "        # print mocodf['x'][i]\n",
    "        if i== 0:\n",
    "            dv[i]= (v[i+1]-v[i]) / 2*TR\n",
    "        elif i== acqNb-1:\n",
    "            dv[i]= (v[i]-v[i-1]) / 2*TR \n",
    "        else:\n",
    "            dv[i]= (v[i+1]-v[i-1]) / 2*TR\n",
    "        #print 'derivative' + str(i)\n",
    "        #print  v[i]\n",
    "    return v"
   ]
  },
  {
   "cell_type": "code",
   "execution_count": 4,
   "metadata": {
    "collapsed": true
   },
   "outputs": [],
   "source": [
    "def plusDerivative(df):\n",
    "    lg = len(df.columns.values)\n",
    "    dg = df\n",
    "    for j in list(df.columns.values):\n",
    "        vprime = vectorDerivative(df[j])\n",
    "        dg[lg+j]=vprime\n",
    "    return dg\n",
    "    "
   ]
  },
  {
   "cell_type": "code",
   "execution_count": 5,
   "metadata": {
    "collapsed": false
   },
   "outputs": [
    {
     "name": "stdout",
     "output_type": "stream",
     "text": [
      "             0             1             2         3             4   \\\n",
      "0  1.332086e-14 -1.111059e-14  7.105427e-15  0.000000  2.848359e-35   \n",
      "1  1.394313e-03  3.979120e-02 -6.179350e-04 -0.000305 -5.038878e-05   \n",
      "2  4.798411e-03  3.080263e-02 -9.149480e-04 -0.000359 -5.419149e-05   \n",
      "3  3.124971e-03  5.745299e-02  2.872896e-03 -0.000042  1.485895e-05   \n",
      "4  5.558033e-04  5.724530e-02 -1.848545e-02  0.000036  8.939434e-05   \n",
      "\n",
      "             5             6             7             8         9   \\\n",
      "0  2.768145e-18  1.332086e-14 -1.111059e-14  7.105427e-15  0.000000   \n",
      "1  3.284350e-05  1.394313e-03  3.979120e-02 -6.179350e-04 -0.000305   \n",
      "2  1.160633e-04  4.798411e-03  3.080263e-02 -9.149480e-04 -0.000359   \n",
      "3 -5.470219e-06  3.124971e-03  5.745299e-02  2.872896e-03 -0.000042   \n",
      "4 -1.247659e-04  5.558033e-04  5.724530e-02 -1.848545e-02  0.000036   \n",
      "\n",
      "             10            11  \n",
      "0  2.848359e-35  2.768145e-18  \n",
      "1 -5.038878e-05  3.284350e-05  \n",
      "2 -5.419149e-05  1.160633e-04  \n",
      "3  1.485895e-05 -5.470219e-06  \n",
      "4  8.939434e-05 -1.247659e-04  \n"
     ]
    }
   ],
   "source": [
    "derivate = plusDerivative(mocodf)\n",
    "print(derivate.head())"
   ]
  },
  {
   "cell_type": "markdown",
   "metadata": {},
   "source": [
    "## square"
   ]
  },
  {
   "cell_type": "code",
   "execution_count": null,
   "metadata": {
    "collapsed": true
   },
   "outputs": [],
   "source": [
    "mocodf[0]**2"
   ]
  },
  {
   "cell_type": "code",
   "execution_count": 6,
   "metadata": {
    "collapsed": false
   },
   "outputs": [],
   "source": [
    "def plusSquare(df):\n",
    "    lg = len(df.columns.values)\n",
    "    ds = df\n",
    "    for j in list(df.columns.values):\n",
    "        vs = df[j]**2\n",
    "        ds[lg+j]=vs\n",
    "    return ds    "
   ]
  },
  {
   "cell_type": "code",
   "execution_count": 20,
   "metadata": {
    "collapsed": true
   },
   "outputs": [],
   "source": [
    "import os\n",
    "def mocoOrtho(f):\n",
    "    df = pd.read_csv(f, header=None, sep='  ',engine='python')\n",
    "    dfd = plusDerivative(df)\n",
    "    dfs = plusSquare(dfd)\n",
    "    g = dfs.to_csv('ortho.txt', sep=' ', index=False,header=False)\n",
    "    print g\n",
    "    h = os.getcwd() + '/' + 'ortho.txt'\n",
    "    return h"
   ]
  },
  {
   "cell_type": "code",
   "execution_count": 21,
   "metadata": {
    "collapsed": false
   },
   "outputs": [
    {
     "name": "stdout",
     "output_type": "stream",
     "text": [
      "None\n"
     ]
    },
    {
     "data": {
      "text/plain": [
       "'/homes_unix/hirsch/_pypipe/datadir/data_results/functionnal/ortho.txt'"
      ]
     },
     "execution_count": 21,
     "metadata": {},
     "output_type": "execute_result"
    }
   ],
   "source": [
    "mocoOrtho('/homes_unix/hirsch/_pypipe/datadir/data_results/functionnal/rp_at0009_epi_s04_d0001.txt')"
   ]
  },
  {
   "cell_type": "markdown",
   "metadata": {},
   "source": [
    "# Brouillons"
   ]
  },
  {
   "cell_type": "code",
   "execution_count": 14,
   "metadata": {
    "collapsed": false
   },
   "outputs": [
    {
     "name": "stdout",
     "output_type": "stream",
     "text": [
      "/homes_unix/hirsch/_pypipe/datadir/data_results/functionnal\n"
     ]
    },
    {
     "data": {
      "text/plain": [
       "u'/homes_unix/hirsch/_pypipe/datadir/data_results/functionnal'"
      ]
     },
     "execution_count": 14,
     "metadata": {},
     "output_type": "execute_result"
    }
   ],
   "source": [
    "%cd '/homes_unix/hirsch/_pypipe/datadir/data_results/functionnal'\n",
    "%pwd"
   ]
  },
  {
   "cell_type": "code",
   "execution_count": 15,
   "metadata": {
    "collapsed": false
   },
   "outputs": [
    {
     "name": "stdout",
     "output_type": "stream",
     "text": [
      "/homes_unix/hirsch/_pypipe/datadir/data_results/functionnal\n"
     ]
    }
   ],
   "source": [
    "cwd = os.getcwd()\n",
    "print cwd"
   ]
  },
  {
   "cell_type": "code",
   "execution_count": null,
   "metadata": {
    "collapsed": false
   },
   "outputs": [],
   "source": [
    "square = plusSquare(derivate)\n",
    "print(square.head())"
   ]
  },
  {
   "cell_type": "code",
   "execution_count": null,
   "metadata": {
    "collapsed": false,
    "scrolled": true
   },
   "outputs": [],
   "source": [
    "vectorSquare(mocodf[0])"
   ]
  },
  {
   "cell_type": "code",
   "execution_count": null,
   "metadata": {
    "collapsed": false
   },
   "outputs": [],
   "source": [
    "list(mocodf.columns.values)"
   ]
  },
  {
   "cell_type": "code",
   "execution_count": null,
   "metadata": {
    "collapsed": false,
    "scrolled": true
   },
   "outputs": [],
   "source": [
    "vectorderivative(mocodf[0])"
   ]
  },
  {
   "cell_type": "code",
   "execution_count": null,
   "metadata": {
    "collapsed": false,
    "scrolled": true
   },
   "outputs": [],
   "source": [
    "TR = 2000 \n",
    "acqNb = 240\n",
    "\n",
    "dx = {}\n",
    "for i in range(acqNb):\n",
    "    # print mocodf['x'][i]\n",
    "    if i== 0:\n",
    "        dx[i]= (mocodf['x'][i+1]-mocodf['x'][i]) / 2*TR\n",
    "    elif i== acqNb-1:\n",
    "        dx[i]= (mocodf['x'][i]-mocodf['x'][i-1]) / 2*TR \n",
    "    else:\n",
    "        dx[i]= (mocodf['x'][i+1]-mocodf['x'][i-1]) / 2*TR\n",
    "    print 'derivative' + str(i)\n",
    "    print  dx[i]\n"
   ]
  },
  {
   "cell_type": "code",
   "execution_count": null,
   "metadata": {
    "collapsed": true
   },
   "outputs": [],
   "source": [
    "sdx = pd.Series(dx)"
   ]
  },
  {
   "cell_type": "code",
   "execution_count": null,
   "metadata": {
    "collapsed": false
   },
   "outputs": [],
   "source": [
    "sdx"
   ]
  },
  {
   "cell_type": "code",
   "execution_count": null,
   "metadata": {
    "collapsed": true
   },
   "outputs": [],
   "source": []
  }
 ],
 "metadata": {
  "kernelspec": {
   "display_name": "Python 2",
   "language": "python",
   "name": "python2"
  },
  "language_info": {
   "codemirror_mode": {
    "name": "ipython",
    "version": 2
   },
   "file_extension": ".py",
   "mimetype": "text/x-python",
   "name": "python",
   "nbconvert_exporter": "python",
   "pygments_lexer": "ipython2",
   "version": "2.7.12"
  }
 },
 "nbformat": 4,
 "nbformat_minor": 0
}
