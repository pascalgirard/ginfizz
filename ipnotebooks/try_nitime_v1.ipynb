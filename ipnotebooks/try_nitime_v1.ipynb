{
 "cells": [
  {
   "cell_type": "code",
   "execution_count": 1,
   "metadata": {
    "collapsed": true
   },
   "outputs": [],
   "source": [
    "import os\n",
    "\n",
    "import numpy as np\n",
    "import matplotlib.pyplot as plt\n",
    "import nibabel as nib"
   ]
  },
  {
   "cell_type": "code",
   "execution_count": 2,
   "metadata": {
    "collapsed": true
   },
   "outputs": [],
   "source": [
    "import nitime\n",
    "import nitime.analysis as nta\n",
    "import nitime.fmri.io as io"
   ]
  },
  {
   "cell_type": "code",
   "execution_count": 40,
   "metadata": {
    "collapsed": false
   },
   "outputs": [
    {
     "name": "stdout",
     "output_type": "stream",
     "text": [
      "[ -2.22658507e-03   1.96420073e+00   1.92572899e+00  -3.71609916e-03\n",
      "   2.27342658e+00   8.86673625e-01   3.02894958e-01   1.97555637e+00\n",
      "  -1.94825915e-01   4.30060947e-01   1.69298431e+00   2.85184416e+00\n",
      "   2.48645310e+00  -2.42304416e+00  -1.07544962e+00  -9.00403737e-01\n",
      "  -3.12118713e+00   8.59856138e-01  -4.28875315e+00  -8.09222956e+00\n",
      "  -9.29063535e-01  -6.68012318e-01  -3.22326002e+00  -5.43267394e+00\n",
      "  -4.09624486e+00   2.50935831e+00  -9.40407908e-01  -4.53184258e+00\n",
      "  -1.08141672e+00   5.44823591e-01   3.09837976e+00   2.15491274e-01\n",
      "  -3.77181284e+00   6.29105842e-01   2.14086325e+00   4.90598933e-01\n",
      "   1.36135056e+00   1.37700904e+00   5.59982037e-01   1.10489074e+00\n",
      "   2.46440385e+00   1.26070708e+00  -9.37960655e-01   5.38778329e-01\n",
      "   3.41878201e+00   3.10949465e+00   1.54615178e+00   8.32029575e-01\n",
      "  -1.32914533e+00  -5.22107635e-01   1.41428459e+00  -7.98545217e-01\n",
      "   8.06791950e-01   5.30421652e-01  -4.23840332e+00  -8.28038608e-01\n",
      "   2.10814827e+00   3.93404787e-02   2.47249685e-01   1.05402410e-01\n",
      "   6.79937664e-01   2.70215491e-01  -2.24060212e+00  -2.14827886e+00\n",
      "  -2.04412835e-01   2.40360004e+00   2.89310911e+00   1.36769480e+00\n",
      "   1.53684271e-01   4.57617498e-01   4.22466905e+00   2.79138026e+00\n",
      "  -1.74961988e+00   2.30653633e+00   2.62312075e+00  -5.50772835e+00\n",
      "  -7.05730407e+00  -2.17081401e+00   1.11692610e+00   1.67177881e+00\n",
      "   2.06085646e+00   3.57933750e+00   1.85692005e+00  -1.34119887e+00\n",
      "   6.16100428e-01   8.65992921e-01  -3.78472712e+00  -3.03766735e+00\n",
      "   6.13243556e-01   9.35696440e-03  -9.69711209e-01   3.97191961e-01\n",
      "   1.49426252e+00  -1.04944169e-01   6.76502586e-01   3.60532826e+00\n",
      "   2.10016798e+00   1.83252608e+00   3.25136584e+00   2.53359009e+00\n",
      "   2.26408703e+00   1.02075257e+00   1.85575156e+00   2.13321104e+00\n",
      "  -1.35888882e+00  -1.95571760e+00  -2.95377569e+00  -2.97595403e+00\n",
      "  -1.32681367e+00  -2.45509047e+00  -8.41335087e-02  -8.39760056e-01\n",
      "  -5.01500175e+00  -1.60134240e+00   1.85252746e+00   1.28186649e+00\n",
      "  -1.91056072e+00  -2.22918072e+00   2.70760349e+00   4.57411555e-01\n",
      "  -3.51459827e+00  -1.69674886e+00   1.14631358e+00   3.40740241e+00\n",
      "  -7.30645686e-01  -3.09833495e+00   1.10327596e+00   1.88418690e+00\n",
      "   1.90513701e+00  -2.02630275e-01  -3.63697517e+00  -2.99669535e+00\n",
      "  -3.17308974e+00  -3.42241352e+00  -3.43905566e+00  -2.67694532e+00\n",
      "  -1.18441981e+00  -9.35728859e-01   2.45494435e+00   2.94446213e+00\n",
      "   2.14316901e+00   4.29159315e+00   1.36037514e+00   2.03415822e+00\n",
      "   3.06388846e+00  -1.67103542e+00   2.88356011e-01   1.42604841e+00\n",
      "   1.18826132e+00   3.24128840e+00  -4.50640411e-01  -2.45840716e+00\n",
      "  -2.83098717e+00   5.72324190e-01   7.22097866e+00   2.94127837e+00\n",
      "  -3.66791159e-02  -1.62077832e-01  -4.55242242e+00  -9.74201845e-01\n",
      "   8.15919277e-01  -1.83161350e+00  -9.67204442e-01  -3.71389082e+00\n",
      "  -2.60675026e+00   3.32168885e+00   2.99008949e+00  -1.90246804e+00\n",
      "  -4.28932223e+00  -7.01267642e-01   6.51175459e-01   1.15375129e-01\n",
      "   1.86385723e+00  -8.25240999e-01   3.98897726e-02   4.48398489e+00\n",
      "   2.27027132e+00   1.35628801e+00   1.85404258e+00  -1.05732921e-01\n",
      "  -3.87948816e-01  -5.67301171e-01   5.03013314e-01   2.10695500e+00\n",
      "  -7.99809452e-01  -3.51738868e+00  -1.42997784e+00   3.05909935e-01\n",
      "   1.34695239e+00   2.79914679e+00  -8.42590173e-01  -2.35265877e+00\n",
      "   9.49039138e-01  -2.05034653e+00  -3.68171194e+00  -1.88442932e-01\n",
      "  -5.13310809e-01  -5.61664053e-01   1.76745129e+00   2.79660571e+00\n",
      "  -3.53311470e-01  -2.14030793e+00   3.07647016e+00   2.62987542e+00\n",
      "  -7.12415932e-01   2.23178329e+00   8.58778691e-01  -1.04729815e+00\n",
      "   7.77293329e-01   3.22845382e-01   1.09472856e+00   4.56572389e-01\n",
      "  -1.48322526e+00   1.06107741e+00   1.65708817e+00  -1.91603670e+00\n",
      "  -1.90906683e+00   5.23693141e-01  -1.33796107e+00  -2.55926199e+00\n",
      "  -9.80921168e-01  -3.16710851e+00  -4.44241084e+00  -1.94110073e+00\n",
      "   1.07901010e+00   2.42931945e+00  -1.25801976e+00  -3.34245894e-01\n",
      "   3.71854341e+00  -9.86403094e-01  -1.02269066e+00   3.63553096e+00\n",
      "   1.50663707e+00   1.63589012e+00   7.00896631e-01  -2.03051333e+00\n",
      "   2.20599693e+00   3.30784500e+00   3.19513193e-01  -1.18127915e+00]\n"
     ]
    }
   ],
   "source": [
    "seedFile = '/scratch/user/hirsch/datadir4/data_results_py/functionnal/regMeants/arima_residu_ts.txt'\n",
    "\n",
    "seed_ts_array = np.loadtxt(seedFile)\n",
    "#print seed_ts_array\n",
    "\n",
    "from nitime.timeseries import TimeSeries\n",
    "ts = TimeSeries(seed_ts_array, sampling_interval=2.0)\n",
    "print ts.data"
   ]
  },
  {
   "cell_type": "code",
   "execution_count": 36,
   "metadata": {
    "collapsed": false
   },
   "outputs": [
    {
     "name": "stdout",
     "output_type": "stream",
     "text": [
      "[1 2 3]\n"
     ]
    }
   ],
   "source": [
    "from nitime.timeseries import TimeSeries\n",
    "ts = TimeSeries([1,2,3],sampling_interval=2.0)\n",
    "print ts.data"
   ]
  },
  {
   "cell_type": "code",
   "execution_count": 12,
   "metadata": {
    "collapsed": true
   },
   "outputs": [],
   "source": [
    "TR = 2\n",
    "f_lb = 0.01\n",
    "f_ub = 0.1\n",
    "\n",
    "fmri_file = '/scratch/user/hirsch/datadir4/data_results_py/functionnal/arima/arimaResidus/_report/arima_residu.nii.gz'\n",
    "fmri_data=nib.load(fmri_file) "
   ]
  },
  {
   "cell_type": "code",
   "execution_count": 13,
   "metadata": {
    "collapsed": false
   },
   "outputs": [
    {
     "name": "stdout",
     "output_type": "stream",
     "text": [
      "(91, 109, 91)\n"
     ]
    }
   ],
   "source": [
    "volume_shape = fmri_data.shape[:-1]\n",
    "print volume_shape\n",
    "coords = list(np.ndindex(volume_shape))"
   ]
  },
  {
   "cell_type": "code",
   "execution_count": 25,
   "metadata": {
    "collapsed": false
   },
   "outputs": [
    {
     "name": "stdout",
     "output_type": "stream",
     "text": [
      "[[ 0 33 81]\n",
      " [58 59 59]\n",
      " [75 79 41]]\n"
     ]
    }
   ],
   "source": [
    "n_seeds = 3\n",
    "\n",
    "# Choose n_seeds random voxels to be the seed voxels\n",
    "seeds = np.random.randint(0, len(coords), n_seeds)\n",
    "coords_seeds = np.array(coords)[seeds].T\n",
    "print coords_seeds\n",
    "coords_target = np.array(coords).T"
   ]
  },
  {
   "cell_type": "code",
   "execution_count": 26,
   "metadata": {
    "collapsed": false
   },
   "outputs": [],
   "source": [
    "# Make the seed time series:\n",
    "time_series_seed = io.time_series_from_file(fmri_file,\n",
    "                                coords_seeds,\n",
    "                                TR=TR,\n",
    "                                normalize='percent',\n",
    "                                filter=dict(lb=f_lb,\n",
    "                                            ub=f_ub,\n",
    "                                            method='boxcar'))\n",
    "\n",
    "# Make the target time series:\n",
    "time_series_target = io.time_series_from_file(fmri_file,\n",
    "                                          coords_target,\n",
    "                                          TR=TR,\n",
    "                                          normalize='percent',\n",
    "                                          filter=dict(lb=f_lb,\n",
    "                                                      ub=f_ub,\n",
    "                                                    method='boxcar'))"
   ]
  },
  {
   "cell_type": "code",
   "execution_count": 27,
   "metadata": {
    "collapsed": true
   },
   "outputs": [],
   "source": [
    "A = nta.SeedCoherenceAnalyzer(time_series_seed, time_series_target,\n",
    "                            method=dict(NFFT=20))\n",
    "B = nta.SeedCorrelationAnalyzer(time_series_seed, time_series_target)"
   ]
  },
  {
   "cell_type": "code",
   "execution_count": 28,
   "metadata": {
    "collapsed": true
   },
   "outputs": [],
   "source": [
    "freq_idx = np.where((A.frequencies > f_lb) * (A.frequencies < f_ub))[0]"
   ]
  },
  {
   "cell_type": "code",
   "execution_count": 29,
   "metadata": {
    "collapsed": true
   },
   "outputs": [],
   "source": [
    "cor = []\n",
    "coh = []\n",
    "\n",
    "for this_seed in range(n_seeds):\n",
    "    # Extract the coherence and average across these frequency bands:\n",
    "    coh.append(np.mean(A.coherence[this_seed][:, freq_idx], -1))  # Averaging on the\n",
    "                                                                 # last dimension\n",
    "\n",
    "    cor.append(B.corrcoef[this_seed])  # No need to do any additional\n",
    "                                       # computation"
   ]
  },
  {
   "cell_type": "code",
   "execution_count": 24,
   "metadata": {
    "collapsed": false
   },
   "outputs": [
    {
     "data": {
      "text/plain": [
       "[array([  1.,  nan,  nan]),\n",
       " array([ nan,  nan,  nan]),\n",
       " array([ nan,  nan,  nan])]"
      ]
     },
     "execution_count": 24,
     "metadata": {},
     "output_type": "execute_result"
    }
   ],
   "source": [
    "coh"
   ]
  },
  {
   "cell_type": "code",
   "execution_count": null,
   "metadata": {
    "collapsed": true
   },
   "outputs": [],
   "source": []
  }
 ],
 "metadata": {
  "kernelspec": {
   "display_name": "Python 2",
   "language": "python",
   "name": "python2"
  },
  "language_info": {
   "codemirror_mode": {
    "name": "ipython",
    "version": 2
   },
   "file_extension": ".py",
   "mimetype": "text/x-python",
   "name": "python",
   "nbconvert_exporter": "python",
   "pygments_lexer": "ipython2",
   "version": "2.7.12"
  }
 },
 "nbformat": 4,
 "nbformat_minor": 0
}
