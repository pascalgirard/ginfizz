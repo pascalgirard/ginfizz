{
 "cells": [
  {
   "cell_type": "raw",
   "metadata": {},
   "source": [
    "de v1 à v2 on introduit les masks wm et lcf et les meants"
   ]
  },
  {
   "cell_type": "markdown",
   "metadata": {},
   "source": [
    "# To calculate parameters for afni bandpass function and write them in ortho file.txt\n"
   ]
  },
  {
   "cell_type": "code",
   "execution_count": 1,
   "metadata": {
    "collapsed": true
   },
   "outputs": [],
   "source": [
    "# rp_at0009_epi_s04_d0001.txt\n",
    "# todo recuperer le seul fichier texte de results functionnal\n",
    "# rp_at0009_epi_s+04_d0001.txt\n",
    "\n",
    "mocoFile = '/homes_unix/hirsch/_pypipe/datadir/data_results/functionnal/rp_at0009_epi_s04_d0001.txt'"
   ]
  },
  {
   "cell_type": "code",
   "execution_count": 2,
   "metadata": {
    "collapsed": false,
    "scrolled": true
   },
   "outputs": [
    {
     "name": "stdout",
     "output_type": "stream",
     "text": [
      "              0             1             2         3             4  \\\n",
      "0  1.332086e-14 -1.111059e-14  7.105427e-15  0.000000  2.848359e-35   \n",
      "1  1.394313e-03  3.979120e-02 -6.179350e-04 -0.000305 -5.038878e-05   \n",
      "2  4.798411e-03  3.080263e-02 -9.149480e-04 -0.000359 -5.419149e-05   \n",
      "3  3.124971e-03  5.745299e-02  2.872896e-03 -0.000042  1.485895e-05   \n",
      "4  5.558033e-04  5.724530e-02 -1.848545e-02  0.000036  8.939434e-05   \n",
      "\n",
      "              5  \n",
      "0  2.768145e-18  \n",
      "1  3.284350e-05  \n",
      "2  1.160633e-04  \n",
      "3 -5.470219e-06  \n",
      "4 -1.247659e-04  \n"
     ]
    }
   ],
   "source": [
    "import pandas as pd\n",
    "import numpy as np\n",
    "\n",
    "mocodf = pd.read_csv(mocoFile, header=None, sep='  ',engine='python')\n",
    "print(mocodf.head())"
   ]
  },
  {
   "cell_type": "code",
   "execution_count": null,
   "metadata": {
    "collapsed": false
   },
   "outputs": [],
   "source": [
    "import matplotlib.pyplot as plt\n",
    "plt.plot([mocodf[0]])\n",
    "plt.ylabel('x deviation')\n",
    "plt.show()"
   ]
  },
  {
   "cell_type": "code",
   "execution_count": null,
   "metadata": {
    "collapsed": true
   },
   "outputs": [],
   "source": [
    "mocodf[1]"
   ]
  },
  {
   "cell_type": "markdown",
   "metadata": {},
   "source": [
    "## derivative computation"
   ]
  },
  {
   "cell_type": "raw",
   "metadata": {},
   "source": [
    "derivatives\n",
    "lets assume that the time of acquisition between 2 mesures is TR = 2 000 ms\n",
    "dx(t)= x(t+1) - x(t-1) / 2 * TR\n",
    "x(t0) = x(t1)\n",
    "acqNb = 240\n",
    "\n"
   ]
  },
  {
   "cell_type": "code",
   "execution_count": 3,
   "metadata": {
    "collapsed": true
   },
   "outputs": [],
   "source": [
    "TR = 2000 \n",
    "acqNb = 240\n",
    "\n",
    "def vectorDerivative(v):\n",
    "    dv = {}\n",
    "    for i in range(acqNb):\n",
    "        # print mocodf['x'][i]\n",
    "        if i== 0:\n",
    "            dv[i]= (v[i+1]-v[i]) / 2*TR\n",
    "        elif i== acqNb-1:\n",
    "            dv[i]= (v[i]-v[i-1]) / 2*TR \n",
    "        else:\n",
    "            dv[i]= (v[i+1]-v[i-1]) / 2*TR\n",
    "        #print 'derivative' + str(i)\n",
    "        #print  v[i]\n",
    "    return v"
   ]
  },
  {
   "cell_type": "code",
   "execution_count": 4,
   "metadata": {
    "collapsed": true
   },
   "outputs": [],
   "source": [
    "def plusDerivative(df):\n",
    "    lg = len(df.columns.values)\n",
    "    dg = df\n",
    "    for j in list(df.columns.values):\n",
    "        vprime = vectorDerivative(df[j])\n",
    "        dg[lg+j]=vprime\n",
    "    return dg\n",
    "    "
   ]
  },
  {
   "cell_type": "code",
   "execution_count": 5,
   "metadata": {
    "collapsed": false
   },
   "outputs": [
    {
     "name": "stdout",
     "output_type": "stream",
     "text": [
      "             0             1             2         3             4   \\\n",
      "0  1.332086e-14 -1.111059e-14  7.105427e-15  0.000000  2.848359e-35   \n",
      "1  1.394313e-03  3.979120e-02 -6.179350e-04 -0.000305 -5.038878e-05   \n",
      "2  4.798411e-03  3.080263e-02 -9.149480e-04 -0.000359 -5.419149e-05   \n",
      "3  3.124971e-03  5.745299e-02  2.872896e-03 -0.000042  1.485895e-05   \n",
      "4  5.558033e-04  5.724530e-02 -1.848545e-02  0.000036  8.939434e-05   \n",
      "\n",
      "             5             6             7             8         9   \\\n",
      "0  2.768145e-18  1.332086e-14 -1.111059e-14  7.105427e-15  0.000000   \n",
      "1  3.284350e-05  1.394313e-03  3.979120e-02 -6.179350e-04 -0.000305   \n",
      "2  1.160633e-04  4.798411e-03  3.080263e-02 -9.149480e-04 -0.000359   \n",
      "3 -5.470219e-06  3.124971e-03  5.745299e-02  2.872896e-03 -0.000042   \n",
      "4 -1.247659e-04  5.558033e-04  5.724530e-02 -1.848545e-02  0.000036   \n",
      "\n",
      "             10            11  \n",
      "0  2.848359e-35  2.768145e-18  \n",
      "1 -5.038878e-05  3.284350e-05  \n",
      "2 -5.419149e-05  1.160633e-04  \n",
      "3  1.485895e-05 -5.470219e-06  \n",
      "4  8.939434e-05 -1.247659e-04  \n"
     ]
    }
   ],
   "source": [
    "derivate = plusDerivative(mocodf)\n",
    "print(derivate.head())"
   ]
  },
  {
   "cell_type": "markdown",
   "metadata": {},
   "source": [
    "## square"
   ]
  },
  {
   "cell_type": "code",
   "execution_count": null,
   "metadata": {
    "collapsed": true
   },
   "outputs": [],
   "source": [
    "mocodf[0]**2"
   ]
  },
  {
   "cell_type": "code",
   "execution_count": 6,
   "metadata": {
    "collapsed": false
   },
   "outputs": [],
   "source": [
    "def plusSquare(df):\n",
    "    lg = len(df.columns.values)\n",
    "    ds = df\n",
    "    for j in list(df.columns.values):\n",
    "        vs = df[j]**2\n",
    "        ds[lg+j]=vs\n",
    "    return ds    "
   ]
  },
  {
   "cell_type": "markdown",
   "metadata": {},
   "source": [
    "## 3 - get wm mask (normalised) and calculate signal mean"
   ]
  },
  {
   "cell_type": "code",
   "execution_count": 33,
   "metadata": {
    "collapsed": true
   },
   "outputs": [],
   "source": [
    "# input from segment + normalyse\n",
    "wmMask = '/homes_unix/hirsch/_pypipe/datadir/data_results/structural/norm_files/wc2t0009_t1_s03.nii'"
   ]
  },
  {
   "cell_type": "code",
   "execution_count": 34,
   "metadata": {
    "collapsed": true
   },
   "outputs": [],
   "source": [
    "from nipype.interfaces.fsl.maths import MathsCommand"
   ]
  },
  {
   "cell_type": "code",
   "execution_count": 35,
   "metadata": {
    "collapsed": true
   },
   "outputs": [],
   "source": [
    "import nipype.interfaces.io as nio           # Data i/o\n",
    "import nipype.interfaces.spm as spm          # spm\n",
    "import nipype.interfaces.matlab as mlab      # how to run matlab\n",
    "import nipype.interfaces.utility as util     # utility\n",
    "import nipype.pipeline.engine as pe          # pypeline engine"
   ]
  },
  {
   "cell_type": "markdown",
   "metadata": {},
   "source": [
    "# Start of the new subworkflow"
   ]
  },
  {
   "cell_type": "code",
   "execution_count": 43,
   "metadata": {
    "collapsed": true
   },
   "outputs": [],
   "source": [
    "# creation of a subworflow to calculate the bandpass parameters\n",
    "prebandpass = pe.Workflow(name='prebandpass')"
   ]
  },
  {
   "cell_type": "code",
   "execution_count": 44,
   "metadata": {
    "collapsed": false
   },
   "outputs": [
    {
     "data": {
      "text/plain": [
       "{'lcfMask': <undefined>, 'mergedFile': <undefined>, 'wmMask': <undefined>}"
      ]
     },
     "execution_count": 44,
     "metadata": {},
     "output_type": "execute_result"
    }
   ],
   "source": [
    "# input node get the good files first the tissues normalised files\n",
    "sourcedir = '/homes_unix/hirsch/_pypipe/datadir/data_results/structural/norm_files'\n",
    "# second the merged functionnal file\n",
    "sourcemergeddir = '/homes_unix/hirsch/_pypipe/datadir/data_results/functionnal'\n",
    "\n",
    "\n",
    "from nipype import SelectFiles, Node\n",
    "templates = dict(wmMask=sourcedir+ \"/\" + \"wc2*.nii\",\n",
    "                 lcfMask=sourcedir+ \"/\" + \"wc3*.nii\",\n",
    "                 mergedFile=sourcemergeddir+ \"/\" + \"*_merged.nii.gz\")\n",
    "\n",
    "filesource = Node(SelectFiles(templates), \"filesource\")\n",
    "filesource.inputs.subject_id = \"subj1\"\n",
    "filesource.outputs.get()"
   ]
  },
  {
   "cell_type": "code",
   "execution_count": 45,
   "metadata": {
    "collapsed": false
   },
   "outputs": [],
   "source": [
    "# calculate eroded binary mask for wm\n",
    "from nipype.interfaces.fsl.maths import MathsCommand\n",
    "\n",
    "erosion = pe.Node(interface=MathsCommand(), name='erosion')\n",
    "    \n",
    "erosion.inputs.args = '-thr 0 -uthr 111 -bin -ero  '     \n",
    "erosion.inputs.ignore_exception = False     \n",
    "erosion.inputs.output_type = 'NIFTI_GZ'     \n",
    "erosion.inputs.terminal_output = 'stream'     \n",
    "prebandpass.connect(filesource,\"wmMask\" , erosion, \"in_file\")"
   ]
  },
  {
   "cell_type": "code",
   "execution_count": 46,
   "metadata": {
    "collapsed": false
   },
   "outputs": [],
   "source": [
    "# calculate eroded binary mask for lcf\n",
    "\n",
    "erosionLcf = pe.Node(interface=MathsCommand(), name='erosionLcf')\n",
    "    \n",
    "erosionLcf.inputs.args = '-thr 0 -uthr 111 -bin -ero '     \n",
    "erosionLcf.inputs.ignore_exception = False     \n",
    "erosionLcf.inputs.output_type = 'NIFTI_GZ'     \n",
    "erosionLcf.inputs.terminal_output = 'stream'     \n",
    "prebandpass.connect(filesource,\"lcfMask\" , erosionLcf, \"in_file\")"
   ]
  },
  {
   "cell_type": "code",
   "execution_count": 47,
   "metadata": {
    "collapsed": false
   },
   "outputs": [],
   "source": [
    "# lets calculate the mean signal on these eroded masks first on wm\n",
    "from nipype.interfaces.fsl.utils import ImageMeants\n",
    "\n",
    "wmMeants = Node(ImageMeants(), name=\"wmMeants\")     \n",
    "wmMeants.inputs.ignore_exception = False     \n",
    "wmMeants.inputs.order = 1     \n",
    "wmMeants.inputs.output_type = 'NIFTI_GZ'     \n",
    "wmMeants.inputs.terminal_output = 'stream'     \n",
    "prebandpass.connect(filesource,\"mergedFile\" , wmMeants, \"in_file\")   \n",
    "prebandpass.connect(erosion, \"out_file\", wmMeants, \"mask\")\n"
   ]
  },
  {
   "cell_type": "code",
   "execution_count": 48,
   "metadata": {
    "collapsed": false
   },
   "outputs": [],
   "source": [
    "# lets calculate the mean signal on these eroded masks econd on lcf\n",
    "\n",
    "lcfMeants = Node(ImageMeants(), name=\"lcfMeants\")     \n",
    "lcfMeants.inputs.ignore_exception = False     \n",
    "lcfMeants.inputs.order = 1     \n",
    "lcfMeants.inputs.output_type = 'NIFTI_GZ'     \n",
    "wmMeants.inputs.terminal_output = 'stream'     \n",
    "prebandpass.connect(filesource,\"mergedFile\" , lcfMeants, \"in_file\")   \n",
    "prebandpass.connect(erosionLcf, \"out_file\", lcfMeants, \"mask\")\n"
   ]
  },
  {
   "cell_type": "code",
   "execution_count": 49,
   "metadata": {
    "collapsed": false
   },
   "outputs": [],
   "source": [
    "# data sink\n",
    "datasink = pe.Node(nio.DataSink(), name='datasink')\n",
    "datasink.inputs.base_directory = '/homes_unix/hirsch/_pypipe/datadir/data_results'\n",
    "\n",
    "# for segmented normalised eroded wm and lcf mask\n",
    "prebandpass.connect(erosion,  'out_file', datasink, 'bandpass')\n",
    "prebandpass.connect(erosionLcf,  'out_file', datasink, '@1bandpass')\n",
    "\n",
    "# for wm and lcf mean signal to text files in functionnal repository\n",
    "prebandpass.connect(wmMeants,  'out_file', datasink, '@5functionnal')\n",
    "prebandpass.connect(lcfMeants,  'out_file', datasink, '@6functionnal')"
   ]
  },
  {
   "cell_type": "code",
   "execution_count": 50,
   "metadata": {
    "collapsed": false
   },
   "outputs": [
    {
     "name": "stderr",
     "output_type": "stream",
     "text": [
      "INFO:workflow:['check', 'execution', 'logging']\n",
      "INFO:workflow:Running serially.\n",
      "INFO:workflow:Executing node filesource in dir: /tmp/tmpi4DxSi/prebandpass/filesource\n",
      "INFO:workflow:Runtime memory and threads stats unavailable\n",
      "INFO:workflow:Executing node erosion in dir: /tmp/tmpRYhaU8/prebandpass/erosion\n",
      "INFO:workflow:Running: fslmaths /homes_unix/hirsch/_pypipe/datadir/data_results/structural/norm_files/wc2t0009_t1_s03.nii -thr 0 -uthr 111 -bin -ero   /tmp/tmpRYhaU8/prebandpass/erosion/wc2t0009_t1_s03_maths.nii.gz\n",
      "INFO:workflow:Executing node erosionLcf in dir: /tmp/tmpvP_RBj/prebandpass/erosionLcf\n",
      "INFO:workflow:Running: fslmaths /homes_unix/hirsch/_pypipe/datadir/data_results/structural/norm_files/wc3t0009_t1_s03.nii -thr 0 -uthr 111 -bin -ero  /tmp/tmpvP_RBj/prebandpass/erosionLcf/wc3t0009_t1_s03_maths.nii.gz\n",
      "INFO:workflow:Executing node lcfMeants in dir: /tmp/tmpJkBdO6/prebandpass/lcfMeants\n",
      "INFO:workflow:Running: fslmeants -i /homes_unix/hirsch/_pypipe/datadir/data_results/functionnal/wcrat0009_epi_s04_d0001_merged.nii.gz -m /tmp/tmpvP_RBj/prebandpass/erosionLcf/wc3t0009_t1_s03_maths.nii.gz --order=1 -o /tmp/tmpJkBdO6/prebandpass/lcfMeants/wcrat0009_epi_s04_d0001_merged_ts.txt\n",
      "INFO:workflow:Executing node wmMeants in dir: /tmp/tmpoT1v9W/prebandpass/wmMeants\n",
      "INFO:workflow:Running: fslmeants -i /homes_unix/hirsch/_pypipe/datadir/data_results/functionnal/wcrat0009_epi_s04_d0001_merged.nii.gz -m /tmp/tmpRYhaU8/prebandpass/erosion/wc2t0009_t1_s03_maths.nii.gz --order=1 -o /tmp/tmpoT1v9W/prebandpass/wmMeants/wcrat0009_epi_s04_d0001_merged_ts.txt\n",
      "INFO:workflow:Executing node datasink in dir: /tmp/tmp7z_ZCd/prebandpass/datasink\n",
      "INFO:workflow:Runtime memory and threads stats unavailable\n"
     ]
    },
    {
     "data": {
      "text/plain": [
       "<networkx.classes.digraph.DiGraph at 0x7f189335e1d0>"
      ]
     },
     "execution_count": 50,
     "metadata": {},
     "output_type": "execute_result"
    }
   ],
   "source": [
    "# the run\n",
    "prebandpass.run()"
   ]
  },
  {
   "cell_type": "markdown",
   "metadata": {},
   "source": [
    "# End of precalculations dump in ortho.txt file"
   ]
  },
  {
   "cell_type": "code",
   "execution_count": null,
   "metadata": {
    "collapsed": true
   },
   "outputs": [],
   "source": []
  },
  {
   "cell_type": "code",
   "execution_count": 20,
   "metadata": {
    "collapsed": true
   },
   "outputs": [],
   "source": [
    "import os\n",
    "def mocoOrtho(f):\n",
    "    df = pd.read_csv(f, header=None, sep='  ',engine='python')\n",
    "    dfd = plusDerivative(df)\n",
    "    dfs = plusSquare(dfd)\n",
    "    g = dfs.to_csv('ortho.txt', sep=' ', index=False,header=False)\n",
    "    print g\n",
    "    h = os.getcwd() + '/' + 'ortho.txt'\n",
    "    return h"
   ]
  },
  {
   "cell_type": "code",
   "execution_count": 21,
   "metadata": {
    "collapsed": false
   },
   "outputs": [
    {
     "name": "stdout",
     "output_type": "stream",
     "text": [
      "None\n"
     ]
    },
    {
     "data": {
      "text/plain": [
       "'/homes_unix/hirsch/_pypipe/datadir/data_results/functionnal/ortho.txt'"
      ]
     },
     "execution_count": 21,
     "metadata": {},
     "output_type": "execute_result"
    }
   ],
   "source": [
    "mocoOrtho('/homes_unix/hirsch/_pypipe/datadir/data_results/functionnal/rp_at0009_epi_s04_d0001.txt')"
   ]
  },
  {
   "cell_type": "markdown",
   "metadata": {},
   "source": [
    "# Brouillons"
   ]
  },
  {
   "cell_type": "code",
   "execution_count": 27,
   "metadata": {
    "collapsed": false
   },
   "outputs": [
    {
     "name": "stdout",
     "output_type": "stream",
     "text": [
      "Wraps command **fslmeants**\n",
      "\n",
      "Use fslmeants for printing the average timeseries (intensities) to\n",
      "the screen (or saves to a file). The average is taken over all voxels in\n",
      "the mask (or all voxels in the image if no mask is specified)\n",
      "\n",
      "Inputs::\n",
      "\n",
      "\t[Mandatory]\n",
      "\tin_file: (an existing file name)\n",
      "\t\tinput file for computing the average timeseries\n",
      "\t\tflag: -i %s, position: 0\n",
      "\n",
      "\t[Optional]\n",
      "\targs: (a string)\n",
      "\t\tAdditional parameters to the command\n",
      "\t\tflag: %s\n",
      "\teig: (a boolean)\n",
      "\t\tcalculate Eigenvariate(s) instead of mean (output will have 0 mean)\n",
      "\t\tflag: --eig\n",
      "\tenviron: (a dictionary with keys which are a value of type 'str' and\n",
      "\t\t with values which are a value of type 'str', nipype default value:\n",
      "\t\t {})\n",
      "\t\tEnvironment variables\n",
      "\tignore_exception: (a boolean, nipype default value: False)\n",
      "\t\tPrint an error message instead of throwing an exception in case the\n",
      "\t\tinterface fails to run\n",
      "\tmask: (an existing file name)\n",
      "\t\tinput 3D mask\n",
      "\t\tflag: -m %s\n",
      "\tnobin: (a boolean)\n",
      "\t\tdo not binarise the mask for calculation of Eigenvariates\n",
      "\t\tflag: --no_bin\n",
      "\torder: (an integer (int or long), nipype default value: 1)\n",
      "\t\tselect number of Eigenvariates\n",
      "\t\tflag: --order=%d\n",
      "\tout_file: (a file name)\n",
      "\t\tname of output text matrix\n",
      "\t\tflag: -o %s\n",
      "\toutput_type: ('NIFTI_PAIR' or 'NIFTI_PAIR_GZ' or 'NIFTI_GZ' or\n",
      "\t\t 'NIFTI')\n",
      "\t\tFSL output type\n",
      "\tshow_all: (a boolean)\n",
      "\t\tshow all voxel time series (within mask) instead of averaging\n",
      "\t\tflag: --showall\n",
      "\tspatial_coord: (a list of items which are an integer (int or long))\n",
      "\t\t<x y z> requested spatial coordinate (instead of mask)\n",
      "\t\tflag: -c %s\n",
      "\tterminal_output: ('stream' or 'allatonce' or 'file' or 'none')\n",
      "\t\tControl terminal output: `stream` - displays to terminal immediately\n",
      "\t\t(default), `allatonce` - waits till command is finished to display\n",
      "\t\toutput, `file` - writes output to file, `none` - output is ignored\n",
      "\ttranspose: (a boolean)\n",
      "\t\toutput results in transpose format (one row per voxel/mean)\n",
      "\t\tflag: --transpose\n",
      "\tuse_mm: (a boolean)\n",
      "\t\tuse mm instead of voxel coordinates (for -c option)\n",
      "\t\tflag: --usemm\n",
      "\n",
      "Outputs::\n",
      "\n",
      "\tout_file: (an existing file name)\n",
      "\t\tpath/name of output text matrix\n",
      "\n"
     ]
    }
   ],
   "source": [
    "ImageMeants().help()"
   ]
  },
  {
   "cell_type": "code",
   "execution_count": null,
   "metadata": {
    "collapsed": true
   },
   "outputs": [],
   "source": [
    "# Node: fsconv.editWmMask     \n",
    "editWmMask = Node(MathsCommand(), name=\"editWmMask\")     \n",
    "editWmMask.inputs.args = '-thr 0 -uthr 111 -bin -ero -ero -ero '     \n",
    "editWmMask.inputs.ignore_exception = False     \n",
    "editWmMask.inputs.output_type = 'NIFTI_GZ'     \n",
    "editWmMask.inputs.terminal_output = 'stream'     \n",
    "fsconv.connect(fsWm2Nii, \"out_file\", editWmMask, \"in_file\")\n",
    "\n",
    "from web\n",
    "##############################################################################################\n",
    "##erode a mask or image by zeroing non-zero voxels when zero voxels found in kernel\n",
    "##############################################################################################\n",
    "fslmaths 'mask.nii.gz' -kernel box 5x5x5 -ero 'output_image.nii.gz'"
   ]
  },
  {
   "cell_type": "code",
   "execution_count": 14,
   "metadata": {
    "collapsed": false
   },
   "outputs": [
    {
     "name": "stdout",
     "output_type": "stream",
     "text": [
      "/homes_unix/hirsch/_pypipe/datadir/data_results/functionnal\n"
     ]
    },
    {
     "data": {
      "text/plain": [
       "u'/homes_unix/hirsch/_pypipe/datadir/data_results/functionnal'"
      ]
     },
     "execution_count": 14,
     "metadata": {},
     "output_type": "execute_result"
    }
   ],
   "source": [
    "%cd '/homes_unix/hirsch/_pypipe/datadir/data_results/functionnal'\n",
    "%pwd"
   ]
  },
  {
   "cell_type": "code",
   "execution_count": 15,
   "metadata": {
    "collapsed": false
   },
   "outputs": [
    {
     "name": "stdout",
     "output_type": "stream",
     "text": [
      "/homes_unix/hirsch/_pypipe/datadir/data_results/functionnal\n"
     ]
    }
   ],
   "source": [
    "cwd = os.getcwd()\n",
    "print cwd"
   ]
  },
  {
   "cell_type": "code",
   "execution_count": null,
   "metadata": {
    "collapsed": false
   },
   "outputs": [],
   "source": [
    "square = plusSquare(derivate)\n",
    "print(square.head())"
   ]
  },
  {
   "cell_type": "code",
   "execution_count": null,
   "metadata": {
    "collapsed": false,
    "scrolled": true
   },
   "outputs": [],
   "source": [
    "vectorSquare(mocodf[0])"
   ]
  },
  {
   "cell_type": "code",
   "execution_count": null,
   "metadata": {
    "collapsed": false
   },
   "outputs": [],
   "source": [
    "list(mocodf.columns.values)"
   ]
  },
  {
   "cell_type": "code",
   "execution_count": null,
   "metadata": {
    "collapsed": false,
    "scrolled": true
   },
   "outputs": [],
   "source": [
    "vectorderivative(mocodf[0])"
   ]
  },
  {
   "cell_type": "code",
   "execution_count": null,
   "metadata": {
    "collapsed": false,
    "scrolled": true
   },
   "outputs": [],
   "source": [
    "TR = 2000 \n",
    "acqNb = 240\n",
    "\n",
    "dx = {}\n",
    "for i in range(acqNb):\n",
    "    # print mocodf['x'][i]\n",
    "    if i== 0:\n",
    "        dx[i]= (mocodf['x'][i+1]-mocodf['x'][i]) / 2*TR\n",
    "    elif i== acqNb-1:\n",
    "        dx[i]= (mocodf['x'][i]-mocodf['x'][i-1]) / 2*TR \n",
    "    else:\n",
    "        dx[i]= (mocodf['x'][i+1]-mocodf['x'][i-1]) / 2*TR\n",
    "    print 'derivative' + str(i)\n",
    "    print  dx[i]\n"
   ]
  },
  {
   "cell_type": "code",
   "execution_count": null,
   "metadata": {
    "collapsed": true
   },
   "outputs": [],
   "source": [
    "sdx = pd.Series(dx)"
   ]
  },
  {
   "cell_type": "code",
   "execution_count": null,
   "metadata": {
    "collapsed": false
   },
   "outputs": [],
   "source": [
    "sdx"
   ]
  },
  {
   "cell_type": "code",
   "execution_count": null,
   "metadata": {
    "collapsed": true
   },
   "outputs": [],
   "source": []
  }
 ],
 "metadata": {
  "kernelspec": {
   "display_name": "Python 2",
   "language": "python",
   "name": "python2"
  },
  "language_info": {
   "codemirror_mode": {
    "name": "ipython",
    "version": 2
   },
   "file_extension": ".py",
   "mimetype": "text/x-python",
   "name": "python",
   "nbconvert_exporter": "python",
   "pygments_lexer": "ipython2",
   "version": "2.7.12"
  }
 },
 "nbformat": 4,
 "nbformat_minor": 0
}
