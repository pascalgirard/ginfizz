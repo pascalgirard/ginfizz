{
 "cells": [
  {
   "cell_type": "code",
   "execution_count": null,
   "metadata": {
    "collapsed": true
   },
   "outputs": [],
   "source": [
    "from v1 to v2 real function to implement in prepocess pipeline <br>\n",
    "from v2 to v3 solve the header pb n computeStructural Image <br>\n",
    "from v3 to v4 to find why the results are different <br>\n",
    "v6 prendre en compte slope et intercept <br>\n",
    "V7 passage en fslmaths pour voir <br>\n",
    "<br>\n",
    "array_header.get_slope_inter()"
   ]
  },
  {
   "cell_type": "code",
   "execution_count": 1,
   "metadata": {
    "collapsed": true
   },
   "outputs": [],
   "source": [
    "img1 = '/scratch/user/hirsch/goldstd/data_set/t0009/repos01/T1/c1t0009_t1_s03.nii'\n",
    "img2 = '/scratch/user/hirsch/goldstd/data_set/t0009/repos01/T1/c2t0009_t1_s03.nii'\n",
    "img3 = '/scratch/user/hirsch/goldstd/data_set/t0009/repos01/T1/mt0009_t1_s03.nii'\n"
   ]
  },
  {
   "cell_type": "code",
   "execution_count": 2,
   "metadata": {
    "collapsed": true
   },
   "outputs": [],
   "source": [
    "import nipype.interfaces.io as nio           # Data i/o\n",
    "import nipype.interfaces.spm as spm          # spm\n",
    "import nipype.interfaces.matlab as mlab      # how to run matlab\n",
    "import nipype.interfaces.utility as util     # utility\n",
    "import nipype.pipeline.engine as pe          # pypeline engine\n",
    "\n",
    "from nipype.interfaces.utility import Function, IdentityInterface\n",
    "\n",
    "from nipype.interfaces.fsl.maths import MathsCommand\n",
    "from nipype.interfaces.fsl.utils import PlotMotionParams   # to plot moco variable\n",
    "\n",
    "from nipype import Node"
   ]
  },
  {
   "cell_type": "code",
   "execution_count": 37,
   "metadata": {
    "collapsed": true
   },
   "outputs": [],
   "source": [
    "computeStruct = pe.Workflow(name='computeStruct')"
   ]
  },
  {
   "cell_type": "code",
   "execution_count": 38,
   "metadata": {
    "collapsed": false
   },
   "outputs": [],
   "source": [
    "inputNode = Node(IdentityInterface(fields=['gm_file', 'wm_file', 't1_file']), name=\"inputNode\")"
   ]
  },
  {
   "cell_type": "code",
   "execution_count": 39,
   "metadata": {
    "collapsed": true
   },
   "outputs": [],
   "source": [
    "# ii.inputs.a = 'foo'\n",
    "\n",
    "inputNode.inputs.gm_file = img1\n",
    "inputNode.inputs.wm_file = img2\n",
    "inputNode.inputs.t1_file = img3\n"
   ]
  },
  {
   "cell_type": "code",
   "execution_count": 40,
   "metadata": {
    "collapsed": false
   },
   "outputs": [],
   "source": [
    "from nipype.interfaces.fsl import MultiImageMaths\n",
    "\n",
    "addFiles = pe.Node(interface=MultiImageMaths(), name='addFiles')\n",
    "    \n",
    "addFiles.inputs.op_string = \"-add %s\"   \n",
    "addFiles.inputs.output_datatype = 'short'\n",
    "addFiles.inputs.ignore_exception = False     \n",
    "addFiles.inputs.output_type = 'NIFTI'     \n",
    "addFiles.inputs.terminal_output = 'stream'     \n",
    "\n",
    "computeStruct.connect(inputNode,\"gm_file\" , addFiles, \"in_file\")\n",
    "computeStruct.connect(inputNode,\"wm_file\" , addFiles, \"operand_files\")"
   ]
  },
  {
   "cell_type": "code",
   "execution_count": 41,
   "metadata": {
    "collapsed": false
   },
   "outputs": [],
   "source": [
    "from nipype.interfaces.fsl import Threshold\n",
    "\n",
    "thrFile = pe.Node(interface=Threshold(), name='thrFile')\n",
    "      \n",
    "thrFile.inputs.thresh = 0.2   \n",
    "thrFile.inputs.ignore_exception = False     \n",
    "thrFile.inputs.output_type = 'NIFTI'     \n",
    "thrFile.inputs.terminal_output = 'stream'     \n",
    "\n",
    "computeStruct.connect(addFiles,\"out_file\" , thrFile, \"in_file\")"
   ]
  },
  {
   "cell_type": "code",
   "execution_count": 42,
   "metadata": {
    "collapsed": false
   },
   "outputs": [],
   "source": [
    "from nipype.interfaces.fsl import ApplyMask\n",
    "\n",
    "maskFiles = pe.Node(interface=ApplyMask(), name='maskFiles')\n",
    "  \n",
    "maskFiles.inputs.ignore_exception = False     \n",
    "maskFiles.inputs.output_type = 'NIFTI'     \n",
    "maskFiles.inputs.terminal_output = 'stream' \n",
    "maskFiles.inputs.output_datatype ='short'\n",
    "\n",
    "computeStruct.connect(inputNode,\"t1_file\" , maskFiles, \"in_file\")\n",
    "computeStruct.connect(thrFile,\"out_file\" , maskFiles, \"mask_file\")\n"
   ]
  },
  {
   "cell_type": "code",
   "execution_count": 43,
   "metadata": {
    "collapsed": false
   },
   "outputs": [
    {
     "name": "stderr",
     "output_type": "stream",
     "text": [
      "INFO:workflow:['check', 'execution', 'logging']\n",
      "INFO:workflow:Running serially.\n",
      "INFO:workflow:Executing node addFiles in dir: /tmp/tmpdTIeDS/computeStruct/addFiles\n",
      "INFO:workflow:Running: fslmaths /scratch/user/hirsch/goldstd/data_set/t0009/repos01/T1/c1t0009_t1_s03.nii -add /scratch/user/hirsch/goldstd/data_set/t0009/repos01/T1/c2t0009_t1_s03.nii /tmp/tmpdTIeDS/computeStruct/addFiles/c1t0009_t1_s03_maths.nii -odt short\n",
      "INFO:workflow:Executing node thrFile in dir: /tmp/tmpkksV2g/computeStruct/thrFile\n",
      "INFO:workflow:Running: fslmaths /tmp/tmpdTIeDS/computeStruct/addFiles/c1t0009_t1_s03_maths.nii -thr 0.2000000000 /tmp/tmpkksV2g/computeStruct/thrFile/c1t0009_t1_s03_maths_thresh.nii\n",
      "INFO:workflow:Executing node maskFiles in dir: /tmp/tmpQ58Eyi/computeStruct/maskFiles\n",
      "INFO:workflow:Running: fslmaths /scratch/user/hirsch/goldstd/data_set/t0009/repos01/T1/mt0009_t1_s03.nii -mas /tmp/tmpkksV2g/computeStruct/thrFile/c1t0009_t1_s03_maths_thresh.nii /tmp/tmpQ58Eyi/computeStruct/maskFiles/mt0009_t1_s03_masked.nii -odt short\n"
     ]
    },
    {
     "data": {
      "text/plain": [
       "<networkx.classes.digraph.DiGraph at 0x7f9c58af0410>"
      ]
     },
     "execution_count": 43,
     "metadata": {},
     "output_type": "execute_result"
    }
   ],
   "source": [
    "outputNode = Node(IdentityInterface(fields=['struct_file']), name=\"outputNode\")\n",
    "\n",
    "computeStruct.connect(maskFiles,  'out_file', outputNode, 'struct_file')\n",
    "\n",
    "computeStruct.run()"
   ]
  },
  {
   "cell_type": "code",
   "execution_count": 26,
   "metadata": {
    "collapsed": false
   },
   "outputs": [
    {
     "name": "stdout",
     "output_type": "stream",
     "text": [
      "/tmp/tmpjcmbhy/computeStruct/maskFiles\n",
      "_0xbafef1332a4778b08f61381a56b35214.json  _inputs.pklz  result_maskFiles.pklz\r\n",
      "c1t0009_t1_s03_masked.nii                 _node.pklz\r\n",
      "command.txt                               \u001b[0m\u001b[01;34m_report\u001b[0m/\r\n"
     ]
    }
   ],
   "source": [
    "%cd /tmp/tmpjcmbhy/computeStruct/maskFiles\n",
    "%ls"
   ]
  },
  {
   "cell_type": "code",
   "execution_count": null,
   "metadata": {
    "collapsed": false
   },
   "outputs": [],
   "source": [
    "!fslmaths  /scratch/user/hirsch/goldstd/data_set/t0009/repos01/T1/c1t0009_t1_s03.nii -add /scratch/user/hirsch/goldstd/data_set/t0009/repos01/T1/c2t0009_t1_s03.nii add.nii  -odt short\n",
    "!fslmaths add.nii -thr 0.2 thr.nii\n",
    "!fslmaths   /scratch/user/hirsch/goldstd/data_set/t0009/repos01/T1/mt0009_t1_s03.nii -mas thr.nii  struct.nii -odt short"
   ]
  },
  {
   "cell_type": "markdown",
   "metadata": {},
   "source": [
    "img = nb.load(filename)\n",
    "data = img.get_data()\n",
    "if data.max() < 2**16 and data.min() >= 0:\n",
    "    nb.Nifti1Image(data.astype(np.int16), img.affine, img.header).to_filename(fileout)\n",
    "else:\n",
    "    raise ValueError('data range cannot be accommodated in 16-bit format')\n",
    "    \n",
    "np.asarray(a, dtype=np.float32)"
   ]
  },
  {
   "cell_type": "code",
   "execution_count": 29,
   "metadata": {
    "collapsed": false
   },
   "outputs": [
    {
     "name": "stdout",
     "output_type": "stream",
     "text": [
      "/homes_unix/hirsch/_goldstd/goldstarResults5\n"
     ]
    }
   ],
   "source": [
    "%cd /homes_unix/hirsch/_goldstd/goldstarResults5"
   ]
  },
  {
   "cell_type": "markdown",
   "metadata": {},
   "source": [
    ">>> from nipype.interfaces.fsl import MultiImageMaths\n",
    ">>> maths = MultiImageMaths()\n",
    ">>> maths.inputs.in_file = \"functional.nii\"\n",
    ">>> maths.inputs.op_string = \"-add %s -mul -1 -div %s\"\n",
    ">>> maths.inputs.operand_files = [\"functional2.nii\", \"functional3.nii\"]\n",
    ">>> maths.inputs.out_file = \"functional4.nii\"\n",
    ">>> maths.cmdline \n",
    "'fslmaths functional.nii -add functional2.nii -mul -1 -div functional3.nii functional4.nii'"
   ]
  },
  {
   "cell_type": "code",
   "execution_count": 44,
   "metadata": {
    "collapsed": false
   },
   "outputs": [
    {
     "name": "stdout",
     "output_type": "stream",
     "text": [
      "/homes_unix/hirsch/_goldstd/goldstarResults6\n",
      "1c1\n",
      "< filename       /scratch/user/hirsch/datadir3/data_set_batch5/t0009/repos01/T1/c1c2T1.nii\n",
      "---\n",
      "> filename       /tmp/tmpQ58Eyi/computeStruct/maskFiles/mt0009_t1_s03_masked.nii\n",
      "29c29\n",
      "< scl_slope      0.044728\n",
      "---\n",
      "> scl_slope      1.000000\n",
      "66c66\n",
      "< descrip        spm - algebra\n",
      "---\n",
      "> descrip        FSL5.0\n",
      "-0.287547 0.345815 \n"
     ]
    }
   ],
   "source": [
    "%cd /homes_unix/hirsch/_goldstd/goldstarResults6\n",
    "!fslhd /scratch/user/hirsch/datadir3/data_set_batch5/t0009/repos01/T1/c1c2T1.nii > /homes_unix/hirsch/_goldstd/goldstarResults6/imgca1.txt\n",
    "!fslhd /tmp/tmpQ58Eyi/computeStruct/maskFiles/mt0009_t1_s03_masked.nii >  /homes_unix/hirsch/_goldstd/goldstarResults6/imgca2.txt\n",
    "!diff imgca1.txt imgca2.txt\n",
    "!fslmaths /scratch/user/hirsch/datadir3/data_set_batch5/t0009/repos01/T1/c1c2T1.nii -sub /tmp/tmpQ58Eyi/computeStruct/maskFiles/mt0009_t1_s03_masked.nii diff_calc.nii\n",
    "!fslstats diff_calc.nii -r"
   ]
  },
  {
   "cell_type": "code",
   "execution_count": null,
   "metadata": {
    "collapsed": false
   },
   "outputs": [],
   "source": [
    "!fslhd /scratch/user/hirsch/datadir3/data_set_batch5/t0009/repos01/T1/c1c2T1.nii > /homes_unix/hirsch/_goldstd/goldstarResults5/imgca1.txt\n",
    "!fslhd struct.nii >  imgca2.txt\n",
    "!diff imgca1.txt imgca2.txt"
   ]
  },
  {
   "cell_type": "code",
   "execution_count": 30,
   "metadata": {
    "collapsed": false
   },
   "outputs": [
    {
     "name": "stdout",
     "output_type": "stream",
     "text": [
      "-0.287547 0.345815 \r\n"
     ]
    }
   ],
   "source": [
    "!fslmaths /scratch/user/hirsch/datadir3/data_set_batch5/t0009/repos01/T1/c1c2T1.nii -sub struct.nii diff_calc.nii\n",
    "!fslstats diff_calc.nii -r"
   ]
  },
  {
   "cell_type": "code",
   "execution_count": null,
   "metadata": {
    "collapsed": true
   },
   "outputs": [],
   "source": [
    "!fslview diff_calc"
   ]
  },
  {
   "cell_type": "code",
   "execution_count": null,
   "metadata": {
    "collapsed": false
   },
   "outputs": [],
   "source": [
    "!fslhd /scratch/user/hirsch/goldstd/data_set/t0009/repos01/T1/c1t0009_t1_s03.nii > /homes_unix/hirsch/_goldstd/goldstarResults4/img_gm1.txt"
   ]
  },
  {
   "cell_type": "markdown",
   "metadata": {},
   "source": [
    "## essai transposition pour avoir les voxels de gm et voir les différences dans les 2 calculs"
   ]
  },
  {
   "cell_type": "code",
   "execution_count": null,
   "metadata": {
    "collapsed": false
   },
   "outputs": [],
   "source": [
    "import numpy as np     \n",
    "import nibabel as nib     \n",
    "import os\n",
    "# on regarde le grey matter\n",
    "img1 = '/scratch/user/hirsch/goldstd/data_set/t0009/repos01/T1/c1t0009_t1_s03.nii'\n",
    "i1=nib.load(img1)         \n",
    "i1array=np.asarray(i1.dataobj).copy() \n",
    "i1array[(10 * i1array )< 2] = 0\n",
    "    # binary mask the resulting image\n",
    "i1array[i1array > 0] = 1\n",
    "    "
   ]
  },
  {
   "cell_type": "code",
   "execution_count": null,
   "metadata": {
    "collapsed": false
   },
   "outputs": [],
   "source": [
    "np.transpose(np.nonzero(i1array))"
   ]
  },
  {
   "cell_type": "code",
   "execution_count": null,
   "metadata": {
    "collapsed": false
   },
   "outputs": [],
   "source": [
    "print r1array[24,  98, 114]\n",
    "print r2array[24,  98, 114]"
   ]
  },
  {
   "cell_type": "code",
   "execution_count": null,
   "metadata": {
    "collapsed": false
   },
   "outputs": [],
   "source": [
    "print r1array[158, 111, 116]\n",
    "print r2array[158, 111, 116]"
   ]
  },
  {
   "cell_type": "code",
   "execution_count": null,
   "metadata": {
    "collapsed": false
   },
   "outputs": [],
   "source": [
    "# x[np.where( x > 3.0 )] \n",
    "diff_res=r2array[np.where(( r1array-r2array) > 1.03 )]\n",
    "print np.count_nonzero(diff_res)\n",
    "# pas bon"
   ]
  },
  {
   "cell_type": "code",
   "execution_count": null,
   "metadata": {
    "collapsed": false
   },
   "outputs": [],
   "source": [
    "diff_res = r1array - r2array\n",
    "print np.count_nonzero(diff_res)"
   ]
  },
  {
   "cell_type": "code",
   "execution_count": null,
   "metadata": {
    "collapsed": false
   },
   "outputs": [],
   "source": [
    "diff_res.shape"
   ]
  },
  {
   "cell_type": "code",
   "execution_count": null,
   "metadata": {
    "collapsed": false
   },
   "outputs": [],
   "source": [
    "180*256*256 - 1166481"
   ]
  },
  {
   "cell_type": "code",
   "execution_count": null,
   "metadata": {
    "collapsed": false
   },
   "outputs": [],
   "source": [
    "np.amax(diff_res) "
   ]
  },
  {
   "cell_type": "code",
   "execution_count": null,
   "metadata": {
    "collapsed": false
   },
   "outputs": [],
   "source": [
    "print np.amin(r1array) \n",
    "print np.amax(r1array) "
   ]
  },
  {
   "cell_type": "code",
   "execution_count": null,
   "metadata": {
    "collapsed": false
   },
   "outputs": [],
   "source": [
    "np.transpose(np.nonzero(diff_res))"
   ]
  },
  {
   "cell_type": "code",
   "execution_count": null,
   "metadata": {
    "collapsed": true
   },
   "outputs": [],
   "source": [
    "res1 ='/scratch/user/hirsch/goldstd/data_set/t0009/repos01/T1/dmt0009_t1_s02.nii'\n",
    "res2= 'struct_image.nii'"
   ]
  },
  {
   "cell_type": "code",
   "execution_count": null,
   "metadata": {
    "collapsed": false
   },
   "outputs": [],
   "source": [
    "import numpy as np     \n",
    "import nibabel as nib     \n",
    "import os \n",
    "r1=nib.load(res1)         \n",
    "r1array=np.asarray(r1.dataobj).copy() # Avoid caching the proxy image\n",
    "    \n",
    "r2=nib.load(res2)         \n",
    "r2array=np.asarray(r2.dataobj).copy()"
   ]
  },
  {
   "cell_type": "code",
   "execution_count": null,
   "metadata": {
    "collapsed": false
   },
   "outputs": [],
   "source": [
    "np.array_equal(i1array, i2array)"
   ]
  },
  {
   "cell_type": "code",
   "execution_count": null,
   "metadata": {
    "collapsed": false
   },
   "outputs": [],
   "source": [
    "#np.allclose(r1array, r2array, rtol=1e-01)\n",
    "np.allclose(r1array, r2array, rtol=1)"
   ]
  },
  {
   "cell_type": "code",
   "execution_count": null,
   "metadata": {
    "collapsed": false
   },
   "outputs": [],
   "source": [
    "%cd /homes_unix/hirsch/_pypipe/datadir/data_results/structural"
   ]
  },
  {
   "cell_type": "code",
   "execution_count": null,
   "metadata": {
    "collapsed": false
   },
   "outputs": [],
   "source": [
    "# test\n",
    "img1 = 'c1t0009_t1_s03.nii'\n",
    "img2 = 'c2t0009_t1_s03.nii'\n",
    "img3 = 'mt0009_t1_s03.nii'\n",
    "result = computeStructuralImage(img1,img2,img3)"
   ]
  },
  {
   "cell_type": "code",
   "execution_count": null,
   "metadata": {
    "collapsed": true
   },
   "outputs": [],
   "source": [
    "i1=nb.load('c1t0009_t1_s03.nii')         \n",
    "i1array=np.asarray(i1.dataobj).copy() # Avoid caching the proxy image, thanks G. V. !!"
   ]
  },
  {
   "cell_type": "code",
   "execution_count": null,
   "metadata": {
    "collapsed": true
   },
   "outputs": [],
   "source": [
    "i2=nb.load('c1t0009_t1_s03.nii')         \n",
    "i2array=np.asarray(i2.dataobj).copy() "
   ]
  },
  {
   "cell_type": "code",
   "execution_count": null,
   "metadata": {
    "collapsed": true
   },
   "outputs": [],
   "source": [
    "i3=nb.load('BiasField_t0009_t1_s03.nii')         \n",
    "i3array=np.asarray(i3.dataobj).copy() "
   ]
  },
  {
   "cell_type": "code",
   "execution_count": null,
   "metadata": {
    "collapsed": true
   },
   "outputs": [],
   "source": [
    "gi = i1array + i2array"
   ]
  },
  {
   "cell_type": "code",
   "execution_count": null,
   "metadata": {
    "collapsed": false,
    "scrolled": true
   },
   "outputs": [],
   "source": [
    "gi[90,:, 128]"
   ]
  },
  {
   "cell_type": "code",
   "execution_count": null,
   "metadata": {
    "collapsed": true
   },
   "outputs": [],
   "source": [
    "# threshold image wm + csf\n",
    "# a[a > 10] = 0\n",
    "gi[gi < 0.2] = 0"
   ]
  },
  {
   "cell_type": "code",
   "execution_count": null,
   "metadata": {
    "collapsed": true
   },
   "outputs": [],
   "source": [
    "# mask the resulting image\n",
    "gi[gi > 0.0] = 1"
   ]
  },
  {
   "cell_type": "code",
   "execution_count": null,
   "metadata": {
    "collapsed": false
   },
   "outputs": [],
   "source": [
    "gi[90,:, 128]"
   ]
  },
  {
   "cell_type": "code",
   "execution_count": null,
   "metadata": {
    "collapsed": false
   },
   "outputs": [],
   "source": [
    "# numpy.multiply(x1, x2[, out])\n",
    "struct_image_array = np.multiply(gi, i3array)"
   ]
  },
  {
   "cell_type": "code",
   "execution_count": null,
   "metadata": {
    "collapsed": true
   },
   "outputs": [],
   "source": [
    "wm_csf = gi[gi > 0.2]"
   ]
  },
  {
   "cell_type": "code",
   "execution_count": null,
   "metadata": {
    "collapsed": false
   },
   "outputs": [],
   "source": [
    "180*256*256"
   ]
  },
  {
   "cell_type": "code",
   "execution_count": null,
   "metadata": {
    "collapsed": false
   },
   "outputs": [],
   "source": [
    "gi[90,128, 128]"
   ]
  },
  {
   "cell_type": "code",
   "execution_count": null,
   "metadata": {
    "collapsed": false
   },
   "outputs": [],
   "source": [
    "i3array[90,128, 128]"
   ]
  },
  {
   "cell_type": "code",
   "execution_count": null,
   "metadata": {
    "collapsed": false
   },
   "outputs": [],
   "source": [
    "i3array[90,0, 128]"
   ]
  },
  {
   "cell_type": "code",
   "execution_count": null,
   "metadata": {
    "collapsed": false
   },
   "outputs": [],
   "source": [
    "struct_image_array[90,128, 128]"
   ]
  },
  {
   "cell_type": "code",
   "execution_count": null,
   "metadata": {
    "collapsed": false
   },
   "outputs": [],
   "source": [
    "struct_image_array[90,0, 128]"
   ]
  },
  {
   "cell_type": "code",
   "execution_count": null,
   "metadata": {
    "collapsed": false
   },
   "outputs": [],
   "source": [
    "dims= i1array.shape\n",
    "print dims"
   ]
  },
  {
   "cell_type": "code",
   "execution_count": null,
   "metadata": {
    "collapsed": false
   },
   "outputs": [],
   "source": [
    "i1.header.get_data_shape()"
   ]
  },
  {
   "cell_type": "code",
   "execution_count": null,
   "metadata": {
    "collapsed": true
   },
   "outputs": [],
   "source": [
    "i2=nib.load('c1t0009_t1_s03.nii')"
   ]
  },
  {
   "cell_type": "code",
   "execution_count": null,
   "metadata": {
    "collapsed": true
   },
   "outputs": [],
   "source": [
    "i3=nib.load('c2t0009_t1_s03.nii')"
   ]
  },
  {
   "cell_type": "code",
   "execution_count": null,
   "metadata": {
    "collapsed": false
   },
   "outputs": [],
   "source": [
    "data2 = i2.get_data()"
   ]
  },
  {
   "cell_type": "code",
   "execution_count": null,
   "metadata": {
    "collapsed": false
   },
   "outputs": [],
   "source": [
    "data2.__class__.__name__"
   ]
  },
  {
   "cell_type": "code",
   "execution_count": null,
   "metadata": {
    "collapsed": false
   },
   "outputs": [],
   "source": [
    "data3 = i3.get_data()"
   ]
  },
  {
   "cell_type": "code",
   "execution_count": null,
   "metadata": {
    "collapsed": false
   },
   "outputs": [],
   "source": [
    "data = data2 + data3"
   ]
  },
  {
   "cell_type": "code",
   "execution_count": null,
   "metadata": {
    "collapsed": false
   },
   "outputs": [],
   "source": [
    "data_threashold = data[data>0.2]"
   ]
  },
  {
   "cell_type": "code",
   "execution_count": null,
   "metadata": {
    "collapsed": false
   },
   "outputs": [],
   "source": [
    "data_threashold"
   ]
  },
  {
   "cell_type": "code",
   "execution_count": null,
   "metadata": {
    "collapsed": false
   },
   "outputs": [],
   "source": [
    "data_threashold[10]"
   ]
  },
  {
   "cell_type": "code",
   "execution_count": null,
   "metadata": {
    "collapsed": false
   },
   "outputs": [],
   "source": [
    "data_threashold.head()"
   ]
  },
  {
   "cell_type": "code",
   "execution_count": null,
   "metadata": {
    "collapsed": false
   },
   "outputs": [],
   "source": [
    "len(data_threashold)"
   ]
  },
  {
   "cell_type": "code",
   "execution_count": null,
   "metadata": {
    "collapsed": false
   },
   "outputs": [],
   "source": [
    "nib.load()?"
   ]
  },
  {
   "cell_type": "code",
   "execution_count": null,
   "metadata": {
    "collapsed": true
   },
   "outputs": [],
   "source": []
  }
 ],
 "metadata": {
  "kernelspec": {
   "display_name": "Python 2",
   "language": "python",
   "name": "python2"
  },
  "language_info": {
   "codemirror_mode": {
    "name": "ipython",
    "version": 2
   },
   "file_extension": ".py",
   "mimetype": "text/x-python",
   "name": "python",
   "nbconvert_exporter": "python",
   "pygments_lexer": "ipython2",
   "version": "2.7.12"
  }
 },
 "nbformat": 4,
 "nbformat_minor": 0
}
