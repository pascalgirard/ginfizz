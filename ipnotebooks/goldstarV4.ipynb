{
 "cells": [
  {
   "cell_type": "markdown",
   "metadata": {},
   "source": [
    "entre V1 et V2, on apronfondit les headers de image calculator de SPM et la fct nibabel, plus le type du bit map <br>\n",
    "entre V2 et V3, on montre que les images calculator sont presques égales  <br>\n",
    "entre V3 et v4 on prend l'hypothèse probable (à cause des time stamp du batch spm) que les images r sont les réalignées "
   ]
  },
  {
   "cell_type": "markdown",
   "metadata": {},
   "source": [
    "#  FLI-IAM    Comparaison entre gold star (pure batch SPM) et le presque même batch (en nipype)\n"
   ]
  },
  {
   "cell_type": "code",
   "execution_count": 1,
   "metadata": {
    "collapsed": true
   },
   "outputs": [],
   "source": [
    "import numpy as np     \n",
    "import nibabel as nib     \n",
    "import os "
   ]
  },
  {
   "cell_type": "markdown",
   "metadata": {},
   "source": [
    "## 1 - Segment"
   ]
  },
  {
   "cell_type": "code",
   "execution_count": 2,
   "metadata": {
    "collapsed": false
   },
   "outputs": [],
   "source": [
    "!diff  /scratch/user/hirsch/goldstd/data_set/t0009/repos01/T1/c1t0009_t1_s03.nii   /scratch/user/hirsch/datadir/data_results_py/structural/native_class/c1t0009_t1_s03.nii"
   ]
  },
  {
   "cell_type": "code",
   "execution_count": 3,
   "metadata": {
    "collapsed": true
   },
   "outputs": [],
   "source": [
    "!diff  /scratch/user/hirsch/goldstd/data_set/t0009/repos01/T1/c2t0009_t1_s03.nii   /scratch/user/hirsch/datadir/data_results_py/structural/native_class/c2t0009_t1_s03.nii"
   ]
  },
  {
   "cell_type": "markdown",
   "metadata": {},
   "source": [
    "La segmentation est la même au bit près"
   ]
  },
  {
   "cell_type": "markdown",
   "metadata": {},
   "source": [
    "## 2 -  Image calculator"
   ]
  },
  {
   "cell_type": "code",
   "execution_count": 4,
   "metadata": {
    "collapsed": false
   },
   "outputs": [
    {
     "name": "stdout",
     "output_type": "stream",
     "text": [
      "Les fichiers binaires /scratch/user/hirsch/goldstd/data_set/t0009/repos01/T1/dmt0009_t1_s02.nii et /scratch/user/hirsch/datadir/data_results_py/structural/t1_masked_files/struct_image.nii sont différents\r\n"
     ]
    }
   ],
   "source": [
    "!diff     /scratch/user/hirsch/goldstd/data_set/t0009/repos01/T1/dmt0009_t1_s02.nii  /scratch/user/hirsch/datadir/data_results_py/structural/t1_masked_files/struct_image.nii"
   ]
  },
  {
   "cell_type": "code",
   "execution_count": 5,
   "metadata": {
    "collapsed": false,
    "scrolled": true
   },
   "outputs": [
    {
     "name": "stdout",
     "output_type": "stream",
     "text": [
      "filename       /scratch/user/hirsch/goldstd/data_set/t0009/repos01/T1/dmt0009_t1_s02.nii\r\n",
      "\r\n",
      "sizeof_hdr     348\r\n",
      "data_type      INT16\r\n",
      "dim0           3\r\n",
      "dim1           180\r\n",
      "dim2           256\r\n",
      "dim3           256\r\n",
      "dim4           1\r\n",
      "dim5           1\r\n",
      "dim6           1\r\n",
      "dim7           1\r\n",
      "vox_units      mm\r\n",
      "time_units     s\r\n",
      "datatype       4\r\n",
      "nbyper         2\r\n",
      "bitpix         16\r\n",
      "pixdim0        0.000000\r\n",
      "pixdim1        1.000000\r\n",
      "pixdim2        1.000000\r\n",
      "pixdim3        1.000000\r\n",
      "pixdim4        0.000000\r\n",
      "pixdim5        0.000000\r\n",
      "pixdim6        0.000000\r\n",
      "pixdim7        0.000000\r\n",
      "vox_offset     352\r\n",
      "cal_max        0.0000\r\n",
      "cal_min        0.0000\r\n",
      "scl_slope      0.044728\r\n",
      "scl_inter      0.000000\r\n",
      "phase_dim      0\r\n",
      "freq_dim       0\r\n",
      "slice_dim      0\r\n",
      "slice_name     Unknown\r\n",
      "slice_code     0\r\n",
      "slice_start    0\r\n",
      "slice_end      0\r\n",
      "slice_duration 0.000000\r\n",
      "time_offset    0.000000\r\n",
      "intent         Unknown\r\n",
      "intent_code    0\r\n",
      "intent_name    \r\n",
      "intent_p1      0.000000\r\n",
      "intent_p2      0.000000\r\n",
      "intent_p3      0.000000\r\n",
      "qform_name     Aligned Anat\r\n",
      "qform_code     2\r\n",
      "qto_xyz:1      -0.998783  -0.041415  -0.026774  94.499512\r\n",
      "qto_xyz:2      -0.044491  0.990912  0.126939  -140.645218\r\n",
      "qto_xyz:3      -0.021273  -0.127975  0.991549  -101.764404\r\n",
      "qto_xyz:4      0.000000  0.000000  0.000000  1.000000\r\n",
      "qform_xorient  Right-to-Left\r\n",
      "qform_yorient  Posterior-to-Anterior\r\n",
      "qform_zorient  Inferior-to-Superior\r\n",
      "sform_name     Aligned Anat\r\n",
      "sform_code     2\r\n",
      "sto_xyz:1      -0.998783  -0.041415  -0.026771  94.499512\r\n",
      "sto_xyz:2      -0.044491  0.990912  0.126939  -140.645218\r\n",
      "sto_xyz:3      -0.021270  -0.127975  0.991549  -101.764404\r\n",
      "sto_xyz:4      0.000000  0.000000  0.000000  1.000000\r\n",
      "sform_xorient  Right-to-Left\r\n",
      "sform_yorient  Posterior-to-Anterior\r\n",
      "sform_zorient  Inferior-to-Superior\r\n",
      "file_type      NIFTI-1+\r\n",
      "file_code      1\r\n",
      "descrip        spm - algebra\r\n",
      "aux_file       \r\n"
     ]
    }
   ],
   "source": [
    "# le header de la sortie de image calculator\n",
    "!fslhd /scratch/user/hirsch/goldstd/data_set/t0009/repos01/T1/dmt0009_t1_s02.nii"
   ]
  },
  {
   "cell_type": "markdown",
   "metadata": {},
   "source": [
    "comparaison des headers"
   ]
  },
  {
   "cell_type": "code",
   "execution_count": 6,
   "metadata": {
    "collapsed": false
   },
   "outputs": [
    {
     "name": "stdout",
     "output_type": "stream",
     "text": [
      "/homes_unix/hirsch/_goldstd/goldstarResults\n"
     ]
    }
   ],
   "source": [
    "%cd /homes_unix/hirsch/_goldstd/goldstarResults"
   ]
  },
  {
   "cell_type": "code",
   "execution_count": 7,
   "metadata": {
    "collapsed": false
   },
   "outputs": [],
   "source": [
    "!fslhd /scratch/user/hirsch/goldstd/data_set/t0009/repos01/T1/dmt0009_t1_s02.nii > /homes_unix/hirsch/_goldstd/goldstarResults/imgcalc1.txt\n",
    "!fslhd /scratch/user/hirsch/datadir/data_results_py/structural/t1_masked_files/struct_image.nii > /homes_unix/hirsch/_goldstd/goldstarResults/imgcalc2.txt"
   ]
  },
  {
   "cell_type": "code",
   "execution_count": 8,
   "metadata": {
    "collapsed": false,
    "scrolled": true
   },
   "outputs": [
    {
     "name": "stdout",
     "output_type": "stream",
     "text": [
      "1c1,2\r\n",
      "< filename       /scratch/user/hirsch/goldstd/data_set/t0009/repos01/T1/dmt0009_t1_s02.nii\r\n",
      "---\r\n",
      "> Byte swapping\r\n",
      "> filename       /scratch/user/hirsch/datadir/data_results_py/structural/t1_masked_files/struct_image.nii\r\n",
      "29c30\r\n",
      "< scl_slope      0.044728\r\n",
      "---\r\n",
      "> scl_slope      1.000000\r\n",
      "66c67\r\n",
      "< descrip        spm - algebra\r\n",
      "---\r\n",
      "> descrip        FSL3.3\r\n"
     ]
    }
   ],
   "source": [
    "!diff imgcalc1.txt imgcalc2.txt"
   ]
  },
  {
   "cell_type": "markdown",
   "metadata": {},
   "source": [
    "## nouveauté V3 après correction de computeStructuralImage"
   ]
  },
  {
   "cell_type": "code",
   "execution_count": 9,
   "metadata": {
    "collapsed": false
   },
   "outputs": [
    {
     "name": "stdout",
     "output_type": "stream",
     "text": [
      "/homes_unix/hirsch/_goldstd/goldstarResults\n"
     ]
    }
   ],
   "source": [
    "%cd /homes_unix/hirsch/_goldstd/goldstarResults"
   ]
  },
  {
   "cell_type": "code",
   "execution_count": 10,
   "metadata": {
    "collapsed": true
   },
   "outputs": [],
   "source": [
    "res1 ='/scratch/user/hirsch/goldstd/data_set/t0009/repos01/T1/dmt0009_t1_s02.nii'\n",
    "res2= 'struct_image.nii'"
   ]
  },
  {
   "cell_type": "code",
   "execution_count": 11,
   "metadata": {
    "collapsed": true
   },
   "outputs": [],
   "source": [
    "import numpy as np     \n",
    "import nibabel as nib     \n",
    "import os \n",
    "r1=nib.load(res1)         \n",
    "r1array=np.asarray(r1.dataobj).copy() # Avoid caching the proxy image\n",
    "    \n",
    "r2=nib.load(res2)         \n",
    "r2array=np.asarray(r2.dataobj).copy()"
   ]
  },
  {
   "cell_type": "code",
   "execution_count": 12,
   "metadata": {
    "collapsed": false
   },
   "outputs": [
    {
     "data": {
      "text/plain": [
       "False"
      ]
     },
     "execution_count": 12,
     "metadata": {},
     "output_type": "execute_result"
    }
   ],
   "source": [
    "np.array_equal(r1array, r2array)"
   ]
  },
  {
   "cell_type": "code",
   "execution_count": 13,
   "metadata": {
    "collapsed": false
   },
   "outputs": [
    {
     "name": "stdout",
     "output_type": "stream",
     "text": [
      "1166481\n"
     ]
    }
   ],
   "source": [
    "diff_res = r1array - r2array\n",
    "print np.count_nonzero(diff_res)"
   ]
  },
  {
   "cell_type": "code",
   "execution_count": 14,
   "metadata": {
    "collapsed": false
   },
   "outputs": [
    {
     "data": {
      "text/plain": [
       "1.0222499743103981"
      ]
     },
     "execution_count": 14,
     "metadata": {},
     "output_type": "execute_result"
    }
   ],
   "source": [
    "np.amax(diff_res) "
   ]
  },
  {
   "cell_type": "code",
   "execution_count": 17,
   "metadata": {
    "collapsed": false
   },
   "outputs": [
    {
     "name": "stdout",
     "output_type": "stream",
     "text": [
      "0\n"
     ]
    }
   ],
   "source": [
    "diff_res_bis=r2array[np.where(( r1array-r2array) > 1.03 )]\n",
    "print np.count_nonzero(diff_res_bis)"
   ]
  },
  {
   "cell_type": "markdown",
   "metadata": {},
   "source": [
    "fin nouveauté"
   ]
  },
  {
   "cell_type": "code",
   "execution_count": null,
   "metadata": {
    "collapsed": false,
    "scrolled": true
   },
   "outputs": [],
   "source": [
    "# le header de T1 pour en avoir le coeur net\n",
    "!fslhd /scratch/user/hirsch/datadir/data_set/t0009/repos01/T1/t0009_t1_s03.nii"
   ]
  },
  {
   "cell_type": "code",
   "execution_count": null,
   "metadata": {
    "collapsed": false,
    "scrolled": true
   },
   "outputs": [],
   "source": [
    "# le header de l'image calculee pour en avoir le coeur net\n",
    "!fslhd /scratch/user/hirsch/goldstd/data_set/t0009/repos01/T1/dmt0009_t1_s02.nii"
   ]
  },
  {
   "cell_type": "code",
   "execution_count": null,
   "metadata": {
    "collapsed": false
   },
   "outputs": [],
   "source": [
    "# from SPM we will call image spm_img1\n",
    "spm_img1_ni = '/scratch/user/hirsch/goldstd/data_set/t0009/repos01/T1/dmt0009_t1_s02.nii'\n",
    "#print(n1_header['sform_code'])\n",
    "spm_img1 = nib.load(spm_img1_ni)\n",
    "spm_img1_header = spm_img1.header\n",
    "print(spm_img1_header['sform_code'])"
   ]
  },
  {
   "cell_type": "code",
   "execution_count": null,
   "metadata": {
    "collapsed": false
   },
   "outputs": [],
   "source": [
    "print(spm_img1_header.get_data_dtype())"
   ]
  },
  {
   "cell_type": "code",
   "execution_count": null,
   "metadata": {
    "collapsed": false
   },
   "outputs": [],
   "source": [
    "spm_img1.affine"
   ]
  },
  {
   "cell_type": "code",
   "execution_count": null,
   "metadata": {
    "collapsed": false
   },
   "outputs": [],
   "source": [
    "spm_img1.affine.shape"
   ]
  },
  {
   "cell_type": "code",
   "execution_count": null,
   "metadata": {
    "collapsed": false
   },
   "outputs": [],
   "source": [
    "# from SPM we will call image bias removed T1 image\n",
    "spm_img0_ni = '/scratch/user/hirsch/goldstd/data_set/t0009/repos01/T1/mt0009_t1_s03.nii'\n",
    "#print(n1_header['sform_code'])\n",
    "spm_img0 = nib.load(spm_img0_ni)\n",
    "spm_img0_header = spm_img0.header\n",
    "print(spm_img0_header['sform_code'])\n",
    "print spm_img0.affine\n",
    "print spm_img0.affine.shape"
   ]
  },
  {
   "cell_type": "code",
   "execution_count": null,
   "metadata": {
    "collapsed": false
   },
   "outputs": [],
   "source": [
    "# from SPM we will call image spm_img1\n",
    "spm_img2_ni = '/scratch/user/hirsch/datadir/data_results_py/structural/t1_masked_files/struct_image.nii'\n",
    "#print(n1_header['sform_code'])\n",
    "spm_img2 = nib.load(spm_img2_ni)\n",
    "spm_img2_header = spm_img2.header\n",
    "print(spm_img2_header['sform_code'])\n",
    "print spm_img2.affine\n",
    "print spm_img2.affine.shape\n"
   ]
  },
  {
   "cell_type": "code",
   "execution_count": null,
   "metadata": {
    "collapsed": false,
    "scrolled": true
   },
   "outputs": [],
   "source": [
    "# le header de l'image calculee pour en avoir le coeur net\n",
    "!fslhd /scratch/user/hirsch/datadir/data_results_py/structural/t1_masked_files/struct_image.nii"
   ]
  },
  {
   "cell_type": "code",
   "execution_count": null,
   "metadata": {
    "collapsed": false,
    "scrolled": true
   },
   "outputs": [],
   "source": [
    "!fslhd  /homes_unix/hirsch/_goldstd/goldstarResults/struct_image.nii"
   ]
  },
  {
   "cell_type": "markdown",
   "metadata": {},
   "source": [
    "todo etudier la différence entre les 2 images -> aller du coté des headers"
   ]
  },
  {
   "cell_type": "markdown",
   "metadata": {},
   "source": [
    "## 3 -  Slice timing"
   ]
  },
  {
   "cell_type": "code",
   "execution_count": 29,
   "metadata": {
    "collapsed": false
   },
   "outputs": [
    {
     "name": "stdout",
     "output_type": "stream",
     "text": [
      "Les fichiers binaires /scratch/user/hirsch/goldstd/data_set/t0009/repos01/EPIBOLD/at0009_epi_s04_d0001.nii et /scratch/user/hirsch/datadir/data_results_py/functionnal/at0009_epi_s04_d0001.nii sont différents\r\n"
     ]
    }
   ],
   "source": [
    "!diff   /scratch/user/hirsch/goldstd/data_set/t0009/repos01/EPIBOLD/at0009_epi_s04_d0001.nii   /scratch/user/hirsch/datadir/data_results_py/functionnal/at0009_epi_s04_d0001.nii "
   ]
  },
  {
   "cell_type": "code",
   "execution_count": 30,
   "metadata": {
    "collapsed": false
   },
   "outputs": [
    {
     "name": "stdout",
     "output_type": "stream",
     "text": [
      "/scratch/user/hirsch/goldstd/data_set/t0009/repos01/EPIBOLD/at0009_epi_s04_d0001.nii /scratch/user/hirsch/datadir/data_results_py/functionnal/at0009_epi_s04_d0001.nii sont différents: octet 84, ligne 1\r\n"
     ]
    }
   ],
   "source": [
    "!cmp /scratch/user/hirsch/goldstd/data_set/t0009/repos01/EPIBOLD/at0009_epi_s04_d0001.nii   /scratch/user/hirsch/datadir/data_results_py/functionnal/at0009_epi_s04_d0001.nii "
   ]
  },
  {
   "cell_type": "markdown",
   "metadata": {},
   "source": [
    "Tout d'abord, comparons les headers"
   ]
  },
  {
   "cell_type": "code",
   "execution_count": 31,
   "metadata": {
    "collapsed": true
   },
   "outputs": [],
   "source": [
    "!fslhd /scratch/user/hirsch/goldstd/data_set/t0009/repos01/EPIBOLD/at0009_epi_s04_d0001.nii > /homes_unix/hirsch/_goldstd/goldstarResults/h1"
   ]
  },
  {
   "cell_type": "code",
   "execution_count": 32,
   "metadata": {
    "collapsed": false
   },
   "outputs": [],
   "source": [
    "!fslhd /scratch/user/hirsch/datadir/data_results_py/functionnal/at0009_epi_s04_d0001.nii > /homes_unix/hirsch/_goldstd/goldstarResults/h2"
   ]
  },
  {
   "cell_type": "code",
   "execution_count": 33,
   "metadata": {
    "collapsed": false
   },
   "outputs": [
    {
     "name": "stdout",
     "output_type": "stream",
     "text": [
      "/homes_unix/hirsch/_goldstd/goldstarResults\n"
     ]
    }
   ],
   "source": [
    "%cd /homes_unix/hirsch/_goldstd/goldstarResults"
   ]
  },
  {
   "cell_type": "code",
   "execution_count": 34,
   "metadata": {
    "collapsed": false
   },
   "outputs": [
    {
     "name": "stdout",
     "output_type": "stream",
     "text": [
      "coreg1.txt          h1              imgcalc2.txt  realign2.txt\r\n",
      "coreg2.txt          h2              norm1.txt     realignh1.txt\r\n",
      "dmt0009_t1_s02.nii  headerduT1.txt  norm2.txt     realignh2.txt\r\n",
      "goldstarV1.py       imgcalc1.txt    realign1.txt  struct_image.nii\r\n"
     ]
    }
   ],
   "source": [
    "%ls"
   ]
  },
  {
   "cell_type": "code",
   "execution_count": 35,
   "metadata": {
    "collapsed": false
   },
   "outputs": [
    {
     "name": "stdout",
     "output_type": "stream",
     "text": [
      "2c2\r\n",
      "< filename       /scratch/user/hirsch/goldstd/data_set/t0009/repos01/EPIBOLD/at0009_epi_s04_d0001.nii\r\n",
      "---\r\n",
      "> filename       /scratch/user/hirsch/datadir/data_results_py/functionnal/at0009_epi_s04_d0001.nii\r\n",
      "20c20\r\n",
      "< pixdim1        3.750000\r\n",
      "---\r\n",
      "> pixdim1        3.749999\r\n",
      "49,51c49,51\r\n",
      "< qto_xyz:1      -3.742074  -0.174496  -0.170092  123.189674\r\n",
      "< qto_xyz:2      -0.181441  3.742512  0.152344  -98.689156\r\n",
      "< qto_xyz:3      -0.162663  -0.160252  3.743044  -30.354097\r\n",
      "---\r\n",
      "> qto_xyz:1      -3.745490  0.078319  -0.166323  116.044998\r\n",
      "> qto_xyz:2      0.093387  3.732910  -0.345240  -95.395798\r\n",
      "> qto_xyz:3      -0.158354  0.348967  3.730370  -45.065498\r\n",
      "58,60c58,60\r\n",
      "< sto_xyz:1      -3.742074  -0.174496  -0.170086  123.189674\r\n",
      "< sto_xyz:2      -0.181440  3.742512  0.152344  -98.689156\r\n",
      "< sto_xyz:3      -0.162658  -0.160252  3.743044  -30.354097\r\n",
      "---\r\n",
      "> sto_xyz:1      -3.745490  0.078319  -0.166326  116.044998\r\n",
      "> sto_xyz:2      0.093387  3.732910  -0.345240  -95.395798\r\n",
      "> sto_xyz:3      -0.158358  0.348967  3.730370  -45.065498\r\n"
     ]
    }
   ],
   "source": [
    "!diff h1 h2"
   ]
  },
  {
   "cell_type": "code",
   "execution_count": 36,
   "metadata": {
    "collapsed": false,
    "scrolled": true
   },
   "outputs": [
    {
     "name": "stdout",
     "output_type": "stream",
     "text": [
      "Byte swapping\r\n",
      "filename       /scratch/user/hirsch/goldstd/data_set/t0009/repos01/EPIBOLD/at0009_epi_s04_d0001.nii\r\n",
      "\r\n",
      "sizeof_hdr     348\r\n",
      "data_type      INT16\r\n",
      "dim0           3\r\n",
      "dim1           64\r\n",
      "dim2           64\r\n",
      "dim3           31\r\n",
      "dim4           1\r\n",
      "dim5           1\r\n",
      "dim6           1\r\n",
      "dim7           1\r\n",
      "vox_units      mm\r\n",
      "time_units     s\r\n",
      "datatype       4\r\n",
      "nbyper         2\r\n",
      "bitpix         16\r\n",
      "pixdim0        0.000000\r\n",
      "pixdim1        3.750000\r\n",
      "pixdim2        3.750004\r\n",
      "pixdim3        3.750002\r\n",
      "pixdim4        0.000000\r\n",
      "pixdim5        0.000000\r\n",
      "pixdim6        0.000000\r\n",
      "pixdim7        0.000000\r\n",
      "vox_offset     352\r\n",
      "cal_max        0.0000\r\n",
      "cal_min        0.0000\r\n",
      "scl_slope      1.809520\r\n",
      "scl_inter      0.000000\r\n",
      "phase_dim      0\r\n",
      "freq_dim       0\r\n",
      "slice_dim      0\r\n",
      "slice_name     Unknown\r\n",
      "slice_code     0\r\n",
      "slice_start    0\r\n",
      "slice_end      0\r\n",
      "slice_duration 0.000000\r\n",
      "time_offset    0.000000\r\n",
      "intent         Unknown\r\n",
      "intent_code    0\r\n",
      "intent_name    \r\n",
      "intent_p1      0.000000\r\n",
      "intent_p2      0.000000\r\n",
      "intent_p3      0.000000\r\n",
      "qform_name     Aligned Anat\r\n",
      "qform_code     2\r\n",
      "qto_xyz:1      -3.742074  -0.174496  -0.170092  123.189674\r\n",
      "qto_xyz:2      -0.181441  3.742512  0.152344  -98.689156\r\n",
      "qto_xyz:3      -0.162663  -0.160252  3.743044  -30.354097\r\n",
      "qto_xyz:4      0.000000  0.000000  0.000000  1.000000\r\n",
      "qform_xorient  Right-to-Left\r\n",
      "qform_yorient  Posterior-to-Anterior\r\n",
      "qform_zorient  Inferior-to-Superior\r\n",
      "sform_name     Aligned Anat\r\n",
      "sform_code     2\r\n",
      "sto_xyz:1      -3.742074  -0.174496  -0.170086  123.189674\r\n",
      "sto_xyz:2      -0.181440  3.742512  0.152344  -98.689156\r\n",
      "sto_xyz:3      -0.162658  -0.160252  3.743044  -30.354097\r\n",
      "sto_xyz:4      0.000000  0.000000  0.000000  1.000000\r\n",
      "sform_xorient  Right-to-Left\r\n",
      "sform_yorient  Posterior-to-Anterior\r\n",
      "sform_zorient  Inferior-to-Superior\r\n",
      "file_type      NIFTI-1+\r\n",
      "file_code      1\r\n",
      "descrip        FSL3.3 acq-fix ref-slice 31\r\n",
      "aux_file       \r\n"
     ]
    }
   ],
   "source": [
    "!cat h1"
   ]
  },
  {
   "cell_type": "code",
   "execution_count": 37,
   "metadata": {
    "collapsed": false
   },
   "outputs": [
    {
     "name": "stdout",
     "output_type": "stream",
     "text": [
      "Byte swapping\r\n",
      "filename       /scratch/user/hirsch/datadir/data_results_py/functionnal/at0009_epi_s04_d0001.nii\r\n",
      "\r\n",
      "sizeof_hdr     348\r\n",
      "data_type      INT16\r\n",
      "dim0           3\r\n",
      "dim1           64\r\n",
      "dim2           64\r\n",
      "dim3           31\r\n",
      "dim4           1\r\n",
      "dim5           1\r\n",
      "dim6           1\r\n",
      "dim7           1\r\n",
      "vox_units      mm\r\n",
      "time_units     s\r\n",
      "datatype       4\r\n",
      "nbyper         2\r\n",
      "bitpix         16\r\n",
      "pixdim0        0.000000\r\n",
      "pixdim1        3.749999\r\n",
      "pixdim2        3.750004\r\n",
      "pixdim3        3.750002\r\n",
      "pixdim4        0.000000\r\n",
      "pixdim5        0.000000\r\n",
      "pixdim6        0.000000\r\n",
      "pixdim7        0.000000\r\n",
      "vox_offset     352\r\n",
      "cal_max        0.0000\r\n",
      "cal_min        0.0000\r\n",
      "scl_slope      1.809520\r\n",
      "scl_inter      0.000000\r\n",
      "phase_dim      0\r\n",
      "freq_dim       0\r\n",
      "slice_dim      0\r\n",
      "slice_name     Unknown\r\n",
      "slice_code     0\r\n",
      "slice_start    0\r\n",
      "slice_end      0\r\n",
      "slice_duration 0.000000\r\n",
      "time_offset    0.000000\r\n",
      "intent         Unknown\r\n",
      "intent_code    0\r\n",
      "intent_name    \r\n",
      "intent_p1      0.000000\r\n",
      "intent_p2      0.000000\r\n",
      "intent_p3      0.000000\r\n",
      "qform_name     Aligned Anat\r\n",
      "qform_code     2\r\n",
      "qto_xyz:1      -3.745490  0.078319  -0.166323  116.044998\r\n",
      "qto_xyz:2      0.093387  3.732910  -0.345240  -95.395798\r\n",
      "qto_xyz:3      -0.158354  0.348967  3.730370  -45.065498\r\n",
      "qto_xyz:4      0.000000  0.000000  0.000000  1.000000\r\n",
      "qform_xorient  Right-to-Left\r\n",
      "qform_yorient  Posterior-to-Anterior\r\n",
      "qform_zorient  Inferior-to-Superior\r\n",
      "sform_name     Aligned Anat\r\n",
      "sform_code     2\r\n",
      "sto_xyz:1      -3.745490  0.078319  -0.166326  116.044998\r\n",
      "sto_xyz:2      0.093387  3.732910  -0.345240  -95.395798\r\n",
      "sto_xyz:3      -0.158358  0.348967  3.730370  -45.065498\r\n",
      "sto_xyz:4      0.000000  0.000000  0.000000  1.000000\r\n",
      "sform_xorient  Right-to-Left\r\n",
      "sform_yorient  Posterior-to-Anterior\r\n",
      "sform_zorient  Inferior-to-Superior\r\n",
      "file_type      NIFTI-1+\r\n",
      "file_code      1\r\n",
      "descrip        FSL3.3 acq-fix ref-slice 31\r\n",
      "aux_file       \r\n"
     ]
    }
   ],
   "source": [
    "!cat h2"
   ]
  },
  {
   "cell_type": "markdown",
   "metadata": {},
   "source": [
    "Maintenant comparons les bitmaps"
   ]
  },
  {
   "cell_type": "code",
   "execution_count": 38,
   "metadata": {
    "collapsed": true
   },
   "outputs": [],
   "source": [
    "img1 = '/scratch/user/hirsch/goldstd/data_set/t0009/repos01/EPIBOLD/at0009_epi_s04_d0001.nii'\n",
    "img2 = '/scratch/user/hirsch/datadir/data_results_py/functionnal/at0009_epi_s04_d0001.nii'"
   ]
  },
  {
   "cell_type": "code",
   "execution_count": 39,
   "metadata": {
    "collapsed": true
   },
   "outputs": [],
   "source": [
    "import numpy as np     \n",
    "import nibabel as nib     \n",
    "import os \n",
    "    \n",
    "i1=nib.load(img1)         \n",
    "i1array=np.asarray(i1.dataobj).copy() # Avoid caching the proxy image\n",
    "    \n",
    "i2=nib.load(img2)         \n",
    "i2array=np.asarray(i2.dataobj).copy()"
   ]
  },
  {
   "cell_type": "code",
   "execution_count": 40,
   "metadata": {
    "collapsed": false
   },
   "outputs": [
    {
     "data": {
      "text/plain": [
       "True"
      ]
     },
     "execution_count": 40,
     "metadata": {},
     "output_type": "execute_result"
    }
   ],
   "source": [
    "np.array_equal(i1array, i2array)"
   ]
  },
  {
   "cell_type": "markdown",
   "metadata": {},
   "source": [
    "Slice timing Conclusion: the bitmaps are equal; some differences exist in quaternion and sto -> very little differences"
   ]
  },
  {
   "cell_type": "markdown",
   "metadata": {},
   "source": [
    "## 4 -  Realignement"
   ]
  },
  {
   "cell_type": "markdown",
   "metadata": {},
   "source": [
    "pour le gold star, pas de write sur la coreg -> donc pas de comparaison possible...supposons que le write soit sur le réalignement"
   ]
  },
  {
   "cell_type": "code",
   "execution_count": 26,
   "metadata": {
    "collapsed": false
   },
   "outputs": [
    {
     "name": "stdout",
     "output_type": "stream",
     "text": [
      "Les fichiers binaires /scratch/user/hirsch/goldstd/data_set/t0009/repos01/EPIBOLD/rat0009_epi_s04_d0001.nii et /scratch/user/hirsch/datadir/data_results_py/functionnal/rat0009_epi_s04_d0001.nii sont différents\r\n"
     ]
    }
   ],
   "source": [
    "!diff   /scratch/user/hirsch/goldstd/data_set/t0009/repos01/EPIBOLD/rat0009_epi_s04_d0001.nii   /scratch/user/hirsch/datadir/data_results_py/functionnal/rat0009_epi_s04_d0001.nii\n"
   ]
  },
  {
   "cell_type": "markdown",
   "metadata": {},
   "source": [
    "comparons les headers"
   ]
  },
  {
   "cell_type": "code",
   "execution_count": 27,
   "metadata": {
    "collapsed": false
   },
   "outputs": [],
   "source": [
    "!fslhd /scratch/user/hirsch/goldstd/data_set/t0009/repos01/EPIBOLD/rat0009_epi_s04_d0001.nii > /homes_unix/hirsch/_goldstd/goldstarResults/realign1.txt\n",
    "!fslhd /scratch/user/hirsch/datadir/data_results_py/functionnal/rat0009_epi_s04_d0001.nii > /homes_unix/hirsch/_goldstd/goldstarResults/realign2.txt"
   ]
  },
  {
   "cell_type": "code",
   "execution_count": 28,
   "metadata": {
    "collapsed": false
   },
   "outputs": [
    {
     "name": "stdout",
     "output_type": "stream",
     "text": [
      "2c2\r\n",
      "< filename       /scratch/user/hirsch/goldstd/data_set/t0009/repos01/EPIBOLD/rat0009_epi_s04_d0001.nii\r\n",
      "---\r\n",
      "> filename       /scratch/user/hirsch/datadir/data_results_py/functionnal/rat0009_epi_s04_d0001.nii\r\n",
      "7,9c7,9\r\n",
      "< dim1           180\r\n",
      "< dim2           256\r\n",
      "< dim3           256\r\n",
      "---\r\n",
      "> dim1           64\r\n",
      "> dim2           64\r\n",
      "> dim3           31\r\n",
      "20,22c20,22\r\n",
      "< pixdim1        1.000000\r\n",
      "< pixdim2        1.000000\r\n",
      "< pixdim3        1.000000\r\n",
      "---\r\n",
      "> pixdim1        3.749999\r\n",
      "> pixdim2        3.750004\r\n",
      "> pixdim3        3.750002\r\n",
      "49,51c49,51\r\n",
      "< qto_xyz:1      -0.998783  -0.041415  -0.026774  94.499512\r\n",
      "< qto_xyz:2      -0.044491  0.990912  0.126939  -140.645218\r\n",
      "< qto_xyz:3      -0.021273  -0.127975  0.991549  -101.764404\r\n",
      "---\r\n",
      "> qto_xyz:1      -3.745490  0.078319  -0.166323  116.044998\r\n",
      "> qto_xyz:2      0.093387  3.732910  -0.345240  -95.395798\r\n",
      "> qto_xyz:3      -0.158354  0.348967  3.730370  -45.065498\r\n",
      "58,60c58,60\r\n",
      "< sto_xyz:1      -0.998783  -0.041415  -0.026771  94.499512\r\n",
      "< sto_xyz:2      -0.044491  0.990912  0.126939  -140.645218\r\n",
      "< sto_xyz:3      -0.021270  -0.127975  0.991549  -101.764404\r\n",
      "---\r\n",
      "> sto_xyz:1      -3.745490  0.078319  -0.166326  116.044998\r\n",
      "> sto_xyz:2      0.093387  3.732910  -0.345240  -95.395798\r\n",
      "> sto_xyz:3      -0.158358  0.348967  3.730370  -45.065498\r\n"
     ]
    }
   ],
   "source": [
    "!diff realign1.txt realign2.txt"
   ]
  },
  {
   "cell_type": "markdown",
   "metadata": {},
   "source": [
    "## 5 -  Coregistration"
   ]
  },
  {
   "cell_type": "markdown",
   "metadata": {},
   "source": [
    "les headers sont les mêmes\n",
    "Allons voir les bit maps"
   ]
  },
  {
   "cell_type": "code",
   "execution_count": 51,
   "metadata": {
    "collapsed": false
   },
   "outputs": [],
   "source": [
    "img1 = '/scratch/user/hirsch/goldstd/data_set/t0009/repos01/EPIBOLD/rat0009_epi_s04_d0101.nii'\n",
    "img2 = '/scratch/user/hirsch/datadir/data_results_py/functionnal/crat0009_epi_s04_d0101.nii'"
   ]
  },
  {
   "cell_type": "code",
   "execution_count": 52,
   "metadata": {
    "collapsed": true
   },
   "outputs": [],
   "source": [
    "i1=nib.load(img1)         \n",
    "i1array=np.asarray(i1.dataobj).copy() # Avoid caching the proxy image\n",
    "    \n",
    "i2=nib.load(img2)         \n",
    "i2array=np.asarray(i2.dataobj).copy()"
   ]
  },
  {
   "cell_type": "code",
   "execution_count": 53,
   "metadata": {
    "collapsed": false
   },
   "outputs": [
    {
     "data": {
      "text/plain": [
       "False"
      ]
     },
     "execution_count": 53,
     "metadata": {},
     "output_type": "execute_result"
    }
   ],
   "source": [
    "np.array_equal(i1array, i2array)"
   ]
  },
  {
   "cell_type": "code",
   "execution_count": 54,
   "metadata": {
    "collapsed": false
   },
   "outputs": [
    {
     "name": "stdout",
     "output_type": "stream",
     "text": [
      "3370375\n",
      "2263.70952773\n",
      "1.49984958004\n",
      "45.4171415287\n"
     ]
    }
   ],
   "source": [
    "diff_res = i1array - i2array\n",
    "print np.count_nonzero(diff_res)\n",
    "print np.amax(diff_res) \n",
    "print np.mean(diff_res)\n",
    "print np.std(diff_res)"
   ]
  },
  {
   "cell_type": "code",
   "execution_count": null,
   "metadata": {
    "collapsed": true
   },
   "outputs": [],
   "source": [
    "!fslview /scratch/user/hirsch/goldstd/data_set/t0009/repos01/EPIBOLD/rat0009_epi_s04_d0001.nii"
   ]
  },
  {
   "cell_type": "code",
   "execution_count": 50,
   "metadata": {
    "collapsed": false
   },
   "outputs": [
    {
     "name": "stdout",
     "output_type": "stream",
     "text": [
      "[WARNING] Out of OEM specific VK codes, changing to unassigned\n",
      "[WARNING] Out of unassigned VK codes, assigning $FF\n",
      "^C\n"
     ]
    }
   ],
   "source": [
    "!mricron /scratch/user/hirsch/goldstd/data_set/t0009/repos01/EPIBOLD/rat0009_epi_s04_d0001.nii"
   ]
  },
  {
   "cell_type": "markdown",
   "metadata": {},
   "source": [
    "# 6 - Normalisation"
   ]
  },
  {
   "cell_type": "code",
   "execution_count": 38,
   "metadata": {
    "collapsed": false
   },
   "outputs": [
    {
     "name": "stdout",
     "output_type": "stream",
     "text": [
      "/homes_unix/hirsch/_goldstd/goldstarResults\n"
     ]
    }
   ],
   "source": [
    "%cd  /homes_unix/hirsch/_goldstd/goldstarResults"
   ]
  },
  {
   "cell_type": "code",
   "execution_count": 39,
   "metadata": {
    "collapsed": false
   },
   "outputs": [
    {
     "name": "stdout",
     "output_type": "stream",
     "text": [
      "2c2\r\n",
      "< filename       /scratch/user/hirsch/goldstd/data_set/t0009/repos01/EPIBOLD/rat0009_epi_s04_d0001.nii\r\n",
      "---\r\n",
      "> filename       /scratch/user/hirsch/datadir/data_results_py/functionnal/crat0009_epi_s04_d0001.nii\r\n"
     ]
    }
   ],
   "source": [
    "# allons d'abord voir les fichiers fonctionnnels et les headers\n",
    "# ils sont là -> /scratch/user/hirsch/datadir/data_results_py_backup/functionnal/norm_files\n",
    "!fslhd /scratch/user/hirsch/goldstd/data_set/t0009/repos01/EPIBOLD/wat0009_epi_s04_d0001.nii > /homes_unix/hirsch/_goldstd/goldstarResults/norm1.txt\n",
    "!fslhd /scratch/user/hirsch/datadir/data_results_py/functionnal/norm_files/wcrat0009_epi_s04_d0001.nii > /homes_unix/hirsch/_goldstd/goldstarResults/norm2.txt\n",
    "!diff coreg1.txt coreg2.txt"
   ]
  },
  {
   "cell_type": "code",
   "execution_count": 47,
   "metadata": {
    "collapsed": false
   },
   "outputs": [],
   "source": [
    "# allons voir les bitmaps\n",
    "img1 = '/scratch/user/hirsch/goldstd/data_set/t0009/repos01/EPIBOLD/wat0009_epi_s04_d0001.nii'\n",
    "img2 = '/scratch/user/hirsch/datadir/data_results_py/functionnal/norm_files/wcrat0009_epi_s04_d0001.nii'"
   ]
  },
  {
   "cell_type": "code",
   "execution_count": 48,
   "metadata": {
    "collapsed": false
   },
   "outputs": [
    {
     "name": "stdout",
     "output_type": "stream",
     "text": [
      "False\n"
     ]
    }
   ],
   "source": [
    "i1=nib.load(img1)         \n",
    "i1array=np.asarray(i1.dataobj).copy() # Avoid caching the proxy image\n",
    "    \n",
    "i2=nib.load(img2)         \n",
    "i2array=np.asarray(i2.dataobj).copy()\n",
    "print np.array_equal(i1array, i2array)"
   ]
  },
  {
   "cell_type": "code",
   "execution_count": 49,
   "metadata": {
    "collapsed": false
   },
   "outputs": [
    {
     "name": "stdout",
     "output_type": "stream",
     "text": [
      "506819\n",
      "2466.37576842\n",
      "2.8526128279\n",
      "63.7289418801\n"
     ]
    }
   ],
   "source": [
    "diff_res = i1array - i2array\n",
    "print np.count_nonzero(diff_res)\n",
    "print np.amax(diff_res) \n",
    "print np.mean(diff_res)\n",
    "print np.std(diff_res)\n"
   ]
  },
  {
   "cell_type": "markdown",
   "metadata": {},
   "source": [
    "# Annexes"
   ]
  },
  {
   "cell_type": "code",
   "execution_count": null,
   "metadata": {
    "collapsed": true
   },
   "outputs": [],
   "source": [
    "## batch SPM12"
   ]
  },
  {
   "cell_type": "code",
   "execution_count": null,
   "metadata": {
    "collapsed": false,
    "scrolled": true
   },
   "outputs": [],
   "source": [
    "!cat /homes_unix/hirsch/_goldstd/all_process_v9_thomas_goldstd.m"
   ]
  },
  {
   "cell_type": "code",
   "execution_count": null,
   "metadata": {
    "collapsed": true
   },
   "outputs": [],
   "source": []
  },
  {
   "cell_type": "code",
   "execution_count": null,
   "metadata": {
    "collapsed": true
   },
   "outputs": [],
   "source": []
  }
 ],
 "metadata": {
  "kernelspec": {
   "display_name": "Python 2",
   "language": "python",
   "name": "python2"
  },
  "language_info": {
   "codemirror_mode": {
    "name": "ipython",
    "version": 2
   },
   "file_extension": ".py",
   "mimetype": "text/x-python",
   "name": "python",
   "nbconvert_exporter": "python",
   "pygments_lexer": "ipython2",
   "version": "2.7.12"
  }
 },
 "nbformat": 4,
 "nbformat_minor": 0
}
