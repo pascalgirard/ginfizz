{
 "cells": [
  {
   "cell_type": "markdown",
   "metadata": {},
   "source": [
    "entre V1 et V2, on apronfondit les headers de image calculator de SPM et la fct nibabel, plus le type du bit map "
   ]
  },
  {
   "cell_type": "markdown",
   "metadata": {},
   "source": [
    "#  FLI-IAM    Comparaison entre gold star (pure batch SPM) et le presque même batch (en nipype)\n"
   ]
  },
  {
   "cell_type": "code",
   "execution_count": 11,
   "metadata": {
    "collapsed": true
   },
   "outputs": [],
   "source": [
    "import numpy as np     \n",
    "import nibabel as nib     \n",
    "import os "
   ]
  },
  {
   "cell_type": "markdown",
   "metadata": {},
   "source": [
    "## 1 - Segment"
   ]
  },
  {
   "cell_type": "code",
   "execution_count": 4,
   "metadata": {
    "collapsed": false
   },
   "outputs": [],
   "source": [
    "!diff  /scratch/user/hirsch/goldstd/data_set/t0009/repos01/T1/c1t0009_t1_s03.nii   /scratch/user/hirsch/datadir/data_results_py/structural/native_class/c1t0009_t1_s03.nii"
   ]
  },
  {
   "cell_type": "code",
   "execution_count": 5,
   "metadata": {
    "collapsed": true
   },
   "outputs": [],
   "source": [
    "!diff  /scratch/user/hirsch/goldstd/data_set/t0009/repos01/T1/c2t0009_t1_s03.nii   /scratch/user/hirsch/datadir/data_results_py/structural/native_class/c2t0009_t1_s03.nii"
   ]
  },
  {
   "cell_type": "markdown",
   "metadata": {},
   "source": [
    "La segmentation est la même au bit près"
   ]
  },
  {
   "cell_type": "markdown",
   "metadata": {},
   "source": [
    "## 2 -  Image calculator"
   ]
  },
  {
   "cell_type": "code",
   "execution_count": 6,
   "metadata": {
    "collapsed": false
   },
   "outputs": [
    {
     "name": "stdout",
     "output_type": "stream",
     "text": [
      "Les fichiers binaires /scratch/user/hirsch/goldstd/data_set/t0009/repos01/T1/dmt0009_t1_s02.nii et /scratch/user/hirsch/datadir/data_results_py/structural/t1_masked_files/struct_image.nii sont différents\r\n"
     ]
    }
   ],
   "source": [
    "!diff     /scratch/user/hirsch/goldstd/data_set/t0009/repos01/T1/dmt0009_t1_s02.nii  /scratch/user/hirsch/datadir/data_results_py/structural/t1_masked_files/struct_image.nii"
   ]
  },
  {
   "cell_type": "code",
   "execution_count": 7,
   "metadata": {
    "collapsed": false,
    "scrolled": true
   },
   "outputs": [
    {
     "name": "stdout",
     "output_type": "stream",
     "text": [
      "filename       /scratch/user/hirsch/goldstd/data_set/t0009/repos01/T1/dmt0009_t1_s02.nii\r\n",
      "\r\n",
      "sizeof_hdr     348\r\n",
      "data_type      INT16\r\n",
      "dim0           3\r\n",
      "dim1           180\r\n",
      "dim2           256\r\n",
      "dim3           256\r\n",
      "dim4           1\r\n",
      "dim5           1\r\n",
      "dim6           1\r\n",
      "dim7           1\r\n",
      "vox_units      mm\r\n",
      "time_units     s\r\n",
      "datatype       4\r\n",
      "nbyper         2\r\n",
      "bitpix         16\r\n",
      "pixdim0        0.000000\r\n",
      "pixdim1        1.000000\r\n",
      "pixdim2        1.000000\r\n",
      "pixdim3        1.000000\r\n",
      "pixdim4        0.000000\r\n",
      "pixdim5        0.000000\r\n",
      "pixdim6        0.000000\r\n",
      "pixdim7        0.000000\r\n",
      "vox_offset     352\r\n",
      "cal_max        0.0000\r\n",
      "cal_min        0.0000\r\n",
      "scl_slope      0.044728\r\n",
      "scl_inter      0.000000\r\n",
      "phase_dim      0\r\n",
      "freq_dim       0\r\n",
      "slice_dim      0\r\n",
      "slice_name     Unknown\r\n",
      "slice_code     0\r\n",
      "slice_start    0\r\n",
      "slice_end      0\r\n",
      "slice_duration 0.000000\r\n",
      "time_offset    0.000000\r\n",
      "intent         Unknown\r\n",
      "intent_code    0\r\n",
      "intent_name    \r\n",
      "intent_p1      0.000000\r\n",
      "intent_p2      0.000000\r\n",
      "intent_p3      0.000000\r\n",
      "qform_name     Aligned Anat\r\n",
      "qform_code     2\r\n",
      "qto_xyz:1      -0.998783  -0.041415  -0.026774  94.499512\r\n",
      "qto_xyz:2      -0.044491  0.990912  0.126939  -140.645218\r\n",
      "qto_xyz:3      -0.021273  -0.127975  0.991549  -101.764404\r\n",
      "qto_xyz:4      0.000000  0.000000  0.000000  1.000000\r\n",
      "qform_xorient  Right-to-Left\r\n",
      "qform_yorient  Posterior-to-Anterior\r\n",
      "qform_zorient  Inferior-to-Superior\r\n",
      "sform_name     Aligned Anat\r\n",
      "sform_code     2\r\n",
      "sto_xyz:1      -0.998783  -0.041415  -0.026771  94.499512\r\n",
      "sto_xyz:2      -0.044491  0.990912  0.126939  -140.645218\r\n",
      "sto_xyz:3      -0.021270  -0.127975  0.991549  -101.764404\r\n",
      "sto_xyz:4      0.000000  0.000000  0.000000  1.000000\r\n",
      "sform_xorient  Right-to-Left\r\n",
      "sform_yorient  Posterior-to-Anterior\r\n",
      "sform_zorient  Inferior-to-Superior\r\n",
      "file_type      NIFTI-1+\r\n",
      "file_code      1\r\n",
      "descrip        spm - algebra\r\n",
      "aux_file       \r\n"
     ]
    }
   ],
   "source": [
    "# le header de la sortie de image calculator\n",
    "!fslhd /scratch/user/hirsch/goldstd/data_set/t0009/repos01/T1/dmt0009_t1_s02.nii"
   ]
  },
  {
   "cell_type": "markdown",
   "metadata": {},
   "source": [
    "comparaison des headers"
   ]
  },
  {
   "cell_type": "code",
   "execution_count": 20,
   "metadata": {
    "collapsed": false
   },
   "outputs": [
    {
     "name": "stdout",
     "output_type": "stream",
     "text": [
      "/homes_unix/hirsch/_goldstd/goldstarResults\n"
     ]
    }
   ],
   "source": [
    "%cd /homes_unix/hirsch/_goldstd/goldstarResults"
   ]
  },
  {
   "cell_type": "code",
   "execution_count": 21,
   "metadata": {
    "collapsed": false
   },
   "outputs": [],
   "source": [
    "!fslhd /scratch/user/hirsch/goldstd/data_set/t0009/repos01/T1/dmt0009_t1_s02.nii > /homes_unix/hirsch/_goldstd/goldstarResults/imgcalc1.txt\n",
    "!fslhd /scratch/user/hirsch/datadir/data_results_py/structural/t1_masked_files/struct_image.nii > /homes_unix/hirsch/_goldstd/goldstarResults/imgcalc2.txt"
   ]
  },
  {
   "cell_type": "code",
   "execution_count": 22,
   "metadata": {
    "collapsed": false,
    "scrolled": true
   },
   "outputs": [
    {
     "name": "stdout",
     "output_type": "stream",
     "text": [
      "1c1\r\n",
      "< filename       /scratch/user/hirsch/goldstd/data_set/t0009/repos01/T1/dmt0009_t1_s02.nii\r\n",
      "---\r\n",
      "> filename       /scratch/user/hirsch/datadir/data_results_py/structural/t1_masked_files/struct_image.nii\r\n",
      "4c4\r\n",
      "< data_type      INT16\r\n",
      "---\r\n",
      "> data_type      FLOAT64\r\n",
      "13,17c13,17\r\n",
      "< vox_units      mm\r\n",
      "< time_units     s\r\n",
      "< datatype       4\r\n",
      "< nbyper         2\r\n",
      "< bitpix         16\r\n",
      "---\r\n",
      "> vox_units      Unknown\r\n",
      "> time_units     Unknown\r\n",
      "> datatype       64\r\n",
      "> nbyper         8\r\n",
      "> bitpix         64\r\n",
      "22,25c22,25\r\n",
      "< pixdim4        0.000000\r\n",
      "< pixdim5        0.000000\r\n",
      "< pixdim6        0.000000\r\n",
      "< pixdim7        0.000000\r\n",
      "---\r\n",
      "> pixdim4        1.000000\r\n",
      "> pixdim5        1.000000\r\n",
      "> pixdim6        1.000000\r\n",
      "> pixdim7        1.000000\r\n",
      "29c29\r\n",
      "< scl_slope      0.044728\r\n",
      "---\r\n",
      "> scl_slope      1.000000\r\n",
      "46,50c46,50\r\n",
      "< qform_name     Aligned Anat\r\n",
      "< qform_code     2\r\n",
      "< qto_xyz:1      -0.998783  -0.041415  -0.026774  94.499512\r\n",
      "< qto_xyz:2      -0.044491  0.990912  0.126939  -140.645218\r\n",
      "< qto_xyz:3      -0.021273  -0.127975  0.991549  -101.764404\r\n",
      "---\r\n",
      "> qform_name     Unknown\r\n",
      "> qform_code     0\r\n",
      "> qto_xyz:1      1.000000  0.000000  0.000000  0.000000\r\n",
      "> qto_xyz:2      0.000000  1.000000  0.000000  0.000000\r\n",
      "> qto_xyz:3      0.000000  0.000000  1.000000  0.000000\r\n",
      "52c52\r\n",
      "< qform_xorient  Right-to-Left\r\n",
      "---\r\n",
      "> qform_xorient  Left-to-Right\r\n",
      "57,59c57,59\r\n",
      "< sto_xyz:1      -0.998783  -0.041415  -0.026771  94.499512\r\n",
      "< sto_xyz:2      -0.044491  0.990912  0.126939  -140.645218\r\n",
      "< sto_xyz:3      -0.021270  -0.127975  0.991549  -101.764404\r\n",
      "---\r\n",
      "> sto_xyz:1      1.000000  0.000000  0.000000  0.000000\r\n",
      "> sto_xyz:2      0.000000  1.000000  0.000000  0.000000\r\n",
      "> sto_xyz:3      0.000000  0.000000  1.000000  0.000000\r\n",
      "61c61\r\n",
      "< sform_xorient  Right-to-Left\r\n",
      "---\r\n",
      "> sform_xorient  Left-to-Right\r\n",
      "66c66\r\n",
      "< descrip        spm - algebra\r\n",
      "---\r\n",
      "> descrip        \r\n"
     ]
    }
   ],
   "source": [
    "!diff imgcalc1.txt imgcalc2.txt"
   ]
  },
  {
   "cell_type": "code",
   "execution_count": 40,
   "metadata": {
    "collapsed": false,
    "scrolled": true
   },
   "outputs": [
    {
     "name": "stdout",
     "output_type": "stream",
     "text": [
      "Byte swapping\r\n",
      "filename       /scratch/user/hirsch/datadir/data_set/t0009/repos01/T1/t0009_t1_s03.nii\r\n",
      "\r\n",
      "sizeof_hdr     348\r\n",
      "data_type      INT16\r\n",
      "dim0           3\r\n",
      "dim1           180\r\n",
      "dim2           256\r\n",
      "dim3           256\r\n",
      "dim4           1\r\n",
      "dim5           1\r\n",
      "dim6           1\r\n",
      "dim7           1\r\n",
      "vox_units      mm\r\n",
      "time_units     s\r\n",
      "datatype       4\r\n",
      "nbyper         2\r\n",
      "bitpix         16\r\n",
      "pixdim0        0.000000\r\n",
      "pixdim1        1.000000\r\n",
      "pixdim2        1.000000\r\n",
      "pixdim3        1.000000\r\n",
      "pixdim4        0.000000\r\n",
      "pixdim5        0.000000\r\n",
      "pixdim6        0.000000\r\n",
      "pixdim7        0.000000\r\n",
      "vox_offset     352\r\n",
      "cal_max        0.0000\r\n",
      "cal_min        0.0000\r\n",
      "scl_slope      0.185919\r\n",
      "scl_inter      0.000000\r\n",
      "phase_dim      0\r\n",
      "freq_dim       0\r\n",
      "slice_dim      0\r\n",
      "slice_name     Unknown\r\n",
      "slice_code     0\r\n",
      "slice_start    0\r\n",
      "slice_end      0\r\n",
      "slice_duration 0.000000\r\n",
      "time_offset    0.000000\r\n",
      "intent         Unknown\r\n",
      "intent_code    0\r\n",
      "intent_name    \r\n",
      "intent_p1      0.000000\r\n",
      "intent_p2      0.000000\r\n",
      "intent_p3      0.000000\r\n",
      "qform_name     Aligned Anat\r\n",
      "qform_code     2\r\n",
      "qto_xyz:1      -0.998783  -0.041415  -0.026774  94.499512\r\n",
      "qto_xyz:2      -0.044491  0.990912  0.126939  -140.645218\r\n",
      "qto_xyz:3      -0.021273  -0.127975  0.991549  -101.764404\r\n",
      "qto_xyz:4      0.000000  0.000000  0.000000  1.000000\r\n",
      "qform_xorient  Right-to-Left\r\n",
      "qform_yorient  Posterior-to-Anterior\r\n",
      "qform_zorient  Inferior-to-Superior\r\n",
      "sform_name     Aligned Anat\r\n",
      "sform_code     2\r\n",
      "sto_xyz:1      -0.998783  -0.041415  -0.026771  94.499512\r\n",
      "sto_xyz:2      -0.044491  0.990912  0.126939  -140.645218\r\n",
      "sto_xyz:3      -0.021270  -0.127975  0.991549  -101.764404\r\n",
      "sto_xyz:4      0.000000  0.000000  0.000000  1.000000\r\n",
      "sform_xorient  Right-to-Left\r\n",
      "sform_yorient  Posterior-to-Anterior\r\n",
      "sform_zorient  Inferior-to-Superior\r\n",
      "file_type      NIFTI-1+\r\n",
      "file_code      1\r\n",
      "descrip        FSL3.3\r\n",
      "aux_file       \r\n"
     ]
    }
   ],
   "source": [
    "# le header de T1 pour en avoir le coeur net\n",
    "!fslhd /scratch/user/hirsch/datadir/data_set/t0009/repos01/T1/t0009_t1_s03.nii"
   ]
  },
  {
   "cell_type": "code",
   "execution_count": 2,
   "metadata": {
    "collapsed": false,
    "scrolled": true
   },
   "outputs": [
    {
     "name": "stdout",
     "output_type": "stream",
     "text": [
      "filename       /scratch/user/hirsch/goldstd/data_set/t0009/repos01/T1/dmt0009_t1_s02.nii\r\n",
      "\r\n",
      "sizeof_hdr     348\r\n",
      "data_type      INT16\r\n",
      "dim0           3\r\n",
      "dim1           180\r\n",
      "dim2           256\r\n",
      "dim3           256\r\n",
      "dim4           1\r\n",
      "dim5           1\r\n",
      "dim6           1\r\n",
      "dim7           1\r\n",
      "vox_units      mm\r\n",
      "time_units     s\r\n",
      "datatype       4\r\n",
      "nbyper         2\r\n",
      "bitpix         16\r\n",
      "pixdim0        0.000000\r\n",
      "pixdim1        1.000000\r\n",
      "pixdim2        1.000000\r\n",
      "pixdim3        1.000000\r\n",
      "pixdim4        0.000000\r\n",
      "pixdim5        0.000000\r\n",
      "pixdim6        0.000000\r\n",
      "pixdim7        0.000000\r\n",
      "vox_offset     352\r\n",
      "cal_max        0.0000\r\n",
      "cal_min        0.0000\r\n",
      "scl_slope      0.044728\r\n",
      "scl_inter      0.000000\r\n",
      "phase_dim      0\r\n",
      "freq_dim       0\r\n",
      "slice_dim      0\r\n",
      "slice_name     Unknown\r\n",
      "slice_code     0\r\n",
      "slice_start    0\r\n",
      "slice_end      0\r\n",
      "slice_duration 0.000000\r\n",
      "time_offset    0.000000\r\n",
      "intent         Unknown\r\n",
      "intent_code    0\r\n",
      "intent_name    \r\n",
      "intent_p1      0.000000\r\n",
      "intent_p2      0.000000\r\n",
      "intent_p3      0.000000\r\n",
      "qform_name     Aligned Anat\r\n",
      "qform_code     2\r\n",
      "qto_xyz:1      -0.998783  -0.041415  -0.026774  94.499512\r\n",
      "qto_xyz:2      -0.044491  0.990912  0.126939  -140.645218\r\n",
      "qto_xyz:3      -0.021273  -0.127975  0.991549  -101.764404\r\n",
      "qto_xyz:4      0.000000  0.000000  0.000000  1.000000\r\n",
      "qform_xorient  Right-to-Left\r\n",
      "qform_yorient  Posterior-to-Anterior\r\n",
      "qform_zorient  Inferior-to-Superior\r\n",
      "sform_name     Aligned Anat\r\n",
      "sform_code     2\r\n",
      "sto_xyz:1      -0.998783  -0.041415  -0.026771  94.499512\r\n",
      "sto_xyz:2      -0.044491  0.990912  0.126939  -140.645218\r\n",
      "sto_xyz:3      -0.021270  -0.127975  0.991549  -101.764404\r\n",
      "sto_xyz:4      0.000000  0.000000  0.000000  1.000000\r\n",
      "sform_xorient  Right-to-Left\r\n",
      "sform_yorient  Posterior-to-Anterior\r\n",
      "sform_zorient  Inferior-to-Superior\r\n",
      "file_type      NIFTI-1+\r\n",
      "file_code      1\r\n",
      "descrip        spm - algebra\r\n",
      "aux_file       \r\n"
     ]
    }
   ],
   "source": [
    "# le header de l'image calculee pour en avoir le coeur net\n",
    "!fslhd /scratch/user/hirsch/goldstd/data_set/t0009/repos01/T1/dmt0009_t1_s02.nii"
   ]
  },
  {
   "cell_type": "code",
   "execution_count": 12,
   "metadata": {
    "collapsed": false
   },
   "outputs": [
    {
     "name": "stdout",
     "output_type": "stream",
     "text": [
      "2\n"
     ]
    }
   ],
   "source": [
    "# from SPM we will call image spm_img1\n",
    "spm_img1_ni = '/scratch/user/hirsch/goldstd/data_set/t0009/repos01/T1/dmt0009_t1_s02.nii'\n",
    "#print(n1_header['sform_code'])\n",
    "spm_img1 = nib.load(spm_img1_ni)\n",
    "spm_img1_header = spm_img1.header\n",
    "print(spm_img1_header['sform_code'])"
   ]
  },
  {
   "cell_type": "code",
   "execution_count": 25,
   "metadata": {
    "collapsed": false
   },
   "outputs": [
    {
     "name": "stdout",
     "output_type": "stream",
     "text": [
      "int16\n"
     ]
    }
   ],
   "source": [
    "print(spm_img1_header.get_data_dtype())"
   ]
  },
  {
   "cell_type": "code",
   "execution_count": 14,
   "metadata": {
    "collapsed": false
   },
   "outputs": [
    {
     "data": {
      "text/plain": [
       "array([[ -9.98783350e-01,  -4.14152145e-02,  -2.67708302e-02,\n",
       "          9.44995117e+01],\n",
       "       [ -4.44911718e-02,   9.90912259e-01,   1.26938701e-01,\n",
       "         -1.40645218e+02],\n",
       "       [ -2.12702751e-02,  -1.27975345e-01,   9.91549253e-01,\n",
       "         -1.01764404e+02],\n",
       "       [  0.00000000e+00,   0.00000000e+00,   0.00000000e+00,\n",
       "          1.00000000e+00]])"
      ]
     },
     "execution_count": 14,
     "metadata": {},
     "output_type": "execute_result"
    }
   ],
   "source": [
    "spm_img1.affine"
   ]
  },
  {
   "cell_type": "code",
   "execution_count": 16,
   "metadata": {
    "collapsed": false
   },
   "outputs": [
    {
     "data": {
      "text/plain": [
       "(4, 4)"
      ]
     },
     "execution_count": 16,
     "metadata": {},
     "output_type": "execute_result"
    }
   ],
   "source": [
    "spm_img1.affine.shape"
   ]
  },
  {
   "cell_type": "code",
   "execution_count": 24,
   "metadata": {
    "collapsed": false
   },
   "outputs": [
    {
     "name": "stdout",
     "output_type": "stream",
     "text": [
      "2\n",
      "[[ -9.98783350e-01  -4.14152145e-02  -2.67708302e-02   9.44995117e+01]\n",
      " [ -4.44911718e-02   9.90912259e-01   1.26938701e-01  -1.40645218e+02]\n",
      " [ -2.12702751e-02  -1.27975345e-01   9.91549253e-01  -1.01764404e+02]\n",
      " [  0.00000000e+00   0.00000000e+00   0.00000000e+00   1.00000000e+00]]\n",
      "(4, 4)\n"
     ]
    }
   ],
   "source": [
    "# from SPM we will call image bias removed T1 image\n",
    "spm_img0_ni = '/scratch/user/hirsch/goldstd/data_set/t0009/repos01/T1/mt0009_t1_s03.nii'\n",
    "#print(n1_header['sform_code'])\n",
    "spm_img0 = nib.load(spm_img0_ni)\n",
    "spm_img0_header = spm_img0.header\n",
    "print(spm_img0_header['sform_code'])\n",
    "print spm_img0.affine\n",
    "print spm_img0.affine.shape"
   ]
  },
  {
   "cell_type": "code",
   "execution_count": 17,
   "metadata": {
    "collapsed": false
   },
   "outputs": [
    {
     "name": "stdout",
     "output_type": "stream",
     "text": [
      "2\n",
      "[[ 1.  0.  0.  0.]\n",
      " [ 0.  1.  0.  0.]\n",
      " [ 0.  0.  1.  0.]\n",
      " [ 0.  0.  0.  1.]]\n",
      "(4, 4)\n"
     ]
    }
   ],
   "source": [
    "# from SPM we will call image spm_img1\n",
    "spm_img2_ni = '/scratch/user/hirsch/datadir/data_results_py/structural/t1_masked_files/struct_image.nii'\n",
    "#print(n1_header['sform_code'])\n",
    "spm_img2 = nib.load(spm_img2_ni)\n",
    "spm_img2_header = spm_img2.header\n",
    "print(spm_img2_header['sform_code'])\n",
    "print spm_img2.affine\n",
    "print spm_img2.affine.shape\n"
   ]
  },
  {
   "cell_type": "code",
   "execution_count": null,
   "metadata": {
    "collapsed": true
   },
   "outputs": [],
   "source": []
  },
  {
   "cell_type": "code",
   "execution_count": 54,
   "metadata": {
    "collapsed": false
   },
   "outputs": [
    {
     "name": "stdout",
     "output_type": "stream",
     "text": [
      "filename       /scratch/user/hirsch/datadir/data_results_py/structural/t1_masked_files/struct_image.nii\r\n",
      "\r\n",
      "sizeof_hdr     348\r\n",
      "data_type      FLOAT64\r\n",
      "dim0           3\r\n",
      "dim1           180\r\n",
      "dim2           256\r\n",
      "dim3           256\r\n",
      "dim4           1\r\n",
      "dim5           1\r\n",
      "dim6           1\r\n",
      "dim7           1\r\n",
      "vox_units      Unknown\r\n",
      "time_units     Unknown\r\n",
      "datatype       64\r\n",
      "nbyper         8\r\n",
      "bitpix         64\r\n",
      "pixdim0        0.000000\r\n",
      "pixdim1        1.000000\r\n",
      "pixdim2        1.000000\r\n",
      "pixdim3        1.000000\r\n",
      "pixdim4        1.000000\r\n",
      "pixdim5        1.000000\r\n",
      "pixdim6        1.000000\r\n",
      "pixdim7        1.000000\r\n",
      "vox_offset     352\r\n",
      "cal_max        0.0000\r\n",
      "cal_min        0.0000\r\n",
      "scl_slope      1.000000\r\n",
      "scl_inter      0.000000\r\n",
      "phase_dim      0\r\n",
      "freq_dim       0\r\n",
      "slice_dim      0\r\n",
      "slice_name     Unknown\r\n",
      "slice_code     0\r\n",
      "slice_start    0\r\n",
      "slice_end      0\r\n",
      "slice_duration 0.000000\r\n",
      "time_offset    0.000000\r\n",
      "intent         Unknown\r\n",
      "intent_code    0\r\n",
      "intent_name    \r\n",
      "intent_p1      0.000000\r\n",
      "intent_p2      0.000000\r\n",
      "intent_p3      0.000000\r\n",
      "qform_name     Unknown\r\n",
      "qform_code     0\r\n",
      "qto_xyz:1      1.000000  0.000000  0.000000  0.000000\r\n",
      "qto_xyz:2      0.000000  1.000000  0.000000  0.000000\r\n",
      "qto_xyz:3      0.000000  0.000000  1.000000  0.000000\r\n",
      "qto_xyz:4      0.000000  0.000000  0.000000  1.000000\r\n",
      "qform_xorient  Left-to-Right\r\n",
      "qform_yorient  Posterior-to-Anterior\r\n",
      "qform_zorient  Inferior-to-Superior\r\n",
      "sform_name     Aligned Anat\r\n",
      "sform_code     2\r\n",
      "sto_xyz:1      1.000000  0.000000  0.000000  0.000000\r\n",
      "sto_xyz:2      0.000000  1.000000  0.000000  0.000000\r\n",
      "sto_xyz:3      0.000000  0.000000  1.000000  0.000000\r\n",
      "sto_xyz:4      0.000000  0.000000  0.000000  1.000000\r\n",
      "sform_xorient  Left-to-Right\r\n",
      "sform_yorient  Posterior-to-Anterior\r\n",
      "sform_zorient  Inferior-to-Superior\r\n",
      "file_type      NIFTI-1+\r\n",
      "file_code      1\r\n",
      "descrip        \r\n",
      "aux_file       \r\n"
     ]
    }
   ],
   "source": [
    "# le header de l'image calculee pour en avoir le coeur net\n",
    "!fslhd /scratch/user/hirsch/datadir/data_results_py/structural/t1_masked_files/struct_image.nii"
   ]
  },
  {
   "cell_type": "code",
   "execution_count": 13,
   "metadata": {
    "collapsed": false
   },
   "outputs": [
    {
     "name": "stdout",
     "output_type": "stream",
     "text": [
      "filename       /homes_unix/hirsch/_goldstd/goldstarResults/struct_image.nii\r\n",
      "\r\n",
      "sizeof_hdr     348\r\n",
      "data_type      FLOAT64\r\n",
      "dim0           3\r\n",
      "dim1           180\r\n",
      "dim2           256\r\n",
      "dim3           256\r\n",
      "dim4           1\r\n",
      "dim5           1\r\n",
      "dim6           1\r\n",
      "dim7           1\r\n",
      "vox_units      Unknown\r\n",
      "time_units     Unknown\r\n",
      "datatype       64\r\n",
      "nbyper         8\r\n",
      "bitpix         64\r\n",
      "pixdim0        0.000000\r\n",
      "pixdim1        1.000000\r\n",
      "pixdim2        1.000000\r\n",
      "pixdim3        1.000000\r\n",
      "pixdim4        1.000000\r\n",
      "pixdim5        1.000000\r\n",
      "pixdim6        1.000000\r\n",
      "pixdim7        1.000000\r\n",
      "vox_offset     352\r\n",
      "cal_max        0.0000\r\n",
      "cal_min        0.0000\r\n",
      "scl_slope      1.000000\r\n",
      "scl_inter      0.000000\r\n",
      "phase_dim      0\r\n",
      "freq_dim       0\r\n",
      "slice_dim      0\r\n",
      "slice_name     Unknown\r\n",
      "slice_code     0\r\n",
      "slice_start    0\r\n",
      "slice_end      0\r\n",
      "slice_duration 0.000000\r\n",
      "time_offset    0.000000\r\n",
      "intent         Unknown\r\n",
      "intent_code    0\r\n",
      "intent_name    \r\n",
      "intent_p1      0.000000\r\n",
      "intent_p2      0.000000\r\n",
      "intent_p3      0.000000\r\n",
      "qform_name     Unknown\r\n",
      "qform_code     0\r\n",
      "qto_xyz:1      1.000000  0.000000  0.000000  0.000000\r\n",
      "qto_xyz:2      0.000000  1.000000  0.000000  0.000000\r\n",
      "qto_xyz:3      0.000000  0.000000  1.000000  0.000000\r\n",
      "qto_xyz:4      0.000000  0.000000  0.000000  1.000000\r\n",
      "qform_xorient  Left-to-Right\r\n",
      "qform_yorient  Posterior-to-Anterior\r\n",
      "qform_zorient  Inferior-to-Superior\r\n",
      "sform_name     Aligned Anat\r\n",
      "sform_code     2\r\n",
      "sto_xyz:1      1.000000  0.000000  0.000000  0.000000\r\n",
      "sto_xyz:2      0.000000  1.000000  0.000000  0.000000\r\n",
      "sto_xyz:3      0.000000  0.000000  1.000000  0.000000\r\n",
      "sto_xyz:4      0.000000  0.000000  0.000000  1.000000\r\n",
      "sform_xorient  Left-to-Right\r\n",
      "sform_yorient  Posterior-to-Anterior\r\n",
      "sform_zorient  Inferior-to-Superior\r\n",
      "file_type      NIFTI-1+\r\n",
      "file_code      1\r\n",
      "descrip        \r\n",
      "aux_file       \r\n"
     ]
    }
   ],
   "source": [
    "!fslhd  /homes_unix/hirsch/_goldstd/goldstarResults/struct_image.nii"
   ]
  },
  {
   "cell_type": "markdown",
   "metadata": {},
   "source": [
    "todo etudier la différence entre les 2 images -> aller du coté des headers"
   ]
  },
  {
   "cell_type": "markdown",
   "metadata": {},
   "source": [
    "## 3 -  Slice timing"
   ]
  },
  {
   "cell_type": "code",
   "execution_count": 7,
   "metadata": {
    "collapsed": false
   },
   "outputs": [
    {
     "name": "stdout",
     "output_type": "stream",
     "text": [
      "Les fichiers binaires /scratch/user/hirsch/goldstd/data_set/t0009/repos01/EPIBOLD/at0009_epi_s04_d0001.nii et /scratch/user/hirsch/datadir/data_results_py/functionnal/at0009_epi_s04_d0001.nii sont différents\r\n"
     ]
    }
   ],
   "source": [
    "!diff   /scratch/user/hirsch/goldstd/data_set/t0009/repos01/EPIBOLD/at0009_epi_s04_d0001.nii   /scratch/user/hirsch/datadir/data_results_py/functionnal/at0009_epi_s04_d0001.nii "
   ]
  },
  {
   "cell_type": "code",
   "execution_count": 8,
   "metadata": {
    "collapsed": false
   },
   "outputs": [
    {
     "name": "stdout",
     "output_type": "stream",
     "text": [
      "/scratch/user/hirsch/goldstd/data_set/t0009/repos01/EPIBOLD/at0009_epi_s04_d0001.nii /scratch/user/hirsch/datadir/data_results_py/functionnal/at0009_epi_s04_d0001.nii sont différents: octet 84, ligne 1\r\n"
     ]
    }
   ],
   "source": [
    "!cmp /scratch/user/hirsch/goldstd/data_set/t0009/repos01/EPIBOLD/at0009_epi_s04_d0001.nii   /scratch/user/hirsch/datadir/data_results_py/functionnal/at0009_epi_s04_d0001.nii "
   ]
  },
  {
   "cell_type": "markdown",
   "metadata": {},
   "source": [
    "Tout d'abord, comparons les headers"
   ]
  },
  {
   "cell_type": "code",
   "execution_count": 10,
   "metadata": {
    "collapsed": true
   },
   "outputs": [],
   "source": [
    "!fslhd /scratch/user/hirsch/goldstd/data_set/t0009/repos01/EPIBOLD/at0009_epi_s04_d0001.nii > /homes_unix/hirsch/_goldstd/goldstarResults/h1"
   ]
  },
  {
   "cell_type": "code",
   "execution_count": 12,
   "metadata": {
    "collapsed": false
   },
   "outputs": [],
   "source": [
    "!fslhd /scratch/user/hirsch/datadir/data_results_py/functionnal/at0009_epi_s04_d0001.nii > /homes_unix/hirsch/_goldstd/goldstarResults/h2"
   ]
  },
  {
   "cell_type": "code",
   "execution_count": 13,
   "metadata": {
    "collapsed": false
   },
   "outputs": [
    {
     "name": "stdout",
     "output_type": "stream",
     "text": [
      "/homes_unix/hirsch/_goldstd/goldstarResults\n"
     ]
    }
   ],
   "source": [
    "%cd /homes_unix/hirsch/_goldstd/goldstarResults"
   ]
  },
  {
   "cell_type": "code",
   "execution_count": 14,
   "metadata": {
    "collapsed": false
   },
   "outputs": [
    {
     "name": "stdout",
     "output_type": "stream",
     "text": [
      "h1  h2\r\n"
     ]
    }
   ],
   "source": [
    "%ls"
   ]
  },
  {
   "cell_type": "code",
   "execution_count": 15,
   "metadata": {
    "collapsed": false
   },
   "outputs": [
    {
     "name": "stdout",
     "output_type": "stream",
     "text": [
      "2c2\r\n",
      "< filename       /scratch/user/hirsch/goldstd/data_set/t0009/repos01/EPIBOLD/at0009_epi_s04_d0001.nii\r\n",
      "---\r\n",
      "> filename       /scratch/user/hirsch/datadir/data_results_py/functionnal/at0009_epi_s04_d0001.nii\r\n",
      "20c20\r\n",
      "< pixdim1        3.750000\r\n",
      "---\r\n",
      "> pixdim1        3.749999\r\n",
      "49,51c49,51\r\n",
      "< qto_xyz:1      -3.742074  -0.174496  -0.170092  123.189674\r\n",
      "< qto_xyz:2      -0.181441  3.742512  0.152344  -98.689156\r\n",
      "< qto_xyz:3      -0.162663  -0.160252  3.743044  -30.354097\r\n",
      "---\r\n",
      "> qto_xyz:1      -3.745490  0.078319  -0.166323  116.044998\r\n",
      "> qto_xyz:2      0.093387  3.732910  -0.345240  -95.395798\r\n",
      "> qto_xyz:3      -0.158354  0.348967  3.730370  -45.065498\r\n",
      "58,60c58,60\r\n",
      "< sto_xyz:1      -3.742074  -0.174496  -0.170086  123.189674\r\n",
      "< sto_xyz:2      -0.181440  3.742512  0.152344  -98.689156\r\n",
      "< sto_xyz:3      -0.162658  -0.160252  3.743044  -30.354097\r\n",
      "---\r\n",
      "> sto_xyz:1      -3.745490  0.078319  -0.166326  116.044998\r\n",
      "> sto_xyz:2      0.093387  3.732910  -0.345240  -95.395798\r\n",
      "> sto_xyz:3      -0.158358  0.348967  3.730370  -45.065498\r\n"
     ]
    }
   ],
   "source": [
    "!diff h1 h2"
   ]
  },
  {
   "cell_type": "code",
   "execution_count": 33,
   "metadata": {
    "collapsed": false,
    "scrolled": true
   },
   "outputs": [
    {
     "name": "stdout",
     "output_type": "stream",
     "text": [
      "Byte swapping\r\n",
      "filename       /scratch/user/hirsch/goldstd/data_set/t0009/repos01/EPIBOLD/at0009_epi_s04_d0001.nii\r\n",
      "\r\n",
      "sizeof_hdr     348\r\n",
      "data_type      INT16\r\n",
      "dim0           3\r\n",
      "dim1           64\r\n",
      "dim2           64\r\n",
      "dim3           31\r\n",
      "dim4           1\r\n",
      "dim5           1\r\n",
      "dim6           1\r\n",
      "dim7           1\r\n",
      "vox_units      mm\r\n",
      "time_units     s\r\n",
      "datatype       4\r\n",
      "nbyper         2\r\n",
      "bitpix         16\r\n",
      "pixdim0        0.000000\r\n",
      "pixdim1        3.750000\r\n",
      "pixdim2        3.750004\r\n",
      "pixdim3        3.750002\r\n",
      "pixdim4        0.000000\r\n",
      "pixdim5        0.000000\r\n",
      "pixdim6        0.000000\r\n",
      "pixdim7        0.000000\r\n",
      "vox_offset     352\r\n",
      "cal_max        0.0000\r\n",
      "cal_min        0.0000\r\n",
      "scl_slope      1.809520\r\n",
      "scl_inter      0.000000\r\n",
      "phase_dim      0\r\n",
      "freq_dim       0\r\n",
      "slice_dim      0\r\n",
      "slice_name     Unknown\r\n",
      "slice_code     0\r\n",
      "slice_start    0\r\n",
      "slice_end      0\r\n",
      "slice_duration 0.000000\r\n",
      "time_offset    0.000000\r\n",
      "intent         Unknown\r\n",
      "intent_code    0\r\n",
      "intent_name    \r\n",
      "intent_p1      0.000000\r\n",
      "intent_p2      0.000000\r\n",
      "intent_p3      0.000000\r\n",
      "qform_name     Aligned Anat\r\n",
      "qform_code     2\r\n",
      "qto_xyz:1      -3.742074  -0.174496  -0.170092  123.189674\r\n",
      "qto_xyz:2      -0.181441  3.742512  0.152344  -98.689156\r\n",
      "qto_xyz:3      -0.162663  -0.160252  3.743044  -30.354097\r\n",
      "qto_xyz:4      0.000000  0.000000  0.000000  1.000000\r\n",
      "qform_xorient  Right-to-Left\r\n",
      "qform_yorient  Posterior-to-Anterior\r\n",
      "qform_zorient  Inferior-to-Superior\r\n",
      "sform_name     Aligned Anat\r\n",
      "sform_code     2\r\n",
      "sto_xyz:1      -3.742074  -0.174496  -0.170086  123.189674\r\n",
      "sto_xyz:2      -0.181440  3.742512  0.152344  -98.689156\r\n",
      "sto_xyz:3      -0.162658  -0.160252  3.743044  -30.354097\r\n",
      "sto_xyz:4      0.000000  0.000000  0.000000  1.000000\r\n",
      "sform_xorient  Right-to-Left\r\n",
      "sform_yorient  Posterior-to-Anterior\r\n",
      "sform_zorient  Inferior-to-Superior\r\n",
      "file_type      NIFTI-1+\r\n",
      "file_code      1\r\n",
      "descrip        FSL3.3 acq-fix ref-slice 31\r\n",
      "aux_file       \r\n"
     ]
    }
   ],
   "source": [
    "!cat h1"
   ]
  },
  {
   "cell_type": "markdown",
   "metadata": {},
   "source": [
    "Maintenant comparons les bitmaps"
   ]
  },
  {
   "cell_type": "code",
   "execution_count": 16,
   "metadata": {
    "collapsed": true
   },
   "outputs": [],
   "source": [
    "img1 = '/scratch/user/hirsch/goldstd/data_set/t0009/repos01/EPIBOLD/at0009_epi_s04_d0001.nii'\n",
    "img2 = '/scratch/user/hirsch/datadir/data_results_py/functionnal/at0009_epi_s04_d0001.nii'"
   ]
  },
  {
   "cell_type": "code",
   "execution_count": null,
   "metadata": {
    "collapsed": true
   },
   "outputs": [],
   "source": [
    "import numpy as np     \n",
    "import nibabel as nib     \n",
    "import os \n",
    "    \n",
    "i1=nib.load(img1)         \n",
    "i1array=np.asarray(i1.dataobj).copy() # Avoid caching the proxy image\n",
    "    \n",
    "i2=nib.load(img2)         \n",
    "i2array=np.asarray(i2.dataobj).copy()"
   ]
  },
  {
   "cell_type": "code",
   "execution_count": 18,
   "metadata": {
    "collapsed": false
   },
   "outputs": [
    {
     "data": {
      "text/plain": [
       "True"
      ]
     },
     "execution_count": 18,
     "metadata": {},
     "output_type": "execute_result"
    }
   ],
   "source": [
    "np.array_equal(i1array, i2array)"
   ]
  },
  {
   "cell_type": "markdown",
   "metadata": {},
   "source": [
    "Slice timing Conclusion: the bitmaps are equal; some differences exist in quaternion and sto"
   ]
  },
  {
   "cell_type": "markdown",
   "metadata": {},
   "source": [
    "## 4 -  Realignement"
   ]
  },
  {
   "cell_type": "markdown",
   "metadata": {},
   "source": [
    "pour le gold star, pas de write -> donc pas de comparaison possible..."
   ]
  },
  {
   "cell_type": "markdown",
   "metadata": {},
   "source": [
    "## 5 -  Coregistration"
   ]
  },
  {
   "cell_type": "code",
   "execution_count": 44,
   "metadata": {
    "collapsed": false
   },
   "outputs": [
    {
     "name": "stdout",
     "output_type": "stream",
     "text": [
      "Les fichiers binaires /scratch/user/hirsch/goldstd/data_set/t0009/repos01/EPIBOLD/rat0009_epi_s04_d0001.nii et /scratch/user/hirsch/datadir/data_results_py/functionnal/crat0009_epi_s04_d0001.nii sont différents\r\n"
     ]
    }
   ],
   "source": [
    "!diff   /scratch/user/hirsch/goldstd/data_set/t0009/repos01/EPIBOLD/rat0009_epi_s04_d0001.nii   /scratch/user/hirsch/datadir/data_results_py/functionnal/crat0009_epi_s04_d0001.nii"
   ]
  },
  {
   "cell_type": "markdown",
   "metadata": {},
   "source": [
    "comparons les headers"
   ]
  },
  {
   "cell_type": "code",
   "execution_count": 45,
   "metadata": {
    "collapsed": false
   },
   "outputs": [],
   "source": [
    "!fslhd /scratch/user/hirsch/goldstd/data_set/t0009/repos01/EPIBOLD/rat0009_epi_s04_d0001.nii > /homes_unix/hirsch/_goldstd/goldstarResults/coreg1.txt\n",
    "!fslhd /scratch/user/hirsch/datadir/data_results_py/functionnal/crat0009_epi_s04_d0001.nii > /homes_unix/hirsch/_goldstd/goldstarResults/coreg2.txt"
   ]
  },
  {
   "cell_type": "code",
   "execution_count": 46,
   "metadata": {
    "collapsed": false
   },
   "outputs": [
    {
     "name": "stdout",
     "output_type": "stream",
     "text": [
      "2c2\r\n",
      "< filename       /scratch/user/hirsch/goldstd/data_set/t0009/repos01/EPIBOLD/rat0009_epi_s04_d0001.nii\r\n",
      "---\r\n",
      "> filename       /scratch/user/hirsch/datadir/data_results_py/functionnal/crat0009_epi_s04_d0001.nii\r\n"
     ]
    }
   ],
   "source": [
    "!diff coreg1.txt coreg2.txt"
   ]
  },
  {
   "cell_type": "markdown",
   "metadata": {},
   "source": [
    "les headers sont les mêmes\n",
    "Allons voir les bit maps"
   ]
  },
  {
   "cell_type": "code",
   "execution_count": 47,
   "metadata": {
    "collapsed": false
   },
   "outputs": [],
   "source": [
    "img1 = '/scratch/user/hirsch/goldstd/data_set/t0009/repos01/EPIBOLD/rat0009_epi_s04_d0001.nii'\n",
    "img2 = '/scratch/user/hirsch/datadir/data_results_py/functionnal/crat0009_epi_s04_d0001.nii'"
   ]
  },
  {
   "cell_type": "code",
   "execution_count": 48,
   "metadata": {
    "collapsed": true
   },
   "outputs": [],
   "source": [
    "i1=nib.load(img1)         \n",
    "i1array=np.asarray(i1.dataobj).copy() # Avoid caching the proxy image\n",
    "    \n",
    "i2=nib.load(img2)         \n",
    "i2array=np.asarray(i2.dataobj).copy()"
   ]
  },
  {
   "cell_type": "code",
   "execution_count": 49,
   "metadata": {
    "collapsed": false
   },
   "outputs": [
    {
     "data": {
      "text/plain": [
       "False"
      ]
     },
     "execution_count": 49,
     "metadata": {},
     "output_type": "execute_result"
    }
   ],
   "source": [
    "np.array_equal(i1array, i2array)"
   ]
  },
  {
   "cell_type": "code",
   "execution_count": 53,
   "metadata": {
    "collapsed": false
   },
   "outputs": [
    {
     "data": {
      "text/plain": [
       "False"
      ]
     },
     "execution_count": 53,
     "metadata": {},
     "output_type": "execute_result"
    }
   ],
   "source": [
    "np.allclose(i1array, i2array, rtol=1e-02)"
   ]
  },
  {
   "cell_type": "code",
   "execution_count": 32,
   "metadata": {
    "collapsed": true
   },
   "outputs": [],
   "source": [
    "!fslview /scratch/user/hirsch/goldstd/data_set/t0009/repos01/EPIBOLD/rat0009_epi_s04_d0001.nii"
   ]
  },
  {
   "cell_type": "code",
   "execution_count": 31,
   "metadata": {
    "collapsed": false
   },
   "outputs": [
    {
     "name": "stdout",
     "output_type": "stream",
     "text": [
      "[WARNING] Out of OEM specific VK codes, changing to unassigned\n",
      "[WARNING] Out of unassigned VK codes, assigning $FF\n",
      "^C\n"
     ]
    }
   ],
   "source": [
    "!mricron /scratch/user/hirsch/goldstd/data_set/t0009/repos01/EPIBOLD/rat0009_epi_s04_d0001.nii"
   ]
  },
  {
   "cell_type": "markdown",
   "metadata": {},
   "source": [
    "# Annexes"
   ]
  },
  {
   "cell_type": "code",
   "execution_count": 35,
   "metadata": {
    "collapsed": true
   },
   "outputs": [],
   "source": [
    "## batch SPM12"
   ]
  },
  {
   "cell_type": "code",
   "execution_count": 34,
   "metadata": {
    "collapsed": false,
    "scrolled": true
   },
   "outputs": [
    {
     "name": "stdout",
     "output_type": "stream",
     "text": [
      "%-----------------------------------------------------------------------\n",
      "% Job saved on 17-Mar-2017 14:00:36 by cfg_util (rev $Rev: 6460 $)\n",
      "% spm SPM - SPM12 (6906)\n",
      "% cfg_basicio BasicIO - Unknown\n",
      "%-----------------------------------------------------------------------\n",
      "matlabbatch{1}.spm.spatial.preproc.channel.vols = {'/scratch/user/hirsch/goldstd/data_set/t0009/repos01/T1/t0009_t1_s03.nii,1'};\n",
      "matlabbatch{1}.spm.spatial.preproc.channel.biasreg = 0.001;\n",
      "matlabbatch{1}.spm.spatial.preproc.channel.biasfwhm = 60;\n",
      "matlabbatch{1}.spm.spatial.preproc.channel.write = [1 1];\n",
      "matlabbatch{1}.spm.spatial.preproc.tissue(1).tpm = {'/srv/shares/softs/spm12-full/tpm/TPM.nii,1'};\n",
      "matlabbatch{1}.spm.spatial.preproc.tissue(1).ngaus = 1;\n",
      "matlabbatch{1}.spm.spatial.preproc.tissue(1).native = [1 0];\n",
      "matlabbatch{1}.spm.spatial.preproc.tissue(1).warped = [0 0];\n",
      "matlabbatch{1}.spm.spatial.preproc.tissue(2).tpm = {'/srv/shares/softs/spm12-full/tpm/TPM.nii,2'};\n",
      "matlabbatch{1}.spm.spatial.preproc.tissue(2).ngaus = 1;\n",
      "matlabbatch{1}.spm.spatial.preproc.tissue(2).native = [1 0];\n",
      "matlabbatch{1}.spm.spatial.preproc.tissue(2).warped = [0 0];\n",
      "matlabbatch{1}.spm.spatial.preproc.tissue(3).tpm = {'/srv/shares/softs/spm12-full/tpm/TPM.nii,3'};\n",
      "matlabbatch{1}.spm.spatial.preproc.tissue(3).ngaus = 2;\n",
      "matlabbatch{1}.spm.spatial.preproc.tissue(3).native = [1 0];\n",
      "matlabbatch{1}.spm.spatial.preproc.tissue(3).warped = [0 0];\n",
      "matlabbatch{1}.spm.spatial.preproc.tissue(4).tpm = {'/srv/shares/softs/spm12-full/tpm/TPM.nii,4'};\n",
      "matlabbatch{1}.spm.spatial.preproc.tissue(4).ngaus = 3;\n",
      "matlabbatch{1}.spm.spatial.preproc.tissue(4).native = [1 0];\n",
      "matlabbatch{1}.spm.spatial.preproc.tissue(4).warped = [0 0];\n",
      "matlabbatch{1}.spm.spatial.preproc.tissue(5).tpm = {'/srv/shares/softs/spm12-full/tpm/TPM.nii,5'};\n",
      "matlabbatch{1}.spm.spatial.preproc.tissue(5).ngaus = 4;\n",
      "matlabbatch{1}.spm.spatial.preproc.tissue(5).native = [1 0];\n",
      "matlabbatch{1}.spm.spatial.preproc.tissue(5).warped = [0 0];\n",
      "matlabbatch{1}.spm.spatial.preproc.tissue(6).tpm = {'/srv/shares/softs/spm12-full/tpm/TPM.nii,6'};\n",
      "matlabbatch{1}.spm.spatial.preproc.tissue(6).ngaus = 2;\n",
      "matlabbatch{1}.spm.spatial.preproc.tissue(6).native = [0 0];\n",
      "matlabbatch{1}.spm.spatial.preproc.tissue(6).warped = [0 0];\n",
      "matlabbatch{1}.spm.spatial.preproc.warp.mrf = 1;\n",
      "matlabbatch{1}.spm.spatial.preproc.warp.cleanup = 1;\n",
      "matlabbatch{1}.spm.spatial.preproc.warp.reg = [0 0.001 0.5 0.05 0.2];\n",
      "matlabbatch{1}.spm.spatial.preproc.warp.affreg = 'mni';\n",
      "matlabbatch{1}.spm.spatial.preproc.warp.fwhm = 0;\n",
      "matlabbatch{1}.spm.spatial.preproc.warp.samp = 3;\n",
      "matlabbatch{1}.spm.spatial.preproc.warp.write = [0 0];\n",
      "matlabbatch{2}.spm.util.imcalc.input(1) = cfg_dep('Segment: Bias Corrected (1)', substruct('.','val', '{}',{1}, '.','val', '{}',{1}, '.','val', '{}',{1}), substruct('.','channel', '()',{1}, '.','biascorr', '()',{':'}));\n",
      "matlabbatch{2}.spm.util.imcalc.input(2) = cfg_dep('Segment: c1 Images', substruct('.','val', '{}',{1}, '.','val', '{}',{1}, '.','val', '{}',{1}), substruct('.','tiss', '()',{1}, '.','c', '()',{':'}));\n",
      "matlabbatch{2}.spm.util.imcalc.input(3) = cfg_dep('Segment: c2 Images', substruct('.','val', '{}',{1}, '.','val', '{}',{1}, '.','val', '{}',{1}), substruct('.','tiss', '()',{2}, '.','c', '()',{':'}));\n",
      "matlabbatch{2}.spm.util.imcalc.output = 'dmt0009_t1_s02.nii';\n",
      "matlabbatch{2}.spm.util.imcalc.outdir = {'/scratch/user/hirsch/goldstd/data_set/t0009/repos01/T1'};\n",
      "matlabbatch{2}.spm.util.imcalc.expression = 'i1.*((i2+i3) > 0.2)';\n",
      "matlabbatch{2}.spm.util.imcalc.var = struct('name', {}, 'value', {});\n",
      "matlabbatch{2}.spm.util.imcalc.options.dmtx = 0;\n",
      "matlabbatch{2}.spm.util.imcalc.options.mask = 0;\n",
      "matlabbatch{2}.spm.util.imcalc.options.interp = 1;\n",
      "matlabbatch{2}.spm.util.imcalc.options.dtype = 4;\n",
      "%%\n",
      "matlabbatch{3}.spm.temporal.st.scans = {\n",
      "                                        {\n",
      "                                        '/scratch/user/hirsch/goldstd/data_set/t0009/repos01/EPIBOLD/t0009_epi_s04_d0001.nii,1'\n",
      "                                        '/scratch/user/hirsch/goldstd/data_set/t0009/repos01/EPIBOLD/t0009_epi_s04_d0002.nii,1'\n",
      "                                        '/scratch/user/hirsch/goldstd/data_set/t0009/repos01/EPIBOLD/t0009_epi_s04_d0003.nii,1'\n",
      "                                        '/scratch/user/hirsch/goldstd/data_set/t0009/repos01/EPIBOLD/t0009_epi_s04_d0004.nii,1'\n",
      "                                        '/scratch/user/hirsch/goldstd/data_set/t0009/repos01/EPIBOLD/t0009_epi_s04_d0005.nii,1'\n",
      "                                        '/scratch/user/hirsch/goldstd/data_set/t0009/repos01/EPIBOLD/t0009_epi_s04_d0006.nii,1'\n",
      "                                        '/scratch/user/hirsch/goldstd/data_set/t0009/repos01/EPIBOLD/t0009_epi_s04_d0007.nii,1'\n",
      "                                        '/scratch/user/hirsch/goldstd/data_set/t0009/repos01/EPIBOLD/t0009_epi_s04_d0008.nii,1'\n",
      "                                        '/scratch/user/hirsch/goldstd/data_set/t0009/repos01/EPIBOLD/t0009_epi_s04_d0009.nii,1'\n",
      "                                        '/scratch/user/hirsch/goldstd/data_set/t0009/repos01/EPIBOLD/t0009_epi_s04_d0010.nii,1'\n",
      "                                        '/scratch/user/hirsch/goldstd/data_set/t0009/repos01/EPIBOLD/t0009_epi_s04_d0011.nii,1'\n",
      "                                        '/scratch/user/hirsch/goldstd/data_set/t0009/repos01/EPIBOLD/t0009_epi_s04_d0012.nii,1'\n",
      "                                        '/scratch/user/hirsch/goldstd/data_set/t0009/repos01/EPIBOLD/t0009_epi_s04_d0013.nii,1'\n",
      "                                        '/scratch/user/hirsch/goldstd/data_set/t0009/repos01/EPIBOLD/t0009_epi_s04_d0014.nii,1'\n",
      "                                        '/scratch/user/hirsch/goldstd/data_set/t0009/repos01/EPIBOLD/t0009_epi_s04_d0015.nii,1'\n",
      "                                        '/scratch/user/hirsch/goldstd/data_set/t0009/repos01/EPIBOLD/t0009_epi_s04_d0016.nii,1'\n",
      "                                        '/scratch/user/hirsch/goldstd/data_set/t0009/repos01/EPIBOLD/t0009_epi_s04_d0017.nii,1'\n",
      "                                        '/scratch/user/hirsch/goldstd/data_set/t0009/repos01/EPIBOLD/t0009_epi_s04_d0018.nii,1'\n",
      "                                        '/scratch/user/hirsch/goldstd/data_set/t0009/repos01/EPIBOLD/t0009_epi_s04_d0019.nii,1'\n",
      "                                        '/scratch/user/hirsch/goldstd/data_set/t0009/repos01/EPIBOLD/t0009_epi_s04_d0020.nii,1'\n",
      "                                        '/scratch/user/hirsch/goldstd/data_set/t0009/repos01/EPIBOLD/t0009_epi_s04_d0021.nii,1'\n",
      "                                        '/scratch/user/hirsch/goldstd/data_set/t0009/repos01/EPIBOLD/t0009_epi_s04_d0022.nii,1'\n",
      "                                        '/scratch/user/hirsch/goldstd/data_set/t0009/repos01/EPIBOLD/t0009_epi_s04_d0023.nii,1'\n",
      "                                        '/scratch/user/hirsch/goldstd/data_set/t0009/repos01/EPIBOLD/t0009_epi_s04_d0024.nii,1'\n",
      "                                        '/scratch/user/hirsch/goldstd/data_set/t0009/repos01/EPIBOLD/t0009_epi_s04_d0025.nii,1'\n",
      "                                        '/scratch/user/hirsch/goldstd/data_set/t0009/repos01/EPIBOLD/t0009_epi_s04_d0026.nii,1'\n",
      "                                        '/scratch/user/hirsch/goldstd/data_set/t0009/repos01/EPIBOLD/t0009_epi_s04_d0027.nii,1'\n",
      "                                        '/scratch/user/hirsch/goldstd/data_set/t0009/repos01/EPIBOLD/t0009_epi_s04_d0028.nii,1'\n",
      "                                        '/scratch/user/hirsch/goldstd/data_set/t0009/repos01/EPIBOLD/t0009_epi_s04_d0029.nii,1'\n",
      "                                        '/scratch/user/hirsch/goldstd/data_set/t0009/repos01/EPIBOLD/t0009_epi_s04_d0030.nii,1'\n",
      "                                        '/scratch/user/hirsch/goldstd/data_set/t0009/repos01/EPIBOLD/t0009_epi_s04_d0031.nii,1'\n",
      "                                        '/scratch/user/hirsch/goldstd/data_set/t0009/repos01/EPIBOLD/t0009_epi_s04_d0032.nii,1'\n",
      "                                        '/scratch/user/hirsch/goldstd/data_set/t0009/repos01/EPIBOLD/t0009_epi_s04_d0033.nii,1'\n",
      "                                        '/scratch/user/hirsch/goldstd/data_set/t0009/repos01/EPIBOLD/t0009_epi_s04_d0034.nii,1'\n",
      "                                        '/scratch/user/hirsch/goldstd/data_set/t0009/repos01/EPIBOLD/t0009_epi_s04_d0035.nii,1'\n",
      "                                        '/scratch/user/hirsch/goldstd/data_set/t0009/repos01/EPIBOLD/t0009_epi_s04_d0036.nii,1'\n",
      "                                        '/scratch/user/hirsch/goldstd/data_set/t0009/repos01/EPIBOLD/t0009_epi_s04_d0037.nii,1'\n",
      "                                        '/scratch/user/hirsch/goldstd/data_set/t0009/repos01/EPIBOLD/t0009_epi_s04_d0038.nii,1'\n",
      "                                        '/scratch/user/hirsch/goldstd/data_set/t0009/repos01/EPIBOLD/t0009_epi_s04_d0039.nii,1'\n",
      "                                        '/scratch/user/hirsch/goldstd/data_set/t0009/repos01/EPIBOLD/t0009_epi_s04_d0040.nii,1'\n",
      "                                        '/scratch/user/hirsch/goldstd/data_set/t0009/repos01/EPIBOLD/t0009_epi_s04_d0041.nii,1'\n",
      "                                        '/scratch/user/hirsch/goldstd/data_set/t0009/repos01/EPIBOLD/t0009_epi_s04_d0042.nii,1'\n",
      "                                        '/scratch/user/hirsch/goldstd/data_set/t0009/repos01/EPIBOLD/t0009_epi_s04_d0043.nii,1'\n",
      "                                        '/scratch/user/hirsch/goldstd/data_set/t0009/repos01/EPIBOLD/t0009_epi_s04_d0044.nii,1'\n",
      "                                        '/scratch/user/hirsch/goldstd/data_set/t0009/repos01/EPIBOLD/t0009_epi_s04_d0045.nii,1'\n",
      "                                        '/scratch/user/hirsch/goldstd/data_set/t0009/repos01/EPIBOLD/t0009_epi_s04_d0046.nii,1'\n",
      "                                        '/scratch/user/hirsch/goldstd/data_set/t0009/repos01/EPIBOLD/t0009_epi_s04_d0047.nii,1'\n",
      "                                        '/scratch/user/hirsch/goldstd/data_set/t0009/repos01/EPIBOLD/t0009_epi_s04_d0048.nii,1'\n",
      "                                        '/scratch/user/hirsch/goldstd/data_set/t0009/repos01/EPIBOLD/t0009_epi_s04_d0049.nii,1'\n",
      "                                        '/scratch/user/hirsch/goldstd/data_set/t0009/repos01/EPIBOLD/t0009_epi_s04_d0050.nii,1'\n",
      "                                        '/scratch/user/hirsch/goldstd/data_set/t0009/repos01/EPIBOLD/t0009_epi_s04_d0051.nii,1'\n",
      "                                        '/scratch/user/hirsch/goldstd/data_set/t0009/repos01/EPIBOLD/t0009_epi_s04_d0052.nii,1'\n",
      "                                        '/scratch/user/hirsch/goldstd/data_set/t0009/repos01/EPIBOLD/t0009_epi_s04_d0053.nii,1'\n",
      "                                        '/scratch/user/hirsch/goldstd/data_set/t0009/repos01/EPIBOLD/t0009_epi_s04_d0054.nii,1'\n",
      "                                        '/scratch/user/hirsch/goldstd/data_set/t0009/repos01/EPIBOLD/t0009_epi_s04_d0055.nii,1'\n",
      "                                        '/scratch/user/hirsch/goldstd/data_set/t0009/repos01/EPIBOLD/t0009_epi_s04_d0056.nii,1'\n",
      "                                        '/scratch/user/hirsch/goldstd/data_set/t0009/repos01/EPIBOLD/t0009_epi_s04_d0057.nii,1'\n",
      "                                        '/scratch/user/hirsch/goldstd/data_set/t0009/repos01/EPIBOLD/t0009_epi_s04_d0058.nii,1'\n",
      "                                        '/scratch/user/hirsch/goldstd/data_set/t0009/repos01/EPIBOLD/t0009_epi_s04_d0059.nii,1'\n",
      "                                        '/scratch/user/hirsch/goldstd/data_set/t0009/repos01/EPIBOLD/t0009_epi_s04_d0060.nii,1'\n",
      "                                        '/scratch/user/hirsch/goldstd/data_set/t0009/repos01/EPIBOLD/t0009_epi_s04_d0061.nii,1'\n",
      "                                        '/scratch/user/hirsch/goldstd/data_set/t0009/repos01/EPIBOLD/t0009_epi_s04_d0062.nii,1'\n",
      "                                        '/scratch/user/hirsch/goldstd/data_set/t0009/repos01/EPIBOLD/t0009_epi_s04_d0063.nii,1'\n",
      "                                        '/scratch/user/hirsch/goldstd/data_set/t0009/repos01/EPIBOLD/t0009_epi_s04_d0064.nii,1'\n",
      "                                        '/scratch/user/hirsch/goldstd/data_set/t0009/repos01/EPIBOLD/t0009_epi_s04_d0065.nii,1'\n",
      "                                        '/scratch/user/hirsch/goldstd/data_set/t0009/repos01/EPIBOLD/t0009_epi_s04_d0066.nii,1'\n",
      "                                        '/scratch/user/hirsch/goldstd/data_set/t0009/repos01/EPIBOLD/t0009_epi_s04_d0067.nii,1'\n",
      "                                        '/scratch/user/hirsch/goldstd/data_set/t0009/repos01/EPIBOLD/t0009_epi_s04_d0068.nii,1'\n",
      "                                        '/scratch/user/hirsch/goldstd/data_set/t0009/repos01/EPIBOLD/t0009_epi_s04_d0069.nii,1'\n",
      "                                        '/scratch/user/hirsch/goldstd/data_set/t0009/repos01/EPIBOLD/t0009_epi_s04_d0070.nii,1'\n",
      "                                        '/scratch/user/hirsch/goldstd/data_set/t0009/repos01/EPIBOLD/t0009_epi_s04_d0071.nii,1'\n",
      "                                        '/scratch/user/hirsch/goldstd/data_set/t0009/repos01/EPIBOLD/t0009_epi_s04_d0072.nii,1'\n",
      "                                        '/scratch/user/hirsch/goldstd/data_set/t0009/repos01/EPIBOLD/t0009_epi_s04_d0073.nii,1'\n",
      "                                        '/scratch/user/hirsch/goldstd/data_set/t0009/repos01/EPIBOLD/t0009_epi_s04_d0074.nii,1'\n",
      "                                        '/scratch/user/hirsch/goldstd/data_set/t0009/repos01/EPIBOLD/t0009_epi_s04_d0075.nii,1'\n",
      "                                        '/scratch/user/hirsch/goldstd/data_set/t0009/repos01/EPIBOLD/t0009_epi_s04_d0076.nii,1'\n",
      "                                        '/scratch/user/hirsch/goldstd/data_set/t0009/repos01/EPIBOLD/t0009_epi_s04_d0077.nii,1'\n",
      "                                        '/scratch/user/hirsch/goldstd/data_set/t0009/repos01/EPIBOLD/t0009_epi_s04_d0078.nii,1'\n",
      "                                        '/scratch/user/hirsch/goldstd/data_set/t0009/repos01/EPIBOLD/t0009_epi_s04_d0079.nii,1'\n",
      "                                        '/scratch/user/hirsch/goldstd/data_set/t0009/repos01/EPIBOLD/t0009_epi_s04_d0080.nii,1'\n",
      "                                        '/scratch/user/hirsch/goldstd/data_set/t0009/repos01/EPIBOLD/t0009_epi_s04_d0081.nii,1'\n",
      "                                        '/scratch/user/hirsch/goldstd/data_set/t0009/repos01/EPIBOLD/t0009_epi_s04_d0082.nii,1'\n",
      "                                        '/scratch/user/hirsch/goldstd/data_set/t0009/repos01/EPIBOLD/t0009_epi_s04_d0083.nii,1'\n",
      "                                        '/scratch/user/hirsch/goldstd/data_set/t0009/repos01/EPIBOLD/t0009_epi_s04_d0084.nii,1'\n",
      "                                        '/scratch/user/hirsch/goldstd/data_set/t0009/repos01/EPIBOLD/t0009_epi_s04_d0085.nii,1'\n",
      "                                        '/scratch/user/hirsch/goldstd/data_set/t0009/repos01/EPIBOLD/t0009_epi_s04_d0086.nii,1'\n",
      "                                        '/scratch/user/hirsch/goldstd/data_set/t0009/repos01/EPIBOLD/t0009_epi_s04_d0087.nii,1'\n",
      "                                        '/scratch/user/hirsch/goldstd/data_set/t0009/repos01/EPIBOLD/t0009_epi_s04_d0088.nii,1'\n",
      "                                        '/scratch/user/hirsch/goldstd/data_set/t0009/repos01/EPIBOLD/t0009_epi_s04_d0089.nii,1'\n",
      "                                        '/scratch/user/hirsch/goldstd/data_set/t0009/repos01/EPIBOLD/t0009_epi_s04_d0090.nii,1'\n",
      "                                        '/scratch/user/hirsch/goldstd/data_set/t0009/repos01/EPIBOLD/t0009_epi_s04_d0091.nii,1'\n",
      "                                        '/scratch/user/hirsch/goldstd/data_set/t0009/repos01/EPIBOLD/t0009_epi_s04_d0092.nii,1'\n",
      "                                        '/scratch/user/hirsch/goldstd/data_set/t0009/repos01/EPIBOLD/t0009_epi_s04_d0093.nii,1'\n",
      "                                        '/scratch/user/hirsch/goldstd/data_set/t0009/repos01/EPIBOLD/t0009_epi_s04_d0094.nii,1'\n",
      "                                        '/scratch/user/hirsch/goldstd/data_set/t0009/repos01/EPIBOLD/t0009_epi_s04_d0095.nii,1'\n",
      "                                        '/scratch/user/hirsch/goldstd/data_set/t0009/repos01/EPIBOLD/t0009_epi_s04_d0096.nii,1'\n",
      "                                        '/scratch/user/hirsch/goldstd/data_set/t0009/repos01/EPIBOLD/t0009_epi_s04_d0097.nii,1'\n",
      "                                        '/scratch/user/hirsch/goldstd/data_set/t0009/repos01/EPIBOLD/t0009_epi_s04_d0098.nii,1'\n",
      "                                        '/scratch/user/hirsch/goldstd/data_set/t0009/repos01/EPIBOLD/t0009_epi_s04_d0099.nii,1'\n",
      "                                        '/scratch/user/hirsch/goldstd/data_set/t0009/repos01/EPIBOLD/t0009_epi_s04_d0100.nii,1'\n",
      "                                        '/scratch/user/hirsch/goldstd/data_set/t0009/repos01/EPIBOLD/t0009_epi_s04_d0101.nii,1'\n",
      "                                        '/scratch/user/hirsch/goldstd/data_set/t0009/repos01/EPIBOLD/t0009_epi_s04_d0102.nii,1'\n",
      "                                        '/scratch/user/hirsch/goldstd/data_set/t0009/repos01/EPIBOLD/t0009_epi_s04_d0103.nii,1'\n",
      "                                        '/scratch/user/hirsch/goldstd/data_set/t0009/repos01/EPIBOLD/t0009_epi_s04_d0104.nii,1'\n",
      "                                        '/scratch/user/hirsch/goldstd/data_set/t0009/repos01/EPIBOLD/t0009_epi_s04_d0105.nii,1'\n",
      "                                        '/scratch/user/hirsch/goldstd/data_set/t0009/repos01/EPIBOLD/t0009_epi_s04_d0106.nii,1'\n",
      "                                        '/scratch/user/hirsch/goldstd/data_set/t0009/repos01/EPIBOLD/t0009_epi_s04_d0107.nii,1'\n",
      "                                        '/scratch/user/hirsch/goldstd/data_set/t0009/repos01/EPIBOLD/t0009_epi_s04_d0108.nii,1'\n",
      "                                        '/scratch/user/hirsch/goldstd/data_set/t0009/repos01/EPIBOLD/t0009_epi_s04_d0109.nii,1'\n",
      "                                        '/scratch/user/hirsch/goldstd/data_set/t0009/repos01/EPIBOLD/t0009_epi_s04_d0110.nii,1'\n",
      "                                        '/scratch/user/hirsch/goldstd/data_set/t0009/repos01/EPIBOLD/t0009_epi_s04_d0111.nii,1'\n",
      "                                        '/scratch/user/hirsch/goldstd/data_set/t0009/repos01/EPIBOLD/t0009_epi_s04_d0112.nii,1'\n",
      "                                        '/scratch/user/hirsch/goldstd/data_set/t0009/repos01/EPIBOLD/t0009_epi_s04_d0113.nii,1'\n",
      "                                        '/scratch/user/hirsch/goldstd/data_set/t0009/repos01/EPIBOLD/t0009_epi_s04_d0114.nii,1'\n",
      "                                        '/scratch/user/hirsch/goldstd/data_set/t0009/repos01/EPIBOLD/t0009_epi_s04_d0115.nii,1'\n",
      "                                        '/scratch/user/hirsch/goldstd/data_set/t0009/repos01/EPIBOLD/t0009_epi_s04_d0116.nii,1'\n",
      "                                        '/scratch/user/hirsch/goldstd/data_set/t0009/repos01/EPIBOLD/t0009_epi_s04_d0117.nii,1'\n",
      "                                        '/scratch/user/hirsch/goldstd/data_set/t0009/repos01/EPIBOLD/t0009_epi_s04_d0118.nii,1'\n",
      "                                        '/scratch/user/hirsch/goldstd/data_set/t0009/repos01/EPIBOLD/t0009_epi_s04_d0119.nii,1'\n",
      "                                        '/scratch/user/hirsch/goldstd/data_set/t0009/repos01/EPIBOLD/t0009_epi_s04_d0120.nii,1'\n",
      "                                        '/scratch/user/hirsch/goldstd/data_set/t0009/repos01/EPIBOLD/t0009_epi_s04_d0121.nii,1'\n",
      "                                        '/scratch/user/hirsch/goldstd/data_set/t0009/repos01/EPIBOLD/t0009_epi_s04_d0122.nii,1'\n",
      "                                        '/scratch/user/hirsch/goldstd/data_set/t0009/repos01/EPIBOLD/t0009_epi_s04_d0123.nii,1'\n",
      "                                        '/scratch/user/hirsch/goldstd/data_set/t0009/repos01/EPIBOLD/t0009_epi_s04_d0124.nii,1'\n",
      "                                        '/scratch/user/hirsch/goldstd/data_set/t0009/repos01/EPIBOLD/t0009_epi_s04_d0125.nii,1'\n",
      "                                        '/scratch/user/hirsch/goldstd/data_set/t0009/repos01/EPIBOLD/t0009_epi_s04_d0126.nii,1'\n",
      "                                        '/scratch/user/hirsch/goldstd/data_set/t0009/repos01/EPIBOLD/t0009_epi_s04_d0127.nii,1'\n",
      "                                        '/scratch/user/hirsch/goldstd/data_set/t0009/repos01/EPIBOLD/t0009_epi_s04_d0128.nii,1'\n",
      "                                        '/scratch/user/hirsch/goldstd/data_set/t0009/repos01/EPIBOLD/t0009_epi_s04_d0129.nii,1'\n",
      "                                        '/scratch/user/hirsch/goldstd/data_set/t0009/repos01/EPIBOLD/t0009_epi_s04_d0130.nii,1'\n",
      "                                        '/scratch/user/hirsch/goldstd/data_set/t0009/repos01/EPIBOLD/t0009_epi_s04_d0131.nii,1'\n",
      "                                        '/scratch/user/hirsch/goldstd/data_set/t0009/repos01/EPIBOLD/t0009_epi_s04_d0132.nii,1'\n",
      "                                        '/scratch/user/hirsch/goldstd/data_set/t0009/repos01/EPIBOLD/t0009_epi_s04_d0133.nii,1'\n",
      "                                        '/scratch/user/hirsch/goldstd/data_set/t0009/repos01/EPIBOLD/t0009_epi_s04_d0134.nii,1'\n",
      "                                        '/scratch/user/hirsch/goldstd/data_set/t0009/repos01/EPIBOLD/t0009_epi_s04_d0135.nii,1'\n",
      "                                        '/scratch/user/hirsch/goldstd/data_set/t0009/repos01/EPIBOLD/t0009_epi_s04_d0136.nii,1'\n",
      "                                        '/scratch/user/hirsch/goldstd/data_set/t0009/repos01/EPIBOLD/t0009_epi_s04_d0137.nii,1'\n",
      "                                        '/scratch/user/hirsch/goldstd/data_set/t0009/repos01/EPIBOLD/t0009_epi_s04_d0138.nii,1'\n",
      "                                        '/scratch/user/hirsch/goldstd/data_set/t0009/repos01/EPIBOLD/t0009_epi_s04_d0139.nii,1'\n",
      "                                        '/scratch/user/hirsch/goldstd/data_set/t0009/repos01/EPIBOLD/t0009_epi_s04_d0140.nii,1'\n",
      "                                        '/scratch/user/hirsch/goldstd/data_set/t0009/repos01/EPIBOLD/t0009_epi_s04_d0141.nii,1'\n",
      "                                        '/scratch/user/hirsch/goldstd/data_set/t0009/repos01/EPIBOLD/t0009_epi_s04_d0142.nii,1'\n",
      "                                        '/scratch/user/hirsch/goldstd/data_set/t0009/repos01/EPIBOLD/t0009_epi_s04_d0143.nii,1'\n",
      "                                        '/scratch/user/hirsch/goldstd/data_set/t0009/repos01/EPIBOLD/t0009_epi_s04_d0144.nii,1'\n",
      "                                        '/scratch/user/hirsch/goldstd/data_set/t0009/repos01/EPIBOLD/t0009_epi_s04_d0145.nii,1'\n",
      "                                        '/scratch/user/hirsch/goldstd/data_set/t0009/repos01/EPIBOLD/t0009_epi_s04_d0146.nii,1'\n",
      "                                        '/scratch/user/hirsch/goldstd/data_set/t0009/repos01/EPIBOLD/t0009_epi_s04_d0147.nii,1'\n",
      "                                        '/scratch/user/hirsch/goldstd/data_set/t0009/repos01/EPIBOLD/t0009_epi_s04_d0148.nii,1'\n",
      "                                        '/scratch/user/hirsch/goldstd/data_set/t0009/repos01/EPIBOLD/t0009_epi_s04_d0149.nii,1'\n",
      "                                        '/scratch/user/hirsch/goldstd/data_set/t0009/repos01/EPIBOLD/t0009_epi_s04_d0150.nii,1'\n",
      "                                        '/scratch/user/hirsch/goldstd/data_set/t0009/repos01/EPIBOLD/t0009_epi_s04_d0151.nii,1'\n",
      "                                        '/scratch/user/hirsch/goldstd/data_set/t0009/repos01/EPIBOLD/t0009_epi_s04_d0152.nii,1'\n",
      "                                        '/scratch/user/hirsch/goldstd/data_set/t0009/repos01/EPIBOLD/t0009_epi_s04_d0153.nii,1'\n",
      "                                        '/scratch/user/hirsch/goldstd/data_set/t0009/repos01/EPIBOLD/t0009_epi_s04_d0154.nii,1'\n",
      "                                        '/scratch/user/hirsch/goldstd/data_set/t0009/repos01/EPIBOLD/t0009_epi_s04_d0155.nii,1'\n",
      "                                        '/scratch/user/hirsch/goldstd/data_set/t0009/repos01/EPIBOLD/t0009_epi_s04_d0156.nii,1'\n",
      "                                        '/scratch/user/hirsch/goldstd/data_set/t0009/repos01/EPIBOLD/t0009_epi_s04_d0157.nii,1'\n",
      "                                        '/scratch/user/hirsch/goldstd/data_set/t0009/repos01/EPIBOLD/t0009_epi_s04_d0158.nii,1'\n",
      "                                        '/scratch/user/hirsch/goldstd/data_set/t0009/repos01/EPIBOLD/t0009_epi_s04_d0159.nii,1'\n",
      "                                        '/scratch/user/hirsch/goldstd/data_set/t0009/repos01/EPIBOLD/t0009_epi_s04_d0160.nii,1'\n",
      "                                        '/scratch/user/hirsch/goldstd/data_set/t0009/repos01/EPIBOLD/t0009_epi_s04_d0161.nii,1'\n",
      "                                        '/scratch/user/hirsch/goldstd/data_set/t0009/repos01/EPIBOLD/t0009_epi_s04_d0162.nii,1'\n",
      "                                        '/scratch/user/hirsch/goldstd/data_set/t0009/repos01/EPIBOLD/t0009_epi_s04_d0163.nii,1'\n",
      "                                        '/scratch/user/hirsch/goldstd/data_set/t0009/repos01/EPIBOLD/t0009_epi_s04_d0164.nii,1'\n",
      "                                        '/scratch/user/hirsch/goldstd/data_set/t0009/repos01/EPIBOLD/t0009_epi_s04_d0165.nii,1'\n",
      "                                        '/scratch/user/hirsch/goldstd/data_set/t0009/repos01/EPIBOLD/t0009_epi_s04_d0166.nii,1'\n",
      "                                        '/scratch/user/hirsch/goldstd/data_set/t0009/repos01/EPIBOLD/t0009_epi_s04_d0167.nii,1'\n",
      "                                        '/scratch/user/hirsch/goldstd/data_set/t0009/repos01/EPIBOLD/t0009_epi_s04_d0168.nii,1'\n",
      "                                        '/scratch/user/hirsch/goldstd/data_set/t0009/repos01/EPIBOLD/t0009_epi_s04_d0169.nii,1'\n",
      "                                        '/scratch/user/hirsch/goldstd/data_set/t0009/repos01/EPIBOLD/t0009_epi_s04_d0170.nii,1'\n",
      "                                        '/scratch/user/hirsch/goldstd/data_set/t0009/repos01/EPIBOLD/t0009_epi_s04_d0171.nii,1'\n",
      "                                        '/scratch/user/hirsch/goldstd/data_set/t0009/repos01/EPIBOLD/t0009_epi_s04_d0172.nii,1'\n",
      "                                        '/scratch/user/hirsch/goldstd/data_set/t0009/repos01/EPIBOLD/t0009_epi_s04_d0173.nii,1'\n",
      "                                        '/scratch/user/hirsch/goldstd/data_set/t0009/repos01/EPIBOLD/t0009_epi_s04_d0174.nii,1'\n",
      "                                        '/scratch/user/hirsch/goldstd/data_set/t0009/repos01/EPIBOLD/t0009_epi_s04_d0175.nii,1'\n",
      "                                        '/scratch/user/hirsch/goldstd/data_set/t0009/repos01/EPIBOLD/t0009_epi_s04_d0176.nii,1'\n",
      "                                        '/scratch/user/hirsch/goldstd/data_set/t0009/repos01/EPIBOLD/t0009_epi_s04_d0177.nii,1'\n",
      "                                        '/scratch/user/hirsch/goldstd/data_set/t0009/repos01/EPIBOLD/t0009_epi_s04_d0178.nii,1'\n",
      "                                        '/scratch/user/hirsch/goldstd/data_set/t0009/repos01/EPIBOLD/t0009_epi_s04_d0179.nii,1'\n",
      "                                        '/scratch/user/hirsch/goldstd/data_set/t0009/repos01/EPIBOLD/t0009_epi_s04_d0180.nii,1'\n",
      "                                        '/scratch/user/hirsch/goldstd/data_set/t0009/repos01/EPIBOLD/t0009_epi_s04_d0181.nii,1'\n",
      "                                        '/scratch/user/hirsch/goldstd/data_set/t0009/repos01/EPIBOLD/t0009_epi_s04_d0182.nii,1'\n",
      "                                        '/scratch/user/hirsch/goldstd/data_set/t0009/repos01/EPIBOLD/t0009_epi_s04_d0183.nii,1'\n",
      "                                        '/scratch/user/hirsch/goldstd/data_set/t0009/repos01/EPIBOLD/t0009_epi_s04_d0184.nii,1'\n",
      "                                        '/scratch/user/hirsch/goldstd/data_set/t0009/repos01/EPIBOLD/t0009_epi_s04_d0185.nii,1'\n",
      "                                        '/scratch/user/hirsch/goldstd/data_set/t0009/repos01/EPIBOLD/t0009_epi_s04_d0186.nii,1'\n",
      "                                        '/scratch/user/hirsch/goldstd/data_set/t0009/repos01/EPIBOLD/t0009_epi_s04_d0187.nii,1'\n",
      "                                        '/scratch/user/hirsch/goldstd/data_set/t0009/repos01/EPIBOLD/t0009_epi_s04_d0188.nii,1'\n",
      "                                        '/scratch/user/hirsch/goldstd/data_set/t0009/repos01/EPIBOLD/t0009_epi_s04_d0189.nii,1'\n",
      "                                        '/scratch/user/hirsch/goldstd/data_set/t0009/repos01/EPIBOLD/t0009_epi_s04_d0190.nii,1'\n",
      "                                        '/scratch/user/hirsch/goldstd/data_set/t0009/repos01/EPIBOLD/t0009_epi_s04_d0191.nii,1'\n",
      "                                        '/scratch/user/hirsch/goldstd/data_set/t0009/repos01/EPIBOLD/t0009_epi_s04_d0192.nii,1'\n",
      "                                        '/scratch/user/hirsch/goldstd/data_set/t0009/repos01/EPIBOLD/t0009_epi_s04_d0193.nii,1'\n",
      "                                        '/scratch/user/hirsch/goldstd/data_set/t0009/repos01/EPIBOLD/t0009_epi_s04_d0194.nii,1'\n",
      "                                        '/scratch/user/hirsch/goldstd/data_set/t0009/repos01/EPIBOLD/t0009_epi_s04_d0195.nii,1'\n",
      "                                        '/scratch/user/hirsch/goldstd/data_set/t0009/repos01/EPIBOLD/t0009_epi_s04_d0196.nii,1'\n",
      "                                        '/scratch/user/hirsch/goldstd/data_set/t0009/repos01/EPIBOLD/t0009_epi_s04_d0197.nii,1'\n",
      "                                        '/scratch/user/hirsch/goldstd/data_set/t0009/repos01/EPIBOLD/t0009_epi_s04_d0198.nii,1'\n",
      "                                        '/scratch/user/hirsch/goldstd/data_set/t0009/repos01/EPIBOLD/t0009_epi_s04_d0199.nii,1'\n",
      "                                        '/scratch/user/hirsch/goldstd/data_set/t0009/repos01/EPIBOLD/t0009_epi_s04_d0200.nii,1'\n",
      "                                        '/scratch/user/hirsch/goldstd/data_set/t0009/repos01/EPIBOLD/t0009_epi_s04_d0201.nii,1'\n",
      "                                        '/scratch/user/hirsch/goldstd/data_set/t0009/repos01/EPIBOLD/t0009_epi_s04_d0202.nii,1'\n",
      "                                        '/scratch/user/hirsch/goldstd/data_set/t0009/repos01/EPIBOLD/t0009_epi_s04_d0203.nii,1'\n",
      "                                        '/scratch/user/hirsch/goldstd/data_set/t0009/repos01/EPIBOLD/t0009_epi_s04_d0204.nii,1'\n",
      "                                        '/scratch/user/hirsch/goldstd/data_set/t0009/repos01/EPIBOLD/t0009_epi_s04_d0205.nii,1'\n",
      "                                        '/scratch/user/hirsch/goldstd/data_set/t0009/repos01/EPIBOLD/t0009_epi_s04_d0206.nii,1'\n",
      "                                        '/scratch/user/hirsch/goldstd/data_set/t0009/repos01/EPIBOLD/t0009_epi_s04_d0207.nii,1'\n",
      "                                        '/scratch/user/hirsch/goldstd/data_set/t0009/repos01/EPIBOLD/t0009_epi_s04_d0208.nii,1'\n",
      "                                        '/scratch/user/hirsch/goldstd/data_set/t0009/repos01/EPIBOLD/t0009_epi_s04_d0209.nii,1'\n",
      "                                        '/scratch/user/hirsch/goldstd/data_set/t0009/repos01/EPIBOLD/t0009_epi_s04_d0210.nii,1'\n",
      "                                        '/scratch/user/hirsch/goldstd/data_set/t0009/repos01/EPIBOLD/t0009_epi_s04_d0211.nii,1'\n",
      "                                        '/scratch/user/hirsch/goldstd/data_set/t0009/repos01/EPIBOLD/t0009_epi_s04_d0212.nii,1'\n",
      "                                        '/scratch/user/hirsch/goldstd/data_set/t0009/repos01/EPIBOLD/t0009_epi_s04_d0213.nii,1'\n",
      "                                        '/scratch/user/hirsch/goldstd/data_set/t0009/repos01/EPIBOLD/t0009_epi_s04_d0214.nii,1'\n",
      "                                        '/scratch/user/hirsch/goldstd/data_set/t0009/repos01/EPIBOLD/t0009_epi_s04_d0215.nii,1'\n",
      "                                        '/scratch/user/hirsch/goldstd/data_set/t0009/repos01/EPIBOLD/t0009_epi_s04_d0216.nii,1'\n",
      "                                        '/scratch/user/hirsch/goldstd/data_set/t0009/repos01/EPIBOLD/t0009_epi_s04_d0217.nii,1'\n",
      "                                        '/scratch/user/hirsch/goldstd/data_set/t0009/repos01/EPIBOLD/t0009_epi_s04_d0218.nii,1'\n",
      "                                        '/scratch/user/hirsch/goldstd/data_set/t0009/repos01/EPIBOLD/t0009_epi_s04_d0219.nii,1'\n",
      "                                        '/scratch/user/hirsch/goldstd/data_set/t0009/repos01/EPIBOLD/t0009_epi_s04_d0220.nii,1'\n",
      "                                        '/scratch/user/hirsch/goldstd/data_set/t0009/repos01/EPIBOLD/t0009_epi_s04_d0221.nii,1'\n",
      "                                        '/scratch/user/hirsch/goldstd/data_set/t0009/repos01/EPIBOLD/t0009_epi_s04_d0222.nii,1'\n",
      "                                        '/scratch/user/hirsch/goldstd/data_set/t0009/repos01/EPIBOLD/t0009_epi_s04_d0223.nii,1'\n",
      "                                        '/scratch/user/hirsch/goldstd/data_set/t0009/repos01/EPIBOLD/t0009_epi_s04_d0224.nii,1'\n",
      "                                        '/scratch/user/hirsch/goldstd/data_set/t0009/repos01/EPIBOLD/t0009_epi_s04_d0225.nii,1'\n",
      "                                        '/scratch/user/hirsch/goldstd/data_set/t0009/repos01/EPIBOLD/t0009_epi_s04_d0226.nii,1'\n",
      "                                        '/scratch/user/hirsch/goldstd/data_set/t0009/repos01/EPIBOLD/t0009_epi_s04_d0227.nii,1'\n",
      "                                        '/scratch/user/hirsch/goldstd/data_set/t0009/repos01/EPIBOLD/t0009_epi_s04_d0228.nii,1'\n",
      "                                        '/scratch/user/hirsch/goldstd/data_set/t0009/repos01/EPIBOLD/t0009_epi_s04_d0229.nii,1'\n",
      "                                        '/scratch/user/hirsch/goldstd/data_set/t0009/repos01/EPIBOLD/t0009_epi_s04_d0230.nii,1'\n",
      "                                        '/scratch/user/hirsch/goldstd/data_set/t0009/repos01/EPIBOLD/t0009_epi_s04_d0231.nii,1'\n",
      "                                        '/scratch/user/hirsch/goldstd/data_set/t0009/repos01/EPIBOLD/t0009_epi_s04_d0232.nii,1'\n",
      "                                        '/scratch/user/hirsch/goldstd/data_set/t0009/repos01/EPIBOLD/t0009_epi_s04_d0233.nii,1'\n",
      "                                        '/scratch/user/hirsch/goldstd/data_set/t0009/repos01/EPIBOLD/t0009_epi_s04_d0234.nii,1'\n",
      "                                        '/scratch/user/hirsch/goldstd/data_set/t0009/repos01/EPIBOLD/t0009_epi_s04_d0235.nii,1'\n",
      "                                        '/scratch/user/hirsch/goldstd/data_set/t0009/repos01/EPIBOLD/t0009_epi_s04_d0236.nii,1'\n",
      "                                        '/scratch/user/hirsch/goldstd/data_set/t0009/repos01/EPIBOLD/t0009_epi_s04_d0237.nii,1'\n",
      "                                        '/scratch/user/hirsch/goldstd/data_set/t0009/repos01/EPIBOLD/t0009_epi_s04_d0238.nii,1'\n",
      "                                        '/scratch/user/hirsch/goldstd/data_set/t0009/repos01/EPIBOLD/t0009_epi_s04_d0239.nii,1'\n",
      "                                        '/scratch/user/hirsch/goldstd/data_set/t0009/repos01/EPIBOLD/t0009_epi_s04_d0240.nii,1'\n",
      "                                        }\n",
      "                                        }';\n",
      "%%\n",
      "matlabbatch{3}.spm.temporal.st.nslices = 31;\n",
      "matlabbatch{3}.spm.temporal.st.tr = 2;\n",
      "matlabbatch{3}.spm.temporal.st.ta = 1.93548387096774;\n",
      "matlabbatch{3}.spm.temporal.st.so = [1 3 5 7 9 11 13 15 17 19 21 23 25 27 29 31 2 4 6 8 10 12 14 16 18 20 22 24 26 28 30];\n",
      "matlabbatch{3}.spm.temporal.st.refslice = 31;\n",
      "matlabbatch{3}.spm.temporal.st.prefix = 'a';\n",
      "matlabbatch{4}.spm.spatial.realign.estwrite.data{1}(1) = cfg_dep('Slice Timing: Slice Timing Corr. Images (Sess 1)', substruct('.','val', '{}',{3}, '.','val', '{}',{1}, '.','val', '{}',{1}), substruct('()',{1}, '.','files'));\n",
      "matlabbatch{4}.spm.spatial.realign.estwrite.eoptions.quality = 0.9;\n",
      "matlabbatch{4}.spm.spatial.realign.estwrite.eoptions.sep = 4;\n",
      "matlabbatch{4}.spm.spatial.realign.estwrite.eoptions.fwhm = 5;\n",
      "matlabbatch{4}.spm.spatial.realign.estwrite.eoptions.rtm = 1;\n",
      "matlabbatch{4}.spm.spatial.realign.estwrite.eoptions.interp = 2;\n",
      "matlabbatch{4}.spm.spatial.realign.estwrite.eoptions.wrap = [0 0 0];\n",
      "matlabbatch{4}.spm.spatial.realign.estwrite.eoptions.weight = '';\n",
      "matlabbatch{4}.spm.spatial.realign.estwrite.roptions.which = [0 1];\n",
      "matlabbatch{4}.spm.spatial.realign.estwrite.roptions.interp = 4;\n",
      "matlabbatch{4}.spm.spatial.realign.estwrite.roptions.wrap = [0 0 0];\n",
      "matlabbatch{4}.spm.spatial.realign.estwrite.roptions.mask = 1;\n",
      "matlabbatch{4}.spm.spatial.realign.estwrite.roptions.prefix = 'r';\n",
      "matlabbatch{5}.spm.spatial.coreg.estwrite.ref(1) = cfg_dep('Image Calculator: ImCalc Computed Image: dmt0009_t1_s02.nii', substruct('.','val', '{}',{2}, '.','val', '{}',{1}, '.','val', '{}',{1}), substruct('.','files'));\n",
      "matlabbatch{5}.spm.spatial.coreg.estwrite.source(1) = cfg_dep('Realign: Estimate & Reslice: Mean Image', substruct('.','val', '{}',{4}, '.','val', '{}',{1}, '.','val', '{}',{1}, '.','val', '{}',{1}), substruct('.','rmean'));\n",
      "matlabbatch{5}.spm.spatial.coreg.estwrite.other(1) = cfg_dep('Realign: Estimate & Reslice: Realigned Images (Sess 1)', substruct('.','val', '{}',{4}, '.','val', '{}',{1}, '.','val', '{}',{1}, '.','val', '{}',{1}), substruct('.','sess', '()',{1}, '.','cfiles'));\n",
      "matlabbatch{5}.spm.spatial.coreg.estwrite.eoptions.cost_fun = 'nmi';\n",
      "matlabbatch{5}.spm.spatial.coreg.estwrite.eoptions.sep = [4 2];\n",
      "matlabbatch{5}.spm.spatial.coreg.estwrite.eoptions.tol = [0.02 0.02 0.02 0.001 0.001 0.001 0.01 0.01 0.01 0.001 0.001 0.001];\n",
      "matlabbatch{5}.spm.spatial.coreg.estwrite.eoptions.fwhm = [7 7];\n",
      "matlabbatch{5}.spm.spatial.coreg.estwrite.roptions.interp = 4;\n",
      "matlabbatch{5}.spm.spatial.coreg.estwrite.roptions.wrap = [0 0 0];\n",
      "matlabbatch{5}.spm.spatial.coreg.estwrite.roptions.mask = 0;\n",
      "matlabbatch{5}.spm.spatial.coreg.estwrite.roptions.prefix = 'r';\n",
      "matlabbatch{6}.spm.spatial.normalise.estwrite.subj.vol(1) = cfg_dep('Segment: Bias Corrected (1)', substruct('.','val', '{}',{1}, '.','val', '{}',{1}, '.','val', '{}',{1}), substruct('.','channel', '()',{1}, '.','biascorr', '()',{':'}));\n",
      "matlabbatch{6}.spm.spatial.normalise.estwrite.subj.resample(1) = cfg_dep('Segment: Bias Corrected (1)', substruct('.','val', '{}',{1}, '.','val', '{}',{1}, '.','val', '{}',{1}), substruct('.','channel', '()',{1}, '.','biascorr', '()',{':'}));\n",
      "matlabbatch{6}.spm.spatial.normalise.estwrite.subj.resample(2) = cfg_dep('Segment: c1 Images', substruct('.','val', '{}',{1}, '.','val', '{}',{1}, '.','val', '{}',{1}), substruct('.','tiss', '()',{1}, '.','c', '()',{':'}));\n",
      "matlabbatch{6}.spm.spatial.normalise.estwrite.subj.resample(3) = cfg_dep('Segment: c2 Images', substruct('.','val', '{}',{1}, '.','val', '{}',{1}, '.','val', '{}',{1}), substruct('.','tiss', '()',{2}, '.','c', '()',{':'}));\n",
      "matlabbatch{6}.spm.spatial.normalise.estwrite.subj.resample(4) = cfg_dep('Segment: c3 Images', substruct('.','val', '{}',{1}, '.','val', '{}',{1}, '.','val', '{}',{1}), substruct('.','tiss', '()',{3}, '.','c', '()',{':'}));\n",
      "matlabbatch{6}.spm.spatial.normalise.estwrite.subj.resample(5) = cfg_dep('Segment: c4 Images', substruct('.','val', '{}',{1}, '.','val', '{}',{1}, '.','val', '{}',{1}), substruct('.','tiss', '()',{4}, '.','c', '()',{':'}));\n",
      "matlabbatch{6}.spm.spatial.normalise.estwrite.subj.resample(6) = cfg_dep('Segment: c5 Images', substruct('.','val', '{}',{1}, '.','val', '{}',{1}, '.','val', '{}',{1}), substruct('.','tiss', '()',{5}, '.','c', '()',{':'}));\n",
      "matlabbatch{6}.spm.spatial.normalise.estwrite.subj.resample(7) = cfg_dep('Image Calculator: ImCalc Computed Image: dmt0009_t1_s02.nii', substruct('.','val', '{}',{2}, '.','val', '{}',{1}, '.','val', '{}',{1}), substruct('.','files'));\n",
      "matlabbatch{6}.spm.spatial.normalise.estwrite.subj.resample(8) = cfg_dep('Realign: Estimate & Reslice: Mean Image', substruct('.','val', '{}',{4}, '.','val', '{}',{1}, '.','val', '{}',{1}, '.','val', '{}',{1}), substruct('.','rmean'));\n",
      "matlabbatch{6}.spm.spatial.normalise.estwrite.subj.resample(9) = cfg_dep('Coregister: Estimate & Reslice: Coregistered Images', substruct('.','val', '{}',{5}, '.','val', '{}',{1}, '.','val', '{}',{1}, '.','val', '{}',{1}), substruct('.','cfiles'));\n",
      "matlabbatch{6}.spm.spatial.normalise.estwrite.eoptions.biasreg = 0.0001;\n",
      "matlabbatch{6}.spm.spatial.normalise.estwrite.eoptions.biasfwhm = 60;\n",
      "matlabbatch{6}.spm.spatial.normalise.estwrite.eoptions.tpm = {'/srv/shares/softs/spm12-full/tpm/TPM.nii'};\n",
      "matlabbatch{6}.spm.spatial.normalise.estwrite.eoptions.affreg = 'mni';\n",
      "matlabbatch{6}.spm.spatial.normalise.estwrite.eoptions.reg = [0 0.001 0.5 0.05 0.2];\n",
      "matlabbatch{6}.spm.spatial.normalise.estwrite.eoptions.fwhm = 0;\n",
      "matlabbatch{6}.spm.spatial.normalise.estwrite.eoptions.samp = 3;\n",
      "matlabbatch{6}.spm.spatial.normalise.estwrite.woptions.bb = [-90 -126 -72\n",
      "                                                             90 90 108];\n",
      "matlabbatch{6}.spm.spatial.normalise.estwrite.woptions.vox = [2 2 2];\n",
      "matlabbatch{6}.spm.spatial.normalise.estwrite.woptions.interp = 4;\n",
      "matlabbatch{6}.spm.spatial.normalise.estwrite.woptions.prefix = 'w';\n"
     ]
    }
   ],
   "source": [
    "!cat /homes_unix/hirsch/_goldstd/all_process_v9_thomas_goldstd.m"
   ]
  },
  {
   "cell_type": "code",
   "execution_count": null,
   "metadata": {
    "collapsed": true
   },
   "outputs": [],
   "source": []
  },
  {
   "cell_type": "code",
   "execution_count": null,
   "metadata": {
    "collapsed": true
   },
   "outputs": [],
   "source": []
  }
 ],
 "metadata": {
  "kernelspec": {
   "display_name": "Python 2",
   "language": "python",
   "name": "python2"
  },
  "language_info": {
   "codemirror_mode": {
    "name": "ipython",
    "version": 2
   },
   "file_extension": ".py",
   "mimetype": "text/x-python",
   "name": "python",
   "nbconvert_exporter": "python",
   "pygments_lexer": "ipython2",
   "version": "2.7.12"
  }
 },
 "nbformat": 4,
 "nbformat_minor": 0
}
