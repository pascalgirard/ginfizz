{
 "cells": [
  {
   "cell_type": "markdown",
   "metadata": {},
   "source": [
    "# Modèle ARIMA en R sur tous les voxels de la matière grise "
   ]
  },
  {
   "cell_type": "code",
   "execution_count": 1,
   "metadata": {
    "collapsed": true
   },
   "outputs": [],
   "source": [
    "import nibabel as nib\n",
    "import pandas as pd\n",
    "import numpy as np\n",
    "\n",
    "import nibabel as nib\n",
    "\n",
    "import matplotlib.pylab as plt\n",
    "%matplotlib inline\n",
    "from matplotlib.pylab import rcParams\n",
    "rcParams['figure.figsize'] = 15, 6"
   ]
  },
  {
   "cell_type": "code",
   "execution_count": 2,
   "metadata": {
    "collapsed": true
   },
   "outputs": [],
   "source": [
    "import nipype.interfaces.io as nio           # Data i/o\n",
    "import nipype.interfaces.spm as spm          # spm\n",
    "import nipype.interfaces.matlab as mlab      # how to run matlab\n",
    "import nipype.interfaces.utility as util     # utility\n",
    "import nipype.pipeline.engine as pe          # pypeline engine\n",
    "\n",
    "from nipype.interfaces.utility import Function, IdentityInterface\n"
   ]
  },
  {
   "cell_type": "code",
   "execution_count": 11,
   "metadata": {
    "collapsed": true
   },
   "outputs": [],
   "source": [
    "# creation of a subworflow to calculate the arima residus\n",
    "arimaResidus = pe.Workflow(name='arimaResidus')"
   ]
  },
  {
   "cell_type": "code",
   "execution_count": 12,
   "metadata": {
    "collapsed": false
   },
   "outputs": [
    {
     "data": {
      "text/plain": [
       "{'bpfile': <undefined>, 'gmMask': <undefined>}"
      ]
     },
     "execution_count": 12,
     "metadata": {},
     "output_type": "execute_result"
    }
   ],
   "source": [
    "sourcedir = '/scratch/user/hirsch/datadir4/data_results_py'\n",
    "\n",
    "\n",
    "from nipype import SelectFiles, Node\n",
    "templates = dict(gmMask=sourcedir+ \"/structural/normalized_files/\" + \"wc1*.nii\",\n",
    "                 bpfile=sourcedir+ \"/functionnal/bandpassedFile/\" + \"wcra*_merged_bp.nii.gz\")\n",
    "\n",
    "filesource = Node(SelectFiles(templates), \"filesource\")\n",
    "filesource.inputs.subject_id = \"subj1\"\n",
    "filesource.outputs.get()"
   ]
  },
  {
   "cell_type": "markdown",
   "metadata": {
    "collapsed": false
   },
   "source": [
    "bpfile = '/scratch/user/hirsch/datadir4/data_results_py/wcrat0009_epi_s04_d0001_merged_bp.nii.gz'\n",
    "bp =nib.load(bpfile)\n",
    "bparray = np.asarray(bp.dataobj).copy()"
   ]
  },
  {
   "cell_type": "code",
   "execution_count": 13,
   "metadata": {
    "collapsed": true
   },
   "outputs": [],
   "source": [
    "def computeGm(gmMask):\n",
    "    \n",
    "    import nibabel as nib\n",
    "    import numpy as np\n",
    "    import os\n",
    "    \n",
    "    # on regarde le grey matter\n",
    "    i1=nib.load(gmMask)         \n",
    "    i1array=np.asarray(i1.dataobj).copy() \n",
    "    i1array[(i1array )< 0.2] = 0\n",
    "    # binary mask the resulting image\n",
    "    i1array[i1array > 0] = 1\n",
    "    gm_coord = np.transpose(np.nonzero(i1array))\n",
    "    print len(gm_coord)\n",
    "    \n",
    "    out_file = os.getcwd() + '/' + 'gm_coord_file.npy'\n",
    "    np.save(out_file, gm_coord)\n",
    "    return out_file\n",
    "    "
   ]
  },
  {
   "cell_type": "code",
   "execution_count": 14,
   "metadata": {
    "collapsed": true
   },
   "outputs": [],
   "source": [
    "# identify all the gm voxels\n",
    "computeGmVoxels = Node(Function(input_names=['gmMask'],\n",
    "                                output_names=['out_file'],\n",
    "                                function=computeGm),\n",
    "                                name='computeGmVoxels')\n",
    "\n",
    "arimaResidus.connect(filesource, \"gmMask\", computeGmVoxels, \"gmMask\")"
   ]
  },
  {
   "cell_type": "code",
   "execution_count": 15,
   "metadata": {
    "collapsed": true
   },
   "outputs": [],
   "source": [
    "def computeArimaResidu(gmPointsFile, signalFile):\n",
    "    \n",
    "    import nibabel as nib\n",
    "    import numpy as np\n",
    "    import pandas as pd\n",
    "    import os\n",
    "    \n",
    "    import rpy2.robjects as ro\n",
    "    from rpy2.robjects import pandas2ri\n",
    "    pandas2ri.activate()\n",
    "\n",
    "    ro.r('library(stats)')\n",
    "   \n",
    "    gmPoints = np.load(gmPointsFile)\n",
    "    print gmPoints.size\n",
    "    print gmPoints[0]\n",
    "    \n",
    "    bp =nib.load(signalFile) \n",
    "    bparray = np.asarray(bp.dataobj).copy()\n",
    "    \n",
    "    # p.full((3, 5), 7, dtype=int)\n",
    "    result = np.zeros(bparray.shape,  dtype=np.float)\n",
    "    \n",
    "    nb_errors_arima=0\n",
    "    \n",
    "    for i in range(len(gmPoints)):\n",
    "        \n",
    "        #print gmPoints[i][0], gmPoints[i][1],gmPoints[i][2]\n",
    "    \n",
    "        # time serie associated to point i\n",
    "        bp_ts = bparray[gmPoints[i][0], gmPoints[i][1],gmPoints[i][2], : ]\n",
    "        #print bp_ts\n",
    "    \n",
    "        # covert numpy array to panda\n",
    "        l = len(bp_ts)\n",
    "        index = ['Row'+str(j) for j in range(1, l+1)]\n",
    "        df = pd.DataFrame(bp_ts, index=index)\n",
    "        #print df\n",
    "        rdf = pandas2ri.py2ri(df)\n",
    "        ro.globalenv['r_timeseries'] = rdf\n",
    "        \n",
    "        try:\n",
    "            # model the time serie with ARIMA\n",
    "            ro.r('fit <- arima(r_timeseries, order = c(1,1,1))')\n",
    "            # get the residu\n",
    "            residu = ro.r('fit$residuals')\n",
    "            # result update\n",
    "            result[gmPoints[i][0], gmPoints[i][1],gmPoints[i][2], : ] = residu\n",
    "        except:\n",
    "            nb_errors_arima += 1\n",
    "            print \"exception arima\"\n",
    "    \n",
    "    #print residu\n",
    "    print \"arima errors\"\n",
    "    print nb_errors_arima\n",
    "    \n",
    "    # save the residu array\n",
    "    out_file = os.getcwd() + '/' + 'residu.npy'\n",
    "    np.save(out_file, result)\n",
    "    \n",
    "    return out_file\n",
    "    \n",
    "    \n",
    "    \n",
    "    \n",
    "    "
   ]
  },
  {
   "cell_type": "code",
   "execution_count": 16,
   "metadata": {
    "collapsed": true
   },
   "outputs": [],
   "source": [
    "# identify all the gm voxels\n",
    "computeArimaResiduNode = Node(Function(input_names=['gmPointsFile', 'signalFile'],\n",
    "                                output_names=['out_file'],\n",
    "                                function=computeArimaResidu),\n",
    "                                name='computeArimaResiduNode')\n",
    "\n",
    "arimaResidus.connect(computeGmVoxels,  'out_file', computeArimaResiduNode, \"gmPointsFile\")\n",
    "arimaResidus.connect(filesource,  'bpfile', computeArimaResiduNode, \"signalFile\")"
   ]
  },
  {
   "cell_type": "code",
   "execution_count": 17,
   "metadata": {
    "collapsed": true
   },
   "outputs": [],
   "source": [
    "# data sink\n",
    "datasink = pe.Node(nio.DataSink(), name='datasink')\n",
    "datasink.inputs.base_directory = '/scratch/user/hirsch/datadir4/data_results_py'\n",
    "\n",
    "# for motion correction  plot files\n",
    "arimaResidus.connect(computeGmVoxels,  'out_file', datasink, 'functionnal.arima.gmVoxels')\n",
    "arimaResidus.connect(computeArimaResiduNode,  'out_file', datasink, 'functionnal.arima.arimaResidus')"
   ]
  },
  {
   "cell_type": "code",
   "execution_count": 18,
   "metadata": {
    "collapsed": false,
    "scrolled": true
   },
   "outputs": [
    {
     "name": "stderr",
     "output_type": "stream",
     "text": [
      "INFO:workflow:['check', 'execution', 'logging']\n",
      "INFO:workflow:Running serially.\n",
      "INFO:workflow:Executing node filesource in dir: /tmp/tmpTfQlK0/arimaResidus/filesource\n",
      "INFO:workflow:Runtime memory and threads stats unavailable\n",
      "INFO:workflow:Executing node computeGmVoxels in dir: /tmp/tmpo23zEn/arimaResidus/computeGmVoxels\n",
      "INFO:workflow:Executing node computeArimaResiduNode in dir: /tmp/tmpq0geUm/arimaResidus/computeArimaResiduNode\n"
     ]
    },
    {
     "name": "stdout",
     "output_type": "stream",
     "text": [
      "148054\n"
     ]
    },
    {
     "name": "stderr",
     "output_type": "stream",
     "text": [
      "INFO:workflow:Executing node datasink in dir: /tmp/tmpP1vYN_/arimaResidus/datasink\n",
      "/srv/shares/softs/anaconda2/lib/python2.7/site-packages/rpy2/rinterface/__init__.py:186: RRuntimeWarning: Error in solve.default(res$hessian * n.used, A) : \n",
      "  routine Lapack dgesv : le système est exactement singulier : U[1,1] = 0\n",
      "\n",
      "  warnings.warn(x, RRuntimeWarning)\n",
      "/srv/shares/softs/anaconda2/lib/python2.7/site-packages/rpy2/rinterface/__init__.py:186: RRuntimeWarning: De plus : \n",
      "  warnings.warn(x, RRuntimeWarning)\n",
      "/srv/shares/softs/anaconda2/lib/python2.7/site-packages/rpy2/rinterface/__init__.py:186: RRuntimeWarning: Warning message:\n",
      "\n",
      "  warnings.warn(x, RRuntimeWarning)\n",
      "/srv/shares/softs/anaconda2/lib/python2.7/site-packages/rpy2/rinterface/__init__.py:186: RRuntimeWarning: In arima(r_timeseries, order = c(1, 1, 1)) :\n",
      "  warnings.warn(x, RRuntimeWarning)\n",
      "/srv/shares/softs/anaconda2/lib/python2.7/site-packages/rpy2/rinterface/__init__.py:186: RRuntimeWarning: \n",
      " \n",
      "  warnings.warn(x, RRuntimeWarning)\n",
      "/srv/shares/softs/anaconda2/lib/python2.7/site-packages/rpy2/rinterface/__init__.py:186: RRuntimeWarning:  possible convergence problem: optim gave code = 1\n",
      "\n",
      "  warnings.warn(x, RRuntimeWarning)\n",
      "/srv/shares/softs/anaconda2/lib/python2.7/site-packages/rpy2/rinterface/__init__.py:186: RRuntimeWarning: Error in optim(init[mask], armaCSS, method = optim.method, hessian = FALSE,  : \n",
      "  la valeur initiale dans 'vmin' n'est pas finie\n",
      "\n",
      "  warnings.warn(x, RRuntimeWarning)\n",
      "INFO:workflow:Runtime memory and threads stats unavailable\n"
     ]
    },
    {
     "name": "stdout",
     "output_type": "stream",
     "text": [
      "444162\n",
      "[10 42 32]\n",
      "exception arima\n",
      "exception arima\n",
      "exception arima\n",
      "exception arima\n",
      "exception arima\n",
      "exception arima\n",
      "exception arima\n",
      "exception arima\n",
      "exception arima\n",
      "exception arima\n",
      "exception arima\n",
      "exception arima\n",
      "exception arima\n",
      "exception arima\n",
      "exception arima\n",
      "exception arima\n",
      "exception arima\n",
      "exception arima\n",
      "exception arima\n",
      "exception arima\n",
      "exception arima\n",
      "exception arima\n",
      "exception arima\n",
      "exception arima\n",
      "exception arima\n",
      "exception arima\n",
      "exception arima\n",
      "exception arima\n",
      "exception arima\n",
      "exception arima\n",
      "exception arima\n",
      "exception arima\n",
      "exception arima\n",
      "exception arima\n",
      "exception arima\n",
      "exception arima\n",
      "exception arima\n",
      "exception arima\n",
      "exception arima\n",
      "exception arima\n",
      "exception arima\n",
      "exception arima\n",
      "exception arima\n",
      "exception arima\n",
      "exception arima\n",
      "exception arima\n",
      "exception arima\n",
      "exception arima\n",
      "exception arima\n",
      "exception arima\n",
      "exception arima\n",
      "exception arima\n",
      "exception arima\n",
      "exception arima\n",
      "exception arima\n",
      "exception arima\n",
      "exception arima\n",
      "exception arima\n",
      "exception arima\n",
      "exception arima\n",
      "exception arima\n",
      "exception arima\n",
      "exception arima\n",
      "exception arima\n",
      "exception arima\n",
      "exception arima\n",
      "exception arima\n",
      "exception arima\n",
      "exception arima\n",
      "exception arima\n",
      "exception arima\n",
      "exception arima\n",
      "exception arima\n",
      "exception arima\n",
      "exception arima\n",
      "exception arima\n",
      "exception arima\n",
      "exception arima\n",
      "exception arima\n",
      "exception arima\n",
      "exception arima\n",
      "exception arima\n",
      "exception arima\n",
      "exception arima\n",
      "exception arima\n",
      "exception arima\n",
      "exception arima\n",
      "exception arima\n",
      "exception arima\n",
      "exception arima\n",
      "exception arima\n",
      "exception arima\n",
      "exception arima\n",
      "exception arima\n",
      "exception arima\n",
      "exception arima\n",
      "exception arima\n",
      "exception arima\n",
      "exception arima\n",
      "exception arima\n",
      "exception arima\n",
      "exception arima\n",
      "exception arima\n",
      "exception arima\n",
      "exception arima\n",
      "exception arima\n",
      "exception arima\n",
      "exception arima\n",
      "exception arima\n",
      "exception arima\n",
      "exception arima\n",
      "exception arima\n",
      "exception arima\n",
      "exception arima\n",
      "exception arima\n",
      "exception arima\n",
      "exception arima\n",
      "exception arima\n",
      "exception arima\n",
      "exception arima\n",
      "exception arima\n",
      "exception arima\n",
      "exception arima\n",
      "exception arima\n",
      "exception arima\n",
      "exception arima\n",
      "exception arima\n"
     ]
    },
    {
     "data": {
      "text/plain": [
       "<networkx.classes.digraph.DiGraph at 0x7fd9058f5390>"
      ]
     },
     "execution_count": 18,
     "metadata": {},
     "output_type": "execute_result"
    },
    {
     "name": "stdout",
     "output_type": "stream",
     "text": [
      "exception arima\n",
      "exception arima\n",
      "exception arima\n",
      "exception arima\n",
      "exception arima\n",
      "exception arima\n",
      "exception arima\n",
      "exception arima\n",
      "exception arima\n",
      "exception arima\n",
      "exception arima\n",
      "exception arima\n",
      "exception arima\n",
      "exception arima\n",
      "exception arima\n",
      "exception arima\n",
      "exception arima\n",
      "exception arima\n",
      "exception arima\n",
      "exception arima\n",
      "exception arima\n",
      "exception arima\n",
      "exception arima\n",
      "exception arima\n",
      "exception arima\n",
      "exception arima\n",
      "exception arima\n",
      "exception arima\n",
      "exception arima\n",
      "exception arima\n",
      "exception arima\n",
      "exception arima\n",
      "exception arima\n",
      "exception arima\n",
      "exception arima\n",
      "exception arima\n",
      "exception arima\n",
      "exception arima\n",
      "exception arima\n",
      "exception arima\n",
      "exception arima\n",
      "exception arima\n",
      "exception arima\n",
      "exception arima\n",
      "exception arima\n",
      "exception arima\n",
      "exception arima\n",
      "exception arima\n",
      "exception arima\n",
      "exception arima\n",
      "exception arima\n",
      "exception arima\n",
      "exception arima\n",
      "exception arima\n",
      "exception arima\n",
      "exception arima\n",
      "exception arima\n",
      "exception arima\n",
      "exception arima\n",
      "exception arima\n",
      "exception arima\n",
      "exception arima\n",
      "exception arima\n",
      "exception arima\n",
      "exception arima\n",
      "exception arima\n",
      "exception arima\n",
      "exception arima\n",
      "exception arima\n",
      "exception arima\n",
      "exception arima\n",
      "exception arima\n",
      "exception arima\n",
      "exception arima\n",
      "exception arima\n",
      "exception arima\n",
      "exception arima\n",
      "exception arima\n",
      "exception arima\n",
      "exception arima\n",
      "exception arima\n",
      "exception arima\n",
      "exception arima\n",
      "exception arima\n",
      "exception arima\n",
      "exception arima\n",
      "exception arima\n",
      "exception arima\n",
      "exception arima\n",
      "exception arima\n",
      "exception arima\n",
      "exception arima\n",
      "exception arima\n",
      "exception arima\n",
      "exception arima\n",
      "exception arima\n",
      "exception arima\n",
      "exception arima\n",
      "exception arima\n",
      "exception arima\n",
      "exception arima\n",
      "exception arima\n",
      "exception arima\n",
      "exception arima\n",
      "exception arima\n",
      "exception arima\n",
      "exception arima\n",
      "exception arima\n",
      "exception arima\n",
      "exception arima\n",
      "exception arima\n",
      "exception arima\n",
      "exception arima\n",
      "exception arima\n",
      "exception arima\n",
      "exception arima\n",
      "exception arima\n",
      "exception arima\n",
      "exception arima\n",
      "exception arima\n",
      "exception arima\n",
      "exception arima\n",
      "exception arima\n",
      "exception arima\n",
      "exception arima\n",
      "exception arima\n",
      "exception arima\n",
      "exception arima\n",
      "exception arima\n",
      "exception arima\n",
      "exception arima\n",
      "exception arima\n",
      "exception arima\n",
      "exception arima\n",
      "exception arima\n",
      "exception arima\n",
      "exception arima\n",
      "exception arima\n",
      "exception arima\n",
      "exception arima\n",
      "exception arima\n",
      "exception arima\n",
      "exception arima\n",
      "exception arima\n",
      "exception arima\n",
      "exception arima\n",
      "exception arima\n",
      "exception arima\n",
      "exception arima\n",
      "exception arima\n",
      "exception arima\n",
      "exception arima\n",
      "exception arima\n",
      "exception arima\n",
      "exception arima\n",
      "exception arima\n",
      "exception arima\n",
      "exception arima\n",
      "exception arima\n",
      "exception arima\n",
      "exception arima\n",
      "exception arima\n",
      "exception arima\n",
      "exception arima\n",
      "exception arima\n",
      "exception arima\n",
      "exception arima\n",
      "exception arima\n",
      "exception arima\n",
      "exception arima\n",
      "exception arima\n",
      "exception arima\n",
      "exception arima\n",
      "exception arima\n",
      "exception arima\n",
      "exception arima\n",
      "exception arima\n",
      "exception arima\n",
      "exception arima\n",
      "exception arima\n",
      "exception arima\n",
      "exception arima\n",
      "exception arima\n",
      "exception arima\n",
      "exception arima\n",
      "exception arima\n",
      "exception arima\n",
      "exception arima\n",
      "exception arima\n",
      "exception arima\n",
      "exception arima\n",
      "exception arima\n",
      "exception arima\n",
      "exception arima\n",
      "exception arima\n",
      "exception arima\n",
      "exception arima\n",
      "exception arima\n",
      "exception arima\n",
      "exception arima\n",
      "exception arima\n",
      "exception arima\n",
      "exception arima\n",
      "exception arima\n",
      "exception arima\n",
      "exception arima\n",
      "exception arima\n",
      "exception arima\n",
      "exception arima\n",
      "exception arima\n",
      "exception arima\n",
      "exception arima\n",
      "exception arima\n",
      "exception arima\n",
      "exception arima\n",
      "exception arima\n",
      "exception arima\n",
      "exception arima\n",
      "exception arima\n",
      "exception arima\n",
      "exception arima\n",
      "exception arima\n",
      "exception arima\n",
      "exception arima\n",
      "exception arima\n",
      "exception arima\n",
      "exception arima\n",
      "exception arima\n",
      "exception arima\n",
      "exception arima\n",
      "exception arima\n",
      "exception arima\n",
      "exception arima\n",
      "exception arima\n",
      "exception arima\n",
      "exception arima\n",
      "exception arima\n",
      "exception arima\n",
      "exception arima\n",
      "exception arima\n",
      "exception arima\n",
      "exception arima\n",
      "exception arima\n",
      "exception arima\n",
      "exception arima\n",
      "exception arima\n",
      "exception arima\n",
      "exception arima\n",
      "exception arima\n",
      "exception arima\n",
      "exception arima\n",
      "exception arima\n",
      "exception arima\n",
      "exception arima\n",
      "exception arima\n",
      "exception arima\n"
     ]
    }
   ],
   "source": [
    "arimaResidus.run()"
   ]
  },
  {
   "cell_type": "markdown",
   "metadata": {},
   "source": [
    "# Brouillons"
   ]
  },
  {
   "cell_type": "code",
   "execution_count": null,
   "metadata": {
    "collapsed": true
   },
   "outputs": [],
   "source": [
    "gm_file = '/scratch/user/hirsch/datadir4/data_results_py/functionnal/arima/gmVoxels/gm_coord_file.npy'\n",
    "bpfile = '/scratch/user/hirsch/datadir4/data_results_py/functionnal/bandpassedFile/wcrat0009_epi_s04_d0001_merged_bp.nii.gz'\n"
   ]
  },
  {
   "cell_type": "code",
   "execution_count": null,
   "metadata": {
    "collapsed": false
   },
   "outputs": [],
   "source": [
    "computeArimaResidu(gm_file, bpfile)"
   ]
  },
  {
   "cell_type": "code",
   "execution_count": null,
   "metadata": {
    "collapsed": false
   },
   "outputs": [],
   "source": [
    "gm_file = '/scratch/user/hirsch/datadir4/data_results_py/structural/normalized_files/wc1t0009_t1_s03.nii'\n",
    "gm_pts =  computeGm(gm_file)\n",
    "print gm_pts.shape\n",
    "print gm_pts\n",
    "    \n",
    "   "
   ]
  },
  {
   "cell_type": "code",
   "execution_count": null,
   "metadata": {
    "collapsed": false
   },
   "outputs": [],
   "source": [
    "# bpfile = '/scratch/user/hirsch/datadir4/data_results_py/wcrat0009_epi_s04_d0001_merged_bp.nii.gz'\n",
    "bp =nib.load(bpfile) \n",
    "bparray = np.asarray(bp.dataobj).copy()\n",
    "ts_bp =  bparray[10, 42,  39, :]\n",
    "plt.plot(ts_bp)"
   ]
  },
  {
   "cell_type": "code",
   "execution_count": null,
   "metadata": {
    "collapsed": false
   },
   "outputs": [],
   "source": [
    "ts_bp"
   ]
  },
  {
   "cell_type": "code",
   "execution_count": null,
   "metadata": {
    "collapsed": false
   },
   "outputs": [],
   "source": [
    "# covert numpy array to panda\n",
    "l = len(ts_bp)\n",
    "index = ['Row'+str(i) for i in range(1, l+1)]\n",
    "df = pd.DataFrame(ts_bp, index=index)"
   ]
  },
  {
   "cell_type": "code",
   "execution_count": null,
   "metadata": {
    "collapsed": false
   },
   "outputs": [],
   "source": [
    "import rpy2.robjects as ro\n",
    "from rpy2.robjects import pandas2ri\n",
    "pandas2ri.activate()\n",
    "\n",
    "ro.r('library(stats)')\n",
    "\n",
    "rdf = pandas2ri.py2ri(df)\n",
    "ro.globalenv['r_timeseries'] = rdf"
   ]
  },
  {
   "cell_type": "code",
   "execution_count": null,
   "metadata": {
    "collapsed": false
   },
   "outputs": [],
   "source": [
    "rdf"
   ]
  },
  {
   "cell_type": "markdown",
   "metadata": {},
   "source": [
    "## Modélisation Arima"
   ]
  },
  {
   "cell_type": "code",
   "execution_count": null,
   "metadata": {
    "collapsed": false
   },
   "outputs": [],
   "source": [
    "ro.r('fit <- arima(r_timeseries)')\n",
    "print(ro.r('summary(fit)'))"
   ]
  },
  {
   "cell_type": "code",
   "execution_count": null,
   "metadata": {
    "collapsed": false
   },
   "outputs": [],
   "source": [
    "ro.r('fit <- arima(r_timeseries, order = c(1,1,1))')\n",
    "print(ro.r('summary(fit)'))\n"
   ]
  },
  {
   "cell_type": "markdown",
   "metadata": {},
   "source": [
    "## plotting des residus ARIMA"
   ]
  },
  {
   "cell_type": "code",
   "execution_count": null,
   "metadata": {
    "collapsed": false
   },
   "outputs": [],
   "source": [
    "residu = ro.r('fit$residuals')"
   ]
  },
  {
   "cell_type": "code",
   "execution_count": null,
   "metadata": {
    "collapsed": false
   },
   "outputs": [],
   "source": [
    "rcParams['figure.figsize'] = 15, 6\n",
    "plt.plot(residu)"
   ]
  },
  {
   "cell_type": "markdown",
   "metadata": {},
   "source": [
    "## plotting des autocorrelations des residus ARIMA"
   ]
  },
  {
   "cell_type": "code",
   "execution_count": null,
   "metadata": {
    "collapsed": false
   },
   "outputs": [],
   "source": [
    "fig = plt.figure(figsize=(15,6))\n",
    "ax1 = fig.add_subplot(211)\n",
    "fig = sm.graphics.tsa.plot_acf(residu, lags=40, ax=ax1)\n",
    "ax2 = fig.add_subplot(212)\n",
    "fig = sm.graphics.tsa.plot_pacf(residu, lags=40, ax=ax2)"
   ]
  },
  {
   "cell_type": "markdown",
   "metadata": {},
   "source": [
    "## Comparaison des paramètres p, d, q "
   ]
  },
  {
   "cell_type": "code",
   "execution_count": null,
   "metadata": {
    "collapsed": false
   },
   "outputs": [],
   "source": [
    "ro.r('AIC(fit)')"
   ]
  },
  {
   "cell_type": "code",
   "execution_count": null,
   "metadata": {
    "collapsed": false
   },
   "outputs": [],
   "source": [
    "ro.r('fit1 <- arima(r_timeseries, order = c(1,4,1))')"
   ]
  },
  {
   "cell_type": "code",
   "execution_count": null,
   "metadata": {
    "collapsed": false
   },
   "outputs": [],
   "source": [
    "ro.r('AIC(fit1)')"
   ]
  },
  {
   "cell_type": "markdown",
   "metadata": {},
   "source": [
    "## qqplot"
   ]
  },
  {
   "cell_type": "code",
   "execution_count": null,
   "metadata": {
    "collapsed": false
   },
   "outputs": [],
   "source": [
    "import statsmodels.api as sm\n",
    "fig = plt.figure(figsize=(15,6))\n",
    "ax = fig.add_subplot(111)\n",
    "fig = sm.qqplot(residu, line='q', ax=ax, fit=True)"
   ]
  },
  {
   "cell_type": "code",
   "execution_count": null,
   "metadata": {
    "collapsed": true
   },
   "outputs": [],
   "source": []
  },
  {
   "cell_type": "code",
   "execution_count": null,
   "metadata": {
    "collapsed": true
   },
   "outputs": [],
   "source": []
  }
 ],
 "metadata": {
  "kernelspec": {
   "display_name": "Python 2",
   "language": "python",
   "name": "python2"
  },
  "language_info": {
   "codemirror_mode": {
    "name": "ipython",
    "version": 2
   },
   "file_extension": ".py",
   "mimetype": "text/x-python",
   "name": "python",
   "nbconvert_exporter": "python",
   "pygments_lexer": "ipython2",
   "version": "2.7.12"
  }
 },
 "nbformat": 4,
 "nbformat_minor": 0
}
