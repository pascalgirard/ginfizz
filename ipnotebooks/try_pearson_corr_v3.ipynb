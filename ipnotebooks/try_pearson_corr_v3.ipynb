{
 "cells": [
  {
   "cell_type": "markdown",
   "metadata": {},
   "source": [
    "v1 à V2 -> on va deja voir si on prend un voxel dans la région 1 comme seed, ca marche sur les voxels de la region 1<br>\n",
    "v2 à V3 -> on va  voir si on prend le signal moyen dans la région 1 comme seed, si ca marche sur les voxels de la region 1"
   ]
  },
  {
   "cell_type": "code",
   "execution_count": 2,
   "metadata": {
    "collapsed": true
   },
   "outputs": [],
   "source": [
    "import os\n",
    "\n",
    "import numpy as np\n",
    "import matplotlib.pyplot as plt\n",
    "import nibabel as nib\n",
    "from scipy.stats.stats import pearsonr\n"
   ]
  },
  {
   "cell_type": "code",
   "execution_count": 3,
   "metadata": {
    "collapsed": true
   },
   "outputs": [],
   "source": [
    "# first we get the region 1 image we will need it later\n",
    "regSeedFile = '/homes_unix/hirsch/_ipnotebooks/region_image.nii'\n",
    "reg_data=nib.load(regSeedFile) "
   ]
  },
  {
   "cell_type": "code",
   "execution_count": 4,
   "metadata": {
    "collapsed": true
   },
   "outputs": [],
   "source": [
    "# then we get the seed mean signal\n",
    "seedFile = '/scratch/user/hirsch/datadir4/data_results_py/functionnal/regMeants/arima_residu_ts.txt'\n",
    "seed_ts_array = np.loadtxt(seedFile)"
   ]
  },
  {
   "cell_type": "code",
   "execution_count": 5,
   "metadata": {
    "collapsed": true
   },
   "outputs": [],
   "source": [
    "# from an other hand we get the residus 4D matrix\n",
    "fmri_file = '/scratch/user/hirsch/datadir4/data_results_py/functionnal/arima/arimaResidus/_report/arima_residu.nii.gz'\n",
    "fmri_data=nib.load(fmri_file) \n",
    "fmri_array=np.asarray(fmri_data.dataobj)"
   ]
  },
  {
   "cell_type": "code",
   "execution_count": 6,
   "metadata": {
    "collapsed": false
   },
   "outputs": [
    {
     "name": "stdout",
     "output_type": "stream",
     "text": [
      "(1289, 3)\n",
      "3867\n"
     ]
    }
   ],
   "source": [
    "# we get the coordinnates of \n",
    "regSeedFile = '/homes_unix/hirsch/_ipnotebooks/region_image.nii'\n",
    "reg_data=nib.load(regSeedFile) \n",
    "regarray=np.asarray(reg_data.dataobj)\n",
    "# transpose(nonzero(a))\n",
    "reg1_coords = np.transpose(np.nonzero(regarray))\n",
    "volume_shape = reg1_coords.shape\n",
    "print volume_shape\n",
    "coords = list(np.ndindex(volume_shape))\n",
    "print len(coords)"
   ]
  },
  {
   "cell_type": "code",
   "execution_count": 8,
   "metadata": {
    "collapsed": true
   },
   "outputs": [],
   "source": [
    "# the we iterate the correlation calculation on all voxels of region 1\n",
    "\n",
    "# np.full(shape, fill_value, dtype=None, order='C')\n",
    "# the correlation matrix is initialized with all values to 0 \n",
    "corr_matrix = np.full(reg_data.shape, 0, dtype=float)\n",
    "\n",
    "for i in range(reg1_coords.shape[0]):\n",
    "    target_array = fmri_array[reg1_coords[i, 0], reg1_coords[i, 1],reg1_coords[i,2], :]\n",
    "    #print target_array\n",
    "    non_zero_nb = np.count_nonzero(target_array)\n",
    "    if non_zero_nb:\n",
    "        try:\n",
    "            p = pearsonr(seed_ts_array,target_array) \n",
    "            if p[0] > 0.5:\n",
    "                print p[0]\n",
    "            corr_matrix[reg1_coords[i, 0], reg1_coords[i, 1],reg1_coords[i,2]] = p[0] \n",
    "        except:\n",
    "            print \"exception\"\n",
    "    \n",
    "# save matrix in a file\n",
    "# create the resulting image\n",
    "corr_image = nib.Nifti1Image(corr_matrix,affine=reg_data.affine, header=reg_data.header)\n",
    "# save the correlation array\n",
    "out_file = os.getcwd() + '/' + 'corr_reg1v3.nii'\n",
    "nib.save(corr_image, out_file)\n"
   ]
  },
  {
   "cell_type": "code",
   "execution_count": null,
   "metadata": {
    "collapsed": true
   },
   "outputs": [],
   "source": []
  }
 ],
 "metadata": {
  "kernelspec": {
   "display_name": "Python 2",
   "language": "python",
   "name": "python2"
  },
  "language_info": {
   "codemirror_mode": {
    "name": "ipython",
    "version": 2
   },
   "file_extension": ".py",
   "mimetype": "text/x-python",
   "name": "python",
   "nbconvert_exporter": "python",
   "pygments_lexer": "ipython2",
   "version": "2.7.12"
  }
 },
 "nbformat": 4,
 "nbformat_minor": 0
}
