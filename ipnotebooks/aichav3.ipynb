{
 "cells": [
  {
   "cell_type": "markdown",
   "metadata": {},
   "source": [
    "nouvelles specs on part d'un nouvel atlas de 10 régions et on voit quels sont les voxels qui sont en correlations avec ces régions  <br> \n",
    "on va d'abord determiner combien il y de regions, puis on va les calculer à partir de l'atlas utilisateur"
   ]
  },
  {
   "cell_type": "code",
   "execution_count": 1,
   "metadata": {
    "collapsed": false
   },
   "outputs": [],
   "source": [
    "import nipype.interfaces.io as nio           # Data i/o\n",
    "import nipype.interfaces.spm as spm          # spm\n",
    "import nipype.interfaces.matlab as mlab      # how to run matlab\n",
    "import nipype.interfaces.utility as util     # utility\n",
    "import nipype.pipeline.engine as pe          # pypeline engine\n",
    "\n",
    "from nipype.interfaces.utility import Function, IdentityInterface\n",
    "\n",
    "from nipype.interfaces.fsl.maths import MathsCommand\n",
    "from nipype.interfaces.fsl.utils import PlotMotionParams   # to plot moco variabl\n",
    "from nipype import SelectFiles, Node, MapNode"
   ]
  },
  {
   "cell_type": "code",
   "execution_count": 2,
   "metadata": {
    "collapsed": true
   },
   "outputs": [],
   "source": [
    "# creation of a subworflow to process ROI Correlations\n",
    "connectivity = pe.Workflow(name='connectivity')"
   ]
  },
  {
   "cell_type": "code",
   "execution_count": 3,
   "metadata": {
    "collapsed": false
   },
   "outputs": [
    {
     "data": {
      "text/plain": [
       "{'arimaFile': <undefined>, 'atlasFile': <undefined>}"
      ]
     },
     "execution_count": 3,
     "metadata": {},
     "output_type": "execute_result"
    }
   ],
   "source": [
    "arimadir = '/scratch/user/hirsch/datadir4/data_results_py/functionnal/arima/arimaResidus'\n",
    "atlasdir = '/scratch/user/hirsch/datadir/data_set/t0009/repos01/Atlases'\n",
    "\n",
    "\n",
    "from nipype import SelectFiles, Node\n",
    "templates = dict(arimaFile=arimadir+ \"/\" + \"*.nii.gz\",\n",
    "                 atlasFile=atlasdir + \"/\" + \"atlas*.nii\")\n",
    "\n",
    "filesource = Node(SelectFiles(templates), \"filesource\")\n",
    "filesource.inputs.subject_id = \"subj1\"\n",
    "filesource.outputs.get()"
   ]
  },
  {
   "cell_type": "code",
   "execution_count": 4,
   "metadata": {
    "collapsed": true
   },
   "outputs": [],
   "source": [
    "# lets first determine how many regions have been defined by the user\n",
    "\n",
    "def identifyRegionNb(atlas_file):\n",
    "    \"\"\"compute Regions of Interest number, their integer values from atlas file given by the user, \n",
    "    output is the array of int number, each one representing a different ROI \"\"\"\n",
    "    \n",
    "    import numpy as np     \n",
    "    import nibabel as nib     \n",
    "    import os \n",
    "    \n",
    "    atlas_img=nib.load(atlas_file)         \n",
    "    atlas_array=np.asarray(atlas_img.dataobj).copy() # Avoid caching the proxy image\n",
    "    \n",
    "    atlas_array = atlas_array[atlas_array>0]\n",
    "    # np.unique(a)\n",
    "    regions = np.unique(atlas_array)\n",
    "    print regions\n",
    "    \n",
    "    regionsNb = len(regions) \n",
    "    \n",
    "    return regions\n",
    "    "
   ]
  },
  {
   "cell_type": "code",
   "execution_count": 5,
   "metadata": {
    "collapsed": true
   },
   "outputs": [],
   "source": [
    "# lets select region i\n",
    "# input is atlasFile, output is maskFile with region 1\n",
    "\n",
    "def selectRegion(atlas_file, n):\n",
    "    \n",
    "    import numpy as np     \n",
    "    import nibabel as nib     \n",
    "    import os \n",
    "    \n",
    "    atlas_img=nib.load(atlas_file)         \n",
    "    atlas_array=np.asarray(atlas_img.dataobj).copy() # Avoid caching the proxy image\n",
    "    \n",
    "    # test n = 1\n",
    "    region_array = atlas_array\n",
    "    # binary mask the resulting image\n",
    "    region_array[atlas_array <> n] = 0\n",
    "    region_array[atlas_array == n] = 1\n",
    "    \n",
    "    region_image = nib.Nifti1Image(region_array, atlas_img.affine, atlas_img.header)\n",
    "    \n",
    "    result = os.getcwd() + '/' + 'region_image' + str(n) + '.nii'\n",
    "    nib.save(region_image, result)\n",
    "    \n",
    "    return result\n"
   ]
  },
  {
   "cell_type": "code",
   "execution_count": 6,
   "metadata": {
    "collapsed": false
   },
   "outputs": [],
   "source": [
    "def identifyRegionAtlases(atlas_file):\n",
    "    \"\"\"compute Regions of Interest number, their integer values from atlas file given by the user,\n",
    "    then compute the atlas image for each of n values, then\n",
    "    output is the array of regions atlases, each one representing a different ROI \"\"\"\n",
    "    \n",
    "    roi_img_list =[]\n",
    "    roi_nbs = identifyRegionNb(atlas_file)\n",
    "    for i in roi_nbs:\n",
    "        \n",
    "        roi_img_list.append(selectRegion(atlas_file, i))\n",
    "        \n",
    "    return roi_img_list\n",
    "        \n",
    "    "
   ]
  },
  {
   "cell_type": "code",
   "execution_count": 7,
   "metadata": {
    "collapsed": false
   },
   "outputs": [
    {
     "name": "stdout",
     "output_type": "stream",
     "text": [
      "[1 2]\n"
     ]
    },
    {
     "data": {
      "text/plain": [
       "['/homes_unix/hirsch/_ipnotebooks/region_image1.nii',\n",
       " '/homes_unix/hirsch/_ipnotebooks/region_image2.nii']"
      ]
     },
     "execution_count": 7,
     "metadata": {},
     "output_type": "execute_result"
    }
   ],
   "source": [
    "# test fct \n",
    "identifyRegionAtlases('/scratch/user/hirsch/datadir/data_set/t0009/repos01/Atlases/atlas_2reg.nii')"
   ]
  },
  {
   "cell_type": "code",
   "execution_count": 8,
   "metadata": {
    "collapsed": false
   },
   "outputs": [],
   "source": [
    "# node to compute a mask of region 1 of user atlas\n",
    "IdentifyRegions = Node(Function(input_names=['atlas_file'],\n",
    "                                output_names=['regions_images_list'],\n",
    "                                function=identifyRegionAtlases),\n",
    "                                name='IdentifyRegions')\n",
    "\n",
    "\n",
    "\n",
    "connectivity.connect(filesource, \"atlasFile\", IdentifyRegions, \"atlas_file\")\n"
   ]
  },
  {
   "cell_type": "code",
   "execution_count": 9,
   "metadata": {
    "collapsed": false
   },
   "outputs": [],
   "source": [
    "# here comes the map node, we have to iterate the treatment for each region identified by previous step\n",
    "# b = pe.MapNode(interface=B(), name=\"b\", iterfield=['in_file']) \n",
    "# http://nipype.readthedocs.io/en/latest/users/mapnode_and_iterables.html\n",
    "\n",
    "# lets calculate the mean residu signal eg. time courses in every region \n",
    "\n",
    "\n",
    "from nipype.interfaces.fsl.utils import ImageMeants\n",
    "\n",
    "regMeants = MapNode(ImageMeants(), name=\"regMeants\", iterfield=['mask'])     \n",
    "regMeants.inputs.ignore_exception = False     \n",
    "regMeants.inputs.order = 1     \n",
    "regMeants.inputs.output_type = 'NIFTI_GZ'     \n",
    "regMeants.inputs.terminal_output = 'stream'     \n",
    "connectivity.connect(filesource, \"arimaFile\" , regMeants, \"in_file\")   \n",
    "connectivity.connect(IdentifyRegions, \"regions_images_list\", regMeants, \"mask\")\n"
   ]
  },
  {
   "cell_type": "markdown",
   "metadata": {},
   "source": [
    "reg1 = selectRegion('/scratch/user/hirsch/datadir/data_set/t0009/repos01/Atlases/atlas_2reg.nii', 2)\n",
    "print reg1"
   ]
  },
  {
   "cell_type": "code",
   "execution_count": 10,
   "metadata": {
    "collapsed": false
   },
   "outputs": [],
   "source": [
    "# data sink\n",
    "datasink = pe.Node(nio.DataSink(), name='datasink')\n",
    "datasink.inputs.base_directory = '/scratch/user/hirsch/datadir4/data_results_py'\n",
    "connectivity.connect(regMeants,  'out_file', datasink, 'functionnal.regMeants')"
   ]
  },
  {
   "cell_type": "code",
   "execution_count": 11,
   "metadata": {
    "collapsed": false
   },
   "outputs": [
    {
     "name": "stderr",
     "output_type": "stream",
     "text": [
      "INFO:workflow:['check', 'execution', 'logging']\n",
      "INFO:workflow:Running serially.\n",
      "INFO:workflow:Executing node filesource in dir: /tmp/tmpb_xDCM/connectivity/filesource\n",
      "INFO:workflow:Runtime memory and threads stats unavailable\n",
      "INFO:workflow:Executing node IdentifyRegions in dir: /tmp/tmpxiBaMO/connectivity/IdentifyRegions\n",
      "ERROR:workflow:['Node IdentifyRegions failed to run on host pipeau.dgin.bor.']\n",
      "INFO:workflow:Saving crash info to /homes_unix/hirsch/_ipnotebooks/crash-20170511-163954-hirsch-IdentifyRegions-b163b35d-2911-4f33-bfcc-5525ab7b3eac.pklz\n",
      "INFO:workflow:Traceback (most recent call last):\n",
      "  File \"/srv/shares/softs/anaconda2/lib/python2.7/site-packages/nipype/pipeline/plugins/linear.py\", line 39, in run\n",
      "    node.run(updatehash=updatehash)\n",
      "  File \"/srv/shares/softs/anaconda2/lib/python2.7/site-packages/nipype/pipeline/engine/nodes.py\", line 394, in run\n",
      "    self._run_interface()\n",
      "  File \"/srv/shares/softs/anaconda2/lib/python2.7/site-packages/nipype/pipeline/engine/nodes.py\", line 504, in _run_interface\n",
      "    self._result = self._run_command(execute)\n",
      "  File \"/srv/shares/softs/anaconda2/lib/python2.7/site-packages/nipype/pipeline/engine/nodes.py\", line 630, in _run_command\n",
      "    result = self._interface.run()\n",
      "  File \"/srv/shares/softs/anaconda2/lib/python2.7/site-packages/nipype/interfaces/base.py\", line 1034, in run\n",
      "    runtime = self._run_wrapper(runtime)\n",
      "  File \"/srv/shares/softs/anaconda2/lib/python2.7/site-packages/nipype/interfaces/base.py\", line 991, in _run_wrapper\n",
      "    runtime = self._run_interface(runtime)\n",
      "  File \"/srv/shares/softs/anaconda2/lib/python2.7/site-packages/nipype/interfaces/utility.py\", line 496, in _run_interface\n",
      "    raise out\n",
      "NameError: global name 'identifyRegionNb' is not defined\n",
      "Interface Function failed to run. \n",
      "\n",
      "INFO:workflow:***********************************\n",
      "ERROR:workflow:could not run node: connectivity.IdentifyRegions\n",
      "INFO:workflow:crashfile: /homes_unix/hirsch/_ipnotebooks/crash-20170511-163954-hirsch-IdentifyRegions-b163b35d-2911-4f33-bfcc-5525ab7b3eac.pklz\n",
      "INFO:workflow:***********************************\n"
     ]
    },
    {
     "ename": "RuntimeError",
     "evalue": "Workflow did not execute cleanly. Check log for details",
     "output_type": "error",
     "traceback": [
      "\u001b[1;31m---------------------------------------------------------------------------\u001b[0m",
      "\u001b[1;31mRuntimeError\u001b[0m                              Traceback (most recent call last)",
      "\u001b[1;32m<ipython-input-11-fae3d12cf0e8>\u001b[0m in \u001b[0;36m<module>\u001b[1;34m()\u001b[0m\n\u001b[1;32m----> 1\u001b[1;33m \u001b[0mconnectivity\u001b[0m\u001b[1;33m.\u001b[0m\u001b[0mrun\u001b[0m\u001b[1;33m(\u001b[0m\u001b[1;33m)\u001b[0m\u001b[1;33m\u001b[0m\u001b[0m\n\u001b[0m",
      "\u001b[1;32m/srv/shares/softs/anaconda2/lib/python2.7/site-packages/nipype/pipeline/engine/workflows.pyc\u001b[0m in \u001b[0;36mrun\u001b[1;34m(self, plugin, plugin_args, updatehash)\u001b[0m\n\u001b[0;32m    595\u001b[0m         \u001b[1;32mif\u001b[0m \u001b[0mstr2bool\u001b[0m\u001b[1;33m(\u001b[0m\u001b[0mself\u001b[0m\u001b[1;33m.\u001b[0m\u001b[0mconfig\u001b[0m\u001b[1;33m[\u001b[0m\u001b[1;34m'execution'\u001b[0m\u001b[1;33m]\u001b[0m\u001b[1;33m[\u001b[0m\u001b[1;34m'create_report'\u001b[0m\u001b[1;33m]\u001b[0m\u001b[1;33m)\u001b[0m\u001b[1;33m:\u001b[0m\u001b[1;33m\u001b[0m\u001b[0m\n\u001b[0;32m    596\u001b[0m             \u001b[0mself\u001b[0m\u001b[1;33m.\u001b[0m\u001b[0m_write_report_info\u001b[0m\u001b[1;33m(\u001b[0m\u001b[0mself\u001b[0m\u001b[1;33m.\u001b[0m\u001b[0mbase_dir\u001b[0m\u001b[1;33m,\u001b[0m \u001b[0mself\u001b[0m\u001b[1;33m.\u001b[0m\u001b[0mname\u001b[0m\u001b[1;33m,\u001b[0m \u001b[0mexecgraph\u001b[0m\u001b[1;33m)\u001b[0m\u001b[1;33m\u001b[0m\u001b[0m\n\u001b[1;32m--> 597\u001b[1;33m         \u001b[0mrunner\u001b[0m\u001b[1;33m.\u001b[0m\u001b[0mrun\u001b[0m\u001b[1;33m(\u001b[0m\u001b[0mexecgraph\u001b[0m\u001b[1;33m,\u001b[0m \u001b[0mupdatehash\u001b[0m\u001b[1;33m=\u001b[0m\u001b[0mupdatehash\u001b[0m\u001b[1;33m,\u001b[0m \u001b[0mconfig\u001b[0m\u001b[1;33m=\u001b[0m\u001b[0mself\u001b[0m\u001b[1;33m.\u001b[0m\u001b[0mconfig\u001b[0m\u001b[1;33m)\u001b[0m\u001b[1;33m\u001b[0m\u001b[0m\n\u001b[0m\u001b[0;32m    598\u001b[0m         \u001b[0mdatestr\u001b[0m \u001b[1;33m=\u001b[0m \u001b[0mdatetime\u001b[0m\u001b[1;33m.\u001b[0m\u001b[0mutcnow\u001b[0m\u001b[1;33m(\u001b[0m\u001b[1;33m)\u001b[0m\u001b[1;33m.\u001b[0m\u001b[0mstrftime\u001b[0m\u001b[1;33m(\u001b[0m\u001b[1;34m'%Y%m%dT%H%M%S'\u001b[0m\u001b[1;33m)\u001b[0m\u001b[1;33m\u001b[0m\u001b[0m\n\u001b[0;32m    599\u001b[0m         \u001b[1;32mif\u001b[0m \u001b[0mstr2bool\u001b[0m\u001b[1;33m(\u001b[0m\u001b[0mself\u001b[0m\u001b[1;33m.\u001b[0m\u001b[0mconfig\u001b[0m\u001b[1;33m[\u001b[0m\u001b[1;34m'execution'\u001b[0m\u001b[1;33m]\u001b[0m\u001b[1;33m[\u001b[0m\u001b[1;34m'write_provenance'\u001b[0m\u001b[1;33m]\u001b[0m\u001b[1;33m)\u001b[0m\u001b[1;33m:\u001b[0m\u001b[1;33m\u001b[0m\u001b[0m\n",
      "\u001b[1;32m/srv/shares/softs/anaconda2/lib/python2.7/site-packages/nipype/pipeline/plugins/linear.pyc\u001b[0m in \u001b[0;36mrun\u001b[1;34m(self, graph, config, updatehash)\u001b[0m\n\u001b[0;32m     55\u001b[0m                 \u001b[1;32mif\u001b[0m \u001b[0mself\u001b[0m\u001b[1;33m.\u001b[0m\u001b[0m_status_callback\u001b[0m\u001b[1;33m:\u001b[0m\u001b[1;33m\u001b[0m\u001b[0m\n\u001b[0;32m     56\u001b[0m                     \u001b[0mself\u001b[0m\u001b[1;33m.\u001b[0m\u001b[0m_status_callback\u001b[0m\u001b[1;33m(\u001b[0m\u001b[0mnode\u001b[0m\u001b[1;33m,\u001b[0m \u001b[1;34m'exception'\u001b[0m\u001b[1;33m)\u001b[0m\u001b[1;33m\u001b[0m\u001b[0m\n\u001b[1;32m---> 57\u001b[1;33m         \u001b[0mreport_nodes_not_run\u001b[0m\u001b[1;33m(\u001b[0m\u001b[0mnotrun\u001b[0m\u001b[1;33m)\u001b[0m\u001b[1;33m\u001b[0m\u001b[0m\n\u001b[0m",
      "\u001b[1;32m/srv/shares/softs/anaconda2/lib/python2.7/site-packages/nipype/pipeline/plugins/base.pyc\u001b[0m in \u001b[0;36mreport_nodes_not_run\u001b[1;34m(notrun)\u001b[0m\n\u001b[0;32m     93\u001b[0m                 \u001b[0mlogger\u001b[0m\u001b[1;33m.\u001b[0m\u001b[0mdebug\u001b[0m\u001b[1;33m(\u001b[0m\u001b[0msubnode\u001b[0m\u001b[1;33m.\u001b[0m\u001b[0m_id\u001b[0m\u001b[1;33m)\u001b[0m\u001b[1;33m\u001b[0m\u001b[0m\n\u001b[0;32m     94\u001b[0m         \u001b[0mlogger\u001b[0m\u001b[1;33m.\u001b[0m\u001b[0minfo\u001b[0m\u001b[1;33m(\u001b[0m\u001b[1;34m\"***********************************\"\u001b[0m\u001b[1;33m)\u001b[0m\u001b[1;33m\u001b[0m\u001b[0m\n\u001b[1;32m---> 95\u001b[1;33m         raise RuntimeError(('Workflow did not execute cleanly. '\n\u001b[0m\u001b[0;32m     96\u001b[0m                             'Check log for details'))\n\u001b[0;32m     97\u001b[0m \u001b[1;33m\u001b[0m\u001b[0m\n",
      "\u001b[1;31mRuntimeError\u001b[0m: Workflow did not execute cleanly. Check log for details"
     ]
    }
   ],
   "source": [
    "connectivity.run()"
   ]
  },
  {
   "cell_type": "markdown",
   "metadata": {},
   "source": [
    "# fin du pipe"
   ]
  },
  {
   "cell_type": "code",
   "execution_count": null,
   "metadata": {
    "collapsed": true
   },
   "outputs": [],
   "source": []
  }
 ],
 "metadata": {
  "kernelspec": {
   "display_name": "Python 2",
   "language": "python",
   "name": "python2"
  },
  "language_info": {
   "codemirror_mode": {
    "name": "ipython",
    "version": 2
   },
   "file_extension": ".py",
   "mimetype": "text/x-python",
   "name": "python",
   "nbconvert_exporter": "python",
   "pygments_lexer": "ipython2",
   "version": "2.7.12"
  }
 },
 "nbformat": 4,
 "nbformat_minor": 0
}
