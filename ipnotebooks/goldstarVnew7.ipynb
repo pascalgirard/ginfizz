{
 "cells": [
  {
   "cell_type": "markdown",
   "metadata": {},
   "source": [
    "entre V1 et V2, on apronfondit les headers de image calculator de SPM et la fct nibabel, plus le type du bit map <br>\n",
    "entre V2 et V3, on montre que les images calculator sont presques égales <br>\n",
    "entre V3 et V5, 12 avril on reprend tout depuis le debut. <br>\n",
    "on va comparer les coregistrations dans /scratch/user/hirsch/goldstar2/data_set/t0009/repos01/EPIBOLD <br>\n",
    "V6 c'est la nouvelle version du gold std avec toutes les étapes unitaires de SPM <br>\n",
    "v7 c la premiere version avec images calculées avec fsl maths"
   ]
  },
  {
   "cell_type": "markdown",
   "metadata": {},
   "source": [
    "#  FLI-IAM    Comparaison entre gold star (pure batch SPM) et le presque même batch (en nipype)\n"
   ]
  },
  {
   "cell_type": "code",
   "execution_count": 1,
   "metadata": {
    "collapsed": true
   },
   "outputs": [],
   "source": [
    "import numpy as np     \n",
    "import nibabel as nib     \n",
    "import os "
   ]
  },
  {
   "cell_type": "markdown",
   "metadata": {},
   "source": [
    "## 1 - Segment"
   ]
  },
  {
   "cell_type": "code",
   "execution_count": 2,
   "metadata": {
    "collapsed": false
   },
   "outputs": [],
   "source": [
    "!diff  /scratch/user/hirsch/datadir3/data_set_batch5/t0009/repos01/T1/c1t0009_t1_s03.nii   /scratch/user/hirsch/datadir2/data_results_py/structural/native_class/c1t0009_t1_s03.nii"
   ]
  },
  {
   "cell_type": "code",
   "execution_count": 3,
   "metadata": {
    "collapsed": true
   },
   "outputs": [],
   "source": [
    "!diff  /scratch/user/hirsch/datadir3/data_set_batch5/t0009/repos01/T1/c2t0009_t1_s03.nii   /scratch/user/hirsch/datadir2/data_results_py/structural/native_class/c2t0009_t1_s03.nii"
   ]
  },
  {
   "cell_type": "markdown",
   "metadata": {},
   "source": [
    "La segmentation est la même au bit près"
   ]
  },
  {
   "cell_type": "markdown",
   "metadata": {},
   "source": [
    "## 2 -  Image calculator"
   ]
  },
  {
   "cell_type": "code",
   "execution_count": 6,
   "metadata": {
    "collapsed": false
   },
   "outputs": [
    {
     "name": "stdout",
     "output_type": "stream",
     "text": [
      "Les fichiers binaires /scratch/user/hirsch/datadir3/data_set_batch5/t0009/repos01/T1/c1c2T1.nii et /scratch/user/hirsch/datadir2/data_results_py/structural/t1_masked_files/struct_image.nii sont différents\r\n"
     ]
    }
   ],
   "source": [
    "!diff    /scratch/user/hirsch/datadir3/data_set_batch5/t0009/repos01/T1/c1c2T1.nii  /scratch/user/hirsch/datadir2/data_results_py/structural/t1_masked_files/struct_image.nii"
   ]
  },
  {
   "cell_type": "code",
   "execution_count": 45,
   "metadata": {
    "collapsed": false,
    "scrolled": true
   },
   "outputs": [
    {
     "name": "stdout",
     "output_type": "stream",
     "text": [
      "filename       /scratch/user/hirsch/datadir3/data_set_batch5/t0009/repos01/T1/c1c2T1.nii\r\n",
      "\r\n",
      "sizeof_hdr     348\r\n",
      "data_type      INT16\r\n",
      "dim0           3\r\n",
      "dim1           180\r\n",
      "dim2           256\r\n",
      "dim3           256\r\n",
      "dim4           1\r\n",
      "dim5           1\r\n",
      "dim6           1\r\n",
      "dim7           1\r\n",
      "vox_units      mm\r\n",
      "time_units     s\r\n",
      "datatype       4\r\n",
      "nbyper         2\r\n",
      "bitpix         16\r\n",
      "pixdim0        0.000000\r\n",
      "pixdim1        1.000000\r\n",
      "pixdim2        1.000000\r\n",
      "pixdim3        1.000000\r\n",
      "pixdim4        0.000000\r\n",
      "pixdim5        0.000000\r\n",
      "pixdim6        0.000000\r\n",
      "pixdim7        0.000000\r\n",
      "vox_offset     352\r\n",
      "cal_max        0.0000\r\n",
      "cal_min        0.0000\r\n",
      "scl_slope      0.044728\r\n",
      "scl_inter      0.000000\r\n",
      "phase_dim      0\r\n",
      "freq_dim       0\r\n",
      "slice_dim      0\r\n",
      "slice_name     Unknown\r\n",
      "slice_code     0\r\n",
      "slice_start    0\r\n",
      "slice_end      0\r\n",
      "slice_duration 0.000000\r\n",
      "time_offset    0.000000\r\n",
      "intent         Unknown\r\n",
      "intent_code    0\r\n",
      "intent_name    \r\n",
      "intent_p1      0.000000\r\n",
      "intent_p2      0.000000\r\n",
      "intent_p3      0.000000\r\n",
      "qform_name     Aligned Anat\r\n",
      "qform_code     2\r\n",
      "qto_xyz:1      -0.998783  -0.041415  -0.026774  94.499512\r\n",
      "qto_xyz:2      -0.044491  0.990912  0.126939  -140.645218\r\n",
      "qto_xyz:3      -0.021273  -0.127975  0.991549  -101.764404\r\n",
      "qto_xyz:4      0.000000  0.000000  0.000000  1.000000\r\n",
      "qform_xorient  Right-to-Left\r\n",
      "qform_yorient  Posterior-to-Anterior\r\n",
      "qform_zorient  Inferior-to-Superior\r\n",
      "sform_name     Aligned Anat\r\n",
      "sform_code     2\r\n",
      "sto_xyz:1      -0.998783  -0.041415  -0.026771  94.499512\r\n",
      "sto_xyz:2      -0.044491  0.990912  0.126939  -140.645218\r\n",
      "sto_xyz:3      -0.021270  -0.127975  0.991549  -101.764404\r\n",
      "sto_xyz:4      0.000000  0.000000  0.000000  1.000000\r\n",
      "sform_xorient  Right-to-Left\r\n",
      "sform_yorient  Posterior-to-Anterior\r\n",
      "sform_zorient  Inferior-to-Superior\r\n",
      "file_type      NIFTI-1+\r\n",
      "file_code      1\r\n",
      "descrip        spm - algebra\r\n",
      "aux_file       \r\n"
     ]
    }
   ],
   "source": [
    "# le header de la sortie de image calculator\n",
    "!fslhd /scratch/user/hirsch/datadir3/data_set_batch5/t0009/repos01/T1/c1c2T1.nii"
   ]
  },
  {
   "cell_type": "code",
   "execution_count": 74,
   "metadata": {
    "collapsed": false,
    "scrolled": true
   },
   "outputs": [
    {
     "name": "stdout",
     "output_type": "stream",
     "text": [
      "Byte swapping\r\n",
      "filename       /scratch/user/hirsch/datadir3/data_results_py/structural/t1_masked_files/struct_image.nii\r\n",
      "\r\n",
      "sizeof_hdr     348\r\n",
      "data_type      INT16\r\n",
      "dim0           3\r\n",
      "dim1           180\r\n",
      "dim2           256\r\n",
      "dim3           256\r\n",
      "dim4           1\r\n",
      "dim5           1\r\n",
      "dim6           1\r\n",
      "dim7           1\r\n",
      "vox_units      mm\r\n",
      "time_units     s\r\n",
      "datatype       4\r\n",
      "nbyper         2\r\n",
      "bitpix         16\r\n",
      "pixdim0        0.000000\r\n",
      "pixdim1        1.000000\r\n",
      "pixdim2        1.000000\r\n",
      "pixdim3        1.000000\r\n",
      "pixdim4        0.000000\r\n",
      "pixdim5        0.000000\r\n",
      "pixdim6        0.000000\r\n",
      "pixdim7        0.000000\r\n",
      "vox_offset     352\r\n",
      "cal_max        0.0000\r\n",
      "cal_min        0.0000\r\n",
      "scl_slope      1.000000\r\n",
      "scl_inter      0.000000\r\n",
      "phase_dim      0\r\n",
      "freq_dim       0\r\n",
      "slice_dim      0\r\n",
      "slice_name     Unknown\r\n",
      "slice_code     0\r\n",
      "slice_start    0\r\n",
      "slice_end      0\r\n",
      "slice_duration 0.000000\r\n",
      "time_offset    0.000000\r\n",
      "intent         Unknown\r\n",
      "intent_code    0\r\n",
      "intent_name    \r\n",
      "intent_p1      0.000000\r\n",
      "intent_p2      0.000000\r\n",
      "intent_p3      0.000000\r\n",
      "qform_name     Aligned Anat\r\n",
      "qform_code     2\r\n",
      "qto_xyz:1      -0.998783  -0.041415  -0.026774  94.499512\r\n",
      "qto_xyz:2      -0.044491  0.990912  0.126939  -140.645218\r\n",
      "qto_xyz:3      -0.021273  -0.127975  0.991549  -101.764404\r\n",
      "qto_xyz:4      0.000000  0.000000  0.000000  1.000000\r\n",
      "qform_xorient  Right-to-Left\r\n",
      "qform_yorient  Posterior-to-Anterior\r\n",
      "qform_zorient  Inferior-to-Superior\r\n",
      "sform_name     Aligned Anat\r\n",
      "sform_code     2\r\n",
      "sto_xyz:1      -0.998783  -0.041415  -0.026771  94.499512\r\n",
      "sto_xyz:2      -0.044491  0.990912  0.126939  -140.645218\r\n",
      "sto_xyz:3      -0.021270  -0.127975  0.991549  -101.764404\r\n",
      "sto_xyz:4      0.000000  0.000000  0.000000  1.000000\r\n",
      "sform_xorient  Right-to-Left\r\n",
      "sform_yorient  Posterior-to-Anterior\r\n",
      "sform_zorient  Inferior-to-Superior\r\n",
      "file_type      NIFTI-1+\r\n",
      "file_code      1\r\n",
      "descrip        FSL3.3\r\n",
      "aux_file       \r\n"
     ]
    }
   ],
   "source": [
    "# le header de la sortie de image calculator\n",
    "!fslhd /scratch/user/hirsch/datadir3/data_results_py/structural/t1_masked_files/struct_image.nii"
   ]
  },
  {
   "cell_type": "markdown",
   "metadata": {},
   "source": [
    "comparaison des headers"
   ]
  },
  {
   "cell_type": "code",
   "execution_count": 71,
   "metadata": {
    "collapsed": false
   },
   "outputs": [
    {
     "name": "stdout",
     "output_type": "stream",
     "text": [
      "/homes_unix/hirsch/_goldstd/goldstarResults4\n"
     ]
    }
   ],
   "source": [
    "%cd /homes_unix/hirsch/_goldstd/goldstarResults4"
   ]
  },
  {
   "cell_type": "code",
   "execution_count": 72,
   "metadata": {
    "collapsed": false
   },
   "outputs": [],
   "source": [
    "!fslhd /scratch/user/hirsch/datadir3/data_set_batch5/t0009/repos01/T1/c1c2T1.nii > /homes_unix/hirsch/_goldstd/goldstarResults4/imgcalc1.txt\n",
    "!fslhd /scratch/user/hirsch/datadir3/data_results_py/structural/t1_masked_files/struct_image.nii > /homes_unix/hirsch/_goldstd/goldstarResults4/imgcalc2.txt"
   ]
  },
  {
   "cell_type": "code",
   "execution_count": 73,
   "metadata": {
    "collapsed": false,
    "scrolled": true
   },
   "outputs": [
    {
     "name": "stdout",
     "output_type": "stream",
     "text": [
      "1c1,2\r\n",
      "< filename       /scratch/user/hirsch/datadir3/data_set_batch5/t0009/repos01/T1/c1c2T1.nii\r\n",
      "---\r\n",
      "> Byte swapping\r\n",
      "> filename       /scratch/user/hirsch/datadir3/data_results_py/structural/t1_masked_files/struct_image.nii\r\n",
      "29c30\r\n",
      "< scl_slope      0.044728\r\n",
      "---\r\n",
      "> scl_slope      1.000000\r\n",
      "66c67\r\n",
      "< descrip        spm - algebra\r\n",
      "---\r\n",
      "> descrip        FSL3.3\r\n"
     ]
    }
   ],
   "source": [
    "!diff imgcalc1.txt imgcalc2.txt"
   ]
  },
  {
   "cell_type": "code",
   "execution_count": null,
   "metadata": {
    "collapsed": false,
    "scrolled": true
   },
   "outputs": [],
   "source": [
    "# le header de T1 pour en avoir le coeur net\n",
    "!fslhd /scratch/user/hirsch/datadir/data_set/t0009/repos01/T1/t0009_t1_s03.nii"
   ]
  },
  {
   "cell_type": "code",
   "execution_count": null,
   "metadata": {
    "collapsed": false,
    "scrolled": true
   },
   "outputs": [],
   "source": [
    "# le header de l'image calculee pour en avoir le coeur net\n",
    "!fslhd /scratch/user/hirsch/goldstar2/data_set/t0009/repos01/T1/dmt0009_t1_s02.nii"
   ]
  },
  {
   "cell_type": "code",
   "execution_count": null,
   "metadata": {
    "collapsed": false
   },
   "outputs": [],
   "source": [
    "# from SPM we will call image spm_img1\n",
    "spm_img1_ni = '/scratch/user/hirsch/goldstar2/data_set/t0009/repos01/T1/dmt0009_t1_s02.nii'\n",
    "#print(n1_header['sform_code'])\n",
    "spm_img1 = nib.load(spm_img1_ni)\n",
    "spm_img1_header = spm_img1.header\n",
    "print(spm_img1_header['sform_code'])"
   ]
  },
  {
   "cell_type": "code",
   "execution_count": null,
   "metadata": {
    "collapsed": false
   },
   "outputs": [],
   "source": [
    "print(spm_img1_header.get_data_dtype())"
   ]
  },
  {
   "cell_type": "code",
   "execution_count": null,
   "metadata": {
    "collapsed": false
   },
   "outputs": [],
   "source": [
    "spm_img1.affine"
   ]
  },
  {
   "cell_type": "code",
   "execution_count": null,
   "metadata": {
    "collapsed": false
   },
   "outputs": [],
   "source": [
    "spm_img1.affine.shape"
   ]
  },
  {
   "cell_type": "code",
   "execution_count": null,
   "metadata": {
    "collapsed": false
   },
   "outputs": [],
   "source": [
    "# from SPM we will call image bias removed T1 image\n",
    "spm_img0_ni = '/scratch/user/hirsch/goldstar2/data_set/t0009/repos01/T1/mt0009_t1_s03.nii'\n",
    "#print(n1_header['sform_code'])\n",
    "spm_img0 = nib.load(spm_img0_ni)\n",
    "spm_img0_header = spm_img0.header\n",
    "print(spm_img0_header['sform_code'])\n",
    "print spm_img0.affine\n",
    "print spm_img0.affine.shape"
   ]
  },
  {
   "cell_type": "code",
   "execution_count": null,
   "metadata": {
    "collapsed": false
   },
   "outputs": [],
   "source": [
    "# from SPM we will call image spm_img1\n",
    "spm_img2_ni = '/scratch/user/hirsch/datadir/data_results_py/structural/t1_masked_files/struct_image.nii'\n",
    "#print(n1_header['sform_code'])\n",
    "spm_img2 = nib.load(spm_img2_ni)\n",
    "spm_img2_header = spm_img2.header\n",
    "print(spm_img2_header['sform_code'])\n",
    "print spm_img2.affine\n",
    "print spm_img2.affine.shape\n"
   ]
  },
  {
   "cell_type": "code",
   "execution_count": null,
   "metadata": {
    "collapsed": false,
    "scrolled": true
   },
   "outputs": [],
   "source": [
    "# le header de l'image calculee pour en avoir le coeur net\n",
    "!fslhd /scratch/user/hirsch/datadir/data_results_py/structural/t1_masked_files/struct_image.nii"
   ]
  },
  {
   "cell_type": "code",
   "execution_count": null,
   "metadata": {
    "collapsed": false,
    "scrolled": true
   },
   "outputs": [],
   "source": [
    "!fslhd  /homes_unix/hirsch/_goldstd/goldstarResults/struct_image.nii"
   ]
  },
  {
   "cell_type": "markdown",
   "metadata": {},
   "source": [
    "todo etudier la différence entre les 2 images -> aller du coté des headers"
   ]
  },
  {
   "cell_type": "markdown",
   "metadata": {},
   "source": [
    "## 3 -  Slice timing"
   ]
  },
  {
   "cell_type": "code",
   "execution_count": 46,
   "metadata": {
    "collapsed": false
   },
   "outputs": [],
   "source": [
    "!diff   /scratch/user/hirsch/datadir3/data_set_batch5/t0009/repos01/EPIBOLD/at0009_epi_s04_d0001.nii   /scratch/user/hirsch/datadir2/data_results_py/functionnal/at0009_epi_s04_d0001.nii "
   ]
  },
  {
   "cell_type": "code",
   "execution_count": 47,
   "metadata": {
    "collapsed": false
   },
   "outputs": [],
   "source": [
    "!cmp /scratch/user/hirsch/datadir3/data_set_batch5/t0009/repos01/EPIBOLD/at0009_epi_s04_d0001.nii   /scratch/user/hirsch/datadir2/data_results_py/functionnal/at0009_epi_s04_d0001.nii "
   ]
  },
  {
   "cell_type": "markdown",
   "metadata": {},
   "source": [
    "les images sont les mêmes"
   ]
  },
  {
   "cell_type": "markdown",
   "metadata": {},
   "source": [
    "## 4 -  Realignement"
   ]
  },
  {
   "cell_type": "code",
   "execution_count": 13,
   "metadata": {
    "collapsed": false
   },
   "outputs": [
    {
     "name": "stdout",
     "output_type": "stream",
     "text": [
      "/homes_unix/hirsch/_goldstd/goldstarResults10\n"
     ]
    },
    {
     "data": {
      "text/plain": [
       "u'/homes_unix/hirsch/_goldstd/goldstarResults10'"
      ]
     },
     "execution_count": 13,
     "metadata": {},
     "output_type": "execute_result"
    }
   ],
   "source": [
    "%cd /homes_unix/hirsch/_goldstd/goldstarResults10\n",
    "%pwd"
   ]
  },
  {
   "cell_type": "code",
   "execution_count": 14,
   "metadata": {
    "collapsed": false
   },
   "outputs": [
    {
     "name": "stdout",
     "output_type": "stream",
     "text": [
      "Les fichiers binaires /scratch/user/hirsch/datadir3/data_set_batch5/t0009/repos01/EPIBOLD/rat0009_epi_s04_d0001.nii et /scratch/user/hirsch/datadir4/data_results_py/functionnal/realigned_files/rat0009_epi_s04_d0001.nii sont différents\r\n"
     ]
    }
   ],
   "source": [
    "!diff   /scratch/user/hirsch/datadir3/data_set_batch5/t0009/repos01/EPIBOLD/rat0009_epi_s04_d0001.nii   /scratch/user/hirsch/datadir4/data_results_py/functionnal/realigned_files/rat0009_epi_s04_d0001.nii "
   ]
  },
  {
   "cell_type": "code",
   "execution_count": 15,
   "metadata": {
    "collapsed": false
   },
   "outputs": [
    {
     "name": "stdout",
     "output_type": "stream",
     "text": [
      "\r\n",
      "WARNING:: Inconsistent orientations for individual images in pipeline!\r\n",
      "          Will use voxel-based orientation which is probably incorrect - *PLEASE CHECK*!\r\n",
      "\r\n"
     ]
    }
   ],
   "source": [
    "!fslmaths   /scratch/user/hirsch/datadir3/data_set_batch5/t0009/repos01/EPIBOLD/rat0009_epi_s04_d0001.nii -sub  /scratch/user/hirsch/datadir4/data_results_py/functionnal/realigned_files/rat0009_epi_s04_d0001.nii /homes_unix/hirsch/_goldstd/diff_realigned01.nii  "
   ]
  },
  {
   "cell_type": "code",
   "execution_count": 16,
   "metadata": {
    "collapsed": false
   },
   "outputs": [
    {
     "name": "stdout",
     "output_type": "stream",
     "text": [
      "0.000000 0.000000 \r\n"
     ]
    }
   ],
   "source": [
    "!fslstats /homes_unix/hirsch/_goldstd/diff_realigned01.nii -r"
   ]
  },
  {
   "cell_type": "code",
   "execution_count": 17,
   "metadata": {
    "collapsed": false
   },
   "outputs": [
    {
     "name": "stdout",
     "output_type": "stream",
     "text": [
      "2c2\r\n",
      "< filename       /scratch/user/hirsch/datadir3/data_set_batch5/t0009/repos01/EPIBOLD/rat0009_epi_s04_d0001.nii\r\n",
      "---\r\n",
      "> filename       /scratch/user/hirsch/datadir4/data_results_py/functionnal/realigned_files/rat0009_epi_s04_d0001.nii\r\n",
      "20c20\r\n",
      "< pixdim1        3.750000\r\n",
      "---\r\n",
      "> pixdim1        3.749999\r\n",
      "49,51c49,51\r\n",
      "< qto_xyz:1      -3.742074  -0.174496  -0.170092  123.189674\r\n",
      "< qto_xyz:2      -0.181441  3.742512  0.152344  -98.689156\r\n",
      "< qto_xyz:3      -0.162663  -0.160252  3.743044  -30.354097\r\n",
      "---\r\n",
      "> qto_xyz:1      -3.745490  0.078319  -0.166323  116.044998\r\n",
      "> qto_xyz:2      0.093387  3.732910  -0.345240  -95.395798\r\n",
      "> qto_xyz:3      -0.158354  0.348967  3.730370  -45.065498\r\n",
      "58,60c58,60\r\n",
      "< sto_xyz:1      -3.742074  -0.174496  -0.170086  123.189674\r\n",
      "< sto_xyz:2      -0.181440  3.742512  0.152344  -98.689156\r\n",
      "< sto_xyz:3      -0.162658  -0.160252  3.743044  -30.354097\r\n",
      "---\r\n",
      "> sto_xyz:1      -3.745490  0.078319  -0.166326  116.044998\r\n",
      "> sto_xyz:2      0.093387  3.732910  -0.345240  -95.395798\r\n",
      "> sto_xyz:3      -0.158358  0.348967  3.730370  -45.065498\r\n"
     ]
    }
   ],
   "source": [
    "!fslhd /scratch/user/hirsch/datadir3/data_set_batch5/t0009/repos01/EPIBOLD/rat0009_epi_s04_d0001.nii  > /homes_unix/hirsch/_goldstd/goldstarResults10/realigned01.txt\n",
    "!fslhd /scratch/user/hirsch/datadir4/data_results_py/functionnal/realigned_files/rat0009_epi_s04_d0001.nii  > /homes_unix/hirsch/_goldstd/goldstarResults10/realigned02.txt\n",
    "!diff realigned01.txt realigned02.txt"
   ]
  },
  {
   "cell_type": "code",
   "execution_count": 18,
   "metadata": {
    "collapsed": false,
    "scrolled": true
   },
   "outputs": [
    {
     "name": "stdout",
     "output_type": "stream",
     "text": [
      "Byte swapping\r\n",
      "filename       /scratch/user/hirsch/datadir3/data_set_batch5/t0009/repos01/EPIBOLD/rat0009_epi_s04_d0001.nii\r\n",
      "\r\n",
      "sizeof_hdr     348\r\n",
      "data_type      INT16\r\n",
      "dim0           3\r\n",
      "dim1           64\r\n",
      "dim2           64\r\n",
      "dim3           31\r\n",
      "dim4           1\r\n",
      "dim5           1\r\n",
      "dim6           1\r\n",
      "dim7           1\r\n",
      "vox_units      mm\r\n",
      "time_units     s\r\n",
      "datatype       4\r\n",
      "nbyper         2\r\n",
      "bitpix         16\r\n",
      "pixdim0        0.000000\r\n",
      "pixdim1        3.750000\r\n",
      "pixdim2        3.750004\r\n",
      "pixdim3        3.750002\r\n",
      "pixdim4        0.000000\r\n",
      "pixdim5        0.000000\r\n",
      "pixdim6        0.000000\r\n",
      "pixdim7        0.000000\r\n",
      "vox_offset     352\r\n",
      "cal_max        0.0000\r\n",
      "cal_min        0.0000\r\n",
      "scl_slope      1.809520\r\n",
      "scl_inter      0.000000\r\n",
      "phase_dim      0\r\n",
      "freq_dim       0\r\n",
      "slice_dim      0\r\n",
      "slice_name     Unknown\r\n",
      "slice_code     0\r\n",
      "slice_start    0\r\n",
      "slice_end      0\r\n",
      "slice_duration 0.000000\r\n",
      "time_offset    0.000000\r\n",
      "intent         Unknown\r\n",
      "intent_code    0\r\n",
      "intent_name    \r\n",
      "intent_p1      0.000000\r\n",
      "intent_p2      0.000000\r\n",
      "intent_p3      0.000000\r\n",
      "qform_name     Aligned Anat\r\n",
      "qform_code     2\r\n",
      "qto_xyz:1      -3.742074  -0.174496  -0.170092  123.189674\r\n",
      "qto_xyz:2      -0.181441  3.742512  0.152344  -98.689156\r\n",
      "qto_xyz:3      -0.162663  -0.160252  3.743044  -30.354097\r\n",
      "qto_xyz:4      0.000000  0.000000  0.000000  1.000000\r\n",
      "qform_xorient  Right-to-Left\r\n",
      "qform_yorient  Posterior-to-Anterior\r\n",
      "qform_zorient  Inferior-to-Superior\r\n",
      "sform_name     Aligned Anat\r\n",
      "sform_code     2\r\n",
      "sto_xyz:1      -3.742074  -0.174496  -0.170086  123.189674\r\n",
      "sto_xyz:2      -0.181440  3.742512  0.152344  -98.689156\r\n",
      "sto_xyz:3      -0.162658  -0.160252  3.743044  -30.354097\r\n",
      "sto_xyz:4      0.000000  0.000000  0.000000  1.000000\r\n",
      "sform_xorient  Right-to-Left\r\n",
      "sform_yorient  Posterior-to-Anterior\r\n",
      "sform_zorient  Inferior-to-Superior\r\n",
      "file_type      NIFTI-1+\r\n",
      "file_code      1\r\n",
      "descrip        spm - realigned\r\n",
      "aux_file       \r\n"
     ]
    }
   ],
   "source": [
    "!cat realigned01.txt"
   ]
  },
  {
   "cell_type": "markdown",
   "metadata": {},
   "source": [
    "les images sont les mêmes; seules différences 3 chiffres après la virgule dans pix dim et quaternion"
   ]
  },
  {
   "cell_type": "markdown",
   "metadata": {},
   "source": [
    "## 5 -  Coregistration"
   ]
  },
  {
   "cell_type": "code",
   "execution_count": 5,
   "metadata": {
    "collapsed": false
   },
   "outputs": [
    {
     "name": "stdout",
     "output_type": "stream",
     "text": [
      "/homes_unix/hirsch/_goldstd/goldstarResults10\n"
     ]
    },
    {
     "data": {
      "text/plain": [
       "u'/homes_unix/hirsch/_goldstd/goldstarResults10'"
      ]
     },
     "execution_count": 5,
     "metadata": {},
     "output_type": "execute_result"
    }
   ],
   "source": [
    "%cd /homes_unix/hirsch/_goldstd/goldstarResults10\n",
    "%pwd"
   ]
  },
  {
   "cell_type": "code",
   "execution_count": 2,
   "metadata": {
    "collapsed": false
   },
   "outputs": [
    {
     "name": "stdout",
     "output_type": "stream",
     "text": [
      "Les fichiers binaires /scratch/user/hirsch/datadir3/data_set_batch5/t0009/repos01/EPIBOLD/rrat0009_epi_s04_d0001.nii et /scratch/user/hirsch/datadir4/data_results_py/functionnal/coregistered_files/crat0009_epi_s04_d0001.nii sont différents\r\n"
     ]
    }
   ],
   "source": [
    "!diff   /scratch/user/hirsch/datadir3/data_set_batch5/t0009/repos01/EPIBOLD/rrat0009_epi_s04_d0001.nii   /scratch/user/hirsch/datadir4/data_results_py/functionnal/coregistered_files/crat0009_epi_s04_d0001.nii\n"
   ]
  },
  {
   "cell_type": "code",
   "execution_count": 3,
   "metadata": {
    "collapsed": true
   },
   "outputs": [],
   "source": [
    "!fslmaths   /scratch/user/hirsch/datadir3/data_set_batch5/t0009/repos01/EPIBOLD/rrat0009_epi_s04_d0001.nii -sub  /scratch/user/hirsch/datadir4/data_results_py/functionnal/coregistered_files/crat0009_epi_s04_d0001.nii /homes_unix/hirsch/_goldstd/goldstarResults10/diff_coregistered01.nii  "
   ]
  },
  {
   "cell_type": "code",
   "execution_count": 21,
   "metadata": {
    "collapsed": false
   },
   "outputs": [
    {
     "name": "stdout",
     "output_type": "stream",
     "text": [
      "-340.189819 1069.426270 -0.000662 \r\n"
     ]
    }
   ],
   "source": [
    "!fslstats /homes_unix/hirsch/_goldstd/goldstarResults10/diff_coregistered01.nii -R -m"
   ]
  },
  {
   "cell_type": "code",
   "execution_count": 23,
   "metadata": {
    "collapsed": false
   },
   "outputs": [
    {
     "name": "stdout",
     "output_type": "stream",
     "text": [
      "-25.385897 25.356056 \r\n"
     ]
    }
   ],
   "source": [
    "!fslstats /homes_unix/hirsch/_goldstd/goldstarResults10/diff_coregistered01.nii -r "
   ]
  },
  {
   "cell_type": "code",
   "execution_count": 22,
   "metadata": {
    "collapsed": false
   },
   "outputs": [
    {
     "name": "stdout",
     "output_type": "stream",
     "text": [
      "-685.807983 1168.949951 -0.000593 \r\n"
     ]
    }
   ],
   "source": [
    "!fslstats /homes_unix/hirsch/_goldstd/goldstarResults4/diff_coregistered01.nii -R -m"
   ]
  },
  {
   "cell_type": "code",
   "execution_count": 24,
   "metadata": {
    "collapsed": false
   },
   "outputs": [
    {
     "name": "stdout",
     "output_type": "stream",
     "text": [
      "-74.253487 72.513512 -0.000593 \r\n"
     ]
    }
   ],
   "source": [
    "!fslstats /homes_unix/hirsch/_goldstd/goldstarResults4/diff_coregistered01.nii -r -m"
   ]
  },
  {
   "cell_type": "markdown",
   "metadata": {},
   "source": [
    "comparons les headers"
   ]
  },
  {
   "cell_type": "code",
   "execution_count": 4,
   "metadata": {
    "collapsed": false
   },
   "outputs": [],
   "source": [
    "!fslhd  /scratch/user/hirsch/datadir3/data_set_batch5/t0009/repos01/EPIBOLD/rrat0009_epi_s04_d0001.nii > /homes_unix/hirsch/_goldstd/goldstarResults10/coreg1.txt\n",
    "!fslhd /scratch/user/hirsch/datadir4/data_results_py/functionnal/coregistered_files/crat0009_epi_s04_d0001.nii > /homes_unix/hirsch/_goldstd/goldstarResults10/coreg2.txt"
   ]
  },
  {
   "cell_type": "code",
   "execution_count": 6,
   "metadata": {
    "collapsed": false
   },
   "outputs": [
    {
     "name": "stdout",
     "output_type": "stream",
     "text": [
      "2c2\r\n",
      "< filename       /scratch/user/hirsch/datadir3/data_set_batch5/t0009/repos01/EPIBOLD/rrat0009_epi_s04_d0001.nii\r\n",
      "---\r\n",
      "> filename       /scratch/user/hirsch/datadir4/data_results_py/functionnal/coregistered_files/crat0009_epi_s04_d0001.nii\r\n"
     ]
    }
   ],
   "source": [
    "!diff coreg1.txt coreg2.txt"
   ]
  },
  {
   "cell_type": "markdown",
   "metadata": {},
   "source": [
    "les headers sont les mêmes\n",
    "Allons voir les bit maps"
   ]
  },
  {
   "cell_type": "code",
   "execution_count": 7,
   "metadata": {
    "collapsed": false
   },
   "outputs": [],
   "source": [
    "img1 = '/scratch/user/hirsch/datadir3/data_set_batch5/t0009/repos01/EPIBOLD/rrat0009_epi_s04_d0001.nii'\n",
    "img2 = '/scratch/user/hirsch/datadir4/data_results_py/functionnal/coregistered_files/crat0009_epi_s04_d0001.nii'"
   ]
  },
  {
   "cell_type": "code",
   "execution_count": 8,
   "metadata": {
    "collapsed": true
   },
   "outputs": [],
   "source": [
    "i1=nib.load(img1)         \n",
    "i1array=np.asarray(i1.dataobj).copy() # Avoid caching the proxy image\n",
    "    \n",
    "i2=nib.load(img2)         \n",
    "i2array=np.asarray(i2.dataobj).copy()"
   ]
  },
  {
   "cell_type": "code",
   "execution_count": 9,
   "metadata": {
    "collapsed": false
   },
   "outputs": [
    {
     "data": {
      "text/plain": [
       "False"
      ]
     },
     "execution_count": 9,
     "metadata": {},
     "output_type": "execute_result"
    }
   ],
   "source": [
    "np.array_equal(i1array, i2array)"
   ]
  },
  {
   "cell_type": "code",
   "execution_count": 10,
   "metadata": {
    "collapsed": true
   },
   "outputs": [],
   "source": [
    "np.testing.assert_array_almost_equal(i1array,  i1array, decimal=5)"
   ]
  },
  {
   "cell_type": "code",
   "execution_count": 11,
   "metadata": {
    "collapsed": false
   },
   "outputs": [
    {
     "data": {
      "text/plain": [
       "False"
      ]
     },
     "execution_count": 11,
     "metadata": {},
     "output_type": "execute_result"
    }
   ],
   "source": [
    "np.allclose(i1array, i2array, rtol=100)"
   ]
  },
  {
   "cell_type": "code",
   "execution_count": 12,
   "metadata": {
    "collapsed": false
   },
   "outputs": [
    {
     "name": "stdout",
     "output_type": "stream",
     "text": [
      "2630150\n",
      "1069.42632365\n",
      "-340.189761162\n",
      "-0.00066189904333\n",
      "12.4837162579\n"
     ]
    }
   ],
   "source": [
    "diff_res = i1array - i2array\n",
    "print np.count_nonzero(diff_res)\n",
    "print np.amax(diff_res) \n",
    "print np.amin(diff_res) \n",
    "print np.mean(diff_res)\n",
    "print np.std(diff_res)"
   ]
  },
  {
   "cell_type": "code",
   "execution_count": null,
   "metadata": {
    "collapsed": true
   },
   "outputs": [],
   "source": [
    "!fslview /scratch/user/hirsch/goldstar2/data_set/t0009/repos01/EPIBOLD/rat0009_epi_s04_d0001.nii"
   ]
  },
  {
   "cell_type": "code",
   "execution_count": 45,
   "metadata": {
    "collapsed": false
   },
   "outputs": [
    {
     "name": "stdout",
     "output_type": "stream",
     "text": [
      "[WARNING] Out of OEM specific VK codes, changing to unassigned\n",
      "[WARNING] Out of unassigned VK codes, assigning $FF\n",
      "^C\n"
     ]
    }
   ],
   "source": [
    "!mricron /scratch/user/hirsch/goldstar2/data_set/t0009/repos01/EPIBOLD/cat0009_epi_s04_d0001.nii"
   ]
  },
  {
   "cell_type": "markdown",
   "metadata": {},
   "source": [
    "# 6 - Normalisation"
   ]
  },
  {
   "cell_type": "code",
   "execution_count": 26,
   "metadata": {
    "collapsed": false
   },
   "outputs": [
    {
     "name": "stdout",
     "output_type": "stream",
     "text": [
      "/homes_unix/hirsch/_goldstd/goldstarResults\n"
     ]
    }
   ],
   "source": [
    "%cd  /homes_unix/hirsch/_goldstd/goldstarResults"
   ]
  },
  {
   "cell_type": "code",
   "execution_count": 27,
   "metadata": {
    "collapsed": true
   },
   "outputs": [],
   "source": [
    "!fslmaths /scratch/user/hirsch/datadir3/data_set_batch5/t0009/repos01/EPIBOLD/wrrat0009_epi_s04_d0001.nii  -sub /scratch/user/hirsch/datadir4/data_results_py/functionnal/normalized_files/wcrat0009_epi_s04_d0001.nii diff_norm01.nii"
   ]
  },
  {
   "cell_type": "code",
   "execution_count": 33,
   "metadata": {
    "collapsed": false
   },
   "outputs": [
    {
     "name": "stdout",
     "output_type": "stream",
     "text": [
      "-41.648048 47.125324 -325.713623 1114.664307 0.004837 0.009832 18.862394 26.891330 \r\n"
     ]
    }
   ],
   "source": [
    "!fslstats diff_norm01.nii -r -R -m -M -s -S"
   ]
  },
  {
   "cell_type": "code",
   "execution_count": 34,
   "metadata": {
    "collapsed": false
   },
   "outputs": [
    {
     "name": "stdout",
     "output_type": "stream",
     "text": [
      "2c2\r\n",
      "< filename       /scratch/user/hirsch/datadir3/data_set_batch5/t0009/repos01/EPIBOLD/wrrat0009_epi_s04_d0001.nii\r\n",
      "---\r\n",
      "> filename       /scratch/user/hirsch/datadir3/data_results_py/functionnal/normalized_files/wcrat0009_epi_s04_d0001.nii\r\n"
     ]
    }
   ],
   "source": [
    "# allons d'abord voir les fichiers fonctionnnels et les headers\n",
    "# ils sont là -> /scratch/user/hirsch/datadir/data_results_py_backup/functionnal/norm_files\n",
    "!fslhd /scratch/user/hirsch/datadir3/data_set_batch5/t0009/repos01/EPIBOLD/wrrat0009_epi_s04_d0001.nii > /homes_unix/hirsch/_goldstd/goldstarResults/norm1.txt\n",
    "!fslhd /scratch/user/hirsch/datadir4/data_results_py/functionnal/normalized_files/wcrat0009_epi_s04_d0001.nii > /homes_unix/hirsch/_goldstd/goldstarResults/norm2.txt\n",
    "!diff norm1.txt norm2.txt"
   ]
  },
  {
   "cell_type": "code",
   "execution_count": 34,
   "metadata": {
    "collapsed": false
   },
   "outputs": [],
   "source": [
    "# allons voir les bitmaps\n",
    "img1 = '/scratch/user/hirsch/datadir3/data_set_batch5/t0009/repos01/EPIBOLD/wrrat0009_epi_s04_d0001.nii'\n",
    "img2 = '/scratch/user/hirsch/datadir4/data_results_py/functionnal/normalized_files/wcrat0009_epi_s04_d0001.nii'"
   ]
  },
  {
   "cell_type": "code",
   "execution_count": 35,
   "metadata": {
    "collapsed": false
   },
   "outputs": [
    {
     "name": "stdout",
     "output_type": "stream",
     "text": [
      "False\n"
     ]
    }
   ],
   "source": [
    "i1=nib.load(img1)         \n",
    "i1array=np.asarray(i1.dataobj).copy() # Avoid caching the proxy image\n",
    "    \n",
    "i2=nib.load(img2)         \n",
    "i2array=np.asarray(i2.dataobj).copy()\n",
    "print np.array_equal(i1array, i2array)"
   ]
  },
  {
   "cell_type": "code",
   "execution_count": 36,
   "metadata": {
    "collapsed": false
   },
   "outputs": [
    {
     "name": "stdout",
     "output_type": "stream",
     "text": [
      "444098\n",
      "1114.66432381\n",
      "0.00483739363006\n",
      "18.8623836183\n"
     ]
    }
   ],
   "source": [
    "diff_res = i1array - i2array\n",
    "print np.count_nonzero(diff_res)\n",
    "print np.amax(diff_res) \n",
    "print np.mean(diff_res)\n",
    "print np.std(diff_res)\n"
   ]
  },
  {
   "cell_type": "code",
   "execution_count": 44,
   "metadata": {
    "collapsed": false
   },
   "outputs": [],
   "source": [
    "!fslmaths /scratch/user/hirsch/datadir3/data_set_batch5/t0009/repos01/EPIBOLD/wrrat0009_epi_s04_d0001.nii -sub /scratch/user/hirsch/datadir3/data_results_py/functionnal/normalized_files/wcrat0009_epi_s04_d0001.nii /homes_unix/hirsch/_goldstd/goldstarResults/diff_01.nii\n",
    "!fslview diff_01.nii\n"
   ]
  },
  {
   "cell_type": "markdown",
   "metadata": {},
   "source": [
    "# Annexes"
   ]
  },
  {
   "cell_type": "code",
   "execution_count": 29,
   "metadata": {
    "collapsed": true
   },
   "outputs": [],
   "source": [
    "## batch SPM12"
   ]
  },
  {
   "cell_type": "code",
   "execution_count": null,
   "metadata": {
    "collapsed": false,
    "scrolled": true
   },
   "outputs": [],
   "source": [
    "!cat /homes_unix/hirsch/_goldstd/all_process_v9_thomas_goldstar2.m"
   ]
  },
  {
   "cell_type": "code",
   "execution_count": null,
   "metadata": {
    "collapsed": true
   },
   "outputs": [],
   "source": []
  },
  {
   "cell_type": "code",
   "execution_count": null,
   "metadata": {
    "collapsed": true
   },
   "outputs": [],
   "source": []
  }
 ],
 "metadata": {
  "kernelspec": {
   "display_name": "Python 2",
   "language": "python",
   "name": "python2"
  },
  "language_info": {
   "codemirror_mode": {
    "name": "ipython",
    "version": 2
   },
   "file_extension": ".py",
   "mimetype": "text/x-python",
   "name": "python",
   "nbconvert_exporter": "python",
   "pygments_lexer": "ipython2",
   "version": "2.7.12"
  }
 },
 "nbformat": 4,
 "nbformat_minor": 0
}
