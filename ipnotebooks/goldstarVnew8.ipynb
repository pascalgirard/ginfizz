{
 "cells": [
  {
   "cell_type": "markdown",
   "metadata": {},
   "source": [
    "# FLI-IAM Comparaison entre gold star (pure batch SPM) et le presque même batch (en nipype)"
   ]
  },
  {
   "cell_type": "code",
   "execution_count": 23,
   "metadata": {
    "collapsed": false
   },
   "outputs": [
    {
     "name": "stdout",
     "output_type": "stream",
     "text": [
      "/homes_unix/hirsch/_goldstd/goldstd\n",
      "bandpassv7run.txt    spmfunc.nii.gz\r\n",
      "nipypefunc.nii.gz    wcrat0009_epi_s04_d0001_merged_bp.nii.gz\r\n",
      "soustraction.nii.gz\r\n"
     ]
    }
   ],
   "source": [
    "%cd /homes_unix/hirsch/_goldstd/goldstd\n",
    "%pwd\n",
    "%ls"
   ]
  },
  {
   "cell_type": "code",
   "execution_count": 6,
   "metadata": {
    "collapsed": false
   },
   "outputs": [],
   "source": [
    "!fslmerge -t /homes_unix/hirsch/_goldstd/goldstd/nipypefunc.nii.gz /scratch/user/hirsch/datadir4/data_results_py/functionnal/normalized_files/wc*.nii"
   ]
  },
  {
   "cell_type": "code",
   "execution_count": 8,
   "metadata": {
    "collapsed": true
   },
   "outputs": [],
   "source": [
    "!fslmerge -t /homes_unix/hirsch/_goldstd/goldstd/spmfunc.nii.gz /scratch/user/hirsch/datadir3/data_set_batch5/t0009/repos01/EPIBOLD/wrra*.nii"
   ]
  },
  {
   "cell_type": "markdown",
   "metadata": {},
   "source": [
    "## Nipype"
   ]
  },
  {
   "cell_type": "code",
   "execution_count": 22,
   "metadata": {
    "collapsed": false
   },
   "outputs": [
    {
     "name": "stdout",
     "output_type": "stream",
     "text": [
      "336.945909 540.645662 \r\n"
     ]
    }
   ],
   "source": [
    "!fslstats nipypefunc.nii.gz -m -M"
   ]
  },
  {
   "cell_type": "markdown",
   "metadata": {},
   "source": [
    "## Gold standard"
   ]
  },
  {
   "cell_type": "code",
   "execution_count": 12,
   "metadata": {
    "collapsed": false
   },
   "outputs": [
    {
     "name": "stdout",
     "output_type": "stream",
     "text": [
      "336.950097 540.955193 \r\n"
     ]
    }
   ],
   "source": [
    "!fslstats spmfunc.nii.gz -m -M"
   ]
  },
  {
   "cell_type": "markdown",
   "metadata": {},
   "source": [
    "## les ranges"
   ]
  },
  {
   "cell_type": "code",
   "execution_count": 13,
   "metadata": {
    "collapsed": false
   },
   "outputs": [
    {
     "name": "stdout",
     "output_type": "stream",
     "text": [
      "-231.618561 3396.468994 \r\n"
     ]
    }
   ],
   "source": [
    "!fslstats nipypefunc.nii.gz -R"
   ]
  },
  {
   "cell_type": "code",
   "execution_count": 14,
   "metadata": {
    "collapsed": false
   },
   "outputs": [
    {
     "name": "stdout",
     "output_type": "stream",
     "text": [
      "-217.142395 3385.611816 \r\n"
     ]
    }
   ],
   "source": [
    "!fslstats spmfunc.nii.gz -R"
   ]
  },
  {
   "cell_type": "markdown",
   "metadata": {},
   "source": [
    "## la soustraction"
   ]
  },
  {
   "cell_type": "code",
   "execution_count": 15,
   "metadata": {
    "collapsed": true
   },
   "outputs": [],
   "source": [
    "!fslmaths nipypefunc.nii.gz -sub spmfunc.nii.gz soustraction.nii.gz"
   ]
  },
  {
   "cell_type": "code",
   "execution_count": 20,
   "metadata": {
    "collapsed": false
   },
   "outputs": [
    {
     "name": "stdout",
     "output_type": "stream",
     "text": [
      "-0.008460 \r\n"
     ]
    }
   ],
   "source": [
    "!fslstats soustraction.nii.gz -M"
   ]
  },
  {
   "cell_type": "code",
   "execution_count": 55,
   "metadata": {
    "collapsed": false
   },
   "outputs": [
    {
     "name": "stdout",
     "output_type": "stream",
     "text": [
      "-1152.664307 334.761230 -47.090652 43.440022 \r\n"
     ]
    }
   ],
   "source": [
    "!fslstats soustraction.nii.gz -R -r"
   ]
  },
  {
   "cell_type": "code",
   "execution_count": 17,
   "metadata": {
    "collapsed": true
   },
   "outputs": [],
   "source": [
    "!fslview soustraction.nii.gz"
   ]
  },
  {
   "cell_type": "markdown",
   "metadata": {
    "collapsed": true
   },
   "source": [
    "## test du coregistered mean"
   ]
  },
  {
   "cell_type": "code",
   "execution_count": 38,
   "metadata": {
    "collapsed": false
   },
   "outputs": [
    {
     "name": "stdout",
     "output_type": "stream",
     "text": [
      "/scratch/user/hirsch/datadir4/data_results_py/functionnal/coregistered_source\n",
      "cmeanat0009_epi_s04_d0001.nii\r\n"
     ]
    }
   ],
   "source": [
    "%cd /scratch/user/hirsch/datadir4/data_results_py/functionnal/coregistered_source\n",
    "%ls"
   ]
  },
  {
   "cell_type": "code",
   "execution_count": 39,
   "metadata": {
    "collapsed": true
   },
   "outputs": [],
   "source": [
    "%cp cmeanat0009_epi_s04_d0001.nii /homes_unix/hirsch/_goldstd/goldstd"
   ]
  },
  {
   "cell_type": "code",
   "execution_count": 46,
   "metadata": {
    "collapsed": false
   },
   "outputs": [
    {
     "name": "stdout",
     "output_type": "stream",
     "text": [
      "/scratch/user/hirsch/datadir3/data_set_batch5/t0009/repos01/EPIBOLD\n",
      "rmeanat0009_epi_s04_d0001.nii\r\n"
     ]
    }
   ],
   "source": [
    "%cd /scratch/user/hirsch/datadir3/data_set_batch5/t0009/repos01/EPIBOLD\n",
    "%ls rmeanat0009_epi_s04_d0001.nii"
   ]
  },
  {
   "cell_type": "code",
   "execution_count": 47,
   "metadata": {
    "collapsed": false
   },
   "outputs": [],
   "source": [
    "%cp rmeanat0009_epi_s04_d0001.nii /homes_unix/hirsch/_goldstd/goldstd"
   ]
  },
  {
   "cell_type": "code",
   "execution_count": 51,
   "metadata": {
    "collapsed": false
   },
   "outputs": [
    {
     "name": "stdout",
     "output_type": "stream",
     "text": [
      "/homes_unix/hirsch/_goldstd/goldstd\n",
      "bandpassv7run.txt                   rmeanat0009_epi_s04_d0001.nii\r\n",
      "cmeanat0009_epi_s04_d0001.nii       soustraction.nii.gz\r\n",
      "cmeanat0009_epi_s04_d0001_vfsl.nii  spmfunc.nii.gz\r\n",
      "nipypefunc.nii.gz                   sub_coreg01.nii.gz\r\n",
      "preprocessc1c2T1.txt                sub_mean_coreg.nii.gz\r\n",
      "pyscript_coregister.m               wcrat0009_epi_s04_d0001_merged_bp.nii.gz\r\n"
     ]
    }
   ],
   "source": [
    "%cd /homes_unix/hirsch/_goldstd/goldstd\n",
    "%pwd\n",
    "%ls"
   ]
  },
  {
   "cell_type": "markdown",
   "metadata": {},
   "source": [
    "peut-être pas juste ce qui dessous"
   ]
  },
  {
   "cell_type": "code",
   "execution_count": 52,
   "metadata": {
    "collapsed": false
   },
   "outputs": [],
   "source": [
    "!fslmaths cmeanat0009_epi_s04_d0001.nii -sub rmeanat0009_epi_s04_d0001.nii  sub_mean_coreg_test_c1c2.nii"
   ]
  },
  {
   "cell_type": "code",
   "execution_count": 53,
   "metadata": {
    "collapsed": true
   },
   "outputs": [],
   "source": [
    "!fslview sub_mean_coreg_test_c1c2.nii"
   ]
  },
  {
   "cell_type": "code",
   "execution_count": 54,
   "metadata": {
    "collapsed": false
   },
   "outputs": [
    {
     "name": "stdout",
     "output_type": "stream",
     "text": [
      "-6.972990 6.779716 -2072.462646 1977.215332 0.000047 0.000126 \r\n"
     ]
    }
   ],
   "source": [
    "!fslstats sub_mean_coreg_test_c1c2.nii -r -R -m -M"
   ]
  },
  {
   "cell_type": "code",
   "execution_count": null,
   "metadata": {
    "collapsed": true
   },
   "outputs": [],
   "source": []
  }
 ],
 "metadata": {
  "kernelspec": {
   "display_name": "Python 2",
   "language": "python",
   "name": "python2"
  },
  "language_info": {
   "codemirror_mode": {
    "name": "ipython",
    "version": 2
   },
   "file_extension": ".py",
   "mimetype": "text/x-python",
   "name": "python",
   "nbconvert_exporter": "python",
   "pygments_lexer": "ipython2",
   "version": "2.7.12"
  }
 },
 "nbformat": 4,
 "nbformat_minor": 0
}
