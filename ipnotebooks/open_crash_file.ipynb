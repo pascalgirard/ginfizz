{
 "cells": [
  {
   "cell_type": "code",
   "execution_count": 1,
   "metadata": {
    "collapsed": false
   },
   "outputs": [
    {
     "name": "stdout",
     "output_type": "stream",
     "text": [
      "/homes_unix/hirsch/ginfizz/src\n",
      "aichaV1.py\n",
      "computeStruct.py\n",
      "corr_regv5.nii\n",
      "crash-20170516-201242-hirsch-erosion-2dad765f-7020-43a4-9ce6-d6ba065131b1.pklz\n",
      "crash-20170516-201242-hirsch-erosioncsf-4ee8b374-6b14-410b-901c-10011d9e5d53.pklz\n",
      "Dockerfile\n",
      "ginfizz_aicha.py\n",
      "ginfizz_aicha_ss_arima.py\n",
      "ginfizz_arima_backup_0405.py\n",
      "ginfizz_arima.py\n",
      "ginfizz_arima.pyc\n",
      "ginfizz_bandpass.py\n",
      "ginfizz_bandpass.pyc\n",
      "ginfizz_main.py\n",
      "ginfizz_preprocess_nib_ok.py\n",
      "ginfizz_preprocess.py\n",
      "ginfizz_preprocess.pyc\n",
      "ginfizz_preprocess_test_c1c2T1_backup0205.py\n",
      "ginfizz_preprocess_test_c1c2T1.py\n",
      "ginfizz_v103.json\n",
      "ginfizz_v104.json\n",
      "\u001b[0m\u001b[01;32mginfizz_wrapper_pipeau.sh\u001b[0m*\n",
      "ginfizz_wrapper.sh\n",
      "__init__.py\n",
      "pypeline.log\n",
      "pyscript.m\n",
      "region_image1.nii\n",
      "region_image2.nii\n",
      "\u001b[01;34mrestingState\u001b[0m/\n",
      "test_arima.py\n",
      "test_seed_analysis_v1.py\n"
     ]
    }
   ],
   "source": [
    "%cd /homes_unix/hirsch/ginfizz/src\n",
    "%ls"
   ]
  },
  {
   "cell_type": "markdown",
   "metadata": {},
   "source": [
    "from nipype.utils.filemanip import loadflat\n",
    "crashinfo = loadflat('crash-20170516-201242-hirsch-erosion-2dad765f-7020-43a4-9ce6-d6ba065131b1.pklz')\n",
    "%pdb\n",
    "crashinfo['node'].run()  # re-creates the crash\n",
    "pdb> up  #typically, but not necessarily the crash is one stack frame up\n",
    "pdb> inspect variables\n",
    "pdb>quit"
   ]
  },
  {
   "cell_type": "code",
   "execution_count": null,
   "metadata": {
    "collapsed": false
   },
   "outputs": [],
   "source": [
    "import gzip\n",
    "import pickle\n",
    "fcrashinfo = gzip.open('crash-20170516-201242-hirsch-erosion-2dad765f-7020-43a4-9ce6-d6ba065131b1.pklz')\n",
    "crashinfo = = pickle.load(fcrashinfo)\n",
    "%pdb\n",
    "crashinfo['node'].run()  # re-creates the crash\n",
    "\n"
   ]
  },
  {
   "cell_type": "code",
   "execution_count": 1,
   "metadata": {
    "collapsed": false
   },
   "outputs": [
    {
     "name": "stdout",
     "output_type": "stream",
     "text": [
      "{'node': restingState.prebandpass.computeMoco, 'traceback': ['Traceback (most recent call last):\\n', '  File \"/srv/shares/softs/anaconda2/lib/python2.7/site-packages/nipype/pipeline/plugins/linear.py\", line 39, in run\\n    node.run(updatehash=updatehash)\\n', '  File \"/srv/shares/softs/anaconda2/lib/python2.7/site-packages/nipype/pipeline/engine/nodes.py\", line 394, in run\\n    self._run_interface()\\n', '  File \"/srv/shares/softs/anaconda2/lib/python2.7/site-packages/nipype/pipeline/engine/nodes.py\", line 504, in _run_interface\\n    self._result = self._run_command(execute)\\n', '  File \"/srv/shares/softs/anaconda2/lib/python2.7/site-packages/nipype/pipeline/engine/nodes.py\", line 630, in _run_command\\n    result = self._interface.run()\\n', '  File \"/srv/shares/softs/anaconda2/lib/python2.7/site-packages/nipype/interfaces/base.py\", line 1034, in run\\n    runtime = self._run_wrapper(runtime)\\n', '  File \"/srv/shares/softs/anaconda2/lib/python2.7/site-packages/nipype/interfaces/base.py\", line 991, in _run_wrapper\\n    runtime = self._run_interface(runtime)\\n', '  File \"/srv/shares/softs/anaconda2/lib/python2.7/site-packages/nipype/interfaces/utility.py\", line 496, in _run_interface\\n    raise out\\n', \"NameError: global name 'iflogger' is not defined\\nInterface Function failed to run. \\n\"]}\n"
     ]
    }
   ],
   "source": [
    "import gzip\n",
    "import pickle\n",
    "\n",
    "f = gzip.open('/homes_unix/hirsch/ginfizz/src/crash-20170530-185346-hirsch-computeMoco-1f95a080-018c-4247-8064-92dfb7f12149.pklz','rb')\n",
    "myNewObject = pickle.load(f)\n",
    "f.close()\n",
    "\n",
    "print myNewObject"
   ]
  },
  {
   "cell_type": "code",
   "execution_count": 2,
   "metadata": {
    "collapsed": false
   },
   "outputs": [
    {
     "name": "stdout",
     "output_type": "stream",
     "text": [
      "{'node': restingState.prebandpass.erosioncsf, 'traceback': ['Traceback (most recent call last):\\n', '  File \"/srv/shares/softs/anaconda2/lib/python2.7/site-packages/nipype/pipeline/plugins/linear.py\", line 39, in run\\n    node.run(updatehash=updatehash)\\n', '  File \"/srv/shares/softs/anaconda2/lib/python2.7/site-packages/nipype/pipeline/engine/nodes.py\", line 295, in run\\n    self._get_inputs()\\n', '  File \"/srv/shares/softs/anaconda2/lib/python2.7/site-packages/nipype/pipeline/engine/nodes.py\", line 480, in _get_inputs\\n    value)\\n', '  File \"/srv/shares/softs/anaconda2/lib/python2.7/site-packages/nipype/pipeline/engine/utils.py\", line 446, in evaluate_connect_function\\n    raise e\\n', \"UnboundLocalError: local variable 'res' referenced before assignment\\n\"]}\n"
     ]
    }
   ],
   "source": [
    "import gzip\n",
    "import pickle\n",
    "\n",
    "f = gzip.open('/rstp_code/crash-20170531-163450-root-correlationsComputeNode.a0-3a856d03-b927-4f69-b3f2-57a85bd7a253.pklz','rb')\n",
    "x = pickle.load(f)\n",
    "f.close()\n",
    "\n",
    "print x"
   ]
  },
  {
   "cell_type": "code",
   "execution_count": 2,
   "metadata": {
    "collapsed": false
   },
   "outputs": [
    {
     "data": {
      "text/plain": [
       "['Traceback (most recent call last):\\n',\n",
       " '  File \"/srv/shares/softs/anaconda2/lib/python2.7/site-packages/nipype/pipeline/plugins/linear.py\", line 39, in run\\n    node.run(updatehash=updatehash)\\n',\n",
       " '  File \"/srv/shares/softs/anaconda2/lib/python2.7/site-packages/nipype/pipeline/engine/nodes.py\", line 394, in run\\n    self._run_interface()\\n',\n",
       " '  File \"/srv/shares/softs/anaconda2/lib/python2.7/site-packages/nipype/pipeline/engine/nodes.py\", line 504, in _run_interface\\n    self._result = self._run_command(execute)\\n',\n",
       " '  File \"/srv/shares/softs/anaconda2/lib/python2.7/site-packages/nipype/pipeline/engine/nodes.py\", line 630, in _run_command\\n    result = self._interface.run()\\n',\n",
       " '  File \"/srv/shares/softs/anaconda2/lib/python2.7/site-packages/nipype/interfaces/base.py\", line 1034, in run\\n    runtime = self._run_wrapper(runtime)\\n',\n",
       " '  File \"/srv/shares/softs/anaconda2/lib/python2.7/site-packages/nipype/interfaces/base.py\", line 991, in _run_wrapper\\n    runtime = self._run_interface(runtime)\\n',\n",
       " '  File \"/srv/shares/softs/anaconda2/lib/python2.7/site-packages/nipype/interfaces/utility.py\", line 496, in _run_interface\\n    raise out\\n',\n",
       " \"NameError: global name 'iflogger' is not defined\\nInterface Function failed to run. \\n\"]"
      ]
     },
     "execution_count": 2,
     "metadata": {},
     "output_type": "execute_result"
    }
   ],
   "source": [
    "myNewObject['traceback']"
   ]
  },
  {
   "cell_type": "code",
   "execution_count": 4,
   "metadata": {
    "collapsed": false,
    "scrolled": true
   },
   "outputs": [
    {
     "ename": "NameError",
     "evalue": "name 'myNewObject' is not defined",
     "output_type": "error",
     "traceback": [
      "\u001b[1;31m---------------------------------------------------------------------------\u001b[0m",
      "\u001b[1;31mNameError\u001b[0m                                 Traceback (most recent call last)",
      "\u001b[1;32m<ipython-input-4-2106831c2ef7>\u001b[0m in \u001b[0;36m<module>\u001b[1;34m()\u001b[0m\n\u001b[1;32m----> 1\u001b[1;33m \u001b[0mmyNewObject\u001b[0m\u001b[1;33m.\u001b[0m\u001b[0mruntime\u001b[0m\u001b[1;33m\u001b[0m\u001b[0m\n\u001b[0m",
      "\u001b[1;31mNameError\u001b[0m: name 'myNewObject' is not defined"
     ]
    }
   ],
   "source": [
    "myNewObject.runtime\n"
   ]
  },
  {
   "cell_type": "markdown",
   "metadata": {},
   "source": [
    " class nipype.interfaces.base.InterfaceResult(interface, runtime, inputs=None, outputs=None, provenance=None)\n"
   ]
  },
  {
   "cell_type": "code",
   "execution_count": 24,
   "metadata": {
    "collapsed": false
   },
   "outputs": [
    {
     "data": {
      "text/plain": [
       "nipype.interfaces.utility.Function"
      ]
     },
     "execution_count": 24,
     "metadata": {},
     "output_type": "execute_result"
    }
   ],
   "source": [
    "myNewObject.interface"
   ]
  },
  {
   "cell_type": "code",
   "execution_count": null,
   "metadata": {
    "collapsed": true
   },
   "outputs": [],
   "source": []
  }
 ],
 "metadata": {
  "kernelspec": {
   "display_name": "Python 2",
   "language": "python",
   "name": "python2"
  },
  "language_info": {
   "codemirror_mode": {
    "name": "ipython",
    "version": 2
   },
   "file_extension": ".py",
   "mimetype": "text/x-python",
   "name": "python",
   "nbconvert_exporter": "python",
   "pygments_lexer": "ipython2",
   "version": "2.7.12"
  }
 },
 "nbformat": 4,
 "nbformat_minor": 0
}
