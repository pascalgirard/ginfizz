{
 "cells": [
  {
   "cell_type": "markdown",
   "metadata": {},
   "source": [
    "from v1 to v2 real function to implement in prepocess pipeline \\n\n",
    "from v2 to v3 solve the header pb n computeStructural Image\n"
   ]
  },
  {
   "cell_type": "code",
   "execution_count": 23,
   "metadata": {
    "collapsed": true
   },
   "outputs": [],
   "source": [
    "img1 = '/scratch/user/hirsch/goldstd/data_set/t0009/repos01/T1/c1t0009_t1_s03.nii'\n",
    "img2 = '/scratch/user/hirsch/goldstd/data_set/t0009/repos01/T1/c2t0009_t1_s03.nii'\n",
    "img3 = '/scratch/user/hirsch/goldstd/data_set/t0009/repos01/T1/mt0009_t1_s03.nii'\n"
   ]
  },
  {
   "cell_type": "code",
   "execution_count": 61,
   "metadata": {
    "collapsed": true
   },
   "outputs": [],
   "source": [
    "def computeStructuralImage(img1,img2,img3):\n",
    "    ''' \n",
    "    takes 3 images arguments: grey matter, white matter, and bias corrected T1 img.\n",
    "    compute a binary mask with gm and wm thresholded at 0.2 combined with bias correctd img.\n",
    "    used to realigne properly the EPI imgs \n",
    "    '''\n",
    "\n",
    "    import numpy as np     \n",
    "    import nibabel as nib     \n",
    "    import os \n",
    "    \n",
    "    i1=nib.load(img1)         \n",
    "    i1array=np.asarray(i1.dataobj).copy() # Avoid caching the proxy image\n",
    "    \n",
    "    i2=nib.load(img2)         \n",
    "    i2array=np.asarray(i2.dataobj).copy()\n",
    "    hdr2 = i2.header\n",
    "    \n",
    "    i3=nib.load(img3)         \n",
    "    i3array=np.asarray(i3.dataobj).copy()\n",
    "    hdr3 = i3.header\n",
    "    \n",
    "    print(hdr2.get_data_dtype())\n",
    "    print(hdr3.get_data_dtype())\n",
    "    \n",
    "    gi = i1array + i2array\n",
    "    # threshold image gm + wm at 0.2\n",
    "    gi[(10 * gi )< 2] = 0\n",
    "    # binary mask the resulting image\n",
    "    gi[gi > 0] = 1\n",
    "    \n",
    "    struct_image = i3\n",
    "    \n",
    "    hdr_struct = struct_image.header\n",
    "    print(hdr_struct.get_data_dtype())\n",
    "    \n",
    "    print\"apres\"\n",
    "    hdr_struct.set_data_dtype('INT16')\n",
    "    print(hdr_struct.get_data_dtype())\n",
    "    \n",
    "    \n",
    "    # apply the binary mask to the bias corrected T1\n",
    "    struct_image_array = np.multiply(gi, i3array)\n",
    "    \n",
    "    # take the affine transformation from the bias corrected image doesn t work\n",
    "    \n",
    "    \n",
    "   \n",
    "    \n",
    "    # crate the resulting image\n",
    "    struct_image = nib.Nifti1Image(struct_image_array, i3.affine)\n",
    "    \n",
    "    nib.save(struct_image, 'struct_image.nii')\n",
    "    \n",
    "    return 'struct_image.nii'\n",
    "    \n",
    "    "
   ]
  },
  {
   "cell_type": "code",
   "execution_count": 84,
   "metadata": {
    "collapsed": true
   },
   "outputs": [],
   "source": [
    "def computeStructuralImage(img1,img2,img3):\n",
    "    ''' \n",
    "    takes 3 images arguments: grey matter, white matter, and bias corrected T1 img.\n",
    "    compute a binary mask with gm and wm thresholded at 0.2 combined with bias correctd img.\n",
    "    used to realigne properly the EPI imgs \n",
    "    different version to be in datatype INT16 unsigned\n",
    "    '''\n",
    "\n",
    "    import numpy as np     \n",
    "    import nibabel as nib     \n",
    "    import os \n",
    "    \n",
    "    i1=nib.load(img1)         \n",
    "    i1array=np.asarray(i1.dataobj).copy() # Avoid caching the proxy image\n",
    "    \n",
    "    i2=nib.load(img2)         \n",
    "    i2array=np.asarray(i2.dataobj).copy()\n",
    "    hdr2 = i2.header\n",
    "    \n",
    "    i3=nib.load(img3)         \n",
    "    i3array=np.asarray(i3.dataobj).copy()\n",
    "    hdr3 = i3.header\n",
    "    \n",
    "    print(hdr2.get_data_dtype())\n",
    "    print(hdr3.get_data_dtype())\n",
    "    \n",
    "    gi = i1array + i2array\n",
    "    # threshold image gm + wm at 0.2\n",
    "    gi[(10 * gi )< 2] = 0\n",
    "    # binary mask the resulting image\n",
    "    gi[gi > 0] = 1\n",
    "    \n",
    "    struct_image = i3\n",
    "    \n",
    "    hdr_struct = struct_image.header\n",
    "    print(hdr_struct.get_data_dtype())\n",
    "    \n",
    "    print\"apres\"\n",
    "        \n",
    "    \n",
    "    print(hdr_struct.get_data_dtype())\n",
    "    \n",
    "    \n",
    "    # apply the binary mask to the bias corrected T1\n",
    "    struct_image_array = np.multiply(gi, i3array)\n",
    "    \n",
    "    # take the affine transformation from the bias corrected image doesn t work\n",
    "    \n",
    "    \n",
    "   \n",
    "    hdr3.set_data_dtype(np.int16)\n",
    "    # crate the resulting image\n",
    "    struct_image = nib.Nifti1Image(struct_image_array.astype(np.int16), i3.affine, i3.header)\n",
    "    \n",
    "    nib.save(struct_image, 'struct_image.nii')\n",
    "    \n",
    "    result = nib.load('struct_image.nii')\n",
    "    hdr_result = result.header\n",
    "    \n",
    "    print(hdr_result.get_data_dtype())\n",
    "    \n",
    "    \n",
    "    \n",
    "    return 'struct_image.nii'\n",
    "    \n",
    "    "
   ]
  },
  {
   "cell_type": "markdown",
   "metadata": {},
   "source": [
    "img = nb.load(filename)\n",
    "data = img.get_data()\n",
    "if data.max() < 2**16 and data.min() >= 0:\n",
    "    nb.Nifti1Image(data.astype(np.int16), img.affine, img.header).to_filename(fileout)\n",
    "else:\n",
    "    raise ValueError('data range cannot be accommodated in 16-bit format')\n",
    "    \n",
    "np.asarray(a, dtype=np.float32)"
   ]
  },
  {
   "cell_type": "code",
   "execution_count": 85,
   "metadata": {
    "collapsed": false
   },
   "outputs": [
    {
     "name": "stdout",
     "output_type": "stream",
     "text": [
      "/homes_unix/hirsch/_goldstd/goldstarResults\n"
     ]
    }
   ],
   "source": [
    "%cd /homes_unix/hirsch/_goldstd/goldstarResults"
   ]
  },
  {
   "cell_type": "code",
   "execution_count": 86,
   "metadata": {
    "collapsed": false
   },
   "outputs": [
    {
     "data": {
      "text/plain": [
       "u'/homes_unix/hirsch/_goldstd/goldstarResults'"
      ]
     },
     "execution_count": 86,
     "metadata": {},
     "output_type": "execute_result"
    }
   ],
   "source": [
    "%pwd"
   ]
  },
  {
   "cell_type": "code",
   "execution_count": 87,
   "metadata": {
    "collapsed": false
   },
   "outputs": [
    {
     "name": "stdout",
     "output_type": "stream",
     "text": [
      "uint8\n",
      "float32\n",
      "float32\n",
      "apres\n",
      "float32\n",
      "int16\n"
     ]
    }
   ],
   "source": [
    "img4 = computeStructuralImage(img1,img2,img3)"
   ]
  },
  {
   "cell_type": "markdown",
   "metadata": {},
   "source": [
    "## essai transposition pour avoir les voxels de gm et voir les différences dans les 2 calculs"
   ]
  },
  {
   "cell_type": "code",
   "execution_count": 98,
   "metadata": {
    "collapsed": false
   },
   "outputs": [],
   "source": [
    "# on regarde le grey matter\n",
    "img1 = '/scratch/user/hirsch/goldstd/data_set/t0009/repos01/T1/c1t0009_t1_s03.nii'\n",
    "i1=nib.load(img1)         \n",
    "i1array=np.asarray(i1.dataobj).copy() \n",
    "i1array[(10 * i1array )< 2] = 0\n",
    "    # binary mask the resulting image\n",
    "i1array[i1array > 0] = 1\n",
    "    "
   ]
  },
  {
   "cell_type": "code",
   "execution_count": 101,
   "metadata": {
    "collapsed": false
   },
   "outputs": [
    {
     "data": {
      "text/plain": [
       "array([ 0.,  0.,  0.,  0.,  0.,  0.,  0.,  0.,  0.,  0.,  0.,  0.,  0.,\n",
       "        0.,  0.,  0.,  0.,  0.,  0.,  0.,  0.,  0.,  0.,  0.,  0.,  0.,\n",
       "        0.,  0.,  0.,  0.,  0.,  0.,  0.,  0.,  0.,  0.,  0.,  0.,  0.,\n",
       "        0.,  0.,  0.,  0.,  0.,  0.,  0.,  0.,  0.,  0.,  0.,  0.,  0.,\n",
       "        0.,  0.,  0.,  0.,  0.,  0.,  0.,  0.,  0.,  0.,  0.,  0.,  0.,\n",
       "        0.,  0.,  0.,  0.,  0.,  0.,  0.,  0.,  0.,  0.,  0.,  0.,  0.,\n",
       "        0.,  0.,  0.,  0.,  0.,  0.,  0.,  0.,  0.,  0.,  0.,  0.,  0.,\n",
       "        0.,  0.,  0.,  0.,  0.,  0.,  0.,  0.,  0.,  0.,  0.,  0.,  0.,\n",
       "        0.,  0.,  0.,  0.,  0.,  0.,  0.,  0.,  0.,  0.,  0.,  0.,  0.,\n",
       "        0.,  0.,  0.,  0.,  0.,  0.,  0.,  0.,  0.,  0.,  0.,  0.,  0.,\n",
       "        0.,  0.,  0.,  0.,  0.,  0.,  0.,  0.,  0.,  0.,  0.,  0.,  0.,\n",
       "        0.,  0.,  0.,  0.,  0.,  0.,  0.,  0.,  0.,  0.,  0.,  0.,  0.,\n",
       "        0.,  0.,  0.,  0.,  0.,  0.,  0.,  0.,  0.,  0.,  0.,  0.,  0.,\n",
       "        0.,  0.,  0.,  0.,  0.,  0.,  0.,  0.,  0.,  0.,  0.,  0.,  0.,\n",
       "        0.,  0.,  0.,  0.,  0.,  0.,  0.,  0.,  0.,  0.,  0.,  0.,  0.,\n",
       "        0.,  0.,  0.,  0.,  0.,  0.,  0.,  0.,  0.,  0.,  0.,  0.,  0.,\n",
       "        0.,  0.,  0.,  0.,  0.,  0.,  0.,  0.,  0.,  0.,  0.,  0.,  0.,\n",
       "        0.,  0.,  0.,  0.,  0.,  0.,  0.,  0.,  0.,  0.,  0.,  0.,  0.,\n",
       "        0.,  0.,  0.,  0.,  0.,  0.,  0.,  0.,  0.,  0.,  0.,  0.,  0.,\n",
       "        0.,  0.,  0.,  0.,  0.,  0.,  0.,  0.,  0.])"
      ]
     },
     "execution_count": 101,
     "metadata": {},
     "output_type": "execute_result"
    }
   ],
   "source": [
    "i1array[10,10,:]"
   ]
  },
  {
   "cell_type": "code",
   "execution_count": null,
   "metadata": {
    "collapsed": true
   },
   "outputs": [],
   "source": []
  },
  {
   "cell_type": "code",
   "execution_count": null,
   "metadata": {
    "collapsed": true
   },
   "outputs": [],
   "source": []
  },
  {
   "cell_type": "code",
   "execution_count": 88,
   "metadata": {
    "collapsed": false
   },
   "outputs": [
    {
     "name": "stdout",
     "output_type": "stream",
     "text": [
      "1c1\r\n",
      "< filename       /scratch/user/hirsch/goldstd/data_set/t0009/repos01/T1/dmt0009_t1_s02.nii\r\n",
      "---\r\n",
      "> filename       struct_image.nii\r\n",
      "29c29\r\n",
      "< scl_slope      0.044728\r\n",
      "---\r\n",
      "> scl_slope      1.000000\r\n",
      "66c66\r\n",
      "< descrip        spm - algebra\r\n",
      "---\r\n",
      "> descrip        Bias corrected\r\n"
     ]
    }
   ],
   "source": [
    "!fslhd /scratch/user/hirsch/goldstd/data_set/t0009/repos01/T1/dmt0009_t1_s02.nii > /homes_unix/hirsch/_goldstd/goldstarResults/imgcalc1.txt\n",
    "!fslhd struct_image.nii > /homes_unix/hirsch/_goldstd/goldstarResults/imgcalc2.txt\n",
    "!diff imgcalc1.txt imgcalc2.txt"
   ]
  },
  {
   "cell_type": "code",
   "execution_count": 92,
   "metadata": {
    "collapsed": true
   },
   "outputs": [],
   "source": [
    "img1 ='/scratch/user/hirsch/goldstd/data_set/t0009/repos01/T1/dmt0009_t1_s02.nii'\n",
    "img2= 'struct_image.nii'"
   ]
  },
  {
   "cell_type": "code",
   "execution_count": 93,
   "metadata": {
    "collapsed": false
   },
   "outputs": [],
   "source": [
    "import numpy as np     \n",
    "import nibabel as nib     \n",
    "import os \n",
    "i1=nib.load(img1)         \n",
    "i1array=np.asarray(i1.dataobj).copy() # Avoid caching the proxy image\n",
    "    \n",
    "i2=nib.load(img2)         \n",
    "i2array=np.asarray(i2.dataobj).copy()"
   ]
  },
  {
   "cell_type": "code",
   "execution_count": 94,
   "metadata": {
    "collapsed": false
   },
   "outputs": [
    {
     "data": {
      "text/plain": [
       "False"
      ]
     },
     "execution_count": 94,
     "metadata": {},
     "output_type": "execute_result"
    }
   ],
   "source": [
    "np.array_equal(i1array, i2array)"
   ]
  },
  {
   "cell_type": "code",
   "execution_count": 96,
   "metadata": {
    "collapsed": false
   },
   "outputs": [
    {
     "data": {
      "text/plain": [
       "False"
      ]
     },
     "execution_count": 96,
     "metadata": {},
     "output_type": "execute_result"
    }
   ],
   "source": [
    "np.allclose(i1array, i2array, rtol=1e-01)"
   ]
  },
  {
   "cell_type": "code",
   "execution_count": 13,
   "metadata": {
    "collapsed": false
   },
   "outputs": [
    {
     "name": "stdout",
     "output_type": "stream",
     "text": [
      "/homes_unix/hirsch/_pypipe/datadir/data_results/structural\n"
     ]
    }
   ],
   "source": [
    "%cd /homes_unix/hirsch/_pypipe/datadir/data_results/structural"
   ]
  },
  {
   "cell_type": "code",
   "execution_count": 29,
   "metadata": {
    "collapsed": false
   },
   "outputs": [],
   "source": [
    "# test\n",
    "img1 = 'c1t0009_t1_s03.nii'\n",
    "img2 = 'c2t0009_t1_s03.nii'\n",
    "img3 = 'mt0009_t1_s03.nii'\n",
    "result = computeStructuralImage(img1,img2,img3)"
   ]
  },
  {
   "cell_type": "code",
   "execution_count": null,
   "metadata": {
    "collapsed": true
   },
   "outputs": [],
   "source": [
    "i1=nb.load('c1t0009_t1_s03.nii')         \n",
    "i1array=np.asarray(i1.dataobj).copy() # Avoid caching the proxy image, thanks G. V. !!"
   ]
  },
  {
   "cell_type": "code",
   "execution_count": null,
   "metadata": {
    "collapsed": true
   },
   "outputs": [],
   "source": [
    "i2=nb.load('c1t0009_t1_s03.nii')         \n",
    "i2array=np.asarray(i2.dataobj).copy() "
   ]
  },
  {
   "cell_type": "code",
   "execution_count": null,
   "metadata": {
    "collapsed": true
   },
   "outputs": [],
   "source": [
    "i3=nb.load('BiasField_t0009_t1_s03.nii')         \n",
    "i3array=np.asarray(i3.dataobj).copy() "
   ]
  },
  {
   "cell_type": "code",
   "execution_count": null,
   "metadata": {
    "collapsed": true
   },
   "outputs": [],
   "source": [
    "gi = i1array + i2array"
   ]
  },
  {
   "cell_type": "code",
   "execution_count": null,
   "metadata": {
    "collapsed": false,
    "scrolled": true
   },
   "outputs": [],
   "source": [
    "gi[90,:, 128]"
   ]
  },
  {
   "cell_type": "code",
   "execution_count": null,
   "metadata": {
    "collapsed": true
   },
   "outputs": [],
   "source": [
    "# threshold image wm + csf\n",
    "# a[a > 10] = 0\n",
    "gi[gi < 0.2] = 0"
   ]
  },
  {
   "cell_type": "code",
   "execution_count": null,
   "metadata": {
    "collapsed": true
   },
   "outputs": [],
   "source": [
    "# mask the resulting image\n",
    "gi[gi > 0.0] = 1"
   ]
  },
  {
   "cell_type": "code",
   "execution_count": null,
   "metadata": {
    "collapsed": false
   },
   "outputs": [],
   "source": [
    "gi[90,:, 128]"
   ]
  },
  {
   "cell_type": "code",
   "execution_count": null,
   "metadata": {
    "collapsed": false
   },
   "outputs": [],
   "source": [
    "# numpy.multiply(x1, x2[, out])\n",
    "struct_image_array = np.multiply(gi, i3array)"
   ]
  },
  {
   "cell_type": "code",
   "execution_count": null,
   "metadata": {
    "collapsed": true
   },
   "outputs": [],
   "source": [
    "wm_csf = gi[gi > 0.2]"
   ]
  },
  {
   "cell_type": "code",
   "execution_count": null,
   "metadata": {
    "collapsed": false
   },
   "outputs": [],
   "source": [
    "180*256*256"
   ]
  },
  {
   "cell_type": "code",
   "execution_count": null,
   "metadata": {
    "collapsed": false
   },
   "outputs": [],
   "source": [
    "gi[90,128, 128]"
   ]
  },
  {
   "cell_type": "code",
   "execution_count": null,
   "metadata": {
    "collapsed": false
   },
   "outputs": [],
   "source": [
    "i3array[90,128, 128]"
   ]
  },
  {
   "cell_type": "code",
   "execution_count": null,
   "metadata": {
    "collapsed": false
   },
   "outputs": [],
   "source": [
    "i3array[90,0, 128]"
   ]
  },
  {
   "cell_type": "code",
   "execution_count": null,
   "metadata": {
    "collapsed": false
   },
   "outputs": [],
   "source": [
    "struct_image_array[90,128, 128]"
   ]
  },
  {
   "cell_type": "code",
   "execution_count": null,
   "metadata": {
    "collapsed": false
   },
   "outputs": [],
   "source": [
    "struct_image_array[90,0, 128]"
   ]
  },
  {
   "cell_type": "code",
   "execution_count": null,
   "metadata": {
    "collapsed": false
   },
   "outputs": [],
   "source": [
    "dims= i1array.shape\n",
    "print dims"
   ]
  },
  {
   "cell_type": "code",
   "execution_count": null,
   "metadata": {
    "collapsed": false
   },
   "outputs": [],
   "source": [
    "i1.header.get_data_shape()"
   ]
  },
  {
   "cell_type": "code",
   "execution_count": null,
   "metadata": {
    "collapsed": true
   },
   "outputs": [],
   "source": [
    "i2=nib.load('c1t0009_t1_s03.nii')"
   ]
  },
  {
   "cell_type": "code",
   "execution_count": null,
   "metadata": {
    "collapsed": true
   },
   "outputs": [],
   "source": [
    "i3=nib.load('c2t0009_t1_s03.nii')"
   ]
  },
  {
   "cell_type": "code",
   "execution_count": null,
   "metadata": {
    "collapsed": false
   },
   "outputs": [],
   "source": [
    "data2 = i2.get_data()"
   ]
  },
  {
   "cell_type": "code",
   "execution_count": null,
   "metadata": {
    "collapsed": false
   },
   "outputs": [],
   "source": [
    "data2.__class__.__name__"
   ]
  },
  {
   "cell_type": "code",
   "execution_count": null,
   "metadata": {
    "collapsed": false
   },
   "outputs": [],
   "source": [
    "data3 = i3.get_data()"
   ]
  },
  {
   "cell_type": "code",
   "execution_count": null,
   "metadata": {
    "collapsed": false
   },
   "outputs": [],
   "source": [
    "data = data2 + data3"
   ]
  },
  {
   "cell_type": "code",
   "execution_count": null,
   "metadata": {
    "collapsed": false
   },
   "outputs": [],
   "source": [
    "data_threashold = data[data>0.2]"
   ]
  },
  {
   "cell_type": "code",
   "execution_count": null,
   "metadata": {
    "collapsed": false
   },
   "outputs": [],
   "source": [
    "data_threashold"
   ]
  },
  {
   "cell_type": "code",
   "execution_count": null,
   "metadata": {
    "collapsed": false
   },
   "outputs": [],
   "source": [
    "data_threashold[10]"
   ]
  },
  {
   "cell_type": "code",
   "execution_count": null,
   "metadata": {
    "collapsed": false
   },
   "outputs": [],
   "source": [
    "data_threashold.head()"
   ]
  },
  {
   "cell_type": "code",
   "execution_count": null,
   "metadata": {
    "collapsed": false
   },
   "outputs": [],
   "source": [
    "len(data_threashold)"
   ]
  },
  {
   "cell_type": "code",
   "execution_count": null,
   "metadata": {
    "collapsed": false
   },
   "outputs": [],
   "source": [
    "nib.load()?"
   ]
  },
  {
   "cell_type": "code",
   "execution_count": null,
   "metadata": {
    "collapsed": true
   },
   "outputs": [],
   "source": []
  }
 ],
 "metadata": {
  "kernelspec": {
   "display_name": "Python 2",
   "language": "python",
   "name": "python2"
  },
  "language_info": {
   "codemirror_mode": {
    "name": "ipython",
    "version": 2
   },
   "file_extension": ".py",
   "mimetype": "text/x-python",
   "name": "python",
   "nbconvert_exporter": "python",
   "pygments_lexer": "ipython2",
   "version": "2.7.12"
  }
 },
 "nbformat": 4,
 "nbformat_minor": 0
}
