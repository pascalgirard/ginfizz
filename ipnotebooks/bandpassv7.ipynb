{
 "cells": [
  {
   "cell_type": "code",
   "execution_count": null,
   "metadata": {
    "collapsed": true
   },
   "outputs": [],
   "source": [
    "de v1 à v2 on introduit les masks wm et csf et les meants <br>\n",
    "de v2 à v3 on plot les mocos, on wrappe le code python, on wrappe le code mathlab bramilla. on refait tout le pipeline <br>\n",
    "de v3 à v4 on change les premier et dernier noeud en identity interfacepour se brancher direct sur le proprocess pipeline <br>\n",
    "v5 au retour de hackfest on change les dérivées t - (t-1) <br>\n",
    "on fait pour les regresseurs R R' R2 plus les 3 tissus dependants soit 21 regresseurs <br>\n",
    "v6 on prend les résultats obtenus avec le preprocess corrigé <br>\n",
    "v7 le preprocess a été changé imagecalculator est passé de nibabel à fslmaths <br>\n"
   ]
  },
  {
   "cell_type": "markdown",
   "metadata": {},
   "source": [
    "# To calculate parameters for afni bandpass function and write them in ortho file.txt\n"
   ]
  },
  {
   "cell_type": "markdown",
   "metadata": {},
   "source": [
    "# Start of the new subworkflow - PREBANDPASS"
   ]
  },
  {
   "cell_type": "raw",
   "metadata": {
    "collapsed": true
   },
   "source": [
    "\n",
    "mocoFile = 'scratch/user/hirsch/datadir4/data_results_py/functionnal/realignment_parameters/rp_at0009_epi_s04_d0001.txt'"
   ]
  },
  {
   "cell_type": "code",
   "execution_count": 1,
   "metadata": {
    "collapsed": true,
    "scrolled": true
   },
   "outputs": [],
   "source": [
    "import nipype.interfaces.io as nio           # Data i/o\n",
    "import nipype.interfaces.spm as spm          # spm\n",
    "import nipype.interfaces.matlab as mlab      # how to run matlab\n",
    "import nipype.interfaces.utility as util     # utility\n",
    "import nipype.pipeline.engine as pe          # pypeline engine\n",
    "\n",
    "from nipype.interfaces.utility import Function, IdentityInterface\n",
    "\n",
    "from nipype.interfaces.fsl.maths import MathsCommand\n",
    "from nipype.interfaces.fsl.utils import PlotMotionParams   # to plot moco variables"
   ]
  },
  {
   "cell_type": "code",
   "execution_count": 2,
   "metadata": {
    "collapsed": true,
    "scrolled": true
   },
   "outputs": [],
   "source": [
    "# creation of a subworflow to calculate the bandpass parameters\n",
    "prebandpass = pe.Workflow(name='prebandpass')"
   ]
  },
  {
   "cell_type": "code",
   "execution_count": 3,
   "metadata": {
    "collapsed": false,
    "scrolled": true
   },
   "outputs": [],
   "source": [
    "# todo remplace this node by an identity node that get input from preprocess pipeline / node 7 eg. fsl merge\n",
    "# input node get the good files first the tissues normalised files\n",
    "# the files to merge arein /scratch/user/hirsch/datadir/data_results/functionnal\n",
    "sourcedir = '/scratch/user/hirsch/datadir4/data_results_py/structural/normalized_files'\n",
    "# second the merged functionnal file\n",
    "sourcemergeddir = '//scratch/user/hirsch/datadir4/data_results_py/functionnal/normalized_files'\n",
    "funcdir = '/scratch/user/hirsch/datadir4/data_results_py/functionnal/realignment_parameters'\n",
    "\n",
    "\n",
    "from nipype import SelectFiles, Node\n",
    "templates = dict(wmMask=sourcedir+ \"/\" + \"wc2*.nii\",\n",
    "                 csfMask=sourcedir+ \"/\" + \"wc3*.nii\",\n",
    "                 filesToMerge=sourcemergeddir + \"/\" + \"wcra*.nii\",\n",
    "                 mocoVariables=funcdir+ \"/\" + \"rp*.txt\")\n",
    "\n",
    "filesource = Node(SelectFiles(templates), \"filesource\")\n",
    "filesource.inputs.subject_id = \"subj1\"\n",
    "filesource.outputs.get()\n",
    "hpass =  0.005\n",
    "lpass = 0.2\n"
   ]
  },
  {
   "cell_type": "markdown",
   "metadata": {},
   "source": [
    "## 1 - compute moco file to feed with ortho.txt file the bandpass node of preprocess workflow "
   ]
  },
  {
   "cell_type": "raw",
   "metadata": {},
   "source": [
    "derivatives\n",
    "lets assume that the time of acquisition between 2 mesures is TR = 2 000 ms\n",
    "dx(t)= x(t) - x(t-1)\n",
    "x(t0) = x(t1)\n",
    "acqNb = 240\n",
    "\n"
   ]
  },
  {
   "cell_type": "markdown",
   "metadata": {},
   "source": [
    "## Node 1 - compute moco"
   ]
  },
  {
   "cell_type": "code",
   "execution_count": 5,
   "metadata": {
    "collapsed": false,
    "scrolled": false
   },
   "outputs": [],
   "source": [
    "\n",
    "def computeMoco(mocoFile):\n",
    "    import pandas as pd\n",
    "    import numpy as np\n",
    "    import os\n",
    "    \n",
    "\n",
    "    # read the moco file to put it in a panda dataframe \n",
    "    mocodf = pd.read_csv(mocoFile, header=None, sep='  ',engine='python')\n",
    "    print(mocodf.head())\n",
    "    # todo recuperer ces infos de l'autre pipeline\n",
    "    TR = 2000 \n",
    "    acqNb = 240\n",
    "\n",
    "    def vectorDerivative(v):\n",
    "        dv = {}\n",
    "        for i in range(acqNb):\n",
    "            # print mocodf['x'][i]\n",
    "            if i== 0:\n",
    "                dv[i]= 0\n",
    "            elif i== acqNb-1:\n",
    "                dv[i]= v[i]-v[i-1]\n",
    "            else:\n",
    "                dv[i]= v[i]-v[i-1]\n",
    "                #print 'derivative' + str(i)\n",
    "                #print  v[i]\n",
    "        return v\n",
    "\n",
    "    def plusDerivative(df):\n",
    "        lg = len(df.columns.values)\n",
    "        dg = df\n",
    "        for j in list(df.columns.values):\n",
    "            vprime = vectorDerivative(df[j])\n",
    "            dg[lg+j]=vprime\n",
    "        return dg\n",
    "    \n",
    "    def plusSquare(df):\n",
    "        lg = len(df.columns.values)\n",
    "        ds = df\n",
    "        for j in range(6):\n",
    "            print j\n",
    "            vs = df[j]**2\n",
    "            ds[lg+j]=vs\n",
    "        return ds    \n",
    "    \n",
    "\n",
    "    \n",
    "    # first, we derivate the 6 colunms of dataframe of moco file, and append the 6 new colums to df\n",
    "    dfderivate = plusDerivative(mocodf)\n",
    "    print(dfderivate.head())\n",
    "    \n",
    "    # then, we compute the square of the 6 first colums, and append them to df. it makes 18 colums that are going to \n",
    "    # participate in the ortho file to make 18 regressors bandpassed\n",
    "    dfsquare = plusSquare(dfderivate)\n",
    "    \n",
    "    g = dfsquare.to_csv('ortho.txt', sep=' ', index=False,header=False)\n",
    "    print g\n",
    "    h = os.getcwd() + '/' + 'ortho.txt'\n",
    "    return h\n",
    "    \n",
    "\n",
    "computeMoco = Node(Function(input_names=['mocoFile'],\n",
    "                                output_names=['out_file'],\n",
    "                                function=computeMoco),\n",
    "                                name='computeMoco')\n",
    "\n",
    "\n",
    "\n",
    "prebandpass.connect(filesource, \"mocoVariables\", computeMoco, \"mocoFile\")"
   ]
  },
  {
   "cell_type": "markdown",
   "metadata": {},
   "source": [
    "##  2 - Moco plots"
   ]
  },
  {
   "cell_type": "code",
   "execution_count": 6,
   "metadata": {
    "collapsed": true,
    "scrolled": true
   },
   "outputs": [],
   "source": [
    "# plot moco variables rotations\n",
    "MotionCorrectionPlot1 = Node(PlotMotionParams(), name=\"MotionCorrectionPlot1\")\n",
    "MotionCorrectionPlot1.inputs.ignore_exception = False     \n",
    "MotionCorrectionPlot1.inputs.in_source = 'spm'     \n",
    "MotionCorrectionPlot1.inputs.output_type = 'NIFTI_GZ'     \n",
    "MotionCorrectionPlot1.inputs.plot_size = (500, 1000)     \n",
    "MotionCorrectionPlot1.inputs.plot_type = 'rotations'     \n",
    "MotionCorrectionPlot1.inputs.terminal_output = 'stream'     \n",
    "prebandpass.connect(filesource, \"mocoVariables\", MotionCorrectionPlot1, \"in_file\")"
   ]
  },
  {
   "cell_type": "code",
   "execution_count": 7,
   "metadata": {
    "collapsed": true,
    "scrolled": true
   },
   "outputs": [],
   "source": [
    "# plot moco variables translations\n",
    "MotionCorrectionPlot2 = Node(PlotMotionParams(), name=\"MotionCorrectionPlot2\")\n",
    "MotionCorrectionPlot2.inputs.ignore_exception = False     \n",
    "MotionCorrectionPlot2.inputs.in_source = 'spm'     \n",
    "MotionCorrectionPlot2.inputs.output_type = 'NIFTI_GZ'     \n",
    "MotionCorrectionPlot2.inputs.plot_size = (500, 1000)     \n",
    "MotionCorrectionPlot2.inputs.plot_type = 'translations'     \n",
    "MotionCorrectionPlot2.inputs.terminal_output = 'stream'     \n",
    "prebandpass.connect(filesource, \"mocoVariables\", MotionCorrectionPlot2, \"in_file\")"
   ]
  },
  {
   "cell_type": "code",
   "execution_count": 8,
   "metadata": {
    "collapsed": true,
    "scrolled": true
   },
   "outputs": [],
   "source": [
    "# plot moco variables displacement\n",
    "MotionCorrectionPlot3 = Node(PlotMotionParams(), name=\"MotionCorrectionPlot3\")\n",
    "MotionCorrectionPlot3.inputs.ignore_exception = False     \n",
    "MotionCorrectionPlot3.inputs.in_source = 'spm'     \n",
    "MotionCorrectionPlot3.inputs.output_type = 'NIFTI_GZ'     \n",
    "MotionCorrectionPlot3.inputs.plot_size = (500, 1000)     \n",
    "MotionCorrectionPlot3.inputs.plot_type = 'displacement'     \n",
    "MotionCorrectionPlot3.inputs.terminal_output = 'stream'     \n",
    "prebandpass.connect(filesource, \"mocoVariables\", MotionCorrectionPlot3, \"in_file\")"
   ]
  },
  {
   "cell_type": "markdown",
   "metadata": {},
   "source": [
    "## 3 - get wm and csf mask (normalised), erode them and calculate signal mean on both masks\n",
    "(input from segment + normalyse wmMask = '/homes_unix/hirsch/_pypipe/datadir/data_results/structural/norm_files/wc2t0009_t1_s03.nii')\n",
    "remark: erosion is done once; in connectomics, it is done 3 times"
   ]
  },
  {
   "cell_type": "code",
   "execution_count": 9,
   "metadata": {
    "collapsed": false,
    "scrolled": true
   },
   "outputs": [],
   "source": [
    "# calculate eroded binary mask for wm\n",
    "from nipype.interfaces.fsl.maths import MathsCommand\n",
    "\n",
    "erosion = pe.Node(interface=MathsCommand(), name='erosion')\n",
    "    \n",
    "erosion.inputs.args = '-thr 0 -uthr 111 -bin -ero  '     \n",
    "erosion.inputs.ignore_exception = False     \n",
    "erosion.inputs.output_type = 'NIFTI_GZ'     \n",
    "erosion.inputs.terminal_output = 'stream'     \n",
    "prebandpass.connect(filesource,\"wmMask\" , erosion, \"in_file\")"
   ]
  },
  {
   "cell_type": "code",
   "execution_count": 10,
   "metadata": {
    "collapsed": false,
    "scrolled": true
   },
   "outputs": [],
   "source": [
    "# calculate eroded binary mask for lcf\n",
    "\n",
    "erosioncsf = pe.Node(interface=MathsCommand(), name='erosioncsf')\n",
    "    \n",
    "erosioncsf.inputs.args = '-thr 0 -uthr 111 -bin -ero '     \n",
    "erosioncsf.inputs.ignore_exception = False     \n",
    "erosioncsf.inputs.output_type = 'NIFTI_GZ'     \n",
    "erosioncsf.inputs.terminal_output = 'stream'     \n",
    "prebandpass.connect(filesource,\"csfMask\" , erosioncsf, \"in_file\")"
   ]
  },
  {
   "cell_type": "code",
   "execution_count": 11,
   "metadata": {
    "collapsed": false,
    "scrolled": true
   },
   "outputs": [],
   "source": [
    "# lets merge the functionnal normalysed files with fsl merge\n",
    "\n",
    "from nipype.interfaces.fsl import Merge\n",
    "fsl_merge = pe.Node(interface=Merge(), name=\"fsl_merge\")     \n",
    " \n",
    "fsl_merge.inputs.dimension = 't'\n",
    "fsl_merge.inputs.output_type = 'NIFTI_GZ'\n",
    "# todo recuperer le TR deja exploité du xml\n",
    "fsl_merge.inputs.tr = 2.0\n",
    "#fsl_merge.inputs.force_even = False     \n",
    "fsl_merge.inputs.ignore_exception = False     \n",
    "#fsl_merge.inputs.sort = False\n",
    "\n",
    "prebandpass.connect(filesource,  'filesToMerge', fsl_merge, 'in_files')"
   ]
  },
  {
   "cell_type": "code",
   "execution_count": 12,
   "metadata": {
    "collapsed": false,
    "scrolled": true
   },
   "outputs": [],
   "source": [
    "# lets calculate the mean signal on these eroded masks first on wm\n",
    "from nipype.interfaces.fsl.utils import ImageMeants\n",
    "\n",
    "wmMeants = Node(ImageMeants(), name=\"wmMeants\")     \n",
    "wmMeants.inputs.ignore_exception = False     \n",
    "wmMeants.inputs.order = 1     \n",
    "wmMeants.inputs.output_type = 'NIFTI_GZ'     \n",
    "wmMeants.inputs.terminal_output = 'stream'     \n",
    "prebandpass.connect(fsl_merge, \"merged_file\" , wmMeants, \"in_file\")   \n",
    "prebandpass.connect(erosion, \"out_file\", wmMeants, \"mask\")\n"
   ]
  },
  {
   "cell_type": "code",
   "execution_count": 13,
   "metadata": {
    "collapsed": false,
    "scrolled": true
   },
   "outputs": [],
   "source": [
    "# lets calculate the mean signal on these eroded masks econd on csf\n",
    "\n",
    "csfMeants = Node(ImageMeants(), name=\"csfMeants\")     \n",
    "csfMeants.inputs.ignore_exception = False     \n",
    "csfMeants.inputs.order = 1     \n",
    "csfMeants.inputs.output_type = 'NIFTI_GZ'     \n",
    "wmMeants.inputs.terminal_output = 'stream'     \n",
    "prebandpass.connect(fsl_merge, \"merged_file\" , csfMeants, \"in_file\")   \n",
    "prebandpass.connect(erosioncsf, \"out_file\", csfMeants, \"mask\")\n"
   ]
  },
  {
   "cell_type": "code",
   "execution_count": 14,
   "metadata": {
    "collapsed": false,
    "scrolled": true
   },
   "outputs": [],
   "source": [
    "from ginnipi.toolbox.computations import  mergeTables\n",
    "from ginnipi.toolbox.flow import createList3\n",
    "\n",
    "# Node: func2.createListFrom3\n",
    "createListFrom3 = Node(Function(input_names=['item1', 'item2', 'item3'],                                     \n",
    "                                output_names=['out_list'],                                     \n",
    "                                function=createList3),                            \n",
    "                                name=\"createListFrom3\")     \n",
    "createListFrom3.inputs.ignore_exception = False     \n",
    "prebandpass.connect(computeMoco, \"out_file\", createListFrom3, \"item1\")     \n",
    "prebandpass.connect(wmMeants, \"out_file\", createListFrom3, \"item2\")     \n",
    "prebandpass.connect(csfMeants, \"out_file\", createListFrom3, \"item3\")         \n",
    "\n",
    "# Node: func2.buildNuisanceTable     \n",
    "buildNuisanceTable = Node(Function(input_names= ['in_files'],                                        \n",
    "                                   output_names=['out_file'],                                        \n",
    "                                   function=mergeTables),                               \n",
    "                                   name=\"buildNuisanceTable\")     \n",
    "buildNuisanceTable.inputs.ignore_exception = False     \n",
    "prebandpass.connect(createListFrom3, \"out_list\", buildNuisanceTable, \"in_files\")"
   ]
  },
  {
   "cell_type": "code",
   "execution_count": 15,
   "metadata": {
    "collapsed": false,
    "scrolled": true
   },
   "outputs": [],
   "source": [
    "# lets make a list from the 3 file moco+derivative+square, wmmeants, csfmeants\n",
    "\n"
   ]
  },
  {
   "cell_type": "code",
   "execution_count": 16,
   "metadata": {
    "collapsed": false,
    "scrolled": true
   },
   "outputs": [],
   "source": [
    "# lets calculate the band pass with 3 ortho files moco+derivative+square, wm_meants and csf_meants\n",
    "from nipype.interfaces import afni\n",
    "\n",
    "afniBandpass = pe.Node(interface=afni.Bandpass(), name='afniBandpass')\n",
    "  \n",
    "afniBandpass.inputs.automask = False     \n",
    "afniBandpass.inputs.environ = {}     \n",
    "afniBandpass.inputs.highpass = hpass     \n",
    "afniBandpass.inputs.ignore_exception = False     \n",
    "afniBandpass.inputs.lowpass = lpass     \n",
    "afniBandpass.inputs.outputtype = 'NIFTI_GZ'     \n",
    "afniBandpass.inputs.terminal_output = 'stream'   \n",
    "\n",
    "prebandpass.connect(fsl_merge, \"merged_file\", afniBandpass, \"in_file\")\n",
    "prebandpass.connect(buildNuisanceTable, \"out_file\", afniBandpass, \"orthogonalize_file\")        \n",
    "\n"
   ]
  },
  {
   "cell_type": "code",
   "execution_count": 17,
   "metadata": {
    "collapsed": true,
    "scrolled": true
   },
   "outputs": [],
   "source": [
    "# lets make an output node with the 3 files to be pass to afni bandpass: \n",
    "# file 1 with 1 colums moco, derivative moco, moco and derivative square\n",
    "# file 2 with wm mean signal on wm\n",
    "# file 3 with lcf mean signal on lcf\n",
    "\n",
    "field_list=['rotations_plot', \n",
    "            'translations_plot',\n",
    "            'displacement_plot',\n",
    "            'moco_gradient_square',\n",
    "            'wm_normalized_eroded_mask',\n",
    "            'wm_meants',\n",
    "            'csf_normalized_eroded_mask',\n",
    "            'csf_meants',\n",
    "            \"merged_file\",\n",
    "            'bandpassedFile']\n",
    "            \n",
    "            \n",
    "outputNode = Node(IdentityInterface(fields=field_list), name=\"outputNode\")\n",
    "\n",
    "# for plot files\n",
    "prebandpass.connect(MotionCorrectionPlot1,  'out_file', outputNode, 'rotations_plot')\n",
    "prebandpass.connect(MotionCorrectionPlot2,  'out_file', outputNode, 'translations_plot')\n",
    "prebandpass.connect(MotionCorrectionPlot3,  'out_file', outputNode, 'displacement_plot')\n",
    "\n",
    "# for moco , gradient and square\n",
    "prebandpass.connect(computeMoco,  'out_file', outputNode, 'moco_gradient_square')\n",
    "\n",
    "# for segmented normalised eroded wm and lcf mask\n",
    "prebandpass.connect(erosion,  'out_file', outputNode, 'wm_normalized_eroded_mask')\n",
    "prebandpass.connect(erosioncsf,  'out_file', outputNode, 'csf_normalized_eroded_mask')\n",
    "\n",
    "# for wm and csf mean signal to text files in functionnal repository\n",
    "prebandpass.connect(wmMeants,  'out_file', outputNode, 'wm_meants')\n",
    "prebandpass.connect(csfMeants,  'out_file', outputNode, 'csf_meants')\n",
    "\n",
    "prebandpass.connect(fsl_merge, \"merged_file\", outputNode, \"merged_file\")\n",
    "\n",
    "prebandpass.connect(afniBandpass,  'out_file', outputNode, 'bandpassedFile')"
   ]
  },
  {
   "cell_type": "code",
   "execution_count": 18,
   "metadata": {
    "collapsed": false,
    "scrolled": true
   },
   "outputs": [
    {
     "name": "stderr",
     "output_type": "stream",
     "text": [
      "INFO:workflow:['check', 'execution', 'logging']\n",
      "INFO:workflow:Running serially.\n",
      "INFO:workflow:Executing node filesource in dir: /tmp/tmpWyFD78/prebandpass/filesource\n",
      "INFO:workflow:Runtime memory and threads stats unavailable\n",
      "INFO:workflow:Executing node erosion in dir: /tmp/tmpbuQQNR/prebandpass/erosion\n",
      "INFO:workflow:Running: fslmaths /scratch/user/hirsch/datadir4/data_results_py/structural/normalized_files/wc2t0009_t1_s03.nii -thr 0 -uthr 111 -bin -ero   /tmp/tmpbuQQNR/prebandpass/erosion/wc2t0009_t1_s03_maths.nii.gz\n",
      "INFO:workflow:Executing node computeMoco in dir: /tmp/tmpN3UOIm/prebandpass/computeMoco\n",
      "INFO:workflow:Executing node MotionCorrectionPlot1 in dir: /tmp/tmpkoTsi2/prebandpass/MotionCorrectionPlot1\n",
      "INFO:workflow:Running: fsl_tsplot -i /scratch/user/hirsch/datadir4/data_results_py/functionnal/realignment_parameters/rp_at0009_epi_s04_d0001.txt -o /scratch/user/hirsch/datadir4/data_results_py/functionnal/realignment_parameters/rp_at0009_epi_s04_d0001_rot.png -h 500 -w 1000 -t 'Realign estimated rotations (radians)' --start=4 --finish=6 -a x,y,z\n",
      "INFO:workflow:Executing node fsl_merge in dir: /tmp/tmpuphM6x/prebandpass/fsl_merge\n",
      "INFO:workflow:Running: fslmerge -tr wcrat0009_epi_s04_d0001_merged.nii.gz //scratch/user/hirsch/datadir4/data_results_py/functionnal/normalized_files/wcrat0009_epi_s04_d0001.nii //scratch/user/hirsch/datadir4/data_results_py/functionnal/normalized_files/wcrat0009_epi_s04_d0002.nii //scratch/user/hirsch/datadir4/data_results_py/functionnal/normalized_files/wcrat0009_epi_s04_d0003.nii //scratch/user/hirsch/datadir4/data_results_py/functionnal/normalized_files/wcrat0009_epi_s04_d0004.nii //scratch/user/hirsch/datadir4/data_results_py/functionnal/normalized_files/wcrat0009_epi_s04_d0005.nii //scratch/user/hirsch/datadir4/data_results_py/functionnal/normalized_files/wcrat0009_epi_s04_d0006.nii //scratch/user/hirsch/datadir4/data_results_py/functionnal/normalized_files/wcrat0009_epi_s04_d0007.nii //scratch/user/hirsch/datadir4/data_results_py/functionnal/normalized_files/wcrat0009_epi_s04_d0008.nii //scratch/user/hirsch/datadir4/data_results_py/functionnal/normalized_files/wcrat0009_epi_s04_d0009.nii //scratch/user/hirsch/datadir4/data_results_py/functionnal/normalized_files/wcrat0009_epi_s04_d0010.nii //scratch/user/hirsch/datadir4/data_results_py/functionnal/normalized_files/wcrat0009_epi_s04_d0011.nii //scratch/user/hirsch/datadir4/data_results_py/functionnal/normalized_files/wcrat0009_epi_s04_d0012.nii //scratch/user/hirsch/datadir4/data_results_py/functionnal/normalized_files/wcrat0009_epi_s04_d0013.nii //scratch/user/hirsch/datadir4/data_results_py/functionnal/normalized_files/wcrat0009_epi_s04_d0014.nii //scratch/user/hirsch/datadir4/data_results_py/functionnal/normalized_files/wcrat0009_epi_s04_d0015.nii //scratch/user/hirsch/datadir4/data_results_py/functionnal/normalized_files/wcrat0009_epi_s04_d0016.nii //scratch/user/hirsch/datadir4/data_results_py/functionnal/normalized_files/wcrat0009_epi_s04_d0017.nii //scratch/user/hirsch/datadir4/data_results_py/functionnal/normalized_files/wcrat0009_epi_s04_d0018.nii //scratch/user/hirsch/datadir4/data_results_py/functionnal/normalized_files/wcrat0009_epi_s04_d0019.nii //scratch/user/hirsch/datadir4/data_results_py/functionnal/normalized_files/wcrat0009_epi_s04_d0020.nii //scratch/user/hirsch/datadir4/data_results_py/functionnal/normalized_files/wcrat0009_epi_s04_d0021.nii //scratch/user/hirsch/datadir4/data_results_py/functionnal/normalized_files/wcrat0009_epi_s04_d0022.nii //scratch/user/hirsch/datadir4/data_results_py/functionnal/normalized_files/wcrat0009_epi_s04_d0023.nii //scratch/user/hirsch/datadir4/data_results_py/functionnal/normalized_files/wcrat0009_epi_s04_d0024.nii //scratch/user/hirsch/datadir4/data_results_py/functionnal/normalized_files/wcrat0009_epi_s04_d0025.nii //scratch/user/hirsch/datadir4/data_results_py/functionnal/normalized_files/wcrat0009_epi_s04_d0026.nii //scratch/user/hirsch/datadir4/data_results_py/functionnal/normalized_files/wcrat0009_epi_s04_d0027.nii //scratch/user/hirsch/datadir4/data_results_py/functionnal/normalized_files/wcrat0009_epi_s04_d0028.nii //scratch/user/hirsch/datadir4/data_results_py/functionnal/normalized_files/wcrat0009_epi_s04_d0029.nii //scratch/user/hirsch/datadir4/data_results_py/functionnal/normalized_files/wcrat0009_epi_s04_d0030.nii //scratch/user/hirsch/datadir4/data_results_py/functionnal/normalized_files/wcrat0009_epi_s04_d0031.nii //scratch/user/hirsch/datadir4/data_results_py/functionnal/normalized_files/wcrat0009_epi_s04_d0032.nii //scratch/user/hirsch/datadir4/data_results_py/functionnal/normalized_files/wcrat0009_epi_s04_d0033.nii //scratch/user/hirsch/datadir4/data_results_py/functionnal/normalized_files/wcrat0009_epi_s04_d0034.nii //scratch/user/hirsch/datadir4/data_results_py/functionnal/normalized_files/wcrat0009_epi_s04_d0035.nii //scratch/user/hirsch/datadir4/data_results_py/functionnal/normalized_files/wcrat0009_epi_s04_d0036.nii //scratch/user/hirsch/datadir4/data_results_py/functionnal/normalized_files/wcrat0009_epi_s04_d0037.nii //scratch/user/hirsch/datadir4/data_results_py/functionnal/normalized_files/wcrat0009_epi_s04_d0038.nii //scratch/user/hirsch/datadir4/data_results_py/functionnal/normalized_files/wcrat0009_epi_s04_d0039.nii //scratch/user/hirsch/datadir4/data_results_py/functionnal/normalized_files/wcrat0009_epi_s04_d0040.nii //scratch/user/hirsch/datadir4/data_results_py/functionnal/normalized_files/wcrat0009_epi_s04_d0041.nii //scratch/user/hirsch/datadir4/data_results_py/functionnal/normalized_files/wcrat0009_epi_s04_d0042.nii //scratch/user/hirsch/datadir4/data_results_py/functionnal/normalized_files/wcrat0009_epi_s04_d0043.nii //scratch/user/hirsch/datadir4/data_results_py/functionnal/normalized_files/wcrat0009_epi_s04_d0044.nii //scratch/user/hirsch/datadir4/data_results_py/functionnal/normalized_files/wcrat0009_epi_s04_d0045.nii //scratch/user/hirsch/datadir4/data_results_py/functionnal/normalized_files/wcrat0009_epi_s04_d0046.nii //scratch/user/hirsch/datadir4/data_results_py/functionnal/normalized_files/wcrat0009_epi_s04_d0047.nii //scratch/user/hirsch/datadir4/data_results_py/functionnal/normalized_files/wcrat0009_epi_s04_d0048.nii //scratch/user/hirsch/datadir4/data_results_py/functionnal/normalized_files/wcrat0009_epi_s04_d0049.nii //scratch/user/hirsch/datadir4/data_results_py/functionnal/normalized_files/wcrat0009_epi_s04_d0050.nii //scratch/user/hirsch/datadir4/data_results_py/functionnal/normalized_files/wcrat0009_epi_s04_d0051.nii //scratch/user/hirsch/datadir4/data_results_py/functionnal/normalized_files/wcrat0009_epi_s04_d0052.nii //scratch/user/hirsch/datadir4/data_results_py/functionnal/normalized_files/wcrat0009_epi_s04_d0053.nii //scratch/user/hirsch/datadir4/data_results_py/functionnal/normalized_files/wcrat0009_epi_s04_d0054.nii //scratch/user/hirsch/datadir4/data_results_py/functionnal/normalized_files/wcrat0009_epi_s04_d0055.nii //scratch/user/hirsch/datadir4/data_results_py/functionnal/normalized_files/wcrat0009_epi_s04_d0056.nii //scratch/user/hirsch/datadir4/data_results_py/functionnal/normalized_files/wcrat0009_epi_s04_d0057.nii //scratch/user/hirsch/datadir4/data_results_py/functionnal/normalized_files/wcrat0009_epi_s04_d0058.nii //scratch/user/hirsch/datadir4/data_results_py/functionnal/normalized_files/wcrat0009_epi_s04_d0059.nii //scratch/user/hirsch/datadir4/data_results_py/functionnal/normalized_files/wcrat0009_epi_s04_d0060.nii //scratch/user/hirsch/datadir4/data_results_py/functionnal/normalized_files/wcrat0009_epi_s04_d0061.nii //scratch/user/hirsch/datadir4/data_results_py/functionnal/normalized_files/wcrat0009_epi_s04_d0062.nii //scratch/user/hirsch/datadir4/data_results_py/functionnal/normalized_files/wcrat0009_epi_s04_d0063.nii //scratch/user/hirsch/datadir4/data_results_py/functionnal/normalized_files/wcrat0009_epi_s04_d0064.nii //scratch/user/hirsch/datadir4/data_results_py/functionnal/normalized_files/wcrat0009_epi_s04_d0065.nii //scratch/user/hirsch/datadir4/data_results_py/functionnal/normalized_files/wcrat0009_epi_s04_d0066.nii //scratch/user/hirsch/datadir4/data_results_py/functionnal/normalized_files/wcrat0009_epi_s04_d0067.nii //scratch/user/hirsch/datadir4/data_results_py/functionnal/normalized_files/wcrat0009_epi_s04_d0068.nii //scratch/user/hirsch/datadir4/data_results_py/functionnal/normalized_files/wcrat0009_epi_s04_d0069.nii //scratch/user/hirsch/datadir4/data_results_py/functionnal/normalized_files/wcrat0009_epi_s04_d0070.nii //scratch/user/hirsch/datadir4/data_results_py/functionnal/normalized_files/wcrat0009_epi_s04_d0071.nii //scratch/user/hirsch/datadir4/data_results_py/functionnal/normalized_files/wcrat0009_epi_s04_d0072.nii //scratch/user/hirsch/datadir4/data_results_py/functionnal/normalized_files/wcrat0009_epi_s04_d0073.nii //scratch/user/hirsch/datadir4/data_results_py/functionnal/normalized_files/wcrat0009_epi_s04_d0074.nii //scratch/user/hirsch/datadir4/data_results_py/functionnal/normalized_files/wcrat0009_epi_s04_d0075.nii //scratch/user/hirsch/datadir4/data_results_py/functionnal/normalized_files/wcrat0009_epi_s04_d0076.nii //scratch/user/hirsch/datadir4/data_results_py/functionnal/normalized_files/wcrat0009_epi_s04_d0077.nii //scratch/user/hirsch/datadir4/data_results_py/functionnal/normalized_files/wcrat0009_epi_s04_d0078.nii //scratch/user/hirsch/datadir4/data_results_py/functionnal/normalized_files/wcrat0009_epi_s04_d0079.nii //scratch/user/hirsch/datadir4/data_results_py/functionnal/normalized_files/wcrat0009_epi_s04_d0080.nii //scratch/user/hirsch/datadir4/data_results_py/functionnal/normalized_files/wcrat0009_epi_s04_d0081.nii //scratch/user/hirsch/datadir4/data_results_py/functionnal/normalized_files/wcrat0009_epi_s04_d0082.nii //scratch/user/hirsch/datadir4/data_results_py/functionnal/normalized_files/wcrat0009_epi_s04_d0083.nii //scratch/user/hirsch/datadir4/data_results_py/functionnal/normalized_files/wcrat0009_epi_s04_d0084.nii //scratch/user/hirsch/datadir4/data_results_py/functionnal/normalized_files/wcrat0009_epi_s04_d0085.nii //scratch/user/hirsch/datadir4/data_results_py/functionnal/normalized_files/wcrat0009_epi_s04_d0086.nii //scratch/user/hirsch/datadir4/data_results_py/functionnal/normalized_files/wcrat0009_epi_s04_d0087.nii //scratch/user/hirsch/datadir4/data_results_py/functionnal/normalized_files/wcrat0009_epi_s04_d0088.nii //scratch/user/hirsch/datadir4/data_results_py/functionnal/normalized_files/wcrat0009_epi_s04_d0089.nii //scratch/user/hirsch/datadir4/data_results_py/functionnal/normalized_files/wcrat0009_epi_s04_d0090.nii //scratch/user/hirsch/datadir4/data_results_py/functionnal/normalized_files/wcrat0009_epi_s04_d0091.nii //scratch/user/hirsch/datadir4/data_results_py/functionnal/normalized_files/wcrat0009_epi_s04_d0092.nii //scratch/user/hirsch/datadir4/data_results_py/functionnal/normalized_files/wcrat0009_epi_s04_d0093.nii //scratch/user/hirsch/datadir4/data_results_py/functionnal/normalized_files/wcrat0009_epi_s04_d0094.nii //scratch/user/hirsch/datadir4/data_results_py/functionnal/normalized_files/wcrat0009_epi_s04_d0095.nii //scratch/user/hirsch/datadir4/data_results_py/functionnal/normalized_files/wcrat0009_epi_s04_d0096.nii //scratch/user/hirsch/datadir4/data_results_py/functionnal/normalized_files/wcrat0009_epi_s04_d0097.nii //scratch/user/hirsch/datadir4/data_results_py/functionnal/normalized_files/wcrat0009_epi_s04_d0098.nii //scratch/user/hirsch/datadir4/data_results_py/functionnal/normalized_files/wcrat0009_epi_s04_d0099.nii //scratch/user/hirsch/datadir4/data_results_py/functionnal/normalized_files/wcrat0009_epi_s04_d0100.nii //scratch/user/hirsch/datadir4/data_results_py/functionnal/normalized_files/wcrat0009_epi_s04_d0101.nii //scratch/user/hirsch/datadir4/data_results_py/functionnal/normalized_files/wcrat0009_epi_s04_d0102.nii //scratch/user/hirsch/datadir4/data_results_py/functionnal/normalized_files/wcrat0009_epi_s04_d0103.nii //scratch/user/hirsch/datadir4/data_results_py/functionnal/normalized_files/wcrat0009_epi_s04_d0104.nii //scratch/user/hirsch/datadir4/data_results_py/functionnal/normalized_files/wcrat0009_epi_s04_d0105.nii //scratch/user/hirsch/datadir4/data_results_py/functionnal/normalized_files/wcrat0009_epi_s04_d0106.nii //scratch/user/hirsch/datadir4/data_results_py/functionnal/normalized_files/wcrat0009_epi_s04_d0107.nii //scratch/user/hirsch/datadir4/data_results_py/functionnal/normalized_files/wcrat0009_epi_s04_d0108.nii //scratch/user/hirsch/datadir4/data_results_py/functionnal/normalized_files/wcrat0009_epi_s04_d0109.nii //scratch/user/hirsch/datadir4/data_results_py/functionnal/normalized_files/wcrat0009_epi_s04_d0110.nii //scratch/user/hirsch/datadir4/data_results_py/functionnal/normalized_files/wcrat0009_epi_s04_d0111.nii //scratch/user/hirsch/datadir4/data_results_py/functionnal/normalized_files/wcrat0009_epi_s04_d0112.nii //scratch/user/hirsch/datadir4/data_results_py/functionnal/normalized_files/wcrat0009_epi_s04_d0113.nii //scratch/user/hirsch/datadir4/data_results_py/functionnal/normalized_files/wcrat0009_epi_s04_d0114.nii //scratch/user/hirsch/datadir4/data_results_py/functionnal/normalized_files/wcrat0009_epi_s04_d0115.nii //scratch/user/hirsch/datadir4/data_results_py/functionnal/normalized_files/wcrat0009_epi_s04_d0116.nii //scratch/user/hirsch/datadir4/data_results_py/functionnal/normalized_files/wcrat0009_epi_s04_d0117.nii //scratch/user/hirsch/datadir4/data_results_py/functionnal/normalized_files/wcrat0009_epi_s04_d0118.nii //scratch/user/hirsch/datadir4/data_results_py/functionnal/normalized_files/wcrat0009_epi_s04_d0119.nii //scratch/user/hirsch/datadir4/data_results_py/functionnal/normalized_files/wcrat0009_epi_s04_d0120.nii //scratch/user/hirsch/datadir4/data_results_py/functionnal/normalized_files/wcrat0009_epi_s04_d0121.nii //scratch/user/hirsch/datadir4/data_results_py/functionnal/normalized_files/wcrat0009_epi_s04_d0122.nii //scratch/user/hirsch/datadir4/data_results_py/functionnal/normalized_files/wcrat0009_epi_s04_d0123.nii //scratch/user/hirsch/datadir4/data_results_py/functionnal/normalized_files/wcrat0009_epi_s04_d0124.nii //scratch/user/hirsch/datadir4/data_results_py/functionnal/normalized_files/wcrat0009_epi_s04_d0125.nii //scratch/user/hirsch/datadir4/data_results_py/functionnal/normalized_files/wcrat0009_epi_s04_d0126.nii //scratch/user/hirsch/datadir4/data_results_py/functionnal/normalized_files/wcrat0009_epi_s04_d0127.nii //scratch/user/hirsch/datadir4/data_results_py/functionnal/normalized_files/wcrat0009_epi_s04_d0128.nii //scratch/user/hirsch/datadir4/data_results_py/functionnal/normalized_files/wcrat0009_epi_s04_d0129.nii //scratch/user/hirsch/datadir4/data_results_py/functionnal/normalized_files/wcrat0009_epi_s04_d0130.nii //scratch/user/hirsch/datadir4/data_results_py/functionnal/normalized_files/wcrat0009_epi_s04_d0131.nii //scratch/user/hirsch/datadir4/data_results_py/functionnal/normalized_files/wcrat0009_epi_s04_d0132.nii //scratch/user/hirsch/datadir4/data_results_py/functionnal/normalized_files/wcrat0009_epi_s04_d0133.nii //scratch/user/hirsch/datadir4/data_results_py/functionnal/normalized_files/wcrat0009_epi_s04_d0134.nii //scratch/user/hirsch/datadir4/data_results_py/functionnal/normalized_files/wcrat0009_epi_s04_d0135.nii //scratch/user/hirsch/datadir4/data_results_py/functionnal/normalized_files/wcrat0009_epi_s04_d0136.nii //scratch/user/hirsch/datadir4/data_results_py/functionnal/normalized_files/wcrat0009_epi_s04_d0137.nii //scratch/user/hirsch/datadir4/data_results_py/functionnal/normalized_files/wcrat0009_epi_s04_d0138.nii //scratch/user/hirsch/datadir4/data_results_py/functionnal/normalized_files/wcrat0009_epi_s04_d0139.nii //scratch/user/hirsch/datadir4/data_results_py/functionnal/normalized_files/wcrat0009_epi_s04_d0140.nii //scratch/user/hirsch/datadir4/data_results_py/functionnal/normalized_files/wcrat0009_epi_s04_d0141.nii //scratch/user/hirsch/datadir4/data_results_py/functionnal/normalized_files/wcrat0009_epi_s04_d0142.nii //scratch/user/hirsch/datadir4/data_results_py/functionnal/normalized_files/wcrat0009_epi_s04_d0143.nii //scratch/user/hirsch/datadir4/data_results_py/functionnal/normalized_files/wcrat0009_epi_s04_d0144.nii //scratch/user/hirsch/datadir4/data_results_py/functionnal/normalized_files/wcrat0009_epi_s04_d0145.nii //scratch/user/hirsch/datadir4/data_results_py/functionnal/normalized_files/wcrat0009_epi_s04_d0146.nii //scratch/user/hirsch/datadir4/data_results_py/functionnal/normalized_files/wcrat0009_epi_s04_d0147.nii //scratch/user/hirsch/datadir4/data_results_py/functionnal/normalized_files/wcrat0009_epi_s04_d0148.nii //scratch/user/hirsch/datadir4/data_results_py/functionnal/normalized_files/wcrat0009_epi_s04_d0149.nii //scratch/user/hirsch/datadir4/data_results_py/functionnal/normalized_files/wcrat0009_epi_s04_d0150.nii //scratch/user/hirsch/datadir4/data_results_py/functionnal/normalized_files/wcrat0009_epi_s04_d0151.nii //scratch/user/hirsch/datadir4/data_results_py/functionnal/normalized_files/wcrat0009_epi_s04_d0152.nii //scratch/user/hirsch/datadir4/data_results_py/functionnal/normalized_files/wcrat0009_epi_s04_d0153.nii //scratch/user/hirsch/datadir4/data_results_py/functionnal/normalized_files/wcrat0009_epi_s04_d0154.nii //scratch/user/hirsch/datadir4/data_results_py/functionnal/normalized_files/wcrat0009_epi_s04_d0155.nii //scratch/user/hirsch/datadir4/data_results_py/functionnal/normalized_files/wcrat0009_epi_s04_d0156.nii //scratch/user/hirsch/datadir4/data_results_py/functionnal/normalized_files/wcrat0009_epi_s04_d0157.nii //scratch/user/hirsch/datadir4/data_results_py/functionnal/normalized_files/wcrat0009_epi_s04_d0158.nii //scratch/user/hirsch/datadir4/data_results_py/functionnal/normalized_files/wcrat0009_epi_s04_d0159.nii //scratch/user/hirsch/datadir4/data_results_py/functionnal/normalized_files/wcrat0009_epi_s04_d0160.nii //scratch/user/hirsch/datadir4/data_results_py/functionnal/normalized_files/wcrat0009_epi_s04_d0161.nii //scratch/user/hirsch/datadir4/data_results_py/functionnal/normalized_files/wcrat0009_epi_s04_d0162.nii //scratch/user/hirsch/datadir4/data_results_py/functionnal/normalized_files/wcrat0009_epi_s04_d0163.nii //scratch/user/hirsch/datadir4/data_results_py/functionnal/normalized_files/wcrat0009_epi_s04_d0164.nii //scratch/user/hirsch/datadir4/data_results_py/functionnal/normalized_files/wcrat0009_epi_s04_d0165.nii //scratch/user/hirsch/datadir4/data_results_py/functionnal/normalized_files/wcrat0009_epi_s04_d0166.nii //scratch/user/hirsch/datadir4/data_results_py/functionnal/normalized_files/wcrat0009_epi_s04_d0167.nii //scratch/user/hirsch/datadir4/data_results_py/functionnal/normalized_files/wcrat0009_epi_s04_d0168.nii //scratch/user/hirsch/datadir4/data_results_py/functionnal/normalized_files/wcrat0009_epi_s04_d0169.nii //scratch/user/hirsch/datadir4/data_results_py/functionnal/normalized_files/wcrat0009_epi_s04_d0170.nii //scratch/user/hirsch/datadir4/data_results_py/functionnal/normalized_files/wcrat0009_epi_s04_d0171.nii //scratch/user/hirsch/datadir4/data_results_py/functionnal/normalized_files/wcrat0009_epi_s04_d0172.nii //scratch/user/hirsch/datadir4/data_results_py/functionnal/normalized_files/wcrat0009_epi_s04_d0173.nii //scratch/user/hirsch/datadir4/data_results_py/functionnal/normalized_files/wcrat0009_epi_s04_d0174.nii //scratch/user/hirsch/datadir4/data_results_py/functionnal/normalized_files/wcrat0009_epi_s04_d0175.nii //scratch/user/hirsch/datadir4/data_results_py/functionnal/normalized_files/wcrat0009_epi_s04_d0176.nii //scratch/user/hirsch/datadir4/data_results_py/functionnal/normalized_files/wcrat0009_epi_s04_d0177.nii //scratch/user/hirsch/datadir4/data_results_py/functionnal/normalized_files/wcrat0009_epi_s04_d0178.nii //scratch/user/hirsch/datadir4/data_results_py/functionnal/normalized_files/wcrat0009_epi_s04_d0179.nii //scratch/user/hirsch/datadir4/data_results_py/functionnal/normalized_files/wcrat0009_epi_s04_d0180.nii //scratch/user/hirsch/datadir4/data_results_py/functionnal/normalized_files/wcrat0009_epi_s04_d0181.nii //scratch/user/hirsch/datadir4/data_results_py/functionnal/normalized_files/wcrat0009_epi_s04_d0182.nii //scratch/user/hirsch/datadir4/data_results_py/functionnal/normalized_files/wcrat0009_epi_s04_d0183.nii //scratch/user/hirsch/datadir4/data_results_py/functionnal/normalized_files/wcrat0009_epi_s04_d0184.nii //scratch/user/hirsch/datadir4/data_results_py/functionnal/normalized_files/wcrat0009_epi_s04_d0185.nii //scratch/user/hirsch/datadir4/data_results_py/functionnal/normalized_files/wcrat0009_epi_s04_d0186.nii //scratch/user/hirsch/datadir4/data_results_py/functionnal/normalized_files/wcrat0009_epi_s04_d0187.nii //scratch/user/hirsch/datadir4/data_results_py/functionnal/normalized_files/wcrat0009_epi_s04_d0188.nii //scratch/user/hirsch/datadir4/data_results_py/functionnal/normalized_files/wcrat0009_epi_s04_d0189.nii //scratch/user/hirsch/datadir4/data_results_py/functionnal/normalized_files/wcrat0009_epi_s04_d0190.nii //scratch/user/hirsch/datadir4/data_results_py/functionnal/normalized_files/wcrat0009_epi_s04_d0191.nii //scratch/user/hirsch/datadir4/data_results_py/functionnal/normalized_files/wcrat0009_epi_s04_d0192.nii //scratch/user/hirsch/datadir4/data_results_py/functionnal/normalized_files/wcrat0009_epi_s04_d0193.nii //scratch/user/hirsch/datadir4/data_results_py/functionnal/normalized_files/wcrat0009_epi_s04_d0194.nii //scratch/user/hirsch/datadir4/data_results_py/functionnal/normalized_files/wcrat0009_epi_s04_d0195.nii //scratch/user/hirsch/datadir4/data_results_py/functionnal/normalized_files/wcrat0009_epi_s04_d0196.nii //scratch/user/hirsch/datadir4/data_results_py/functionnal/normalized_files/wcrat0009_epi_s04_d0197.nii //scratch/user/hirsch/datadir4/data_results_py/functionnal/normalized_files/wcrat0009_epi_s04_d0198.nii //scratch/user/hirsch/datadir4/data_results_py/functionnal/normalized_files/wcrat0009_epi_s04_d0199.nii //scratch/user/hirsch/datadir4/data_results_py/functionnal/normalized_files/wcrat0009_epi_s04_d0200.nii //scratch/user/hirsch/datadir4/data_results_py/functionnal/normalized_files/wcrat0009_epi_s04_d0201.nii //scratch/user/hirsch/datadir4/data_results_py/functionnal/normalized_files/wcrat0009_epi_s04_d0202.nii //scratch/user/hirsch/datadir4/data_results_py/functionnal/normalized_files/wcrat0009_epi_s04_d0203.nii //scratch/user/hirsch/datadir4/data_results_py/functionnal/normalized_files/wcrat0009_epi_s04_d0204.nii //scratch/user/hirsch/datadir4/data_results_py/functionnal/normalized_files/wcrat0009_epi_s04_d0205.nii //scratch/user/hirsch/datadir4/data_results_py/functionnal/normalized_files/wcrat0009_epi_s04_d0206.nii //scratch/user/hirsch/datadir4/data_results_py/functionnal/normalized_files/wcrat0009_epi_s04_d0207.nii //scratch/user/hirsch/datadir4/data_results_py/functionnal/normalized_files/wcrat0009_epi_s04_d0208.nii //scratch/user/hirsch/datadir4/data_results_py/functionnal/normalized_files/wcrat0009_epi_s04_d0209.nii //scratch/user/hirsch/datadir4/data_results_py/functionnal/normalized_files/wcrat0009_epi_s04_d0210.nii //scratch/user/hirsch/datadir4/data_results_py/functionnal/normalized_files/wcrat0009_epi_s04_d0211.nii //scratch/user/hirsch/datadir4/data_results_py/functionnal/normalized_files/wcrat0009_epi_s04_d0212.nii //scratch/user/hirsch/datadir4/data_results_py/functionnal/normalized_files/wcrat0009_epi_s04_d0213.nii //scratch/user/hirsch/datadir4/data_results_py/functionnal/normalized_files/wcrat0009_epi_s04_d0214.nii //scratch/user/hirsch/datadir4/data_results_py/functionnal/normalized_files/wcrat0009_epi_s04_d0215.nii //scratch/user/hirsch/datadir4/data_results_py/functionnal/normalized_files/wcrat0009_epi_s04_d0216.nii //scratch/user/hirsch/datadir4/data_results_py/functionnal/normalized_files/wcrat0009_epi_s04_d0217.nii //scratch/user/hirsch/datadir4/data_results_py/functionnal/normalized_files/wcrat0009_epi_s04_d0218.nii //scratch/user/hirsch/datadir4/data_results_py/functionnal/normalized_files/wcrat0009_epi_s04_d0219.nii //scratch/user/hirsch/datadir4/data_results_py/functionnal/normalized_files/wcrat0009_epi_s04_d0220.nii //scratch/user/hirsch/datadir4/data_results_py/functionnal/normalized_files/wcrat0009_epi_s04_d0221.nii //scratch/user/hirsch/datadir4/data_results_py/functionnal/normalized_files/wcrat0009_epi_s04_d0222.nii //scratch/user/hirsch/datadir4/data_results_py/functionnal/normalized_files/wcrat0009_epi_s04_d0223.nii //scratch/user/hirsch/datadir4/data_results_py/functionnal/normalized_files/wcrat0009_epi_s04_d0224.nii //scratch/user/hirsch/datadir4/data_results_py/functionnal/normalized_files/wcrat0009_epi_s04_d0225.nii //scratch/user/hirsch/datadir4/data_results_py/functionnal/normalized_files/wcrat0009_epi_s04_d0226.nii //scratch/user/hirsch/datadir4/data_results_py/functionnal/normalized_files/wcrat0009_epi_s04_d0227.nii //scratch/user/hirsch/datadir4/data_results_py/functionnal/normalized_files/wcrat0009_epi_s04_d0228.nii //scratch/user/hirsch/datadir4/data_results_py/functionnal/normalized_files/wcrat0009_epi_s04_d0229.nii //scratch/user/hirsch/datadir4/data_results_py/functionnal/normalized_files/wcrat0009_epi_s04_d0230.nii //scratch/user/hirsch/datadir4/data_results_py/functionnal/normalized_files/wcrat0009_epi_s04_d0231.nii //scratch/user/hirsch/datadir4/data_results_py/functionnal/normalized_files/wcrat0009_epi_s04_d0232.nii //scratch/user/hirsch/datadir4/data_results_py/functionnal/normalized_files/wcrat0009_epi_s04_d0233.nii //scratch/user/hirsch/datadir4/data_results_py/functionnal/normalized_files/wcrat0009_epi_s04_d0234.nii //scratch/user/hirsch/datadir4/data_results_py/functionnal/normalized_files/wcrat0009_epi_s04_d0235.nii //scratch/user/hirsch/datadir4/data_results_py/functionnal/normalized_files/wcrat0009_epi_s04_d0236.nii //scratch/user/hirsch/datadir4/data_results_py/functionnal/normalized_files/wcrat0009_epi_s04_d0237.nii //scratch/user/hirsch/datadir4/data_results_py/functionnal/normalized_files/wcrat0009_epi_s04_d0238.nii //scratch/user/hirsch/datadir4/data_results_py/functionnal/normalized_files/wcrat0009_epi_s04_d0239.nii //scratch/user/hirsch/datadir4/data_results_py/functionnal/normalized_files/wcrat0009_epi_s04_d0240.nii 2.00\n",
      "INFO:workflow:Executing node wmMeants in dir: /tmp/tmp73TAZ4/prebandpass/wmMeants\n",
      "INFO:workflow:Running: fslmeants -i /tmp/tmpuphM6x/prebandpass/fsl_merge/wcrat0009_epi_s04_d0001_merged.nii.gz -m /tmp/tmpbuQQNR/prebandpass/erosion/wc2t0009_t1_s03_maths.nii.gz --order=1 -o /tmp/tmp73TAZ4/prebandpass/wmMeants/wcrat0009_epi_s04_d0001_merged_ts.txt\n",
      "INFO:workflow:Executing node MotionCorrectionPlot2 in dir: /tmp/tmpL8jNwz/prebandpass/MotionCorrectionPlot2\n",
      "INFO:workflow:Running: fsl_tsplot -i /scratch/user/hirsch/datadir4/data_results_py/functionnal/realignment_parameters/rp_at0009_epi_s04_d0001.txt -o /scratch/user/hirsch/datadir4/data_results_py/functionnal/realignment_parameters/rp_at0009_epi_s04_d0001_trans.png -h 500 -w 1000 -t 'Realign estimated translations (mm)' --start=1 --finish=3 -a x,y,z\n",
      "INFO:workflow:Executing node MotionCorrectionPlot3 in dir: /tmp/tmpCW5Qst/prebandpass/MotionCorrectionPlot3\n",
      "INFO:workflow:Running: fsl_tsplot -i /scratch/user/hirsch/datadir4/data_results_py/functionnal/realignment_parameters/rp_at0009_epi_s04_d0001.txt -o /scratch/user/hirsch/datadir4/data_results_py/functionnal/realignment_parameters/rp_at0009_epi_s04_d0001_disp.png -h 500 -w 1000 -t 'MCFLIRT estimated mean displacement (mm)' -a abs,rel\n",
      "INFO:workflow:Executing node erosioncsf in dir: /tmp/tmpAF1Zqv/prebandpass/erosioncsf\n",
      "INFO:workflow:Running: fslmaths /scratch/user/hirsch/datadir4/data_results_py/structural/normalized_files/wc3t0009_t1_s03.nii -thr 0 -uthr 111 -bin -ero  /tmp/tmpAF1Zqv/prebandpass/erosioncsf/wc3t0009_t1_s03_maths.nii.gz\n",
      "INFO:workflow:Executing node csfMeants in dir: /tmp/tmpk0zzsl/prebandpass/csfMeants\n",
      "INFO:workflow:Running: fslmeants -i /tmp/tmpuphM6x/prebandpass/fsl_merge/wcrat0009_epi_s04_d0001_merged.nii.gz -m /tmp/tmpAF1Zqv/prebandpass/erosioncsf/wc3t0009_t1_s03_maths.nii.gz --order=1 -o /tmp/tmpk0zzsl/prebandpass/csfMeants/wcrat0009_epi_s04_d0001_merged_ts.txt\n",
      "INFO:workflow:Executing node createListFrom3 in dir: /tmp/tmp1c1jI3/prebandpass/createListFrom3\n"
     ]
    },
    {
     "name": "stdout",
     "output_type": "stream",
     "text": [
      "              0         1         2             3             4             5\n",
      "0  1.332086e-14  0.000000  0.000000 -6.237710e-52  2.402678e-85 -3.851860e-34\n",
      "1  2.698024e-03  0.013874 -0.000347 -1.778364e-04 -2.922913e-05  8.624682e-05\n",
      "2  5.508635e-03  0.009560 -0.009807 -4.335903e-05 -3.450885e-05  9.118062e-05\n",
      "3  1.131352e-03  0.037336 -0.011560  1.258265e-04  6.879228e-05 -4.295511e-05\n",
      "4  1.740320e-03  0.055928 -0.018120  9.074919e-05  1.142829e-04 -1.289218e-04\n",
      "             0         1         2             3             4             5   \\\n",
      "0  1.332086e-14  0.000000  0.000000 -6.237710e-52  2.402678e-85 -3.851860e-34   \n",
      "1  2.698024e-03  0.013874 -0.000347 -1.778364e-04 -2.922913e-05  8.624682e-05   \n",
      "2  5.508635e-03  0.009560 -0.009807 -4.335903e-05 -3.450885e-05  9.118062e-05   \n",
      "3  1.131352e-03  0.037336 -0.011560  1.258265e-04  6.879228e-05 -4.295511e-05   \n",
      "4  1.740320e-03  0.055928 -0.018120  9.074919e-05  1.142829e-04 -1.289218e-04   \n",
      "\n",
      "             6         7         8             9             10            11  \n",
      "0  1.332086e-14  0.000000  0.000000 -6.237710e-52  2.402678e-85 -3.851860e-34  \n",
      "1  2.698024e-03  0.013874 -0.000347 -1.778364e-04 -2.922913e-05  8.624682e-05  \n",
      "2  5.508635e-03  0.009560 -0.009807 -4.335903e-05 -3.450885e-05  9.118062e-05  \n",
      "3  1.131352e-03  0.037336 -0.011560  1.258265e-04  6.879228e-05 -4.295511e-05  \n",
      "4  1.740320e-03  0.055928 -0.018120  9.074919e-05  1.142829e-04 -1.289218e-04  \n",
      "0\n",
      "1\n",
      "2\n",
      "3\n",
      "4\n",
      "5\n",
      "None\n"
     ]
    },
    {
     "name": "stderr",
     "output_type": "stream",
     "text": [
      "INFO:workflow:Executing node buildNuisanceTable in dir: /tmp/tmpyHUByn/prebandpass/buildNuisanceTable\n",
      "INFO:workflow:Executing node afniBandpass in dir: /tmp/tmpWE71Du/prebandpass/afniBandpass\n",
      "INFO:workflow:Running: 3dBandpass -prefix wcrat0009_epi_s04_d0001_merged_bp.nii.gz -ort /tmp/tmpyHUByn/prebandpass/buildNuisanceTable/merged_array.txt 0.005000 0.200000 /tmp/tmpWE71Du/prebandpass/afniBandpass/wcrat0009_epi_s04_d0001_merged.nii.gz\n",
      "INFO:interface:stderr 2017-04-20T18:00:01.100450:++ 3dBandpass: AFNI version=AFNI_16.0.00 (Jan  1 2016) [64-bit]\n",
      "INFO:interface:stderr 2017-04-20T18:00:01.100450:++ Authored by: RW Cox\n",
      "INFO:interface:stderr 2017-04-20T18:00:01.100450:++ Data length = 240  FFT length = 240\n",
      "INFO:interface:stderr 2017-04-20T18:00:01.100450: + bandpass: ntime=240 nFFT=240 dt=2 dFreq=0.00208333 Nyquist=0.25 passband indexes=2..96\n",
      "INFO:interface:stderr 2017-04-20T18:00:01.100450:++ Loading input dataset time series\n",
      "INFO:interface:stderr 2017-04-20T18:00:07.902136:++ No mask ==> processing all 902629 voxels\n",
      "INFO:interface:stderr 2017-04-20T18:00:07.902136:++ Checking dataset for initial transients [use '-notrans' to skip this test]\n",
      "INFO:interface:stderr 2017-04-20T18:00:11.289567: + No widespread initial positive transient detected :-)\n",
      "INFO:interface:stderr 2017-04-20T18:00:18.099433:++ 240 dimensional data reduced to 167 by:\n",
      "INFO:interface:stderr 2017-04-20T18:00:18.099433:    50 (bandpass), 20 (-ort), 0 (-dsort), 3 (detrend)\n",
      "INFO:interface:stderr 2017-04-20T18:00:18.099433:++ Bandpassing data time series\n",
      "INFO:interface:stderr 2017-04-20T18:00:31.650660:++ Creating output dataset in memory, then writing it\n",
      "INFO:interface:stderr 2017-04-20T18:01:08.891300:++ Output dataset ./wcrat0009_epi_s04_d0001_merged_bp.nii.gz\n"
     ]
    },
    {
     "data": {
      "text/plain": [
       "<networkx.classes.digraph.DiGraph at 0x7f9cf1601890>"
      ]
     },
     "execution_count": 18,
     "metadata": {},
     "output_type": "execute_result"
    }
   ],
   "source": [
    "# the run\n",
    "prebandpass.run()"
   ]
  },
  {
   "cell_type": "markdown",
   "metadata": {},
   "source": [
    "# End of precalculations dump in ortho.txt file"
   ]
  },
  {
   "cell_type": "markdown",
   "metadata": {},
   "source": [
    "# Brouillons"
   ]
  },
  {
   "cell_type": "code",
   "execution_count": 19,
   "metadata": {
    "collapsed": false
   },
   "outputs": [
    {
     "data": {
      "text/plain": [
       "u'/homes_unix/hirsch/_ipnotebooks'"
      ]
     },
     "execution_count": 19,
     "metadata": {},
     "output_type": "execute_result"
    }
   ],
   "source": [
    "%pwd"
   ]
  },
  {
   "cell_type": "code",
   "execution_count": 4,
   "metadata": {
    "collapsed": true
   },
   "outputs": [
    {
     "name": "stdout",
     "output_type": "stream",
     "text": [
      "Wraps command **fsl_tsplot**\n",
      "\n",
      "Use fsl_tsplot to plot the estimated motion parameters from a realignment\n",
      "program.\n",
      "\n",
      "\n",
      "Examples\n",
      "--------\n",
      "\n",
      ">>> import nipype.interfaces.fsl as fsl\n",
      ">>> plotter = fsl.PlotMotionParams()\n",
      ">>> plotter.inputs.in_file = 'functional.par'\n",
      ">>> plotter.inputs.in_source = 'fsl'\n",
      ">>> plotter.inputs.plot_type = 'rotations'\n",
      ">>> res = plotter.run() #doctest: +SKIP\n",
      "\n",
      "\n",
      "Notes\n",
      "-----\n",
      "\n",
      "The 'in_source' attribute determines the order of columns that are expected\n",
      "in the source file.  FSL prints motion parameters in the order rotations,\n",
      "translations, while SPM prints them in the opposite order.  This interface\n",
      "should be able to plot timecourses of motion parameters generated from other\n",
      "sources as long as they fall under one of these two patterns.  For more\n",
      "flexibilty, see the :class:`fsl.PlotTimeSeries` interface.\n",
      "\n",
      "Inputs::\n",
      "\n",
      "\t[Mandatory]\n",
      "\tin_file: (an existing file name or a list of items which are an\n",
      "\t\t existing file name)\n",
      "\t\tfile with motion parameters\n",
      "\t\tflag: %s, position: 1\n",
      "\tin_source: ('spm' or 'fsl')\n",
      "\t\twhich program generated the motion parameter file - fsl, spm\n",
      "\tplot_type: ('rotations' or 'translations' or 'displacement')\n",
      "\t\twhich motion type to plot - rotations, translations, displacement\n",
      "\t\tflag: %s\n",
      "\n",
      "\t[Optional]\n",
      "\targs: (a string)\n",
      "\t\tAdditional parameters to the command\n",
      "\t\tflag: %s\n",
      "\tenviron: (a dictionary with keys which are a value of type 'str' and\n",
      "\t\t with values which are a value of type 'str', nipype default value:\n",
      "\t\t {})\n",
      "\t\tEnvironment variables\n",
      "\tignore_exception: (a boolean, nipype default value: False)\n",
      "\t\tPrint an error message instead of throwing an exception in case the\n",
      "\t\tinterface fails to run\n",
      "\tout_file: (a file name)\n",
      "\t\timage to write\n",
      "\t\tflag: -o %s\n",
      "\toutput_type: ('NIFTI_PAIR' or 'NIFTI_PAIR_GZ' or 'NIFTI_GZ' or\n",
      "\t\t 'NIFTI')\n",
      "\t\tFSL output type\n",
      "\tplot_size: (a tuple of the form: (an integer (int or long), an\n",
      "\t\t integer (int or long)))\n",
      "\t\tplot image height and width\n",
      "\t\tflag: %s\n",
      "\tterminal_output: ('stream' or 'allatonce' or 'file' or 'none')\n",
      "\t\tControl terminal output: `stream` - displays to terminal immediately\n",
      "\t\t(default), `allatonce` - waits till command is finished to display\n",
      "\t\toutput, `file` - writes output to file, `none` - output is ignored\n",
      "\n",
      "Outputs::\n",
      "\n",
      "\tout_file: (an existing file name)\n",
      "\t\timage to write\n",
      "\n"
     ]
    }
   ],
   "source": [
    "PlotMotionParams().help()"
   ]
  },
  {
   "cell_type": "code",
   "execution_count": 15,
   "metadata": {
    "collapsed": false,
    "scrolled": true
   },
   "outputs": [
    {
     "data": {
      "text/plain": [
       "u'/homes_unix/hirsch/_ipnotebooks'"
      ]
     },
     "execution_count": 15,
     "metadata": {},
     "output_type": "execute_result"
    }
   ],
   "source": [
    "%env PYTHONPATH\n",
    "%pwd\n",
    "\n"
   ]
  },
  {
   "cell_type": "code",
   "execution_count": null,
   "metadata": {
    "collapsed": false,
    "scrolled": true
   },
   "outputs": [],
   "source": [
    "%env PYTHONPATH = ${PYTHONPATH}:/homes_unix/hirsch/ginfizz/src:/homes_unix/hirsch/ginnipi"
   ]
  },
  {
   "cell_type": "code",
   "execution_count": null,
   "metadata": {
    "collapsed": false,
    "scrolled": true
   },
   "outputs": [],
   "source": [
    "from ginnipi.toolbox.computations import  mergeTables"
   ]
  },
  {
   "cell_type": "code",
   "execution_count": null,
   "metadata": {
    "collapsed": false,
    "scrolled": true
   },
   "outputs": [],
   "source": [
    "# data sink\n",
    "datasink = pe.Node(nio.DataSink(), name='datasink')\n",
    "datasink.inputs.base_directory = '/homes_unix/hirsch/_pypipe/datadir/data_results'\n",
    "\n",
    "# for plot files\n",
    "prebandpass.connect(MotionCorrectionPlot1,  'out_file', datasink, '.plotfiles')\n",
    "\n",
    "# for segmented normalised eroded wm and lcf mask\n",
    "prebandpass.connect(erosion,  'out_file', datasink, 'functionnal.bandpass_wm_mask')\n",
    "prebandpass.connect(erosionLcf,  'out_file', datasink, 'functionnal.bandpass_lcf_mask')\n",
    "\n",
    "# for wm and lcf mean signal to text files in functionnal repository\n",
    "prebandpass.connect(wmMeants,  'out_file', datasink, 'functionnal.bandpass_wm_meants')\n",
    "prebandpass.connect(lcfMeants,  'out_file', datasink, 'functionnal.bandpass_lcf_meants')"
   ]
  },
  {
   "cell_type": "code",
   "execution_count": null,
   "metadata": {
    "collapsed": true,
    "scrolled": true
   },
   "outputs": [],
   "source": [
    "def computeOrtho(file1, file2, file3):\n",
    "    fileList = []\n",
    "    fileList.append(file1)\n",
    "    fileList.append(file2)\n",
    "    fileList.append(file3)\n",
    "    return fileList\n",
    "\n",
    "computeOrtho = Node(Function(input_names=['file1', 'file2', 'file3'],\n",
    "                                output_names=['out_file'],\n",
    "                                function=computeOrtho),\n",
    "                                name='computeOrtho')\n",
    "\n",
    "prebandpass.connect(computeMoco, \"out_file\", computeOrtho, 'file1')\n",
    "prebandpass.connect(wmMeants, \"out_file\", computeOrtho, 'file2')\n",
    "prebandpass.connect(csfMeants, \"out_file\", computeOrtho, 'file3')"
   ]
  },
  {
   "cell_type": "code",
   "execution_count": null,
   "metadata": {
    "collapsed": false,
    "scrolled": true
   },
   "outputs": [],
   "source": [
    "%pwd\n"
   ]
  },
  {
   "cell_type": "code",
   "execution_count": null,
   "metadata": {
    "collapsed": false,
    "scrolled": true
   },
   "outputs": [],
   "source": [
    "mocoFile = '/homes_unix/hirsch/_pypipe/datadir/data_results/functionnal/rp_at0009_epi_s04_d0001.txt'\n"
   ]
  },
  {
   "cell_type": "code",
   "execution_count": null,
   "metadata": {
    "collapsed": false,
    "scrolled": true
   },
   "outputs": [],
   "source": [
    "mocoOrtho('/homes_unix/hirsch/_pypipe/datadir/data_results/functionnal/rp_at0009_epi_s04_d0001.txt')"
   ]
  },
  {
   "cell_type": "code",
   "execution_count": null,
   "metadata": {
    "collapsed": false,
    "scrolled": true
   },
   "outputs": [],
   "source": [
    "ImageMeants().help()"
   ]
  },
  {
   "cell_type": "code",
   "execution_count": null,
   "metadata": {
    "collapsed": false,
    "scrolled": true
   },
   "outputs": [],
   "source": [
    "%cd '/homes_unix/hirsch/_pypipe/datadir/data_results/functionnal'\n",
    "%pwd"
   ]
  },
  {
   "cell_type": "code",
   "execution_count": null,
   "metadata": {
    "collapsed": false,
    "scrolled": true
   },
   "outputs": [],
   "source": [
    "cwd = os.getcwd()\n",
    "print cwd"
   ]
  },
  {
   "cell_type": "code",
   "execution_count": null,
   "metadata": {
    "collapsed": false,
    "scrolled": true
   },
   "outputs": [],
   "source": [
    "square = plusSquare(derivate)\n",
    "print(square.head())"
   ]
  },
  {
   "cell_type": "code",
   "execution_count": null,
   "metadata": {
    "collapsed": false,
    "scrolled": false
   },
   "outputs": [],
   "source": [
    "vectorSquare(mocodf[0])"
   ]
  },
  {
   "cell_type": "code",
   "execution_count": null,
   "metadata": {
    "collapsed": false,
    "scrolled": true
   },
   "outputs": [],
   "source": [
    "list(mocodf.columns.values)"
   ]
  },
  {
   "cell_type": "code",
   "execution_count": null,
   "metadata": {
    "collapsed": false,
    "scrolled": false
   },
   "outputs": [],
   "source": [
    "vectorderivative(mocodf[0])"
   ]
  },
  {
   "cell_type": "code",
   "execution_count": null,
   "metadata": {
    "collapsed": true,
    "scrolled": true
   },
   "outputs": [],
   "source": [
    "sdx = pd.Series(dx)"
   ]
  },
  {
   "cell_type": "code",
   "execution_count": null,
   "metadata": {
    "collapsed": false,
    "scrolled": true
   },
   "outputs": [],
   "source": [
    "sdx"
   ]
  },
  {
   "cell_type": "code",
   "execution_count": null,
   "metadata": {
    "collapsed": true,
    "scrolled": true
   },
   "outputs": [],
   "source": []
  }
 ],
 "metadata": {
  "kernelspec": {
   "display_name": "Python 2",
   "language": "python",
   "name": "python2"
  },
  "language_info": {
   "codemirror_mode": {
    "name": "ipython",
    "version": 2
   },
   "file_extension": ".py",
   "mimetype": "text/x-python",
   "name": "python",
   "nbconvert_exporter": "python",
   "pygments_lexer": "ipython2",
   "version": "2.7.12"
  }
 },
 "nbformat": 4,
 "nbformat_minor": 0
}
