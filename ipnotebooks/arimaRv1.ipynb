{
 "cells": [
  {
   "cell_type": "markdown",
   "metadata": {},
   "source": [
    "chagements par rapport à arima v2: <br>\n",
    " - on se place dans gm <br>\n",
    " - on prend arima en R"
   ]
  },
  {
   "cell_type": "code",
   "execution_count": 3,
   "metadata": {
    "collapsed": true
   },
   "outputs": [],
   "source": [
    "import pandas as pd\n",
    "import numpy as np\n",
    "import matplotlib.pylab as plt\n",
    "\n",
    "import nibabel as nib\n",
    "\n",
    "%matplotlib inline\n",
    "from matplotlib.pylab import rcParams\n",
    "rcParams['figure.figsize'] = 15, 6"
   ]
  },
  {
   "cell_type": "markdown",
   "metadata": {},
   "source": [
    "## on se place dans grey matter"
   ]
  },
  {
   "cell_type": "code",
   "execution_count": 3,
   "metadata": {
    "collapsed": false
   },
   "outputs": [],
   "source": [
    "import numpy as np     \n",
    "import nibabel as nib     \n",
    "import os\n",
    "# on regarde le grey matter\n",
    "img1 = '/scratch/user/hirsch/datadir/data_results_py_backup/structural/norm_files/wc1t0009_t1_s03.nii'\n",
    "i1=nib.load(img1)         \n",
    "i1array=np.asarray(i1.dataobj).copy() \n",
    "i1array[(10 * i1array )< 2] = 0\n",
    "    # binary mask the resulting image\n",
    "i1array[i1array > 0] = 1\n",
    "gmCoord = np.transpose(np.nonzero(i1array))\n",
    "\n",
    "    "
   ]
  },
  {
   "cell_type": "code",
   "execution_count": 31,
   "metadata": {
    "collapsed": false
   },
   "outputs": [
    {
     "name": "stdout",
     "output_type": "stream",
     "text": [
      "(91, 109, 91)\n",
      "3\n",
      "902629\n"
     ]
    }
   ],
   "source": [
    "print i1array.shape\n",
    "print i1array.ndim\n",
    "print i1array.size"
   ]
  },
  {
   "cell_type": "code",
   "execution_count": 33,
   "metadata": {
    "collapsed": false
   },
   "outputs": [
    {
     "name": "stdout",
     "output_type": "stream",
     "text": [
      "(148054, 3)\n",
      "2\n",
      "444162\n"
     ]
    }
   ],
   "source": [
    "print gmCoord.shape\n",
    "print gmCoord.ndim\n",
    "print gmCoord.size"
   ]
  },
  {
   "cell_type": "code",
   "execution_count": 5,
   "metadata": {
    "collapsed": false
   },
   "outputs": [
    {
     "data": {
      "text/plain": [
       "(148054, 3)"
      ]
     },
     "execution_count": 5,
     "metadata": {},
     "output_type": "execute_result"
    }
   ],
   "source": [
    "gmCoord.shape"
   ]
  },
  {
   "cell_type": "code",
   "execution_count": 40,
   "metadata": {
    "collapsed": false
   },
   "outputs": [
    {
     "name": "stdout",
     "output_type": "stream",
     "text": [
      "[10 42 32]\n",
      "1\n",
      "10\n"
     ]
    }
   ],
   "source": [
    "print gmCoord[0]\n",
    "print gmCoord[0].ndim\n",
    "print gmCoord[0][0]"
   ]
  },
  {
   "cell_type": "code",
   "execution_count": 53,
   "metadata": {
    "collapsed": false
   },
   "outputs": [
    {
     "ename": "SyntaxError",
     "evalue": "invalid syntax (<ipython-input-53-8c39e9361adb>, line 1)",
     "output_type": "error",
     "traceback": [
      "\u001b[1;36m  File \u001b[1;32m\"<ipython-input-53-8c39e9361adb>\"\u001b[1;36m, line \u001b[1;32m1\u001b[0m\n\u001b[1;33m    coord4D = [gmCoord[0][0], gmCoord[0][1], gmCoord[0][2], :]\u001b[0m\n\u001b[1;37m                                                            ^\u001b[0m\n\u001b[1;31mSyntaxError\u001b[0m\u001b[1;31m:\u001b[0m invalid syntax\n"
     ]
    }
   ],
   "source": [
    "coord4D = [gmCoord[0][0], gmCoord[0][1], gmCoord[0][2], :]\n",
    "#coord4D = coord4D.append(gmCoord[0][0]).append(gmCoord[0][1]).append(gmCoord[0][2]).append(':')\n",
    "#coord4D.append(0:240)\n",
    "print coord4D\n",
    "print bpedarray[coord4D].shape"
   ]
  },
  {
   "cell_type": "code",
   "execution_count": 55,
   "metadata": {
    "collapsed": false
   },
   "outputs": [
    {
     "name": "stdout",
     "output_type": "stream",
     "text": [
      "(240,)\n",
      "[  3.52134657  -6.23378086   7.16301107  -0.85338044   0.38919878\n",
      "   9.70041084  -0.10137814  -0.97010434   4.39753199   7.37915182\n",
      "   3.02741289   0.27556968   9.07578087  -0.36453417   0.45492637\n",
      "   8.01819897  -7.45907688   1.12639153  -1.86202526 -14.18193626\n",
      "   9.10979843  -2.3510561  -15.02653503   0.3556169   -6.79150009\n",
      "   1.37233281  -0.06516778 -10.33544922   7.74271011  -3.84441495\n",
      " -11.46653557   0.19664401  -9.37285137  -2.64104748   0.67968708\n",
      "  -8.07962322  -4.94610643  -3.77980924   1.60525918  -7.6991148\n",
      " -10.47699547   8.51212692  -1.465832    -5.80942059   5.0622263\n",
      "  -3.1159935    2.34565997  13.70955658   9.16820717   1.24649346\n",
      "  -1.70214951  -2.99391389  -9.32885551  -1.67303038   4.66308069\n",
      "  -8.80695152 -14.28727722  -5.18984604  11.27925968   4.45911932\n",
      " -11.84894371   3.60017395   3.12315154   1.47067821  15.64547634\n",
      "  -9.02764702 -19.30842781  -5.74106359 -10.99218273   1.44442475\n",
      "   9.30507374   1.9418664    7.34669495   7.96181488   9.51987457\n",
      "   7.03654957  -0.33211637   4.2842021   -1.04389191  -7.20982647\n",
      "  -3.83236814  -9.03942776  -5.53802776   2.49681664  -1.79067981\n",
      "   2.86908603   3.62982178 -13.1479845  -10.01703644  -1.34008503\n",
      "  -8.06453323   5.5518527   10.46700001 -10.68031502  -4.5646162\n",
      "  11.7699337    9.21387672   1.76856613   1.67307353  15.47671509\n",
      "  13.79332256   4.11927891   9.79722023   1.06106961  -1.18037081\n",
      "   9.08146763  -0.61700279   3.08073092  10.35877323  -0.09050557\n",
      "  12.05471134  19.13746452   4.21546459  13.35890388  17.21588135\n",
      "   1.96180463  11.6881361   10.77075291 -16.04167175 -15.73312473\n",
      "  -5.44647455  -5.03872728   4.35815907   7.4029665    0.06089765\n",
      "  -4.58988571  -0.68915278   1.72387588 -13.1183424  -13.38622665\n",
      "  -0.21571773  -8.46262455  -8.70081425   1.50756824  -1.03140152\n",
      "  -3.31996298 -10.33606148 -13.02310181  -4.38307667  -7.26143694\n",
      "  -7.2458992    2.62200737  -0.52412534  -6.60126066  -1.95334923\n",
      "  -2.28264308 -12.85499191 -12.88674736  -0.83668083   1.48023462\n",
      "  -0.73922694   4.50136614   0.69315195 -11.06931019  -8.45027447\n",
      "  -2.68134046  -4.00290823   0.75348455   1.18233585  -4.63123322\n",
      "  -4.79818344  -4.44897938   2.31669092   6.62750149  -0.35387042\n",
      "   0.16337965  -3.97187829 -15.60988712  -8.89981461   3.67890978\n",
      "   2.59416032  -0.1390245    6.41797543   5.4590416   -0.4429878\n",
      "  10.4707489   16.37129402  14.00396442  12.0959549   -2.32747149\n",
      "   3.50520349  13.79743671  -8.49813366  -5.22292709  23.29213142\n",
      "  21.87515831   4.23064756  -1.48193216   5.9372263    0.12703884\n",
      " -13.33654118  -5.59583139   2.13208723   4.35884094   6.45038843\n",
      "  -0.20409513   0.49527979   0.16882658  -5.97502851   2.5767653\n",
      "  11.49288559   4.52935743  -9.71091175 -10.68219471   5.63507223\n",
      "  15.04774666  19.94997597  23.55048561   4.08115721 -13.57538509\n",
      "  -1.79933286  -1.7317661  -20.20759964 -13.6822443   -4.39218283\n",
      " -10.18709564  -3.27761841  -5.58823299 -18.62553024 -11.92971992\n",
      "  -7.69537878 -14.86500168 -17.21906662 -16.80952644 -12.3320303\n",
      "  -0.63274384   3.64402795 -10.36588955  -8.75275803  10.14272213\n",
      "   1.84364903  -3.2573061   16.00945091  14.86445141  -0.57148039\n",
      "   1.73559058  15.48398781  19.13575935  21.90647697  25.60416412]\n"
     ]
    }
   ],
   "source": [
    "print bpedarray[gmCoord[0][0], gmCoord[0][1], gmCoord[0][2], :].shape\n",
    "print bpedarray[gmCoord[0][0], gmCoord[0][1], gmCoord[0][2], :]"
   ]
  },
  {
   "cell_type": "code",
   "execution_count": 26,
   "metadata": {
    "collapsed": false
   },
   "outputs": [
    {
     "name": "stdout",
     "output_type": "stream",
     "text": [
      "(3, 1)\n",
      "2\n",
      "[[10]\n",
      " [42]\n",
      " [32]]\n"
     ]
    }
   ],
   "source": [
    "# A=np.array([0,1,2]).reshape((3,1)) \n",
    "#gmCoord[0].reshape = (4L, 1L)\n",
    "\n",
    "coord=np.array(gmCoord[0]).reshape((3,1)) \n",
    "print coord.shape\n",
    "print coord.ndim\n",
    "print coord\n"
   ]
  },
  {
   "cell_type": "code",
   "execution_count": 39,
   "metadata": {
    "collapsed": false
   },
   "outputs": [
    {
     "name": "stdout",
     "output_type": "stream",
     "text": [
      "(1, 3)\n",
      "2\n",
      "[[10 42 32]]\n",
      "[array([10, 42, 32]), 2]\n"
     ]
    }
   ],
   "source": [
    "coord=np.array(gmCoord[0]).reshape((1,3)) \n",
    "print coord.shape\n",
    "print coord.ndim\n",
    "print coord\n",
    "coord_list = list(list(coord))\n",
    "coord_list.append(2)\n",
    "print coord_list"
   ]
  },
  {
   "cell_type": "code",
   "execution_count": 13,
   "metadata": {
    "collapsed": true
   },
   "outputs": [],
   "source": [
    "# bpfile\n",
    "bpFile = '/scratch/user/hirsch/datadir4/data_results_py/functionnal/bandpassedFile/wcrat0009_epi_s04_d0001_merged_bp.nii.gz'\n",
    "bped =nib.load(bpFile)\n",
    "bpedarray = np.asarray(bped.dataobj).copy()"
   ]
  },
  {
   "cell_type": "code",
   "execution_count": 32,
   "metadata": {
    "collapsed": false
   },
   "outputs": [
    {
     "name": "stdout",
     "output_type": "stream",
     "text": [
      "(91, 109, 91, 240)\n",
      "4\n",
      "216630960\n"
     ]
    }
   ],
   "source": [
    "print bpedarray.shape\n",
    "print bpedarray.ndim\n",
    "print bpedarray.size"
   ]
  },
  {
   "cell_type": "code",
   "execution_count": 34,
   "metadata": {
    "collapsed": false
   },
   "outputs": [
    {
     "name": "stdout",
     "output_type": "stream",
     "text": [
      "240\n"
     ]
    }
   ],
   "source": [
    "print bpedarray.shape[3]"
   ]
  },
  {
   "cell_type": "code",
   "execution_count": 29,
   "metadata": {
    "collapsed": false
   },
   "outputs": [
    {
     "data": {
      "text/plain": [
       "(3, 1, 109, 91, 240)"
      ]
     },
     "execution_count": 29,
     "metadata": {},
     "output_type": "execute_result"
    }
   ],
   "source": [
    "bpedarray[coord].shape"
   ]
  },
  {
   "cell_type": "code",
   "execution_count": 30,
   "metadata": {
    "collapsed": false
   },
   "outputs": [
    {
     "data": {
      "text/plain": [
       "4"
      ]
     },
     "execution_count": 30,
     "metadata": {},
     "output_type": "execute_result"
    }
   ],
   "source": [
    "bpedarray[gmCoord[0]].ndim"
   ]
  },
  {
   "cell_type": "markdown",
   "metadata": {},
   "source": [
    "## Plot one voxel from merged normalized file"
   ]
  },
  {
   "cell_type": "code",
   "execution_count": 8,
   "metadata": {
    "collapsed": false
   },
   "outputs": [],
   "source": [
    "mergedfile = '/tmp/tmpPLoSEw/prebandpass/fsl_merge/wcrat0009_epi_s04_d0001_merged.nii.gz'\n",
    "merged =nib.load(mergedfile)\n",
    "mergedarray = np.asarray(merged.dataobj).copy()"
   ]
  },
  {
   "cell_type": "code",
   "execution_count": 12,
   "metadata": {
    "collapsed": false
   },
   "outputs": [
    {
     "data": {
      "text/plain": [
       "[<matplotlib.lines.Line2D at 0x7fc21fe44a10>]"
      ]
     },
     "execution_count": 12,
     "metadata": {},
     "output_type": "execute_result"
    },
    {
     "data": {
      "image/png": "[encoded data removed]",
      "text/plain": [
       "<matplotlib.figure.Figure at 0x7fc2208f5150>"
      ]
     },
     "metadata": {},
     "output_type": "display_data"
    }
   ],
   "source": [
    "import matplotlib.pylab as plt\n",
    "%matplotlib inline\n",
    "from matplotlib.pylab import rcParams\n",
    "rcParams['figure.figsize'] = 15, 6\n",
    "ts_merged =  mergedarray[10, 42,  39, :]\n",
    "plt.plot(ts_merged)"
   ]
  },
  {
   "cell_type": "code",
   "execution_count": 3,
   "metadata": {
    "collapsed": true
   },
   "outputs": [],
   "source": [
    "\n",
    "datafile = '/scratch/user/hirsch/datadir/data_results/arima/wcrat0009_epi_s04_d0001_merged_bp.nii.gz'"
   ]
  },
  {
   "cell_type": "markdown",
   "metadata": {},
   "source": [
    "## Plot same voxel after bandpass from merged normalized file"
   ]
  },
  {
   "cell_type": "code",
   "execution_count": 4,
   "metadata": {
    "collapsed": true
   },
   "outputs": [],
   "source": [
    "import nibabel as nib\n",
    "img = nib.load(datafile)"
   ]
  },
  {
   "cell_type": "code",
   "execution_count": 5,
   "metadata": {
    "collapsed": false
   },
   "outputs": [],
   "source": [
    "imgarray=np.asarray(img.dataobj).copy()"
   ]
  },
  {
   "cell_type": "code",
   "execution_count": 6,
   "metadata": {
    "collapsed": false
   },
   "outputs": [
    {
     "name": "stdout",
     "output_type": "stream",
     "text": [
      "(91, 109, 91, 240)\n"
     ]
    }
   ],
   "source": [
    "dims= imgarray.shape\n",
    "print dims"
   ]
  },
  {
   "cell_type": "code",
   "execution_count": 7,
   "metadata": {
    "collapsed": false
   },
   "outputs": [
    {
     "data": {
      "text/plain": [
       "array([ -7.57514051e-09,   1.48284296e-09,   9.92195393e-09, ...,\n",
       "         7.89371654e-02,  -1.44566566e-01,   1.69289768e-01], dtype=float32)"
      ]
     },
     "execution_count": 7,
     "metadata": {},
     "output_type": "execute_result"
    }
   ],
   "source": [
    "# a[nonzero(a)]\n",
    "imgarray[np.nonzero(imgarray)]"
   ]
  },
  {
   "cell_type": "code",
   "execution_count": 8,
   "metadata": {
    "collapsed": false
   },
   "outputs": [
    {
     "data": {
      "text/plain": [
       "array([[  0,   0,  11,   0],\n",
       "       [  0,   0,  11,   1],\n",
       "       [  0,   0,  11,   2],\n",
       "       ..., \n",
       "       [ 90, 108,  14, 237],\n",
       "       [ 90, 108,  14, 238],\n",
       "       [ 90, 108,  14, 239]])"
      ]
     },
     "execution_count": 8,
     "metadata": {},
     "output_type": "execute_result"
    }
   ],
   "source": [
    "# \n",
    "# np.transpose(np.nonzero(x))\n",
    "np.transpose(np.nonzero(imgarray))"
   ]
  },
  {
   "cell_type": "code",
   "execution_count": 9,
   "metadata": {
    "collapsed": true
   },
   "outputs": [],
   "source": [
    "ts =  imgarray[90, 108,  14, :]"
   ]
  },
  {
   "cell_type": "code",
   "execution_count": 10,
   "metadata": {
    "collapsed": false
   },
   "outputs": [
    {
     "data": {
      "text/plain": [
       "[<matplotlib.lines.Line2D at 0x7f27f2f5db10>]"
      ]
     },
     "execution_count": 10,
     "metadata": {},
     "output_type": "execute_result"
    },
    {
     "data": {
      "image/png": "[encoded data removed]",
      "text/plain": [
       "<matplotlib.figure.Figure at 0x7f27f558fe50>"
      ]
     },
     "metadata": {},
     "output_type": "display_data"
    }
   ],
   "source": [
    "plt.plot(ts)"
   ]
  },
  {
   "cell_type": "code",
   "execution_count": 11,
   "metadata": {
    "collapsed": false
   },
   "outputs": [
    {
     "data": {
      "image/png": "[encoded data removed]",
      "text/plain": [
       "<matplotlib.figure.Figure at 0x7f27f5524650>"
      ]
     },
     "metadata": {},
     "output_type": "display_data"
    }
   ],
   "source": [
    "\n",
    "from matplotlib import pyplot\n",
    "from pandas.tools.plotting import autocorrelation_plot\n",
    "\n",
    "autocorrelation_plot(ts)\n",
    "pyplot.show()"
   ]
  },
  {
   "cell_type": "code",
   "execution_count": 12,
   "metadata": {
    "collapsed": false
   },
   "outputs": [
    {
     "name": "stdout",
     "output_type": "stream",
     "text": [
      "((0, 0, 0), 9.1857527290895007)\n",
      "((0, 0, 1), -65.17133644774196)\n",
      "((0, 0, 2), -89.12003831578579)\n",
      "((0, 0, 3), -93.76635442211727)\n",
      "((0, 1, 0), 124.10801835385266)\n",
      "((0, 1, 1), 17.64257986682287)\n",
      "((0, 1, 3), -80.84704316101829)\n",
      "((1, 0, 0), 2.2292768987908858)\n",
      "((1, 1, 0), 93.18513942444235)\n",
      "((2, 0, 0), 2.8380076651866375)\n",
      "((2, 1, 0), 10.071998222243451)\n",
      "((3, 0, 0), -23.878245663298117)\n",
      "((3, 1, 0), -0.23038788052338077)\n",
      "((4, 0, 0), -69.17466519517916)\n",
      "((4, 1, 0), -43.48796933514393)\n",
      "((5, 0, 0), -78.94497640689804)\n",
      "((5, 1, 0), -47.68878962750023)\n"
     ]
    }
   ],
   "source": [
    "from statsmodels.tsa.arima_model import ARIMA\n",
    "from matplotlib import pyplot\n",
    "\n",
    "for p in range(6):\n",
    "    for d in range(2):\n",
    "        for q in range(4):\n",
    "            try:\n",
    "                arima_mod=ARIMA(ts,(p,d,q)).fit(transparams=True)\n",
    "\n",
    "                x=arima_mod.aic\n",
    "\n",
    "                x1= p,d,q\n",
    "                print (x1,x)\n",
    "\n",
    "                aic.append(x)\n",
    "                pdq.append(x1)\n",
    "            except:\n",
    "                pass\n",
    "                # ignore the error and go on"
   ]
  },
  {
   "cell_type": "code",
   "execution_count": 19,
   "metadata": {
    "collapsed": false
   },
   "outputs": [
    {
     "name": "stdout",
     "output_type": "stream",
     "text": [
      "                             ARIMA Model Results                              \n",
      "==============================================================================\n",
      "Dep. Variable:                    D.y   No. Observations:                  239\n",
      "Model:                 ARIMA(1, 1, 0)   Log Likelihood                 -43.593\n",
      "Method:                       css-mle   S.D. of innovations              0.290\n",
      "Date:                Tue, 04 Apr 2017   AIC                             93.185\n",
      "Time:                        16:44:19   BIC                            103.615\n",
      "Sample:                             1   HQIC                            97.388\n",
      "                                                                              \n",
      "==============================================================================\n",
      "                 coef    std err          z      P>|z|      [95.0% Conf. Int.]\n",
      "------------------------------------------------------------------------------\n",
      "const          0.0015      0.014      0.109      0.913        -0.026     0.029\n",
      "ar.L1.D.y     -0.3587      0.060     -5.946      0.000        -0.477    -0.240\n",
      "                                    Roots                                    \n",
      "=============================================================================\n",
      "                 Real           Imaginary           Modulus         Frequency\n",
      "-----------------------------------------------------------------------------\n",
      "AR.1           -2.7879           +0.0000j            2.7879            0.5000\n",
      "-----------------------------------------------------------------------------\n"
     ]
    },
    {
     "data": {
      "image/png": "[encoded data removed]",
      "text/plain": [
       "<matplotlib.figure.Figure at 0x7f27f2d2e4d0>"
      ]
     },
     "metadata": {},
     "output_type": "display_data"
    },
    {
     "data": {
      "image/png": "[encoded data removed]",
      "text/plain": [
       "<matplotlib.figure.Figure at 0x7f27f2d7de50>"
      ]
     },
     "metadata": {},
     "output_type": "display_data"
    },
    {
     "name": "stdout",
     "output_type": "stream",
     "text": [
      "                0\n",
      "count  239.000000\n",
      "mean    -0.000057\n",
      "std      0.290913\n",
      "min     -1.121302\n",
      "25%     -0.065328\n",
      "50%     -0.003163\n",
      "75%      0.076843\n",
      "max      1.668872\n"
     ]
    }
   ],
   "source": [
    "\n",
    "\n",
    "from matplotlib import pyplot\n",
    "\n",
    "# fit model\n",
    "model = ARIMA(ts, order=(1,1,0))\n",
    "model_fit = model.fit(disp=0)\n",
    "print(model_fit.summary())\n",
    "# plot residual errors\n",
    "residuals = pd.DataFrame(model_fit.resid)\n",
    "residuals.plot()\n",
    "pyplot.show()\n",
    "residuals.plot(kind='kde')\n",
    "pyplot.show()\n",
    "print(residuals.describe())"
   ]
  },
  {
   "cell_type": "code",
   "execution_count": 21,
   "metadata": {
    "collapsed": false
   },
   "outputs": [
    {
     "data": {
      "text/plain": [
       "(array([   9.45683722,   45.07043543,   79.67140445,   97.4827269 ,\n",
       "          98.51376395,  101.62242298,  110.61509979,  113.41609335,\n",
       "         113.41886064,  113.42312328,  117.72127693,  119.94394521,\n",
       "         120.94099127,  121.3413709 ,  121.81260692,  121.89804141,\n",
       "         122.59721358,  122.75877938,  122.84213819,  122.87771214,\n",
       "         123.01271026,  125.42708483,  125.43194438,  127.90203678,\n",
       "         127.90313655,  128.13142394,  129.30181374,  133.26221887,\n",
       "         133.31453278,  134.96768601,  151.2549244 ,  151.60928918,\n",
       "         156.29652574,  163.48315275,  177.72900075,  181.72397708,\n",
       "         191.91110703,  198.31550574,  199.16472308,  205.75940871]),\n",
       " array([  2.10363482e-03,   1.63335016e-10,   3.61008647e-17,\n",
       "          3.37763331e-20,   1.08699898e-19,   1.15066919e-19,\n",
       "          6.84439244e-21,   7.55025627e-21,   2.95601718e-20,\n",
       "          1.08673046e-19,   5.20486498e-20,   6.34131767e-20,\n",
       "          1.31196191e-19,   3.43545023e-19,   8.41390172e-19,\n",
       "          2.36861274e-18,   4.92764004e-18,   1.26301966e-17,\n",
       "          3.25596562e-17,   8.33870846e-17,   1.99497707e-16,\n",
       "          1.78504600e-16,   4.34231119e-16,   3.71481096e-16,\n",
       "          8.74200580e-16,   1.83664538e-15,   2.58777081e-15,\n",
       "          1.17053402e-15,   2.54622074e-15,   2.88056535e-15,\n",
       "          9.16754233e-18,   1.78429565e-17,   6.02678087e-18,\n",
       "          7.44060250e-19,   5.19857130e-21,   2.34003272e-21,\n",
       "          8.39112791e-23,   1.41162592e-23,   2.30948181e-23,\n",
       "          3.60260086e-24]))"
      ]
     },
     "execution_count": 21,
     "metadata": {},
     "output_type": "execute_result"
    }
   ],
   "source": [
    "from statsmodels.stats.diagnostic import acorr_ljungbox\n",
    "# statsmodels.stats.diagnostic.acorr_ljungbox(residuals, lags=None, boxpierce=False)\n",
    "\n",
    "acorr_ljungbox(residuals, lags=None, boxpierce=False)"
   ]
  },
  {
   "cell_type": "code",
   "execution_count": 17,
   "metadata": {
    "collapsed": false
   },
   "outputs": [
    {
     "data": {
      "text/plain": [
       "array([ -2.63727397e-01,  -3.00078332e-01,   4.47391719e-03,\n",
       "        -5.59085965e-01,   3.48878026e-01,   9.73491490e-01,\n",
       "         4.79115903e-01,   9.95757937e-01,   2.97108173e-01,\n",
       "        -5.19547284e-01,   2.79060081e-02,  -1.74437836e-01,\n",
       "        -1.51665717e-01,  -4.12460417e-03,  -2.58601636e-01,\n",
       "        -5.69550991e-02,  -2.41555497e-01,  -3.45733881e-01,\n",
       "        -1.80880025e-01,  -2.77787805e-01,  -7.72425234e-02,\n",
       "        -5.15229404e-02,  -1.59032241e-01,  -1.56047970e-01,\n",
       "        -2.30981380e-01,  -2.85182595e-02,  -1.04647458e-01,\n",
       "        -1.27673656e-01,   1.44288450e-01,  -3.20270807e-01,\n",
       "         1.10478222e-01,   1.26235807e+00,   3.00465226e-01,\n",
       "        -4.73758996e-01,   1.28245726e-01,  -2.71313071e-01,\n",
       "        -1.64639056e-01,   9.06835571e-02,  -5.19190490e-01,\n",
       "         3.79675239e-01,   8.57573211e-01,   3.60483408e-01,\n",
       "         8.53272319e-01,   2.04747006e-01,  -5.31456351e-01,\n",
       "        -1.94815695e-02,  -1.29711568e-01,  -1.18031204e-01,\n",
       "        -6.26846179e-02,  -2.62113452e-01,  -6.00406751e-02,\n",
       "        -1.66156873e-01,  -2.25495711e-01,  -1.59680337e-01,\n",
       "        -1.58618197e-01,  -5.96720167e-03,  -1.35036200e-01,\n",
       "        -2.14688107e-01,  -2.70749956e-01,  -2.78765202e-01,\n",
       "        -5.35027087e-02,  -6.76721781e-02,  -7.45482668e-02,\n",
       "        -6.66304827e-02,   3.43022123e-02,   8.67319629e-02,\n",
       "        -6.82542399e-02,   8.16797987e-02,  -3.15435678e-02,\n",
       "        -4.04608175e-02,  -5.99323027e-03,  -2.42574260e-01,\n",
       "         1.03959545e-01,  -3.16926301e-01,   1.37108698e-01,\n",
       "         1.47436202e+00,  -1.00461438e-01,  -1.69987738e-01,\n",
       "         1.52587306e+00,   1.54860660e-01,  -3.66766363e-01,\n",
       "         2.07661629e-01,  -2.83143342e-01,  -8.70346650e-03,\n",
       "        -4.75594476e-02,  -1.18311532e-01,   9.93876681e-02,\n",
       "        -2.08886728e-01,  -8.28655809e-03,  -1.93646550e-03,\n",
       "        -1.09364614e-01,   8.60120654e-02,  -3.76930386e-02,\n",
       "         6.30221590e-02,  -4.35124338e-03,  -1.08713649e-01,\n",
       "         3.73953097e-02,  -1.07715666e-01,  -7.33102635e-02,\n",
       "        -5.80003224e-02,  -8.35189223e-02,   1.93343721e-02,\n",
       "        -7.82534927e-02,  -2.89158449e-02,  -7.45185465e-03,\n",
       "        -2.42643803e-03,   1.25572160e-02,  -1.10712893e-01,\n",
       "        -9.28351283e-03,  -9.30592641e-02,  -1.21485583e-01,\n",
       "         4.11350951e-02,  -1.15754016e-01,  -3.68362777e-02,\n",
       "        -4.42055240e-03,  -1.37670711e-01,  -8.50955024e-03,\n",
       "        -5.59520535e-02,  -3.89259756e-02,   6.25689030e-02,\n",
       "         4.04601246e-02,   7.62327090e-02,   1.71030983e-02,\n",
       "         4.06369567e-02,   5.46283312e-02,   2.82833278e-02,\n",
       "         9.80539098e-02,   3.01588997e-02,   6.82986453e-02,\n",
       "         9.08245146e-02,  -2.42758244e-02,  -1.44265741e-02,\n",
       "        -2.59851739e-02,   2.74309739e-02,   3.53382528e-02,\n",
       "        -3.52236778e-02,  -1.66157819e-03,  -1.95783004e-02,\n",
       "         4.42880690e-02,   2.87161693e-02,  -1.04408756e-01,\n",
       "        -6.59813285e-02,  -4.38703075e-02,   2.17714980e-02,\n",
       "         8.45047683e-02,   3.36801857e-02,   1.10800900e-02,\n",
       "         1.27399787e-02,   9.99938771e-02,   4.96515296e-02,\n",
       "        -4.54307459e-02,   3.47899534e-02,   2.94070318e-02,\n",
       "         5.88575751e-02,   5.24512455e-02,  -1.95915885e-02,\n",
       "         3.36122066e-02,  -3.26187164e-03,  -3.30829769e-02,\n",
       "        -3.40076424e-02,  -3.22538316e-02,  -4.93260473e-03,\n",
       "        -1.08083025e-01,  -1.22427523e-01,  -9.63035077e-02,\n",
       "        -2.61940211e-02,   5.46751395e-02,  -9.89282802e-02,\n",
       "        -6.55463636e-02,   5.81594557e-03,   1.66505575e-03,\n",
       "         1.49904460e-01,   3.24983597e-02,  -4.98832762e-02,\n",
       "        -2.80512273e-02,  -1.04647428e-01,   5.08174673e-02,\n",
       "         8.31450373e-02,   2.93225050e-04,  -1.65856481e-02,\n",
       "        -4.02365476e-02,   7.63233900e-02,   2.86481678e-02,\n",
       "        -6.13939762e-03,   5.84843755e-02,  -6.20481372e-02,\n",
       "        -8.11369121e-02,  -4.34596241e-02,   2.43559964e-02,\n",
       "         3.22567187e-02,  -4.49183099e-02,   6.34282678e-02,\n",
       "         2.67813131e-02,   2.83145532e-03,   7.97443986e-02,\n",
       "         9.37253982e-03,   4.41671833e-02,  -1.49698835e-02,\n",
       "         1.64241344e-03,   8.98610801e-02,  -6.67672679e-02,\n",
       "        -2.20424570e-02,   8.52291286e-03,  -2.36931629e-02,\n",
       "         1.03695709e-02,  -7.33800754e-02,   6.12097979e-02,\n",
       "         3.58977690e-02,  -8.63289461e-02,   5.85259236e-02,\n",
       "         2.69982070e-02,   1.87066458e-02,  -5.66348061e-03,\n",
       "        -4.29970585e-03,   1.05452418e-01,  -5.29347844e-02,\n",
       "        -5.79740480e-02,  -4.98981811e-02,  -1.22542150e-01,\n",
       "        -2.81354748e-02,  -6.64083734e-02,   6.54704645e-02,\n",
       "         7.07369894e-02,  -7.73651451e-02,   4.65666167e-02,\n",
       "        -2.82972995e-02,  -5.54402396e-02,  -8.70925710e-02,\n",
       "        -6.95911422e-02,   1.66969538e-01,  -1.89475641e-02,\n",
       "        -8.87381285e-03,   8.11392143e-02,  -6.28637969e-02,\n",
       "         4.48600724e-02,  -5.00792786e-02,   9.65758041e-02,\n",
       "         7.89371654e-02,  -1.44566566e-01,   1.69289768e-01], dtype=float32)"
      ]
     },
     "execution_count": 17,
     "metadata": {},
     "output_type": "execute_result"
    }
   ],
   "source": [
    "# rtj_coords = (-46, -68, 32)\n",
    "imgarray[90, 108,  14, :]"
   ]
  },
  {
   "cell_type": "code",
   "execution_count": null,
   "metadata": {
    "collapsed": true
   },
   "outputs": [],
   "source": []
  }
 ],
 "metadata": {
  "kernelspec": {
   "display_name": "Python 2",
   "language": "python",
   "name": "python2"
  },
  "language_info": {
   "codemirror_mode": {
    "name": "ipython",
    "version": 2
   },
   "file_extension": ".py",
   "mimetype": "text/x-python",
   "name": "python",
   "nbconvert_exporter": "python",
   "pygments_lexer": "ipython2",
   "version": "2.7.12"
  }
 },
 "nbformat": 4,
 "nbformat_minor": 0
}
