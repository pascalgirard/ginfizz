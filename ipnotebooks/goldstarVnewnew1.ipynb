{
 "cells": [
  {
   "cell_type": "code",
   "execution_count": 30,
   "metadata": {
    "collapsed": false
   },
   "outputs": [
    {
     "name": "stdout",
     "output_type": "stream",
     "text": [
      "/homes_unix/hirsch/_goldstd/goldstd\n",
      "all_process_v9_multireslice.m       soustraction.nii.gz\n",
      "bandpassv7run.txt                   spmfunc.nii.gz\n",
      "cmeanat0009_epi_s04_d0001.nii       spm_hd_mean.txt\n",
      "cmeanat0009_epi_s04_d0001_vfsl.nii  sub_coreg01.nii.gz\n",
      "nipypefunc.nii.gz                   sub_coreg_mean.nii.gz\n",
      "nipype_hd_mean.txt                  sub_mean_coreg.nii.gz\n",
      "preprocessc1c2T1.txt                sub_mean_coreg_test_c1c2.nii.gz\n",
      "pyscript_coregister.m               sub_mean.nii.gz\n",
      "pyscript_normalize12.m              wcrat0009_epi_s04_d0001_merged_bp.nii.gz\n",
      "rmeanat0009_epi_s04_d0001.nii\n"
     ]
    }
   ],
   "source": [
    "%cd /homes_unix/hirsch/_goldstd/goldstd\n",
    "%pwd\n",
    "%ls"
   ]
  },
  {
   "cell_type": "markdown",
   "metadata": {},
   "source": [
    "## 0 - Comparaison des données input "
   ]
  },
  {
   "cell_type": "code",
   "execution_count": 45,
   "metadata": {
    "collapsed": true
   },
   "outputs": [],
   "source": [
    "!fslmerge -t /homes_unix/hirsch/_goldstd/goldstd/nipypefunc_input.nii.gz /scratch/user/hirsch/datadir/data_set/t0009/repos01/EPIBOLD/*.nii"
   ]
  },
  {
   "cell_type": "code",
   "execution_count": 46,
   "metadata": {
    "collapsed": true
   },
   "outputs": [],
   "source": [
    "!fslmerge -t /homes_unix/hirsch/_goldstd/goldstd/spmfunc_input.nii.gz /scratch/user/hirsch/datadir3/data_set_batch5/t0009/repos01/EPIBOLD/t00*.nii"
   ]
  },
  {
   "cell_type": "code",
   "execution_count": 47,
   "metadata": {
    "collapsed": true
   },
   "outputs": [],
   "source": [
    "!fslmaths nipypefunc_input.nii.gz -sub spmfunc_input.nii.gz soustraction_input.nii.gz"
   ]
  },
  {
   "cell_type": "code",
   "execution_count": 48,
   "metadata": {
    "collapsed": false
   },
   "outputs": [
    {
     "name": "stdout",
     "output_type": "stream",
     "text": [
      "0.000000 0.000000 0.000000 0.000000 \r\n"
     ]
    }
   ],
   "source": [
    "!fslstats soustraction_input.nii.gz -R -r"
   ]
  },
  {
   "cell_type": "markdown",
   "metadata": {},
   "source": [
    "## 1 réalignement - comparaison des mean réalignés"
   ]
  },
  {
   "cell_type": "code",
   "execution_count": 31,
   "metadata": {
    "collapsed": false
   },
   "outputs": [
    {
     "name": "stdout",
     "output_type": "stream",
     "text": [
      "Les fichiers binaires /scratch/user/hirsch/datadir4/data_results_py_test_spm/functionnal/mean_image/meanat0009_epi_s04_d0001.nii et /scratch/user/hirsch/datadir3/data_set_batch5/t0009/repos01/EPIBOLD/meanat0009_epi_s04_d0001.nii sont différents\r\n"
     ]
    }
   ],
   "source": [
    "!diff /scratch/user/hirsch/datadir4/data_results_py_test_spm/functionnal/mean_image/meanat0009_epi_s04_d0001.nii /scratch/user/hirsch/datadir3/data_set_batch5/t0009/repos01/EPIBOLD/meanat0009_epi_s04_d0001.nii       "
   ]
  },
  {
   "cell_type": "code",
   "execution_count": 44,
   "metadata": {
    "collapsed": false
   },
   "outputs": [
    {
     "name": "stdout",
     "output_type": "stream",
     "text": [
      "\n",
      "WARNING:: Inconsistent orientations for individual images in pipeline!\n",
      "          Will use voxel-based orientation which is probably incorrect - *PLEASE CHECK*!\n",
      "\n",
      "-0.000122 0.000000 -0.095348 0.285950 \n"
     ]
    }
   ],
   "source": [
    "!fslmaths /scratch/user/hirsch/datadir4/data_results_py_test_spm/functionnal/mean_image/meanat0009_epi_s04_d0001.nii  -sub  /scratch/user/hirsch/datadir3/data_set_batch5/t0009/repos01/EPIBOLD/meanat0009_epi_s04_d0001.nii   sub_mean.nii\n",
    "!fslstats sub_mean.nii -r -R"
   ]
  },
  {
   "cell_type": "markdown",
   "metadata": {},
   "source": [
    "##  2 - comparaison des coregistered d'abord les means"
   ]
  },
  {
   "cell_type": "code",
   "execution_count": 36,
   "metadata": {
    "collapsed": false
   },
   "outputs": [
    {
     "name": "stdout",
     "output_type": "stream",
     "text": [
      "Les fichiers binaires /scratch/user/hirsch/datadir4/data_results_py_test_spm/functionnal/coregistered_source/cmeanat0009_epi_s04_d0001.nii et /scratch/user/hirsch/datadir3/data_set_batch5/t0009/repos01/EPIBOLD/rmeanat0009_epi_s04_d0001.nii sont différents\n",
      "-6.972990 6.779716 0.000047 \n"
     ]
    }
   ],
   "source": [
    "!diff /scratch/user/hirsch/datadir4/data_results_py_test_spm/functionnal/coregistered_source/cmeanat0009_epi_s04_d0001.nii /scratch/user/hirsch/datadir3/data_set_batch5/t0009/repos01/EPIBOLD/rmeanat0009_epi_s04_d0001.nii \n",
    "!fslmaths /scratch/user/hirsch/datadir4/data_results_py_test_spm/functionnal/coregistered_source/cmeanat0009_epi_s04_d0001.nii -sub /scratch/user/hirsch/datadir3/data_set_batch5/t0009/repos01/EPIBOLD/rmeanat0009_epi_s04_d0001.nii sub_coreg_mean.nii \n",
    "!fslstats sub_coreg_mean.nii -r -m"
   ]
  },
  {
   "cell_type": "code",
   "execution_count": 33,
   "metadata": {
    "collapsed": true
   },
   "outputs": [],
   "source": [
    "!fslmaths /scratch/user/hirsch/datadir4/data_results_py_test_spm/functionnal/coregistered_files/crat0009_epi_s04_d0001.nii  -sub /scratch/user/hirsch/datadir3/data_set_batch5/t0009/repos01/EPIBOLD/rrat0009_epi_s04_d0001.nii sub_coreg01.nii\n"
   ]
  },
  {
   "cell_type": "code",
   "execution_count": 34,
   "metadata": {
    "collapsed": false
   },
   "outputs": [
    {
     "name": "stdout",
     "output_type": "stream",
     "text": [
      "-6.972990 6.779716 0.000047 \r\n"
     ]
    }
   ],
   "source": [
    "!fslstats sub_coreg_mean.nii -r -m"
   ]
  },
  {
   "cell_type": "code",
   "execution_count": 22,
   "metadata": {
    "collapsed": false
   },
   "outputs": [
    {
     "name": "stdout",
     "output_type": "stream",
     "text": [
      "^C\r\n"
     ]
    }
   ],
   "source": [
    "!fslview sub_coreg_mean.nii"
   ]
  },
  {
   "cell_type": "markdown",
   "metadata": {},
   "source": [
    "## 2.b comparaison des coregistered img 001"
   ]
  },
  {
   "cell_type": "code",
   "execution_count": 35,
   "metadata": {
    "collapsed": false
   },
   "outputs": [
    {
     "name": "stdout",
     "output_type": "stream",
     "text": [
      "-7.239974 7.240220 \r\n"
     ]
    }
   ],
   "source": [
    "!fslstats sub_coreg01.nii.gz -r"
   ]
  },
  {
   "cell_type": "code",
   "execution_count": 27,
   "metadata": {
    "collapsed": true
   },
   "outputs": [],
   "source": [
    "!fslview sub_coreg01.nii.gz"
   ]
  },
  {
   "cell_type": "markdown",
   "metadata": {},
   "source": [
    "## 3 - comparaison des means normalisés"
   ]
  },
  {
   "cell_type": "markdown",
   "metadata": {
    "collapsed": true
   },
   "source": [
    " wrmeanat0009_epi_s04_d0001.nii\n",
    " le pb c que mon pipeline ne calcule pas le mean coregistré ca y est ca calcule et dump dans /scratch/user/hirsch/datadir4/data_results_py_test_spm/functionnal/norm_coreg_mean_image"
   ]
  },
  {
   "cell_type": "code",
   "execution_count": 37,
   "metadata": {
    "collapsed": false
   },
   "outputs": [
    {
     "name": "stdout",
     "output_type": "stream",
     "text": [
      "-13.089857 13.069765 -0.011940 \r\n"
     ]
    }
   ],
   "source": [
    "!fslmaths /scratch/user/hirsch/datadir4/data_results_py_test_spm/functionnal/norm_coreg_mean_image/wcmeanat0009_epi_s04_d0001.nii -sub /scratch/user/hirsch/datadir3/data_set_batch5/t0009/repos01/EPIBOLD/wrmeanat0009_epi_s04_d0001.nii sub_norm_mean.nii \n",
    "!fslstats sub_norm_mean.nii -r -m"
   ]
  },
  {
   "cell_type": "markdown",
   "metadata": {
    "collapsed": false
   },
   "source": [
    "## 4 - comparaison des images 4D normalisées"
   ]
  },
  {
   "cell_type": "code",
   "execution_count": 38,
   "metadata": {
    "collapsed": true
   },
   "outputs": [],
   "source": [
    "!fslmerge -t /homes_unix/hirsch/_goldstd/goldstd/nipypefunc_test_spm.nii.gz /scratch/user/hirsch/datadir4/data_results_py_test_spm/functionnal/normalized_files/wc*.nii"
   ]
  },
  {
   "cell_type": "code",
   "execution_count": 39,
   "metadata": {
    "collapsed": true
   },
   "outputs": [],
   "source": [
    "!fslmaths nipypefunc_test_spm.nii.gz -sub spmfunc.nii.gz soustraction_new.nii.gz"
   ]
  },
  {
   "cell_type": "markdown",
   "metadata": {},
   "source": [
    "pour mémoire c'était le 4D de SPM !fslmerge -t /homes_unix/hirsch/_goldstd/goldstd/spmfunc.nii.gz /scratch/user/hirsch/datadir3/data_set_batch5/t0009/repos01/EPIBOLD/wrra*.nii"
   ]
  },
  {
   "cell_type": "code",
   "execution_count": 43,
   "metadata": {
    "collapsed": false
   },
   "outputs": [
    {
     "name": "stdout",
     "output_type": "stream",
     "text": [
      "-110.380737 750.950806 -12.671288 12.686315 \r\n"
     ]
    }
   ],
   "source": [
    "!fslstats soustraction_new.nii.gz -R -r"
   ]
  },
  {
   "cell_type": "markdown",
   "metadata": {},
   "source": [
    "## a-b / a+b"
   ]
  },
  {
   "cell_type": "code",
   "execution_count": 50,
   "metadata": {
    "collapsed": false
   },
   "outputs": [],
   "source": [
    "import numpy as np     \n",
    "import nibabel as nib     \n",
    "import os \n",
    "\n",
    "img1 = '/homes_unix/hirsch/_goldstd/goldstd/nipypefunc_test_spm.nii.gz'\n",
    "img2 = '/homes_unix/hirsch/_goldstd/goldstd/spmfunc.nii.gz'\n",
    "    \n",
    "i1=nib.load(img1)         \n",
    "i1array=np.asarray(i1.dataobj).copy() # Avoid caching the proxy image\n",
    "    \n",
    "i2=nib.load(img2)         \n",
    "i2array=np.asarray(i2.dataobj).copy()\n",
    "hdr2 = i2.header"
   ]
  },
  {
   "cell_type": "code",
   "execution_count": 53,
   "metadata": {
    "collapsed": false
   },
   "outputs": [
    {
     "data": {
      "text/plain": [
       "dtype('<f4')"
      ]
     },
     "execution_count": 53,
     "metadata": {},
     "output_type": "execute_result"
    }
   ],
   "source": [
    "i1array.dtype"
   ]
  },
  {
   "cell_type": "code",
   "execution_count": 60,
   "metadata": {
    "collapsed": false
   },
   "outputs": [],
   "source": [
    "aplusb_array = i1array + i2array\n",
    "amoinsb_array = i1array - i2array\n",
    "\n",
    "res = np.zeros( i1array.shape, dtype = i1array.dtype)\n",
    "\n",
    "for i in range(i1array.shape[0]):\n",
    "    for j in range(i1array.shape[1]):\n",
    "        for k in range(i1array.shape[2]):\n",
    "            for t in range(i1array.shape[3]):\n",
    "                if aplusb_array[i, j, k, t] > 0:\n",
    "                    res[i, j, k, t] = amoinsb_array[i, j, k, t] /  aplusb_array[i, j, k, t]\n",
    "        \n",
    "res_image = nib.Nifti1Image(res, i1.affine, i1.header)\n",
    "    \n",
    "nib.save(res_image, 'resu.nii.gz')"
   ]
  },
  {
   "cell_type": "code",
   "execution_count": 62,
   "metadata": {
    "collapsed": false
   },
   "outputs": [
    {
     "name": "stdout",
     "output_type": "stream",
     "text": [
      "-26.999989 19.000013 -0.066713 0.058867 \r\n"
     ]
    }
   ],
   "source": [
    "!fslstats resu.nii.gz -R -r"
   ]
  },
  {
   "cell_type": "markdown",
   "metadata": {},
   "source": [
    "# fin"
   ]
  },
  {
   "cell_type": "code",
   "execution_count": 61,
   "metadata": {
    "collapsed": false
   },
   "outputs": [
    {
     "data": {
      "text/plain": [
       "u'/homes_unix/hirsch/_goldstd/goldstd'"
      ]
     },
     "execution_count": 61,
     "metadata": {},
     "output_type": "execute_result"
    }
   ],
   "source": [
    "%pwd\n"
   ]
  },
  {
   "cell_type": "code",
   "execution_count": 12,
   "metadata": {
    "collapsed": false
   },
   "outputs": [],
   "source": [
    "!fslview sub_mean.nii \n"
   ]
  },
  {
   "cell_type": "code",
   "execution_count": 13,
   "metadata": {
    "collapsed": true
   },
   "outputs": [],
   "source": [
    "!fslview /scratch/user/hirsch/datadir4/data_results_py_test_spm/functionnal/mean_image/meanat0009_epi_s04_d0001.nii "
   ]
  },
  {
   "cell_type": "code",
   "execution_count": 14,
   "metadata": {
    "collapsed": true
   },
   "outputs": [],
   "source": [
    "!fslview /scratch/user/hirsch/datadir3/data_set_batch5/t0009/repos01/EPIBOLD/meanat0009_epi_s04_d0001.nii"
   ]
  },
  {
   "cell_type": "markdown",
   "metadata": {},
   "source": [
    "## les headers des means"
   ]
  },
  {
   "cell_type": "code",
   "execution_count": 15,
   "metadata": {
    "collapsed": false
   },
   "outputs": [
    {
     "name": "stdout",
     "output_type": "stream",
     "text": [
      "1c1\r\n",
      "< filename       /scratch/user/hirsch/datadir4/data_results_py_test_spm/functionnal/mean_image/meanat0009_epi_s04_d0001.nii\r\n",
      "---\r\n",
      "> filename       /scratch/user/hirsch/datadir3/data_set_batch5/t0009/repos01/EPIBOLD/meanat0009_epi_s04_d0001.nii\r\n",
      "19c19\r\n",
      "< pixdim1        3.749999\r\n",
      "---\r\n",
      "> pixdim1        3.750000\r\n",
      "48,50c48,50\r\n",
      "< qto_xyz:1      -3.745490  0.078319  -0.166323  116.044998\r\n",
      "< qto_xyz:2      0.093387  3.732910  -0.345240  -95.395798\r\n",
      "< qto_xyz:3      -0.158354  0.348967  3.730370  -45.065498\r\n",
      "---\r\n",
      "> qto_xyz:1      -3.742074  -0.174496  -0.170092  123.189674\r\n",
      "> qto_xyz:2      -0.181441  3.742512  0.152344  -98.689156\r\n",
      "> qto_xyz:3      -0.162663  -0.160252  3.743044  -30.354097\r\n",
      "57,59c57,59\r\n",
      "< sto_xyz:1      -3.745490  0.078319  -0.166326  116.044998\r\n",
      "< sto_xyz:2      0.093387  3.732910  -0.345240  -95.395798\r\n",
      "< sto_xyz:3      -0.158358  0.348967  3.730370  -45.065498\r\n",
      "---\r\n",
      "> sto_xyz:1      -3.742074  -0.174496  -0.170086  123.189674\r\n",
      "> sto_xyz:2      -0.181440  3.742512  0.152344  -98.689156\r\n",
      "> sto_xyz:3      -0.162658  -0.160252  3.743044  -30.354097\r\n"
     ]
    }
   ],
   "source": [
    "!fslhd /scratch/user/hirsch/datadir4/data_results_py_test_spm/functionnal/mean_image/meanat0009_epi_s04_d0001.nii > nipype_hd_mean.txt   \n",
    "!fslhd /scratch/user/hirsch/datadir3/data_set_batch5/t0009/repos01/EPIBOLD/meanat0009_epi_s04_d0001.nii  > spm_hd_mean.txt\n",
    "!diff nipype_hd_mean.txt  spm_hd_mean.txt"
   ]
  },
  {
   "cell_type": "code",
   "execution_count": 16,
   "metadata": {
    "collapsed": false
   },
   "outputs": [
    {
     "name": "stdout",
     "output_type": "stream",
     "text": [
      "filename       /scratch/user/hirsch/datadir4/data_results_py_test_spm/functionnal/mean_image/meanat0009_epi_s04_d0001.nii\r\n",
      "\r\n",
      "sizeof_hdr     348\r\n",
      "data_type      INT16\r\n",
      "dim0           3\r\n",
      "dim1           64\r\n",
      "dim2           64\r\n",
      "dim3           31\r\n",
      "dim4           1\r\n",
      "dim5           1\r\n",
      "dim6           1\r\n",
      "dim7           1\r\n",
      "vox_units      mm\r\n",
      "time_units     s\r\n",
      "datatype       4\r\n",
      "nbyper         2\r\n",
      "bitpix         16\r\n",
      "pixdim0        0.000000\r\n",
      "pixdim1        3.749999\r\n",
      "pixdim2        3.750004\r\n",
      "pixdim3        3.750002\r\n",
      "pixdim4        0.000000\r\n",
      "pixdim5        0.000000\r\n",
      "pixdim6        0.000000\r\n",
      "pixdim7        0.000000\r\n",
      "vox_offset     352\r\n",
      "cal_max        0.0000\r\n",
      "cal_min        0.0000\r\n",
      "scl_slope      0.095343\r\n",
      "scl_inter      0.000000\r\n",
      "phase_dim      0\r\n",
      "freq_dim       0\r\n",
      "slice_dim      0\r\n",
      "slice_name     Unknown\r\n",
      "slice_code     0\r\n",
      "slice_start    0\r\n",
      "slice_end      0\r\n",
      "slice_duration 0.000000\r\n",
      "time_offset    0.000000\r\n",
      "intent         Unknown\r\n",
      "intent_code    0\r\n",
      "intent_name    \r\n",
      "intent_p1      0.000000\r\n",
      "intent_p2      0.000000\r\n",
      "intent_p3      0.000000\r\n",
      "qform_name     Aligned Anat\r\n",
      "qform_code     2\r\n",
      "qto_xyz:1      -3.745490  0.078319  -0.166323  116.044998\r\n",
      "qto_xyz:2      0.093387  3.732910  -0.345240  -95.395798\r\n",
      "qto_xyz:3      -0.158354  0.348967  3.730370  -45.065498\r\n",
      "qto_xyz:4      0.000000  0.000000  0.000000  1.000000\r\n",
      "qform_xorient  Right-to-Left\r\n",
      "qform_yorient  Posterior-to-Anterior\r\n",
      "qform_zorient  Inferior-to-Superior\r\n",
      "sform_name     Aligned Anat\r\n",
      "sform_code     2\r\n",
      "sto_xyz:1      -3.745490  0.078319  -0.166326  116.044998\r\n",
      "sto_xyz:2      0.093387  3.732910  -0.345240  -95.395798\r\n",
      "sto_xyz:3      -0.158358  0.348967  3.730370  -45.065498\r\n",
      "sto_xyz:4      0.000000  0.000000  0.000000  1.000000\r\n",
      "sform_xorient  Right-to-Left\r\n",
      "sform_yorient  Posterior-to-Anterior\r\n",
      "sform_zorient  Inferior-to-Superior\r\n",
      "file_type      NIFTI-1+\r\n",
      "file_code      1\r\n",
      "descrip        spm - mean image\r\n",
      "aux_file       \r\n"
     ]
    }
   ],
   "source": [
    "!cat nipype_hd_mean.txt"
   ]
  },
  {
   "cell_type": "code",
   "execution_count": null,
   "metadata": {
    "collapsed": true
   },
   "outputs": [],
   "source": []
  }
 ],
 "metadata": {
  "kernelspec": {
   "display_name": "Python 2",
   "language": "python",
   "name": "python2"
  },
  "language_info": {
   "codemirror_mode": {
    "name": "ipython",
    "version": 2
   },
   "file_extension": ".py",
   "mimetype": "text/x-python",
   "name": "python",
   "nbconvert_exporter": "python",
   "pygments_lexer": "ipython2",
   "version": "2.7.12"
  }
 },
 "nbformat": 4,
 "nbformat_minor": 0
}
