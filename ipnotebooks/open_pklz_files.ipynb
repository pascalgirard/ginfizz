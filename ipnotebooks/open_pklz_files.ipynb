{
 "cells": [
  {
   "cell_type": "code",
   "execution_count": 1,
   "metadata": {
    "collapsed": false
   },
   "outputs": [
    {
     "name": "stdout",
     "output_type": "stream",
     "text": [
      "/tmp/tmp4VYfBC/arimaResidus/computeArimaResiduNode\n",
      "_0x03fbad665562583b8946fff40c20aac3.json  \u001b[0m\u001b[01;34m_report\u001b[0m/\r\n",
      "_inputs.pklz                              result_computeArimaResiduNode.pklz\r\n",
      "_node.pklz\r\n"
     ]
    }
   ],
   "source": [
    "%cd /tmp/tmp4VYfBC/arimaResidus/computeArimaResiduNode\n",
    "%ls"
   ]
  },
  {
   "cell_type": "code",
   "execution_count": 4,
   "metadata": {
    "collapsed": false
   },
   "outputs": [
    {
     "name": "stdout",
     "output_type": "stream",
     "text": [
      "<nipype.interfaces.base.InterfaceResult object at 0x7f49805681d0>\n"
     ]
    }
   ],
   "source": [
    "import gzip\n",
    "import pickle\n",
    "\n",
    "f = gzip.open('result_computeArimaResiduNode.pklz','rb')\n",
    "myNewObject = pickle.load(f)\n",
    "f.close()\n",
    "\n",
    "print myNewObject"
   ]
  },
  {
   "cell_type": "code",
   "execution_count": 25,
   "metadata": {
    "collapsed": false
   },
   "outputs": [
    {
     "data": {
      "text/plain": [
       "{'function_str': 'def computeArimaResidu(gmPointsFile, signalFile):\\n\\n    import nibabel as nib\\n    import numpy as np\\n    import pandas as pd\\n    import os\\n\\n    from nipype import logging\\n    iflogger = logging.getLogger(\\'interface\\')\\n\\n    import rpy2.robjects as ro\\n    from rpy2.robjects import pandas2ri\\n    pandas2ri.activate()\\n\\n    ro.r(\\'library(stats)\\')\\n\\n    gmPoints = np.load(gmPointsFile)\\n    print gmPoints.size\\n    print gmPoints[0]\\n\\n    bp =nib.load(signalFile) \\n    bparray = np.asarray(bp.dataobj).copy()\\n\\n    result = np.zeros(bparray.shape,  dtype=np.float)\\n\\n    nb_errors_arima=0\\n\\n    for i in range(len(gmPoints)):\\n\\n        #print gmPoints[i][0], gmPoints[i][1],gmPoints[i][2]\\n\\n        # time serie associated to point i\\n        bp_ts = bparray[gmPoints[i][0], gmPoints[i][1],gmPoints[i][2], : ]\\n        #print bp_ts\\n\\n        # covert numpy array to panda\\n        l = len(bp_ts)\\n        index = [\\'Row\\'+str(j) for j in range(1, l+1)]\\n        df = pd.DataFrame(bp_ts, index=index)\\n        #print df\\n        rdf = pandas2ri.py2ri(df)\\n        ro.globalenv[\\'r_timeseries\\'] = rdf\\n\\n        try:\\n            # model the time serie with ARIMA\\n            ro.r(\\'fit <- arima(r_timeseries, order = c(1,1,1))\\')\\n            # get the residu\\n            residu = ro.r(\\'fit$residuals\\')\\n            # result update\\n            result[gmPoints[i][0], gmPoints[i][1],gmPoints[i][2], : ] = residu\\n        except:\\n            nb_errors_arima += 1\\n            iflogger.info(\"i, and exception arima / nb errors arima :\" + str(i) + \" ,  \" + str(nb_errors_arima))\\n            #print \"exception arima\"\\n\\n    iflogger.info( \"End iteration on i\" )\\n    iflogger.info( \"nb errors arima : \" + str(nb_errors_arima))\\n\\n    # create the resulting image\\n    residu_image = nib.Nifti1Image(result, bp.affine, bp.header)\\n    # save the residu array\\n    out_file = os.getcwd() + \\'/\\' + \\'arima_residu.nii.gz\\'\\n    nib.save(out_file, residu_image)\\n\\n    return out_file\\n',\n",
       " 'gmPointsFile': '/tmp/tmpYQ1GY6/arimaResidus/computeGmVoxels/gm_coord_file.npy',\n",
       " 'ignore_exception': True,\n",
       " 'signalFile': '/scratch/user/hirsch/datadir4/data_results_py/functionnal/bandpassedFile/wcrat0009_epi_s04_d0001_merged_bp.nii.gz'}"
      ]
     },
     "execution_count": 25,
     "metadata": {},
     "output_type": "execute_result"
    }
   ],
   "source": [
    "myNewObject.inputs"
   ]
  },
  {
   "cell_type": "code",
   "execution_count": 22,
   "metadata": {
    "collapsed": false,
    "scrolled": true
   },
   "outputs": [
    {
     "data": {
      "text/plain": [
       "Bunch(cwd='/tmp/tmp4VYfBC/arimaResidus/computeArimaResiduNode', duration=5.29259, endTime='2017-04-25T16:01:43.867049', environ={'ANTSPATH': /srv/shares/softs/ants, 'BASH_ENV': /opt/ohpc/admin/lmod/lmod/init/bash, 'BASH_FUNC_ml()': () {  eval $($LMOD_DIR/ml_cmd \"$@\")\n",
       "}, 'BASH_FUNC_module()': () {  eval $($LMOD_CMD bash \"$@\");\n",
       " [ $? = 0 ] && eval $(${LMOD_SETTARG_CMD:-:} -s sh)\n",
       "}, 'COLORTERM': mate-terminal, 'CVS_RSH': ssh, 'DBUS_SESSION_BUS_ADDRESS': unix:abstract=/tmp/dbus-EytvDK6VqD,guid=af076cddb6f28deacc182d0058f5beae, 'DISPLAY': :12, 'FREESURFER_HOME': /srv/shares/softs/freesurfer-5.3, 'FSFAST_HOME': /srv/shares/softs/freesurfer-5.3/fsfast, 'FSF_OUTPUT_FORMAT': nii.gz, 'FSLCONVERT': /usr/bin/convert, 'FSLDIR': /srv/shares/softs/fsl, 'FSLDISPLAY': /usr/bin/display, 'FSLGECUDAQ': cuda.q, 'FSLLOCKDIR': , 'FSLMACHINELIST': , 'FSLMULTIFILEQUIT': TRUE, 'FSLOUTPUTTYPE': NIFTI_GZ, 'FSLREMOTECALL': , 'FSLTCLSH': /srv/shares/softs/fsl/bin/fsltclsh, 'FSLWISH': /srv/shares/softs/fsl/bin/fslwish, 'GPG_AGENT_INFO': /run/user/30105/keyring/gpg:0:1, 'GTK_OVERLAY_SCROLLING': 0, 'HISTCONTROL': ignoredups, 'HISTSIZE': 1000, 'HOME': /homes_unix/hirsch, 'HOSTNAME': pipeau.dgin.bor, 'INCLUDE': /opt/ohpc/pub/libs/gnu/openblas/0.2.15/include:/opt/ohpc/pub/compiler/gcc/5.3.0/include, 'KDEDIRS': /usr, 'LANG': fr_FR.UTF-8, 'LD_LIBRARY_PATH': /opt/ohpc/pub/libs/gnu/openblas/0.2.15/lib:/opt/ohpc/pub/libs/gnu/R_base/3.2.3/lib64:/opt/ohpc/pub/mpi/openmpi-gnu-ohpc/1.10.2/lib:/opt/ohpc/pub/compiler/gcc/5.3.0/lib64, 'LESSOPEN': ||/usr/bin/lesspipe.sh %s, 'LMOD_CMD': /opt/ohpc/admin/lmod/lmod/libexec/lmod, 'LMOD_COLORIZE': no, 'LMOD_DEFAULT_MODULEPATH': /opt/ohpc/pub/modulefiles, 'LMOD_DIR': /opt/ohpc/admin/lmod/lmod/libexec, 'LMOD_FAMILY_COMPILER': gnu, 'LMOD_FAMILY_MPI': openmpi, 'LMOD_FAMILY_OPENBLAS': openblas, 'LMOD_FULL_SETTARG_SUPPORT': no, 'LMOD_PKG': /opt/ohpc/admin/lmod/lmod, 'LMOD_PREPEND_BLOCK': normal, 'LMOD_SETTARG_CMD': :, 'LMOD_VERSION': 6.0.24, 'LOADEDMODULES': autotools:prun/1.0:gnu/5.3.0:openmpi/1.10.2:ohpc:openblas/0.2.15:R_base/3.2.3:Freesurfer/5.3:fsl/5:ants/2.1:Matlab/R2015b:mricron/2013:mrtrix/2:gdcm/2.6:afni/16:c3d/1:itksnap/3.4:anaconda/2:dcm4che/3.3:scilpy/beta:abaci/1:plink/1.9, 'LOGNAME': hirsch, 'MAIL': /var/spool/mail/hirsch, 'MANPATH': /opt/ohpc/pub/libs/gnu/R_base/3.2.3/share/man:/opt/ohpc/pub/mpi/openmpi-gnu-ohpc/1.10.2/man:/opt/ohpc/pub/compiler/gcc/5.3.0/share/man:/opt/ohpc/pub/autotools/share/man:/usr/local/share/man:/usr/share/man/overrides:/usr/share/man/en:/usr/share/man, 'MATE_DESKTOP_SESSION_ID': this-is-deprecated, 'MNI_BIN_DIR': /srv/shares/softs/freesurfer-5.3/mni, 'MNI_DIR': /srv/shares/softs/freesurfer-5.3/mni, 'MODULEPATH': /opt/ohpc/pub/moduledeps/gnu-openmpi:/opt/ohpc/pub/moduledeps/gnu:/opt/ohpc/pub/modulefiles, 'MODULESHOME': /opt/ohpc/admin/lmod/lmod, 'MPI_DIR': /opt/ohpc/pub/mpi/openmpi-gnu-ohpc/1.10.2, 'OPENBLAS_DIR': /opt/ohpc/pub/libs/gnu/openblas/0.2.15, 'OPENBLAS_INC': /opt/ohpc/pub/libs/gnu/openblas/0.2.15/include, 'OPENBLAS_LIB': /opt/ohpc/pub/libs/gnu/openblas/0.2.15/lib, 'PATH': /srv/shares/softs/plink:/srv/shares/softs/scilpy/scripts:/srv/shares/softs/dcm4che-3.3.7/bin:/srv/shares/softs/anaconda2/bin:/srv/shares/softs/itksnap-3.4.0-20151130-Linux-x86_64/bin:/srv/shares/softs/c3d-1.0.0-Linux-x86_64/bin:/srv/shares/softs/afni:/srv/shares/softs/gdcm/bin:/srv/shares/softs/mrtrix2/bin:/srv/shares/softs/mricron-2013:/srv/shares/softs/MATLAB/R2015b/bin:/srv/shares/softs/ants:/srv/shares/softs/fsl/bin:/srv/shares/softs/freesurfer-5.3/bin:/srv/shares/softs/freesurfer-5.3/tktools:/srv/shares/softs/freesurfer-5.3/mni/bin:/opt/ohpc/pub/libs/gnu/openblas/0.2.15/bin:/opt/ohpc/pub/libs/gnu/R_base/3.2.3/bin:/usr/lib64/qt-3.3/bin:/opt/ohpc/pub/mpi/openmpi-gnu-ohpc/1.10.2/bin:/opt/ohpc/pub/compiler/gcc/5.3.0/bin:/opt/ohpc/pub/prun/1.0:/opt/ohpc/pub/autotools/bin:/opt/ohpc/pub/bin:/usr/local/bin:/bin:/usr/bin:/usr/local/sbin:/usr/sbin:/srv/shares/softs/abaci/ginnipi/bin, 'PERL5LIB': /srv/shares/softs//freesurfer-5.3/mni/lib/perl5/5.8.5, 'PKG_CONFIG_PATH': /opt/ohpc/pub/mpi/openmpi-gnu-ohpc/1.10.2/lib/pkgconfig, 'PWD': /homes_unix/hirsch/ginfizz/src, 'PYTHONIOENCODING': utf_8, 'PYTHONPATH': /srv/shares/softs/scilpy:/srv/shares/softs/abaci, 'QTDIR': /usr/lib64/qt-3.3, 'QTINC': /usr/lib64/qt-3.3/include, 'QTLIB': /usr/lib64/qt-3.3/lib, 'QT_GRAPHICSSYSTEM_CHECKED': 1, 'QT_PLUGIN_PATH': /usr/lib64/kde4/plugins:/usr/lib/kde4/plugins, 'R_BASE_BIN': /opt/ohpc/pub/libs/gnu/R_base/3.2.3/bin, 'R_BASE_DIR': /opt/ohpc/pub/libs/gnu/R_base/3.2.3, 'R_BASE_LIB': /opt/ohpc/pub/libs/gnu/R_base/3.2.3/lib64, 'R_BASE_SHARE': /opt/ohpc/pub/libs/gnu/R_base/3.2.3/share, 'SESSION_MANAGER': local/unix:@/tmp/.ICE-unix/27207,unix/unix:/tmp/.ICE-unix/27207, 'SHELL': /bin/bash, 'SHLVL': 3, 'SSH_AUTH_SOCK': /run/user/30105/keyring/ssh, 'SUBJECTS_DIR': /data/analyses/work_in_progress/freesurfer/recon3Tcor, 'TERM': xterm, 'USER': hirsch, 'VNCDESKTOP': pipeau.dgin.bor:12 (hirsch), 'VTE_VERSION': 3804, 'WINDOWID': 50336000, 'WINGDB_ACTIVE': 61277, 'WINGDB_PARENT_PIDS': 61277, 'WINGDB_SPAWNCOOKIE': Ttopb2RZaQPHelNY, 'WINGHOME': /homes_unix/hirsch/programs, 'XDG_CURRENT_DESKTOP': MATE, 'XDG_RUNTIME_DIR': /run/user/30105, 'XDG_SESSION_ID': c32, '_LMFILES_': /opt/ohpc/pub/modulefiles/autotools:/opt/ohpc/pub/modulefiles/prun/1.0:/opt/ohpc/pub/modulefiles/gnu/5.3.0:/opt/ohpc/pub/moduledeps/gnu/openmpi/1.10.2:/opt/ohpc/pub/modulefiles/ohpc:/opt/ohpc/pub/moduledeps/gnu/openblas/0.2.15:/opt/ohpc/pub/moduledeps/gnu/R_base/3.2.3:/opt/ohpc/pub/modulefiles/Freesurfer/5.3.lua:/opt/ohpc/pub/modulefiles/fsl/5.lua:/opt/ohpc/pub/modulefiles/ants/2.1.lua:/opt/ohpc/pub/modulefiles/Matlab/R2015b.lua:/opt/ohpc/pub/modulefiles/mricron/2013.lua:/opt/ohpc/pub/modulefiles/mrtrix/2.lua:/opt/ohpc/pub/modulefiles/gdcm/2.6.lua:/opt/ohpc/pub/modulefiles/afni/16.lua:/opt/ohpc/pub/modulefiles/c3d/1.lua:/opt/ohpc/pub/modulefiles/itksnap/3.4.lua:/opt/ohpc/pub/modulefiles/anaconda/2.lua:/opt/ohpc/pub/modulefiles/dcm4che/3.3.lua:/opt/ohpc/pub/modulefiles/scilpy/beta.lua:/opt/ohpc/pub/modulefiles/abaci/1.lua:/opt/ohpc/pub/modulefiles/plink/1.9.lua, '_ModuleTable001_': X01vZHVsZVRhYmxlXz17WyJhY3RpdmVTaXplIl09MjIsYmFzZU1wYXRoQT17Ii9vcHQvb2hwYy9wdWIvbW9kdWxlZmlsZXMiLH0sWyJjX3JlYnVpbGRUaW1lIl09ZmFsc2UsWyJjX3Nob3J0VGltZSJdPWZhbHNlLGZhbWlseT17WyJNUEkiXT0ib3Blbm1waSIsWyJjb21waWxlciJdPSJnbnUiLFsib3BlbmJsYXMiXT0ib3BlbmJsYXMiLH0saW5hY3RpdmU9e30sbVQ9e0ZyZWVzdXJmZXI9e1siRk4iXT0iL29wdC9vaHBjL3B1Yi9tb2R1bGVmaWxlcy9GcmVlc3VyZmVyLzUuMy5sdWEiLFsiZGVmYXVsdCJdPTAsWyJmdWxsTmFtZSJdPSJGcmVlc3VyZmVyLzUuMyIsWyJsb2FkT3JkZXIiXT04LHByb3BUPXt9LFsic2hvcnQiXT0iRnJlZXN1cmZlciIsWyJzdGF0dXMiXT0iYWN0aXZl, '_ModuleTable002_': Iix9LE1hdGxhYj17WyJGTiJdPSIvb3B0L29ocGMvcHViL21vZHVsZWZpbGVzL01hdGxhYi9SMjAxNWIubHVhIixbImRlZmF1bHQiXT0wLFsiZnVsbE5hbWUiXT0iTWF0bGFiL1IyMDE1YiIsWyJsb2FkT3JkZXIiXT0xMSxwcm9wVD17fSxbInNob3J0Il09Ik1hdGxhYiIsWyJzdGF0dXMiXT0iYWN0aXZlIix9LFJfYmFzZT17WyJGTiJdPSIvb3B0L29ocGMvcHViL21vZHVsZWRlcHMvZ251L1JfYmFzZS8zLjIuMyIsWyJkZWZhdWx0Il09MSxbImZ1bGxOYW1lIl09IlJfYmFzZS8zLjIuMyIsWyJsb2FkT3JkZXIiXT03LHByb3BUPXt9LFsic2hvcnQiXT0iUl9iYXNlIixbInN0YXR1cyJdPSJhY3RpdmUiLH0sYWJhY2k9e1siRk4iXT0iL29wdC9vaHBjL3B1Yi9tb2R1bGVmaWxlcy9h, '_ModuleTable003_': YmFjaS8xLmx1YSIsWyJkZWZhdWx0Il09MCxbImZ1bGxOYW1lIl09ImFiYWNpLzEiLFsibG9hZE9yZGVyIl09MjEscHJvcFQ9e30sWyJzaG9ydCJdPSJhYmFjaSIsWyJzdGF0dXMiXT0iYWN0aXZlIix9LGFmbmk9e1siRk4iXT0iL29wdC9vaHBjL3B1Yi9tb2R1bGVmaWxlcy9hZm5pLzE2Lmx1YSIsWyJkZWZhdWx0Il09MCxbImZ1bGxOYW1lIl09ImFmbmkvMTYiLFsibG9hZE9yZGVyIl09MTUscHJvcFQ9e30sWyJzaG9ydCJdPSJhZm5pIixbInN0YXR1cyJdPSJhY3RpdmUiLH0sYW5hY29uZGE9e1siRk4iXT0iL29wdC9vaHBjL3B1Yi9tb2R1bGVmaWxlcy9hbmFjb25kYS8yLmx1YSIsWyJkZWZhdWx0Il09MCxbImZ1bGxOYW1lIl09ImFuYWNvbmRhLzIiLFsibG9hZE9yZGVyIl09, '_ModuleTable004_': MTgscHJvcFQ9e30sWyJzaG9ydCJdPSJhbmFjb25kYSIsWyJzdGF0dXMiXT0iYWN0aXZlIix9LGFudHM9e1siRk4iXT0iL29wdC9vaHBjL3B1Yi9tb2R1bGVmaWxlcy9hbnRzLzIuMS5sdWEiLFsiZGVmYXVsdCJdPTAsWyJmdWxsTmFtZSJdPSJhbnRzLzIuMSIsWyJsb2FkT3JkZXIiXT0xMCxwcm9wVD17fSxbInNob3J0Il09ImFudHMiLFsic3RhdHVzIl09ImFjdGl2ZSIsfSxhdXRvdG9vbHM9e1siRk4iXT0iL29wdC9vaHBjL3B1Yi9tb2R1bGVmaWxlcy9hdXRvdG9vbHMiLFsiZGVmYXVsdCJdPTAsWyJmdWxsTmFtZSJdPSJhdXRvdG9vbHMiLFsibG9hZE9yZGVyIl09MSxwcm9wVD17fSxbInNob3J0Il09ImF1dG90b29scyIsWyJzdGF0dXMiXT0iYWN0aXZlIix9LGMzZD17WyJG, '_ModuleTable005_': TiJdPSIvb3B0L29ocGMvcHViL21vZHVsZWZpbGVzL2MzZC8xLmx1YSIsWyJkZWZhdWx0Il09MCxbImZ1bGxOYW1lIl09ImMzZC8xIixbImxvYWRPcmRlciJdPTE2LHByb3BUPXt9LFsic2hvcnQiXT0iYzNkIixbInN0YXR1cyJdPSJhY3RpdmUiLH0sZGNtNGNoZT17WyJGTiJdPSIvb3B0L29ocGMvcHViL21vZHVsZWZpbGVzL2RjbTRjaGUvMy4zLmx1YSIsWyJkZWZhdWx0Il09MCxbImZ1bGxOYW1lIl09ImRjbTRjaGUvMy4zIixbImxvYWRPcmRlciJdPTE5LHByb3BUPXt9LFsic2hvcnQiXT0iZGNtNGNoZSIsWyJzdGF0dXMiXT0iYWN0aXZlIix9LGZzbD17WyJGTiJdPSIvb3B0L29ocGMvcHViL21vZHVsZWZpbGVzL2ZzbC81Lmx1YSIsWyJkZWZhdWx0Il09MCxbImZ1bGxOYW1l, '_ModuleTable006_': Il09ImZzbC81IixbImxvYWRPcmRlciJdPTkscHJvcFQ9e30sWyJzaG9ydCJdPSJmc2wiLFsic3RhdHVzIl09ImFjdGl2ZSIsfSxnZGNtPXtbIkZOIl09Ii9vcHQvb2hwYy9wdWIvbW9kdWxlZmlsZXMvZ2RjbS8yLjYubHVhIixbImRlZmF1bHQiXT0wLFsiZnVsbE5hbWUiXT0iZ2RjbS8yLjYiLFsibG9hZE9yZGVyIl09MTQscHJvcFQ9e30sWyJzaG9ydCJdPSJnZGNtIixbInN0YXR1cyJdPSJhY3RpdmUiLH0sZ251PXtbIkZOIl09Ii9vcHQvb2hwYy9wdWIvbW9kdWxlZmlsZXMvZ251LzUuMy4wIixbImRlZmF1bHQiXT0xLFsiZnVsbE5hbWUiXT0iZ251LzUuMy4wIixbImxvYWRPcmRlciJdPTMscHJvcFQ9e30sWyJzaG9ydCJdPSJnbnUiLFsic3RhdHVzIl09ImFjdGl2ZSIsfSxp, '_ModuleTable007_': dGtzbmFwPXtbIkZOIl09Ii9vcHQvb2hwYy9wdWIvbW9kdWxlZmlsZXMvaXRrc25hcC8zLjQubHVhIixbImRlZmF1bHQiXT0wLFsiZnVsbE5hbWUiXT0iaXRrc25hcC8zLjQiLFsibG9hZE9yZGVyIl09MTcscHJvcFQ9e30sWyJzaG9ydCJdPSJpdGtzbmFwIixbInN0YXR1cyJdPSJhY3RpdmUiLH0sbXJpY3Jvbj17WyJGTiJdPSIvb3B0L29ocGMvcHViL21vZHVsZWZpbGVzL21yaWNyb24vMjAxMy5sdWEiLFsiZGVmYXVsdCJdPTAsWyJmdWxsTmFtZSJdPSJtcmljcm9uLzIwMTMiLFsibG9hZE9yZGVyIl09MTIscHJvcFQ9e30sWyJzaG9ydCJdPSJtcmljcm9uIixbInN0YXR1cyJdPSJhY3RpdmUiLH0sbXJ0cml4PXtbIkZOIl09Ii9vcHQvb2hwYy9wdWIvbW9kdWxlZmlsZXMvbXJ0, '_ModuleTable008_': cml4LzIubHVhIixbImRlZmF1bHQiXT0wLFsiZnVsbE5hbWUiXT0ibXJ0cml4LzIiLFsibG9hZE9yZGVyIl09MTMscHJvcFQ9e30sWyJzaG9ydCJdPSJtcnRyaXgiLFsic3RhdHVzIl09ImFjdGl2ZSIsfSxvaHBjPXtbIkZOIl09Ii9vcHQvb2hwYy9wdWIvbW9kdWxlZmlsZXMvb2hwYyIsWyJkZWZhdWx0Il09MCxbImZ1bGxOYW1lIl09Im9ocGMiLFsibG9hZE9yZGVyIl09NSxwcm9wVD17fSxbInNob3J0Il09Im9ocGMiLFsic3RhdHVzIl09ImFjdGl2ZSIsfSxvcGVuYmxhcz17WyJGTiJdPSIvb3B0L29ocGMvcHViL21vZHVsZWRlcHMvZ251L29wZW5ibGFzLzAuMi4xNSIsWyJkZWZhdWx0Il09MSxbImZ1bGxOYW1lIl09Im9wZW5ibGFzLzAuMi4xNSIsWyJsb2FkT3JkZXIiXT02, '_ModuleTable009_': LHByb3BUPXt9LFsic2hvcnQiXT0ib3BlbmJsYXMiLFsic3RhdHVzIl09ImFjdGl2ZSIsfSxvcGVubXBpPXtbIkZOIl09Ii9vcHQvb2hwYy9wdWIvbW9kdWxlZGVwcy9nbnUvb3Blbm1waS8xLjEwLjIiLFsiZGVmYXVsdCJdPTEsWyJmdWxsTmFtZSJdPSJvcGVubXBpLzEuMTAuMiIsWyJsb2FkT3JkZXIiXT00LHByb3BUPXt9LFsic2hvcnQiXT0ib3Blbm1waSIsWyJzdGF0dXMiXT0iYWN0aXZlIix9LHBsaW5rPXtbIkZOIl09Ii9vcHQvb2hwYy9wdWIvbW9kdWxlZmlsZXMvcGxpbmsvMS45Lmx1YSIsWyJkZWZhdWx0Il09MCxbImZ1bGxOYW1lIl09InBsaW5rLzEuOSIsWyJsb2FkT3JkZXIiXT0yMixwcm9wVD17fSxbInNob3J0Il09InBsaW5rIixbInN0YXR1cyJdPSJhY3RpdmUi, '_ModuleTable010_': LH0scHJ1bj17WyJGTiJdPSIvb3B0L29ocGMvcHViL21vZHVsZWZpbGVzL3BydW4vMS4wIixbImRlZmF1bHQiXT0xLFsiZnVsbE5hbWUiXT0icHJ1bi8xLjAiLFsibG9hZE9yZGVyIl09Mixwcm9wVD17fSxbInNob3J0Il09InBydW4iLFsic3RhdHVzIl09ImFjdGl2ZSIsfSxzY2lscHk9e1siRk4iXT0iL29wdC9vaHBjL3B1Yi9tb2R1bGVmaWxlcy9zY2lscHkvYmV0YS5sdWEiLFsiZGVmYXVsdCJdPTEsWyJmdWxsTmFtZSJdPSJzY2lscHkvYmV0YSIsWyJsb2FkT3JkZXIiXT0yMCxwcm9wVD17fSxbInNob3J0Il09InNjaWxweSIsWyJzdGF0dXMiXT0iYWN0aXZlIix9LH0sbXBhdGhBPXsiL29wdC9vaHBjL3B1Yi9tb2R1bGVkZXBzL2dudS1vcGVubXBpIiwiL29wdC9vaHBjL3B1, '_ModuleTable011_': Yi9tb2R1bGVkZXBzL2dudSIsIi9vcHQvb2hwYy9wdWIvbW9kdWxlZmlsZXMiLH0sWyJzeXN0ZW1CYXNlTVBBVEgiXT0iL29wdC9vaHBjL3B1Yi9tb2R1bGVmaWxlcyIsWyJ2ZXJzaW9uIl09Mix9, '_ModuleTable_Sz_': 11}, hostname='pipeau.dgin.bor', platform='Linux-3.10.0-514.10.2.el7.x86_64-x86_64-with-centos-7.3.1611-Core', returncode=None, startTime='2017-04-25T16:01:43.337790', traceback='Traceback (most recent call last):\\n  File \"/srv/shares/softs/anaconda2/lib/python2.7/site-packages/nipype/interfaces/base.py\", line 1034, in run\\n    runtime = self._run_wrapper(runtime)\\n  File \"/srv/shares/softs/anaconda2/lib/python2.7/site-packages/nipype/interfaces/base.py\", line 991, in _run_wrapper\\n    runtime = self._run_interface(runtime)\\n  File \"/srv/shares/softs/anaconda2/lib/python2.7/site-packages/nipype/interfaces/utility.py\", line 496, in _run_interface\\n    raise out\\nImportError: /srv/shares/softs/anaconda2/lib/libreadline.so.6: undefined symbol: PC\\nInterface Function failed to run. \\n', traceback_args=('/srv/shares/softs/anaconda2/lib/libreadline.so.6: undefined symbol: PC\\nInterface Function failed to run. ',), version=None)"
      ]
     },
     "execution_count": 22,
     "metadata": {},
     "output_type": "execute_result"
    }
   ],
   "source": [
    "myNewObject.runtime\n"
   ]
  },
  {
   "cell_type": "markdown",
   "metadata": {},
   "source": [
    " class nipype.interfaces.base.InterfaceResult(interface, runtime, inputs=None, outputs=None, provenance=None)\n"
   ]
  },
  {
   "cell_type": "code",
   "execution_count": 24,
   "metadata": {
    "collapsed": false
   },
   "outputs": [
    {
     "data": {
      "text/plain": [
       "nipype.interfaces.utility.Function"
      ]
     },
     "execution_count": 24,
     "metadata": {},
     "output_type": "execute_result"
    }
   ],
   "source": [
    "myNewObject.interface"
   ]
  },
  {
   "cell_type": "code",
   "execution_count": null,
   "metadata": {
    "collapsed": true
   },
   "outputs": [],
   "source": []
  }
 ],
 "metadata": {
  "kernelspec": {
   "display_name": "Python 2",
   "language": "python",
   "name": "python2"
  },
  "language_info": {
   "codemirror_mode": {
    "name": "ipython",
    "version": 2
   },
   "file_extension": ".py",
   "mimetype": "text/x-python",
   "name": "python",
   "nbconvert_exporter": "python",
   "pygments_lexer": "ipython2",
   "version": "2.7.12"
  }
 },
 "nbformat": 4,
 "nbformat_minor": 0
}
