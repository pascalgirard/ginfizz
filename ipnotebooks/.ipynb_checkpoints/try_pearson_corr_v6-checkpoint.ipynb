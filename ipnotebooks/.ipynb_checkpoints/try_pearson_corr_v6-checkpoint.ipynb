{
 "cells": [
  {
   "cell_type": "markdown",
   "metadata": {},
   "source": [
    "v1 à V2 -> on va deja voir si on prend un voxel dans la région 1 comme seed, ca marche sur les voxels de la region 1<br>\n",
    "v2 à V3 -> on va  voir si on prend le signal moyen dans la région 1 comme seed, si ca marche sur les voxels de la region 1 <br>\n",
    "v3 à v4 ->  on va  voir si on prend le signal moyen dans la région 1 comme seed, si ca marche sur les voxels de tout le cerveau <br>\n",
    "v4 à v5 -> on dev la fct propre à intéger à aicha qui ne prend que 3 param= residus, moyenne des résidus sur une region, brain mask c1c2 normalizés <br>\n",
    "v5 à v6 -> on va faire la correlation sur le signal sans arima"
   ]
  },
  {
   "cell_type": "code",
   "execution_count": 1,
   "metadata": {
    "collapsed": true
   },
   "outputs": [],
   "source": [
    "def computeCorrelations(residus, residusRegMean, brainMask):\n",
    "    '''Function that takes 3 parameters\n",
    "       residus: the residu of arima time courses\n",
    "       residuRegMean: the residus mean on determined region i\n",
    "       brainMask: the mask of gm and wm thresholded at 0,2\n",
    "       Computes pearson correlations between the seed eg. residuRegMean\n",
    "       and all the voxels of the brainMask\n",
    "       Returns an Nifti images containing the correlations'''\n",
    "    \n",
    "    import os\n",
    "    import numpy as np\n",
    "    import matplotlib.pyplot as plt\n",
    "    import nibabel as nib\n",
    "    from scipy.stats.stats import pearsonr\n",
    "    \n",
    "    # first we get the seed mean signal\n",
    "    seed_ts_array = np.loadtxt(residusRegMean)\n",
    "    \n",
    "    # from an other hand we get the residus 4D matrix\n",
    "    fmri_data=nib.load(residus) \n",
    "    fmri_array=np.asarray(fmri_data.dataobj)\n",
    "    \n",
    "    # we get the coordinnates of voxels in all gm and wm normalized todo \n",
    "    reg_data=nib.load(brainMask) \n",
    "    regarray=np.asarray(reg_data.dataobj)\n",
    "    # transpose(nonzero(a))\n",
    "    reg_coords = np.transpose(np.nonzero(regarray))\n",
    "    volume_shape = reg_coords.shape\n",
    "    print volume_shape\n",
    "    coords = list(np.ndindex(volume_shape))\n",
    "    print len(coords)\n",
    "    \n",
    "    # the we iterate the correlation calculation on all voxels of the brain mask\n",
    "\n",
    "    # the correlation matrix is initialized with all values to 0 \n",
    "    corr_matrix = np.full(reg_data.shape, 0, dtype=float)\n",
    "\n",
    "    for i in range(reg_coords.shape[0]):\n",
    "        target_array = fmri_array[reg_coords[i, 0], reg_coords[i, 1],reg_coords[i,2], :]\n",
    "        #print target_array\n",
    "        non_zero_nb = np.count_nonzero(target_array)\n",
    "        \n",
    "        # if target time courses are all null, we do not compute correlation\n",
    "        if non_zero_nb:\n",
    "            try:\n",
    "                p = pearsonr(seed_ts_array,target_array) \n",
    "                if p[0] > 0.5:\n",
    "                    print p[0]\n",
    "                corr_matrix[reg_coords[i, 0], reg_coords[i, 1],reg_coords[i,2]] = p[0] \n",
    "            except:\n",
    "                print \"exception\"\n",
    "    \n",
    "    # save matrix in a file\n",
    "    # create the resulting image\n",
    "    corr_image = nib.Nifti1Image(corr_matrix,affine=reg_data.affine, header=reg_data.header)\n",
    "    # save the correlation array\n",
    "    out_file = os.getcwd() + '/' + 'corr_regv6_bp.nii'\n",
    "    nib.save(corr_image, out_file)\n",
    "    \n",
    "    "
   ]
  },
  {
   "cell_type": "code",
   "execution_count": null,
   "metadata": {
    "collapsed": true
   },
   "outputs": [],
   "source": [
    "# correlations sans arima avec le signal bandpassed il faut auusi que j ai le mean du bandpassed sur region 1\n",
    "computeCorrelations('/scratch/user/hirsch/datadir4/data_results_py/functionnal/bandpassedFile/wcrat0009_epi_s04_d0001_merged_bp.nii.gz',\n",
    "                    '/scratch/user/hirsch/datadir4/data_results_py/functionnal/regMeants/_regMeants0/wcrat0009_epi_s04_d0001_merged_bp_ts.txt',\n",
    "                    '/scratch/user/hirsch/datadir4/data_results_py/structural/normalized_c1c2_file/wc1t0009_t1_s03_maths_thresh.nii')"
   ]
  },
  {
   "cell_type": "code",
   "execution_count": null,
   "metadata": {
    "collapsed": true
   },
   "outputs": [],
   "source": [
    "computeCorrelations('/scratch/user/hirsch/datadir4/data_results_py/functionnal/arima/arimaResidus/_report/arima_residu.nii.gz',\n",
    "                    '/scratch/user/hirsch/datadir4/data_results_py/functionnal/regMeants/arima_residu_ts.txt',\n",
    "                    '/scratch/user/hirsch/datadir4/data_results_py/structural/normalized_c1c2_file/wc1t0009_t1_s03_maths_thresh.nii')"
   ]
  },
  {
   "cell_type": "code",
   "execution_count": 2,
   "metadata": {
    "collapsed": false
   },
   "outputs": [
    {
     "name": "stdout",
     "output_type": "stream",
     "text": [
      "(197787, 3)\n",
      "593361\n"
     ]
    }
   ],
   "source": [
    "# jusqu'à v4 on travaillait uniquement sur le gm\n",
    "computeCorrelations('/scratch/user/hirsch/datadir4/data_results_py/functionnal/arima/arimaResidus/_report/arima_residu.nii.gz',\n",
    "                    '/scratch/user/hirsch/datadir4/data_results_py/functionnal/regMeants/arima_residu_ts.txt',\n",
    "                    '/scratch/user/hirsch/datadir4/data_results_py/structural/normalized_files/wc1t0009_t1_s03.nii')"
   ]
  },
  {
   "cell_type": "markdown",
   "metadata": {},
   "source": [
    "## fin fonction et test"
   ]
  },
  {
   "cell_type": "code",
   "execution_count": 6,
   "metadata": {
    "collapsed": true
   },
   "outputs": [],
   "source": [
    "# first we get the region 1 image we will need it later for calculation in the same region but not in the general case \n",
    "# where we compute gm & wm\n",
    "regSeedFile = '/homes_unix/hirsch/_ipnotebooks/region_image.nii'\n",
    "reg_data=nib.load(regSeedFile) "
   ]
  },
  {
   "cell_type": "code",
   "execution_count": 7,
   "metadata": {
    "collapsed": true
   },
   "outputs": [],
   "source": [
    "# then we get the seed mean signal\n",
    "seedFile = '/scratch/user/hirsch/datadir4/data_results_py/functionnal/regMeants/arima_residu_ts.txt'\n",
    "seed_ts_array = np.loadtxt(seedFile)"
   ]
  },
  {
   "cell_type": "code",
   "execution_count": 8,
   "metadata": {
    "collapsed": true
   },
   "outputs": [],
   "source": [
    "# from an other hand we get the residus 4D matrix\n",
    "fmri_file = '/scratch/user/hirsch/datadir4/data_results_py/functionnal/arima/arimaResidus/_report/arima_residu.nii.gz'\n",
    "fmri_data=nib.load(fmri_file) \n",
    "fmri_array=np.asarray(fmri_data.dataobj)"
   ]
  },
  {
   "cell_type": "code",
   "execution_count": 10,
   "metadata": {
    "collapsed": false
   },
   "outputs": [
    {
     "name": "stdout",
     "output_type": "stream",
     "text": [
      "(197787, 3)\n",
      "593361\n"
     ]
    }
   ],
   "source": [
    "# we get the coordinnates of voxels in all gm normalized todo get the wm also\n",
    "regTargetFile = '/scratch/user/hirsch/datadir4/data_results_py/structural/normalized_files/wc1t0009_t1_s03.nii'\n",
    "reg_data=nib.load(regTargetFile) \n",
    "regarray=np.asarray(reg_data.dataobj)\n",
    "# transpose(nonzero(a))\n",
    "reg_coords = np.transpose(np.nonzero(regarray))\n",
    "volume_shape = reg_coords.shape\n",
    "print volume_shape\n",
    "coords = list(np.ndindex(volume_shape))\n",
    "print len(coords)"
   ]
  },
  {
   "cell_type": "code",
   "execution_count": 11,
   "metadata": {
    "collapsed": true
   },
   "outputs": [],
   "source": [
    "# the we iterate the correlation calculation on all voxels of region 1\n",
    "\n",
    "# np.full(shape, fill_value, dtype=None, order='C')\n",
    "# the correlation matrix is initialized with all values to 0 \n",
    "corr_matrix = np.full(reg_data.shape, 0, dtype=float)\n",
    "\n",
    "for i in range(reg_coords.shape[0]):\n",
    "    target_array = fmri_array[reg_coords[i, 0], reg_coords[i, 1],reg_coords[i,2], :]\n",
    "    #print target_array\n",
    "    non_zero_nb = np.count_nonzero(target_array)\n",
    "    if non_zero_nb:\n",
    "        try:\n",
    "            p = pearsonr(seed_ts_array,target_array) \n",
    "            if p[0] > 0.5:\n",
    "                print p[0]\n",
    "            corr_matrix[reg_coords[i, 0], reg_coords[i, 1],reg_coords[i,2]] = p[0] \n",
    "        except:\n",
    "            print \"exception\"\n",
    "    \n",
    "# save matrix in a file\n",
    "# create the resulting image\n",
    "corr_image = nib.Nifti1Image(corr_matrix,affine=reg_data.affine, header=reg_data.header)\n",
    "# save the correlation array\n",
    "out_file = os.getcwd() + '/' + 'corr_reg1v4.nii'\n",
    "nib.save(corr_image, out_file)\n"
   ]
  },
  {
   "cell_type": "code",
   "execution_count": null,
   "metadata": {
    "collapsed": true
   },
   "outputs": [],
   "source": []
  }
 ],
 "metadata": {
  "kernelspec": {
   "display_name": "Python 2",
   "language": "python",
   "name": "python2"
  },
  "language_info": {
   "codemirror_mode": {
    "name": "ipython",
    "version": 2
   },
   "file_extension": ".py",
   "mimetype": "text/x-python",
   "name": "python",
   "nbconvert_exporter": "python",
   "pygments_lexer": "ipython2",
   "version": "2.7.12"
  }
 },
 "nbformat": 4,
 "nbformat_minor": 0
}
